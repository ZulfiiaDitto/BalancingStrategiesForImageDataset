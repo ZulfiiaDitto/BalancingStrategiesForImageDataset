{
  "cells": [
    {
      "cell_type": "code",
      "execution_count": null,
      "metadata": {
        "id": "AWyONCdtvo0H"
      },
      "outputs": [],
      "source": [
        "import random\n",
        "import numpy as np\n",
        "import torch \n",
        "\n",
        "def set_seed(seed):\n",
        "    random.seed(seed)\n",
        "    np.random.seed(seed)\n",
        "    torch.manual_seed(seed)\n",
        "    if torch.cuda.is_available():\n",
        "        torch.cuda.manual_seed(seed)\n",
        "        torch.cuda.manual_seed_all(seed)\n",
        "set_seed(42)\n",
        "\n",
        "# Ensure that all operations are deterministic on GPU (if used) for reproducibility\n",
        "torch.backends.cudnn.determinstic = True"
      ]
    },
    {
      "cell_type": "code",
      "execution_count": null,
      "metadata": {
        "id": "KzRfBMLnoKsb"
      },
      "outputs": [],
      "source": [
        "import warnings\n",
        "warnings.filterwarnings(\"ignore\")"
      ]
    },
    {
      "cell_type": "code",
      "source": [
        "def get_default_device():\n",
        "    \"\"\"Pick GPU if available, else CPU\"\"\"\n",
        "    if torch.cuda.is_available():\n",
        "        return torch.device('cuda')\n",
        "    else:\n",
        "        return torch.device('cpu')"
      ],
      "metadata": {
        "id": "5hCAuhBAs8sr"
      },
      "execution_count": null,
      "outputs": []
    },
    {
      "cell_type": "code",
      "source": [
        "device = get_default_device()\n",
        "device"
      ],
      "metadata": {
        "colab": {
          "base_uri": "https://localhost:8080/"
        },
        "id": "2goWQL3Zs96S",
        "outputId": "0d15d64b-d100-49fb-d028-497e90be2685"
      },
      "execution_count": null,
      "outputs": [
        {
          "output_type": "execute_result",
          "data": {
            "text/plain": [
              "device(type='cuda')"
            ]
          },
          "metadata": {},
          "execution_count": 4
        }
      ]
    },
    {
      "cell_type": "code",
      "source": [
        "def to_device(data, device):\n",
        "    \"\"\"Move tensor(s) to chosen device\"\"\"\n",
        "    if isinstance(data, (list,tuple)):\n",
        "        return [to_device(x, device) for x in data]\n",
        "    return data.to(device, non_blocking=True)"
      ],
      "metadata": {
        "id": "MpKYtN0qtAyD"
      },
      "execution_count": null,
      "outputs": []
    },
    {
      "cell_type": "code",
      "execution_count": null,
      "metadata": {
        "id": "BIHL7k-DvyMV"
      },
      "outputs": [],
      "source": [
        "%matplotlib inline\n",
        "# python libraties\n",
        "import os, cv2,itertools\n",
        "import matplotlib.pyplot as plt\n",
        "import numpy as np\n",
        "import pandas as pd\n",
        "from tqdm import tqdm\n",
        "from glob import glob\n",
        "from PIL import Image\n",
        "\n",
        "# pytorch libraries\n",
        "import torch\n",
        "from torch import optim,nn\n",
        "from torch.autograd import Variable\n",
        "from torch.utils.data import DataLoader,Dataset, WeightedRandomSampler\n",
        "from torchvision import models,transforms\n",
        "\n",
        "# sklearn libraries\n",
        "from sklearn.metrics import confusion_matrix\n",
        "from sklearn.model_selection import train_test_split\n",
        "from sklearn.metrics import classification_report\n"
      ]
    },
    {
      "cell_type": "code",
      "execution_count": null,
      "metadata": {
        "colab": {
          "base_uri": "https://localhost:8080/"
        },
        "id": "1PIMJtpXvx_z",
        "outputId": "776c4af1-43d8-40c3-ec22-52569d4af9d3"
      },
      "outputs": [
        {
          "output_type": "stream",
          "name": "stdout",
          "text": [
            "Mounted at /content/drive\n"
          ]
        }
      ],
      "source": [
        "from google.colab import drive\n",
        "#drive.mount('content/drive/My_Drive/Colab_Notebook')\n",
        "drive.mount('/content/drive')"
      ]
    },
    {
      "cell_type": "code",
      "execution_count": null,
      "metadata": {
        "colab": {
          "base_uri": "https://localhost:8080/"
        },
        "id": "lde3JDqbvyJj",
        "outputId": "a8ae9a39-6b1c-4cb1-93d4-82da88564b62"
      },
      "outputs": [
        {
          "output_type": "stream",
          "name": "stdout",
          "text": [
            "/content\n"
          ]
        }
      ],
      "source": [
        "!pwd"
      ]
    },
    {
      "cell_type": "code",
      "execution_count": null,
      "metadata": {
        "colab": {
          "base_uri": "https://localhost:8080/"
        },
        "id": "_aLLsUXZwdQo",
        "outputId": "3bf8ebe8-c476-45cd-8b2d-9ab872048b98"
      },
      "outputs": [
        {
          "output_type": "stream",
          "name": "stdout",
          "text": [
            "/content/drive/My Drive/Colab Notebooks/dataverse_files\n"
          ]
        }
      ],
      "source": [
        "%cd '/content/drive/My Drive/Colab Notebooks/dataverse_files'"
      ]
    },
    {
      "cell_type": "code",
      "execution_count": null,
      "metadata": {
        "colab": {
          "base_uri": "https://localhost:8080/"
        },
        "id": "BpGNCCSYwdNg",
        "outputId": "7bd35080-546a-408d-a6df-0f280d699abc"
      },
      "outputs": [
        {
          "output_type": "stream",
          "name": "stdout",
          "text": [
            "HAM10000_images_part_1\tHAM10000_images_part_2\tHAM10000_metadata  Train.csv\n"
          ]
        }
      ],
      "source": [
        "!ls"
      ]
    },
    {
      "cell_type": "code",
      "execution_count": null,
      "metadata": {
        "colab": {
          "base_uri": "https://localhost:8080/",
          "height": 35
        },
        "id": "ytEbzxNtw2gN",
        "outputId": "510c57ab-2ce1-492e-ae9a-6cc3f06fb733"
      },
      "outputs": [
        {
          "output_type": "execute_result",
          "data": {
            "text/plain": [
              "'/content/drive/My Drive/Colab Notebooks/dataverse_files'"
            ],
            "application/vnd.google.colaboratory.intrinsic+json": {
              "type": "string"
            }
          },
          "metadata": {},
          "execution_count": 9
        }
      ],
      "source": [
        "os.getcwd()"
      ]
    },
    {
      "cell_type": "code",
      "execution_count": null,
      "metadata": {
        "id": "dGp90iFnwy18"
      },
      "outputs": [],
      "source": [
        "data_dir = '.'\n",
        "all_image_path = glob(os.path.join(data_dir, '*', '*.jpg'))\n"
      ]
    },
    {
      "cell_type": "code",
      "execution_count": null,
      "metadata": {
        "colab": {
          "base_uri": "https://localhost:8080/"
        },
        "id": "NEPzi6ld2lov",
        "outputId": "74e93c1c-3967-41cd-c662-1c69100eced2"
      },
      "outputs": [
        {
          "output_type": "execute_result",
          "data": {
            "text/plain": [
              "10015"
            ]
          },
          "metadata": {},
          "execution_count": 12
        }
      ],
      "source": [
        "len(all_image_path)"
      ]
    },
    {
      "cell_type": "code",
      "execution_count": null,
      "metadata": {
        "id": "XW21m3MFxJd-"
      },
      "outputs": [],
      "source": [
        "imageid_path_dict = {os.path.splitext(os.path.basename(x))[0]: x for x in all_image_path}\n",
        "lesion_type_dict = {\n",
        "    'nv': 'Melanocytic nevi',\n",
        "    'mel': 'Melanoma',\n",
        "    'bkl': 'Benign keratosis-like lesions ',\n",
        "    'bcc': 'Basal cell carcinoma',\n",
        "    'akiec': 'Actinic keratoses',\n",
        "    'vasc': 'Vascular lesions',\n",
        "    'df': 'Dermatofibroma'\n",
        "}"
      ]
    },
    {
      "cell_type": "markdown",
      "metadata": {
        "id": "tz5N7R9KhEd_"
      },
      "source": [
        " Actinic keratoses and intraepithelial carcinoma / Bowen's disease (akiec), basal cell carcinoma (bcc), benign keratosis-like lesions (solar lentigines / seborrheic keratoses and lichen-planus like keratoses, bkl), dermatofibroma (df), melanoma (mel), melanocytic nevi (nv) and vascular lesions (angiomas, angiokeratomas, pyogenic granulomas and hemorrhage, vasc)."
      ]
    },
    {
      "cell_type": "code",
      "execution_count": null,
      "metadata": {
        "id": "RC8rSm6ZzGfA"
      },
      "outputs": [],
      "source": [
        "#### the function bellow normalize the images -> for all datset BUT I DESIDED TO NOT USE IT "
      ]
    },
    {
      "cell_type": "code",
      "execution_count": null,
      "metadata": {
        "id": "RfoLEQ9FzELn"
      },
      "outputs": [],
      "source": [
        "def compute_img_mean_std(image_paths):\n",
        "    \"\"\"\n",
        "        computing the mean and std of three channel on the whole dataset,\n",
        "        first we should normalize the image from 0-255 to 0-1\n",
        "    \"\"\"\n",
        "\n",
        "    img_h, img_w = 224, 224\n",
        "    imgs = []\n",
        "    means, stdevs = [], []\n",
        "\n",
        "    for i in tqdm(range(len(image_paths))):\n",
        "        img = cv2.imread(image_paths[i])\n",
        "        img = cv2.resize(img, (img_h, img_w))\n",
        "        imgs.append(img)\n",
        "\n",
        "    imgs = np.stack(imgs, axis=3)\n",
        "    print(imgs.shape)\n",
        "\n",
        "    imgs = imgs.astype(np.float32) / 255.\n",
        "\n",
        "    for i in range(3):\n",
        "        pixels = imgs[:, :, i, :].ravel()  # resize to one row\n",
        "        means.append(np.mean(pixels))\n",
        "        stdevs.append(np.std(pixels))\n",
        "\n",
        "    means.reverse()  # BGR --> RGB\n",
        "    stdevs.reverse()\n",
        "\n",
        "    print(\"normMean = {}\".format(means))\n",
        "    print(\"normStd = {}\".format(stdevs))\n",
        "    return means,stdevs"
      ]
    },
    {
      "cell_type": "code",
      "execution_count": null,
      "metadata": {
        "colab": {
          "base_uri": "https://localhost:8080/"
        },
        "id": "RWL7VN8TzOiw",
        "outputId": "2fb35bc8-0fe4-4e58-a5ac-8f9cbf06f339"
      },
      "outputs": [
        {
          "name": "stderr",
          "output_type": "stream",
          "text": [
            " 91%|█████████▏| 9161/10015 [1:00:39<17:13,  1.21s/it]"
          ]
        }
      ],
      "source": [
        "#norm_mean,norm_std = compute_img_mean_std(all_image_path)"
      ]
    },
    {
      "cell_type": "code",
      "execution_count": null,
      "metadata": {
        "id": "0QT9llHi9bSI"
      },
      "outputs": [],
      "source": [
        "#norm_mean,norm_std"
      ]
    },
    {
      "cell_type": "code",
      "execution_count": null,
      "metadata": {
        "colab": {
          "base_uri": "https://localhost:8080/",
          "height": 444
        },
        "id": "zo1NNfdIzOlu",
        "outputId": "fb38bd31-bcac-4282-9f9e-b7282bc0b632"
      },
      "outputs": [
        {
          "output_type": "execute_result",
          "data": {
            "text/plain": [
              "     lesion_id      image_id   dx dx_type   age   sex localization  \\\n",
              "0  HAM_0000118  ISIC_0027419  bkl   histo  80.0  male        scalp   \n",
              "1  HAM_0000118  ISIC_0025030  bkl   histo  80.0  male        scalp   \n",
              "2  HAM_0002730  ISIC_0026769  bkl   histo  80.0  male        scalp   \n",
              "3  HAM_0002730  ISIC_0025661  bkl   histo  80.0  male        scalp   \n",
              "4  HAM_0001466  ISIC_0031633  bkl   histo  75.0  male          ear   \n",
              "\n",
              "        dataset                                       path  \\\n",
              "0  vidir_modern  ./HAM10000_images_part_1/ISIC_0027419.jpg   \n",
              "1  vidir_modern  ./HAM10000_images_part_1/ISIC_0025030.jpg   \n",
              "2  vidir_modern  ./HAM10000_images_part_1/ISIC_0026769.jpg   \n",
              "3  vidir_modern  ./HAM10000_images_part_1/ISIC_0025661.jpg   \n",
              "4  vidir_modern  ./HAM10000_images_part_2/ISIC_0031633.jpg   \n",
              "\n",
              "                        cell_type  cell_type_idx  \n",
              "0  Benign keratosis-like lesions               2  \n",
              "1  Benign keratosis-like lesions               2  \n",
              "2  Benign keratosis-like lesions               2  \n",
              "3  Benign keratosis-like lesions               2  \n",
              "4  Benign keratosis-like lesions               2  "
            ],
            "text/html": [
              "\n",
              "  <div id=\"df-f63cffc5-5231-4987-a733-4d7dbb7eda78\">\n",
              "    <div class=\"colab-df-container\">\n",
              "      <div>\n",
              "<style scoped>\n",
              "    .dataframe tbody tr th:only-of-type {\n",
              "        vertical-align: middle;\n",
              "    }\n",
              "\n",
              "    .dataframe tbody tr th {\n",
              "        vertical-align: top;\n",
              "    }\n",
              "\n",
              "    .dataframe thead th {\n",
              "        text-align: right;\n",
              "    }\n",
              "</style>\n",
              "<table border=\"1\" class=\"dataframe\">\n",
              "  <thead>\n",
              "    <tr style=\"text-align: right;\">\n",
              "      <th></th>\n",
              "      <th>lesion_id</th>\n",
              "      <th>image_id</th>\n",
              "      <th>dx</th>\n",
              "      <th>dx_type</th>\n",
              "      <th>age</th>\n",
              "      <th>sex</th>\n",
              "      <th>localization</th>\n",
              "      <th>dataset</th>\n",
              "      <th>path</th>\n",
              "      <th>cell_type</th>\n",
              "      <th>cell_type_idx</th>\n",
              "    </tr>\n",
              "  </thead>\n",
              "  <tbody>\n",
              "    <tr>\n",
              "      <th>0</th>\n",
              "      <td>HAM_0000118</td>\n",
              "      <td>ISIC_0027419</td>\n",
              "      <td>bkl</td>\n",
              "      <td>histo</td>\n",
              "      <td>80.0</td>\n",
              "      <td>male</td>\n",
              "      <td>scalp</td>\n",
              "      <td>vidir_modern</td>\n",
              "      <td>./HAM10000_images_part_1/ISIC_0027419.jpg</td>\n",
              "      <td>Benign keratosis-like lesions</td>\n",
              "      <td>2</td>\n",
              "    </tr>\n",
              "    <tr>\n",
              "      <th>1</th>\n",
              "      <td>HAM_0000118</td>\n",
              "      <td>ISIC_0025030</td>\n",
              "      <td>bkl</td>\n",
              "      <td>histo</td>\n",
              "      <td>80.0</td>\n",
              "      <td>male</td>\n",
              "      <td>scalp</td>\n",
              "      <td>vidir_modern</td>\n",
              "      <td>./HAM10000_images_part_1/ISIC_0025030.jpg</td>\n",
              "      <td>Benign keratosis-like lesions</td>\n",
              "      <td>2</td>\n",
              "    </tr>\n",
              "    <tr>\n",
              "      <th>2</th>\n",
              "      <td>HAM_0002730</td>\n",
              "      <td>ISIC_0026769</td>\n",
              "      <td>bkl</td>\n",
              "      <td>histo</td>\n",
              "      <td>80.0</td>\n",
              "      <td>male</td>\n",
              "      <td>scalp</td>\n",
              "      <td>vidir_modern</td>\n",
              "      <td>./HAM10000_images_part_1/ISIC_0026769.jpg</td>\n",
              "      <td>Benign keratosis-like lesions</td>\n",
              "      <td>2</td>\n",
              "    </tr>\n",
              "    <tr>\n",
              "      <th>3</th>\n",
              "      <td>HAM_0002730</td>\n",
              "      <td>ISIC_0025661</td>\n",
              "      <td>bkl</td>\n",
              "      <td>histo</td>\n",
              "      <td>80.0</td>\n",
              "      <td>male</td>\n",
              "      <td>scalp</td>\n",
              "      <td>vidir_modern</td>\n",
              "      <td>./HAM10000_images_part_1/ISIC_0025661.jpg</td>\n",
              "      <td>Benign keratosis-like lesions</td>\n",
              "      <td>2</td>\n",
              "    </tr>\n",
              "    <tr>\n",
              "      <th>4</th>\n",
              "      <td>HAM_0001466</td>\n",
              "      <td>ISIC_0031633</td>\n",
              "      <td>bkl</td>\n",
              "      <td>histo</td>\n",
              "      <td>75.0</td>\n",
              "      <td>male</td>\n",
              "      <td>ear</td>\n",
              "      <td>vidir_modern</td>\n",
              "      <td>./HAM10000_images_part_2/ISIC_0031633.jpg</td>\n",
              "      <td>Benign keratosis-like lesions</td>\n",
              "      <td>2</td>\n",
              "    </tr>\n",
              "  </tbody>\n",
              "</table>\n",
              "</div>\n",
              "      <button class=\"colab-df-convert\" onclick=\"convertToInteractive('df-f63cffc5-5231-4987-a733-4d7dbb7eda78')\"\n",
              "              title=\"Convert this dataframe to an interactive table.\"\n",
              "              style=\"display:none;\">\n",
              "        \n",
              "  <svg xmlns=\"http://www.w3.org/2000/svg\" height=\"24px\"viewBox=\"0 0 24 24\"\n",
              "       width=\"24px\">\n",
              "    <path d=\"M0 0h24v24H0V0z\" fill=\"none\"/>\n",
              "    <path d=\"M18.56 5.44l.94 2.06.94-2.06 2.06-.94-2.06-.94-.94-2.06-.94 2.06-2.06.94zm-11 1L8.5 8.5l.94-2.06 2.06-.94-2.06-.94L8.5 2.5l-.94 2.06-2.06.94zm10 10l.94 2.06.94-2.06 2.06-.94-2.06-.94-.94-2.06-.94 2.06-2.06.94z\"/><path d=\"M17.41 7.96l-1.37-1.37c-.4-.4-.92-.59-1.43-.59-.52 0-1.04.2-1.43.59L10.3 9.45l-7.72 7.72c-.78.78-.78 2.05 0 2.83L4 21.41c.39.39.9.59 1.41.59.51 0 1.02-.2 1.41-.59l7.78-7.78 2.81-2.81c.8-.78.8-2.07 0-2.86zM5.41 20L4 18.59l7.72-7.72 1.47 1.35L5.41 20z\"/>\n",
              "  </svg>\n",
              "      </button>\n",
              "      \n",
              "  <style>\n",
              "    .colab-df-container {\n",
              "      display:flex;\n",
              "      flex-wrap:wrap;\n",
              "      gap: 12px;\n",
              "    }\n",
              "\n",
              "    .colab-df-convert {\n",
              "      background-color: #E8F0FE;\n",
              "      border: none;\n",
              "      border-radius: 50%;\n",
              "      cursor: pointer;\n",
              "      display: none;\n",
              "      fill: #1967D2;\n",
              "      height: 32px;\n",
              "      padding: 0 0 0 0;\n",
              "      width: 32px;\n",
              "    }\n",
              "\n",
              "    .colab-df-convert:hover {\n",
              "      background-color: #E2EBFA;\n",
              "      box-shadow: 0px 1px 2px rgba(60, 64, 67, 0.3), 0px 1px 3px 1px rgba(60, 64, 67, 0.15);\n",
              "      fill: #174EA6;\n",
              "    }\n",
              "\n",
              "    [theme=dark] .colab-df-convert {\n",
              "      background-color: #3B4455;\n",
              "      fill: #D2E3FC;\n",
              "    }\n",
              "\n",
              "    [theme=dark] .colab-df-convert:hover {\n",
              "      background-color: #434B5C;\n",
              "      box-shadow: 0px 1px 3px 1px rgba(0, 0, 0, 0.15);\n",
              "      filter: drop-shadow(0px 1px 2px rgba(0, 0, 0, 0.3));\n",
              "      fill: #FFFFFF;\n",
              "    }\n",
              "  </style>\n",
              "\n",
              "      <script>\n",
              "        const buttonEl =\n",
              "          document.querySelector('#df-f63cffc5-5231-4987-a733-4d7dbb7eda78 button.colab-df-convert');\n",
              "        buttonEl.style.display =\n",
              "          google.colab.kernel.accessAllowed ? 'block' : 'none';\n",
              "\n",
              "        async function convertToInteractive(key) {\n",
              "          const element = document.querySelector('#df-f63cffc5-5231-4987-a733-4d7dbb7eda78');\n",
              "          const dataTable =\n",
              "            await google.colab.kernel.invokeFunction('convertToInteractive',\n",
              "                                                     [key], {});\n",
              "          if (!dataTable) return;\n",
              "\n",
              "          const docLinkHtml = 'Like what you see? Visit the ' +\n",
              "            '<a target=\"_blank\" href=https://colab.research.google.com/notebooks/data_table.ipynb>data table notebook</a>'\n",
              "            + ' to learn more about interactive tables.';\n",
              "          element.innerHTML = '';\n",
              "          dataTable['output_type'] = 'display_data';\n",
              "          await google.colab.output.renderOutput(dataTable, element);\n",
              "          const docLink = document.createElement('div');\n",
              "          docLink.innerHTML = docLinkHtml;\n",
              "          element.appendChild(docLink);\n",
              "        }\n",
              "      </script>\n",
              "    </div>\n",
              "  </div>\n",
              "  "
            ]
          },
          "metadata": {},
          "execution_count": 11
        }
      ],
      "source": [
        "df_original = pd.read_csv(os.path.join(data_dir, 'HAM10000_metadata'))\n",
        "df_original['path'] = df_original['image_id'].map(imageid_path_dict.get)\n",
        "df_original['cell_type'] = df_original['dx'].map(lesion_type_dict.get)\n",
        "df_original['cell_type_idx'] = pd.Categorical(df_original['cell_type']).codes\n",
        "df_original.head()"
      ]
    },
    {
      "cell_type": "code",
      "execution_count": null,
      "metadata": {
        "colab": {
          "base_uri": "https://localhost:8080/",
          "height": 206
        },
        "id": "oGGPkk8PzOnn",
        "outputId": "26380113-5caa-460c-d607-85de0e9e0189"
      },
      "outputs": [
        {
          "output_type": "execute_result",
          "data": {
            "text/plain": [
              "     lesion_id  image_id  dx  dx_type  age  sex  localization  dataset  path  \\\n",
              "0  HAM_0000001         1   1        1    1    1             1        1     1   \n",
              "1  HAM_0000003         1   1        1    1    1             1        1     1   \n",
              "2  HAM_0000004         1   1        1    1    1             1        1     1   \n",
              "3  HAM_0000007         1   1        1    1    1             1        1     1   \n",
              "4  HAM_0000008         1   1        1    1    1             1        1     1   \n",
              "\n",
              "   cell_type  cell_type_idx  \n",
              "0          1              1  \n",
              "1          1              1  \n",
              "2          1              1  \n",
              "3          1              1  \n",
              "4          1              1  "
            ],
            "text/html": [
              "\n",
              "  <div id=\"df-c867b72a-e901-4487-add0-d235b79dfdc7\">\n",
              "    <div class=\"colab-df-container\">\n",
              "      <div>\n",
              "<style scoped>\n",
              "    .dataframe tbody tr th:only-of-type {\n",
              "        vertical-align: middle;\n",
              "    }\n",
              "\n",
              "    .dataframe tbody tr th {\n",
              "        vertical-align: top;\n",
              "    }\n",
              "\n",
              "    .dataframe thead th {\n",
              "        text-align: right;\n",
              "    }\n",
              "</style>\n",
              "<table border=\"1\" class=\"dataframe\">\n",
              "  <thead>\n",
              "    <tr style=\"text-align: right;\">\n",
              "      <th></th>\n",
              "      <th>lesion_id</th>\n",
              "      <th>image_id</th>\n",
              "      <th>dx</th>\n",
              "      <th>dx_type</th>\n",
              "      <th>age</th>\n",
              "      <th>sex</th>\n",
              "      <th>localization</th>\n",
              "      <th>dataset</th>\n",
              "      <th>path</th>\n",
              "      <th>cell_type</th>\n",
              "      <th>cell_type_idx</th>\n",
              "    </tr>\n",
              "  </thead>\n",
              "  <tbody>\n",
              "    <tr>\n",
              "      <th>0</th>\n",
              "      <td>HAM_0000001</td>\n",
              "      <td>1</td>\n",
              "      <td>1</td>\n",
              "      <td>1</td>\n",
              "      <td>1</td>\n",
              "      <td>1</td>\n",
              "      <td>1</td>\n",
              "      <td>1</td>\n",
              "      <td>1</td>\n",
              "      <td>1</td>\n",
              "      <td>1</td>\n",
              "    </tr>\n",
              "    <tr>\n",
              "      <th>1</th>\n",
              "      <td>HAM_0000003</td>\n",
              "      <td>1</td>\n",
              "      <td>1</td>\n",
              "      <td>1</td>\n",
              "      <td>1</td>\n",
              "      <td>1</td>\n",
              "      <td>1</td>\n",
              "      <td>1</td>\n",
              "      <td>1</td>\n",
              "      <td>1</td>\n",
              "      <td>1</td>\n",
              "    </tr>\n",
              "    <tr>\n",
              "      <th>2</th>\n",
              "      <td>HAM_0000004</td>\n",
              "      <td>1</td>\n",
              "      <td>1</td>\n",
              "      <td>1</td>\n",
              "      <td>1</td>\n",
              "      <td>1</td>\n",
              "      <td>1</td>\n",
              "      <td>1</td>\n",
              "      <td>1</td>\n",
              "      <td>1</td>\n",
              "      <td>1</td>\n",
              "    </tr>\n",
              "    <tr>\n",
              "      <th>3</th>\n",
              "      <td>HAM_0000007</td>\n",
              "      <td>1</td>\n",
              "      <td>1</td>\n",
              "      <td>1</td>\n",
              "      <td>1</td>\n",
              "      <td>1</td>\n",
              "      <td>1</td>\n",
              "      <td>1</td>\n",
              "      <td>1</td>\n",
              "      <td>1</td>\n",
              "      <td>1</td>\n",
              "    </tr>\n",
              "    <tr>\n",
              "      <th>4</th>\n",
              "      <td>HAM_0000008</td>\n",
              "      <td>1</td>\n",
              "      <td>1</td>\n",
              "      <td>1</td>\n",
              "      <td>1</td>\n",
              "      <td>1</td>\n",
              "      <td>1</td>\n",
              "      <td>1</td>\n",
              "      <td>1</td>\n",
              "      <td>1</td>\n",
              "      <td>1</td>\n",
              "    </tr>\n",
              "  </tbody>\n",
              "</table>\n",
              "</div>\n",
              "      <button class=\"colab-df-convert\" onclick=\"convertToInteractive('df-c867b72a-e901-4487-add0-d235b79dfdc7')\"\n",
              "              title=\"Convert this dataframe to an interactive table.\"\n",
              "              style=\"display:none;\">\n",
              "        \n",
              "  <svg xmlns=\"http://www.w3.org/2000/svg\" height=\"24px\"viewBox=\"0 0 24 24\"\n",
              "       width=\"24px\">\n",
              "    <path d=\"M0 0h24v24H0V0z\" fill=\"none\"/>\n",
              "    <path d=\"M18.56 5.44l.94 2.06.94-2.06 2.06-.94-2.06-.94-.94-2.06-.94 2.06-2.06.94zm-11 1L8.5 8.5l.94-2.06 2.06-.94-2.06-.94L8.5 2.5l-.94 2.06-2.06.94zm10 10l.94 2.06.94-2.06 2.06-.94-2.06-.94-.94-2.06-.94 2.06-2.06.94z\"/><path d=\"M17.41 7.96l-1.37-1.37c-.4-.4-.92-.59-1.43-.59-.52 0-1.04.2-1.43.59L10.3 9.45l-7.72 7.72c-.78.78-.78 2.05 0 2.83L4 21.41c.39.39.9.59 1.41.59.51 0 1.02-.2 1.41-.59l7.78-7.78 2.81-2.81c.8-.78.8-2.07 0-2.86zM5.41 20L4 18.59l7.72-7.72 1.47 1.35L5.41 20z\"/>\n",
              "  </svg>\n",
              "      </button>\n",
              "      \n",
              "  <style>\n",
              "    .colab-df-container {\n",
              "      display:flex;\n",
              "      flex-wrap:wrap;\n",
              "      gap: 12px;\n",
              "    }\n",
              "\n",
              "    .colab-df-convert {\n",
              "      background-color: #E8F0FE;\n",
              "      border: none;\n",
              "      border-radius: 50%;\n",
              "      cursor: pointer;\n",
              "      display: none;\n",
              "      fill: #1967D2;\n",
              "      height: 32px;\n",
              "      padding: 0 0 0 0;\n",
              "      width: 32px;\n",
              "    }\n",
              "\n",
              "    .colab-df-convert:hover {\n",
              "      background-color: #E2EBFA;\n",
              "      box-shadow: 0px 1px 2px rgba(60, 64, 67, 0.3), 0px 1px 3px 1px rgba(60, 64, 67, 0.15);\n",
              "      fill: #174EA6;\n",
              "    }\n",
              "\n",
              "    [theme=dark] .colab-df-convert {\n",
              "      background-color: #3B4455;\n",
              "      fill: #D2E3FC;\n",
              "    }\n",
              "\n",
              "    [theme=dark] .colab-df-convert:hover {\n",
              "      background-color: #434B5C;\n",
              "      box-shadow: 0px 1px 3px 1px rgba(0, 0, 0, 0.15);\n",
              "      filter: drop-shadow(0px 1px 2px rgba(0, 0, 0, 0.3));\n",
              "      fill: #FFFFFF;\n",
              "    }\n",
              "  </style>\n",
              "\n",
              "      <script>\n",
              "        const buttonEl =\n",
              "          document.querySelector('#df-c867b72a-e901-4487-add0-d235b79dfdc7 button.colab-df-convert');\n",
              "        buttonEl.style.display =\n",
              "          google.colab.kernel.accessAllowed ? 'block' : 'none';\n",
              "\n",
              "        async function convertToInteractive(key) {\n",
              "          const element = document.querySelector('#df-c867b72a-e901-4487-add0-d235b79dfdc7');\n",
              "          const dataTable =\n",
              "            await google.colab.kernel.invokeFunction('convertToInteractive',\n",
              "                                                     [key], {});\n",
              "          if (!dataTable) return;\n",
              "\n",
              "          const docLinkHtml = 'Like what you see? Visit the ' +\n",
              "            '<a target=\"_blank\" href=https://colab.research.google.com/notebooks/data_table.ipynb>data table notebook</a>'\n",
              "            + ' to learn more about interactive tables.';\n",
              "          element.innerHTML = '';\n",
              "          dataTable['output_type'] = 'display_data';\n",
              "          await google.colab.output.renderOutput(dataTable, element);\n",
              "          const docLink = document.createElement('div');\n",
              "          docLink.innerHTML = docLinkHtml;\n",
              "          element.appendChild(docLink);\n",
              "        }\n",
              "      </script>\n",
              "    </div>\n",
              "  </div>\n",
              "  "
            ]
          },
          "metadata": {},
          "execution_count": 12
        }
      ],
      "source": [
        "# this will tell us how many images are associated with each lesion_id\n",
        "df_undup = df_original.groupby('lesion_id').count()\n",
        "# now we filter out lesion_id's that have only one image associated with it\n",
        "df_undup = df_undup[df_undup['image_id'] == 1]\n",
        "df_undup.reset_index(inplace=True)\n",
        "df_undup.head()"
      ]
    },
    {
      "cell_type": "code",
      "execution_count": null,
      "metadata": {
        "colab": {
          "base_uri": "https://localhost:8080/",
          "height": 444
        },
        "id": "ot-Xg1-BzOqa",
        "outputId": "438dc55e-c024-4f29-9376-461d763377ff"
      },
      "outputs": [
        {
          "output_type": "execute_result",
          "data": {
            "text/plain": [
              "     lesion_id      image_id   dx dx_type   age   sex localization  \\\n",
              "0  HAM_0000118  ISIC_0027419  bkl   histo  80.0  male        scalp   \n",
              "1  HAM_0000118  ISIC_0025030  bkl   histo  80.0  male        scalp   \n",
              "2  HAM_0002730  ISIC_0026769  bkl   histo  80.0  male        scalp   \n",
              "3  HAM_0002730  ISIC_0025661  bkl   histo  80.0  male        scalp   \n",
              "4  HAM_0001466  ISIC_0031633  bkl   histo  75.0  male          ear   \n",
              "\n",
              "        dataset                                       path  \\\n",
              "0  vidir_modern  ./HAM10000_images_part_1/ISIC_0027419.jpg   \n",
              "1  vidir_modern  ./HAM10000_images_part_1/ISIC_0025030.jpg   \n",
              "2  vidir_modern  ./HAM10000_images_part_1/ISIC_0026769.jpg   \n",
              "3  vidir_modern  ./HAM10000_images_part_1/ISIC_0025661.jpg   \n",
              "4  vidir_modern  ./HAM10000_images_part_2/ISIC_0031633.jpg   \n",
              "\n",
              "                        cell_type  cell_type_idx  duplicates  \n",
              "0  Benign keratosis-like lesions               2  duplicated  \n",
              "1  Benign keratosis-like lesions               2  duplicated  \n",
              "2  Benign keratosis-like lesions               2  duplicated  \n",
              "3  Benign keratosis-like lesions               2  duplicated  \n",
              "4  Benign keratosis-like lesions               2  duplicated  "
            ],
            "text/html": [
              "\n",
              "  <div id=\"df-8e27152e-7f18-48d8-aa89-2fe0f6df41a1\">\n",
              "    <div class=\"colab-df-container\">\n",
              "      <div>\n",
              "<style scoped>\n",
              "    .dataframe tbody tr th:only-of-type {\n",
              "        vertical-align: middle;\n",
              "    }\n",
              "\n",
              "    .dataframe tbody tr th {\n",
              "        vertical-align: top;\n",
              "    }\n",
              "\n",
              "    .dataframe thead th {\n",
              "        text-align: right;\n",
              "    }\n",
              "</style>\n",
              "<table border=\"1\" class=\"dataframe\">\n",
              "  <thead>\n",
              "    <tr style=\"text-align: right;\">\n",
              "      <th></th>\n",
              "      <th>lesion_id</th>\n",
              "      <th>image_id</th>\n",
              "      <th>dx</th>\n",
              "      <th>dx_type</th>\n",
              "      <th>age</th>\n",
              "      <th>sex</th>\n",
              "      <th>localization</th>\n",
              "      <th>dataset</th>\n",
              "      <th>path</th>\n",
              "      <th>cell_type</th>\n",
              "      <th>cell_type_idx</th>\n",
              "      <th>duplicates</th>\n",
              "    </tr>\n",
              "  </thead>\n",
              "  <tbody>\n",
              "    <tr>\n",
              "      <th>0</th>\n",
              "      <td>HAM_0000118</td>\n",
              "      <td>ISIC_0027419</td>\n",
              "      <td>bkl</td>\n",
              "      <td>histo</td>\n",
              "      <td>80.0</td>\n",
              "      <td>male</td>\n",
              "      <td>scalp</td>\n",
              "      <td>vidir_modern</td>\n",
              "      <td>./HAM10000_images_part_1/ISIC_0027419.jpg</td>\n",
              "      <td>Benign keratosis-like lesions</td>\n",
              "      <td>2</td>\n",
              "      <td>duplicated</td>\n",
              "    </tr>\n",
              "    <tr>\n",
              "      <th>1</th>\n",
              "      <td>HAM_0000118</td>\n",
              "      <td>ISIC_0025030</td>\n",
              "      <td>bkl</td>\n",
              "      <td>histo</td>\n",
              "      <td>80.0</td>\n",
              "      <td>male</td>\n",
              "      <td>scalp</td>\n",
              "      <td>vidir_modern</td>\n",
              "      <td>./HAM10000_images_part_1/ISIC_0025030.jpg</td>\n",
              "      <td>Benign keratosis-like lesions</td>\n",
              "      <td>2</td>\n",
              "      <td>duplicated</td>\n",
              "    </tr>\n",
              "    <tr>\n",
              "      <th>2</th>\n",
              "      <td>HAM_0002730</td>\n",
              "      <td>ISIC_0026769</td>\n",
              "      <td>bkl</td>\n",
              "      <td>histo</td>\n",
              "      <td>80.0</td>\n",
              "      <td>male</td>\n",
              "      <td>scalp</td>\n",
              "      <td>vidir_modern</td>\n",
              "      <td>./HAM10000_images_part_1/ISIC_0026769.jpg</td>\n",
              "      <td>Benign keratosis-like lesions</td>\n",
              "      <td>2</td>\n",
              "      <td>duplicated</td>\n",
              "    </tr>\n",
              "    <tr>\n",
              "      <th>3</th>\n",
              "      <td>HAM_0002730</td>\n",
              "      <td>ISIC_0025661</td>\n",
              "      <td>bkl</td>\n",
              "      <td>histo</td>\n",
              "      <td>80.0</td>\n",
              "      <td>male</td>\n",
              "      <td>scalp</td>\n",
              "      <td>vidir_modern</td>\n",
              "      <td>./HAM10000_images_part_1/ISIC_0025661.jpg</td>\n",
              "      <td>Benign keratosis-like lesions</td>\n",
              "      <td>2</td>\n",
              "      <td>duplicated</td>\n",
              "    </tr>\n",
              "    <tr>\n",
              "      <th>4</th>\n",
              "      <td>HAM_0001466</td>\n",
              "      <td>ISIC_0031633</td>\n",
              "      <td>bkl</td>\n",
              "      <td>histo</td>\n",
              "      <td>75.0</td>\n",
              "      <td>male</td>\n",
              "      <td>ear</td>\n",
              "      <td>vidir_modern</td>\n",
              "      <td>./HAM10000_images_part_2/ISIC_0031633.jpg</td>\n",
              "      <td>Benign keratosis-like lesions</td>\n",
              "      <td>2</td>\n",
              "      <td>duplicated</td>\n",
              "    </tr>\n",
              "  </tbody>\n",
              "</table>\n",
              "</div>\n",
              "      <button class=\"colab-df-convert\" onclick=\"convertToInteractive('df-8e27152e-7f18-48d8-aa89-2fe0f6df41a1')\"\n",
              "              title=\"Convert this dataframe to an interactive table.\"\n",
              "              style=\"display:none;\">\n",
              "        \n",
              "  <svg xmlns=\"http://www.w3.org/2000/svg\" height=\"24px\"viewBox=\"0 0 24 24\"\n",
              "       width=\"24px\">\n",
              "    <path d=\"M0 0h24v24H0V0z\" fill=\"none\"/>\n",
              "    <path d=\"M18.56 5.44l.94 2.06.94-2.06 2.06-.94-2.06-.94-.94-2.06-.94 2.06-2.06.94zm-11 1L8.5 8.5l.94-2.06 2.06-.94-2.06-.94L8.5 2.5l-.94 2.06-2.06.94zm10 10l.94 2.06.94-2.06 2.06-.94-2.06-.94-.94-2.06-.94 2.06-2.06.94z\"/><path d=\"M17.41 7.96l-1.37-1.37c-.4-.4-.92-.59-1.43-.59-.52 0-1.04.2-1.43.59L10.3 9.45l-7.72 7.72c-.78.78-.78 2.05 0 2.83L4 21.41c.39.39.9.59 1.41.59.51 0 1.02-.2 1.41-.59l7.78-7.78 2.81-2.81c.8-.78.8-2.07 0-2.86zM5.41 20L4 18.59l7.72-7.72 1.47 1.35L5.41 20z\"/>\n",
              "  </svg>\n",
              "      </button>\n",
              "      \n",
              "  <style>\n",
              "    .colab-df-container {\n",
              "      display:flex;\n",
              "      flex-wrap:wrap;\n",
              "      gap: 12px;\n",
              "    }\n",
              "\n",
              "    .colab-df-convert {\n",
              "      background-color: #E8F0FE;\n",
              "      border: none;\n",
              "      border-radius: 50%;\n",
              "      cursor: pointer;\n",
              "      display: none;\n",
              "      fill: #1967D2;\n",
              "      height: 32px;\n",
              "      padding: 0 0 0 0;\n",
              "      width: 32px;\n",
              "    }\n",
              "\n",
              "    .colab-df-convert:hover {\n",
              "      background-color: #E2EBFA;\n",
              "      box-shadow: 0px 1px 2px rgba(60, 64, 67, 0.3), 0px 1px 3px 1px rgba(60, 64, 67, 0.15);\n",
              "      fill: #174EA6;\n",
              "    }\n",
              "\n",
              "    [theme=dark] .colab-df-convert {\n",
              "      background-color: #3B4455;\n",
              "      fill: #D2E3FC;\n",
              "    }\n",
              "\n",
              "    [theme=dark] .colab-df-convert:hover {\n",
              "      background-color: #434B5C;\n",
              "      box-shadow: 0px 1px 3px 1px rgba(0, 0, 0, 0.15);\n",
              "      filter: drop-shadow(0px 1px 2px rgba(0, 0, 0, 0.3));\n",
              "      fill: #FFFFFF;\n",
              "    }\n",
              "  </style>\n",
              "\n",
              "      <script>\n",
              "        const buttonEl =\n",
              "          document.querySelector('#df-8e27152e-7f18-48d8-aa89-2fe0f6df41a1 button.colab-df-convert');\n",
              "        buttonEl.style.display =\n",
              "          google.colab.kernel.accessAllowed ? 'block' : 'none';\n",
              "\n",
              "        async function convertToInteractive(key) {\n",
              "          const element = document.querySelector('#df-8e27152e-7f18-48d8-aa89-2fe0f6df41a1');\n",
              "          const dataTable =\n",
              "            await google.colab.kernel.invokeFunction('convertToInteractive',\n",
              "                                                     [key], {});\n",
              "          if (!dataTable) return;\n",
              "\n",
              "          const docLinkHtml = 'Like what you see? Visit the ' +\n",
              "            '<a target=\"_blank\" href=https://colab.research.google.com/notebooks/data_table.ipynb>data table notebook</a>'\n",
              "            + ' to learn more about interactive tables.';\n",
              "          element.innerHTML = '';\n",
              "          dataTable['output_type'] = 'display_data';\n",
              "          await google.colab.output.renderOutput(dataTable, element);\n",
              "          const docLink = document.createElement('div');\n",
              "          docLink.innerHTML = docLinkHtml;\n",
              "          element.appendChild(docLink);\n",
              "        }\n",
              "      </script>\n",
              "    </div>\n",
              "  </div>\n",
              "  "
            ]
          },
          "metadata": {},
          "execution_count": 13
        }
      ],
      "source": [
        "# here we identify lesion_id's that have duplicate images and those that have only one image.\n",
        "def get_duplicates(x):\n",
        "    unique_list = list(df_undup['lesion_id'])\n",
        "    if x in unique_list:\n",
        "        return 'unduplicated'\n",
        "    else:\n",
        "        return 'duplicated'\n",
        "\n",
        "# create a new colum that is a copy of the lesion_id column\n",
        "df_original['duplicates'] = df_original['lesion_id']\n",
        "# apply the function to this new column\n",
        "df_original['duplicates'] = df_original['duplicates'].apply(get_duplicates)\n",
        "df_original.head()"
      ]
    },
    {
      "cell_type": "code",
      "execution_count": null,
      "metadata": {
        "colab": {
          "base_uri": "https://localhost:8080/"
        },
        "id": "SEfikEZb3e-s",
        "outputId": "6205a2a0-3459-43d7-ad83-3dbfc39468c8"
      },
      "outputs": [
        {
          "output_type": "execute_result",
          "data": {
            "text/plain": [
              "unduplicated    5514\n",
              "duplicated      4501\n",
              "Name: duplicates, dtype: int64"
            ]
          },
          "metadata": {},
          "execution_count": 14
        }
      ],
      "source": [
        "df_original['duplicates'].value_counts()"
      ]
    },
    {
      "cell_type": "code",
      "execution_count": null,
      "metadata": {
        "colab": {
          "base_uri": "https://localhost:8080/"
        },
        "id": "9IE2v1iM3e8I",
        "outputId": "9abc4e96-ea23-4ec4-ea44-9dbbeabb2bd0"
      },
      "outputs": [
        {
          "output_type": "execute_result",
          "data": {
            "text/plain": [
              "(5514, 12)"
            ]
          },
          "metadata": {},
          "execution_count": 15
        }
      ],
      "source": [
        "# now we filter out images that don't have duplicates\n",
        "df_undup = df_original[df_original['duplicates'] == 'unduplicated']\n",
        "df_undup.shape"
      ]
    },
    {
      "cell_type": "code",
      "execution_count": null,
      "metadata": {
        "colab": {
          "base_uri": "https://localhost:8080/"
        },
        "id": "ThCO-7HR3e51",
        "outputId": "e49e874a-5c27-483a-b7c0-b39acfdf8e36"
      },
      "outputs": [
        {
          "output_type": "execute_result",
          "data": {
            "text/plain": [
              "(1103, 12)"
            ]
          },
          "metadata": {},
          "execution_count": 16
        }
      ],
      "source": [
        "# now we create a val set using df because we are sure that none of these images have augmented duplicates in the train set\n",
        "y = df_undup['cell_type_idx']\n",
        "_, df_val = train_test_split(df_undup, test_size=0.2, random_state=101, stratify=y)\n",
        "df_val.shape"
      ]
    },
    {
      "cell_type": "code",
      "execution_count": null,
      "metadata": {
        "colab": {
          "base_uri": "https://localhost:8080/"
        },
        "id": "Qec-RNPy3e3S",
        "outputId": "162485fc-2c21-41cc-cac7-138a33cc84f4"
      },
      "outputs": [
        {
          "output_type": "execute_result",
          "data": {
            "text/plain": [
              "4    883\n",
              "2     88\n",
              "5     46\n",
              "1     35\n",
              "0     30\n",
              "6     13\n",
              "3      8\n",
              "Name: cell_type_idx, dtype: int64"
            ]
          },
          "metadata": {},
          "execution_count": 17
        }
      ],
      "source": [
        "df_val['cell_type_idx'].value_counts()"
      ]
    },
    {
      "cell_type": "code",
      "execution_count": null,
      "metadata": {
        "colab": {
          "base_uri": "https://localhost:8080/"
        },
        "id": "fN40F8O-3e0_",
        "outputId": "58ef3e90-da46-418e-b84a-a8a0dd83f346"
      },
      "outputs": [
        {
          "output_type": "stream",
          "name": "stdout",
          "text": [
            "8912\n",
            "1103\n"
          ]
        }
      ],
      "source": [
        "def get_val_rows(x):\n",
        "    # create a list of all the lesion_id's in the val set\n",
        "    val_list = list(df_val['image_id'])\n",
        "    if str(x) in val_list:\n",
        "        return 'val'\n",
        "    else:\n",
        "        return 'train'\n",
        "\n",
        "# identify train and val rows\n",
        "# create a new colum that is a copy of the image_id column\n",
        "df_original['train_or_val'] = df_original['image_id']\n",
        "# apply the function to this new column\n",
        "df_original['train_or_val'] = df_original['train_or_val'].apply(get_val_rows)\n",
        "# filter out train rows\n",
        "df_train = df_original[df_original['train_or_val'] == 'train']\n",
        "print(len(df_train))\n",
        "print(len(df_val))\n"
      ]
    },
    {
      "cell_type": "code",
      "execution_count": null,
      "metadata": {
        "colab": {
          "base_uri": "https://localhost:8080/"
        },
        "id": "eTo192Ss3evc",
        "outputId": "9a58b37c-9e69-4259-f89f-f81a80178efa"
      },
      "outputs": [
        {
          "output_type": "execute_result",
          "data": {
            "text/plain": [
              "4    5822\n",
              "5    1067\n",
              "2    1011\n",
              "1     479\n",
              "0     297\n",
              "6     129\n",
              "3     107\n",
              "Name: cell_type_idx, dtype: int64"
            ]
          },
          "metadata": {},
          "execution_count": 19
        }
      ],
      "source": [
        "df_train['cell_type_idx'].value_counts()\n"
      ]
    },
    {
      "cell_type": "code",
      "execution_count": null,
      "metadata": {
        "colab": {
          "base_uri": "https://localhost:8080/"
        },
        "id": "-g-lFpAZ4JAt",
        "outputId": "a498f838-05d0-46fa-a9e6-067aacd7d21c"
      },
      "outputs": [
        {
          "output_type": "execute_result",
          "data": {
            "text/plain": [
              "Melanocytic nevi                  883\n",
              "Benign keratosis-like lesions      88\n",
              "Melanoma                           46\n",
              "Basal cell carcinoma               35\n",
              "Actinic keratoses                  30\n",
              "Vascular lesions                   13\n",
              "Dermatofibroma                      8\n",
              "Name: cell_type, dtype: int64"
            ]
          },
          "metadata": {},
          "execution_count": 20
        }
      ],
      "source": [
        "df_val['cell_type'].value_counts()"
      ]
    },
    {
      "cell_type": "markdown",
      "source": [
        "## Base line models without balancing "
      ],
      "metadata": {
        "id": "F4j8VcRK05wt"
      }
    },
    {
      "cell_type": "markdown",
      "metadata": {
        "id": "cEBEvJCV5Epe"
      },
      "source": [
        "### Model building "
      ]
    },
    {
      "cell_type": "code",
      "execution_count": null,
      "metadata": {
        "id": "dm6yFKIo4I51"
      },
      "outputs": [],
      "source": [
        "### using all pretrained model \n",
        "def set_parameter_requires_grad(model, feature_extracting):\n",
        "    if feature_extracting:\n",
        "        for param in model.parameters():\n",
        "            param.requires_grad = False"
      ]
    },
    {
      "cell_type": "code",
      "execution_count": null,
      "metadata": {
        "id": "GQv_wLyQ4I3P"
      },
      "outputs": [],
      "source": [
        "def initialize_model(model_name, num_classes, feature_extract, use_pretrained=True):\n",
        "    # Initialize these variables which will be set in this if statement. Each of these\n",
        "    #   variables is model specific.\n",
        "    model_ft = None\n",
        "    input_size = 0\n",
        "\n",
        "    if model_name == \"resnet\":\n",
        "        \"\"\" Resnet18, resnet34, resnet50, resnet101\n",
        "        \"\"\"\n",
        "        model_ft = models.resnet50(pretrained=use_pretrained)\n",
        "        set_parameter_requires_grad(model_ft, feature_extract)\n",
        "        num_ftrs = model_ft.fc.in_features\n",
        "        model_ft.fc = nn.Linear(num_ftrs, num_classes)\n",
        "        input_size = 224\n",
        "\n",
        "\n",
        "    elif model_name == \"vgg\":\n",
        "        \"\"\" VGG11_bn\n",
        "        \"\"\"\n",
        "        model_ft = models.vgg11_bn(pretrained=use_pretrained)\n",
        "\n",
        "        set_parameter_requires_grad(model_ft, feature_extract)\n",
        "        num_ftrs = model_ft.classifier[6].in_features\n",
        "        model_ft.classifier[6] = nn.Linear(num_ftrs,num_classes)\n",
        "        input_size = 224\n",
        "\n",
        "    elif model_name == \"densenet\":\n",
        "        \"\"\" Densenet121\n",
        "        \"\"\"\n",
        "        model_ft = models.densenet121(pretrained=use_pretrained)\n",
        "        set_parameter_requires_grad(model_ft, feature_extract)\n",
        "        num_ftrs = model_ft.classifier.in_features\n",
        "        model_ft.classifier = nn.Linear(num_ftrs, num_classes)\n",
        "        input_size = 224\n",
        "\n",
        "    elif model_name == \"inception\":\n",
        "        \"\"\" Inception v3\n",
        "        Be careful, expects (299,299) sized images and has auxiliary output, whihc I turned off \n",
        "        \"\"\"\n",
        "        input_size = 299\n",
        "        model_ft = models.inception_v3(pretrained=use_pretrained,  aux_logits =False )\n",
        "\n",
        "        #set_parameter_requires_grad(model_ft, feature_extract)\n",
        "        # Handle the auxilary net\n",
        "        #num_ftrs = model_ft.AuxLogits.fc.in_features\n",
        "        #model_ft.AuxLogits.fc = nn.Linear(num_ftrs, num_classes)\n",
        "        # Handle the primary net\n",
        "        num_ftrs = model_ft.fc.in_features\n",
        "        model_ft.fc = nn.Linear(num_ftrs,num_classes)\n",
        "        input_size = 299\n",
        "\n",
        "    elif model_name == \"mobilenet\":\n",
        "      \"\"\"mobilenet_v3_small\"\"\"\n",
        "      model_ft = models.mobilenet_v3_small(pretrained=True)\n",
        "      set_parameter_requires_grad(model_ft, feature_extract)\n",
        "      model_ft.classifier[3].out_features = 7\n",
        "#      num_ftrs = model_ft.fc.in_features\n",
        " #     model_ft.classifier[3] = nn.Linear(num_ftrs, num_classes)\n",
        "      input_size = 224\n",
        "\n",
        "    else:\n",
        "        print(\"Invalid model name, exiting...\")\n",
        "        exit()\n",
        "    return model_ft, input_size"
      ]
    },
    {
      "cell_type": "code",
      "execution_count": null,
      "metadata": {
        "id": "2XuNuUZF4I8I"
      },
      "outputs": [],
      "source": [
        "\n",
        "df_train = df_train.reset_index()\n",
        "df_val = df_val.reset_index()\n"
      ]
    },
    {
      "cell_type": "markdown",
      "metadata": {
        "id": "xVA_UCon9pVS"
      },
      "source": [
        "### Dataset "
      ]
    },
    {
      "cell_type": "code",
      "execution_count": null,
      "metadata": {
        "id": "C8rAWqRD9t3H"
      },
      "outputs": [],
      "source": [
        "norm_mean = (0.49139968, 0.48215827, 0.44653124)\n",
        "norm_std = (0.24703233, 0.24348505, 0.26158768)\n",
        "# define the transformation of the train images.\n",
        "input_size =224\n",
        "train_transform = transforms.Compose([transforms.Resize((input_size,input_size)),transforms.ToTensor(), transforms.Normalize(norm_mean, norm_std)])\n",
        "# define the transformation of the val images.\n",
        "val_transform = transforms.Compose([transforms.Resize((input_size,input_size)), transforms.ToTensor(),\n",
        "                                    transforms.Normalize(norm_mean, norm_std)])\n"
      ]
    },
    {
      "cell_type": "code",
      "execution_count": null,
      "metadata": {
        "id": "yp2aMtmo9tv1"
      },
      "outputs": [],
      "source": [
        "# Define a pytorch dataloader for this dataset\n",
        "class HAM10000(Dataset):\n",
        "    def __init__(self, df, transform=None):\n",
        "        self.df = df\n",
        "        self.transform = transform\n",
        "\n",
        "    def __len__(self):\n",
        "        return len(self.df)\n",
        "\n",
        "    def __getitem__(self, index):\n",
        "        # Load data and get label\n",
        "        X = Image.open(self.df['path'][index])\n",
        "        y = torch.tensor(int(self.df['cell_type_idx'][index]))\n",
        "\n",
        "        if self.transform:\n",
        "            X = self.transform(X)\n",
        "\n",
        "        return X, y"
      ]
    },
    {
      "cell_type": "code",
      "execution_count": null,
      "metadata": {
        "id": "9rHyr45J9tmd"
      },
      "outputs": [],
      "source": [
        "# Define the training set using the table train_df and using our defined transitions (train_transform)\n",
        "training_set = HAM10000(df_train, transform=train_transform)\n",
        "train_loader = DataLoader(training_set, batch_size=32, shuffle=True, num_workers=4)\n",
        "# Same for the validation set:\n",
        "validation_set = HAM10000(df_val, transform=val_transform)\n",
        "val_loader = DataLoader(validation_set, batch_size=32, shuffle=False, num_workers=4)"
      ]
    },
    {
      "cell_type": "code",
      "execution_count": null,
      "metadata": {
        "id": "R2wOM_-h9oTm",
        "colab": {
          "base_uri": "https://localhost:8080/",
          "height": 86,
          "referenced_widgets": [
            "20b81bc062334a69a838243b1b329524",
            "ee7720133675415a971f973af0915a73",
            "1a6e94d90ff14db4ba633966c0f507dc",
            "7e4cb20c2f144add990cd0ed456123ef",
            "b688a98d22614fe693322dfa779e23e0",
            "8eb296b02c884a3383c7eefa2a498ff9",
            "d469d06cabdd427e8a8af04274cbf9c3",
            "07a7ab2bd6a04756a0e2383f9faf896d",
            "4eb65e5c01ca481b80c2b4ddb8a83e01",
            "23d3a55e58474700b1b7dc53f8d5e1c2",
            "1ed5a013dfd34bbba506b8dedff4ef5d"
          ]
        },
        "outputId": "c94a5d5f-b20a-4605-9721-55bc957e3d7c"
      },
      "outputs": [
        {
          "output_type": "stream",
          "name": "stderr",
          "text": [
            "Downloading: \"https://download.pytorch.org/models/resnet50-0676ba61.pth\" to /root/.cache/torch/hub/checkpoints/resnet50-0676ba61.pth\n"
          ]
        },
        {
          "output_type": "display_data",
          "data": {
            "text/plain": [
              "  0%|          | 0.00/97.8M [00:00<?, ?B/s]"
            ],
            "application/vnd.jupyter.widget-view+json": {
              "version_major": 2,
              "version_minor": 0,
              "model_id": "20b81bc062334a69a838243b1b329524"
            }
          },
          "metadata": {}
        }
      ],
      "source": [
        "# resnet,vgg,densenet,inception,mobilenet\n",
        "model_name = 'resnet'\n",
        "num_classes = 7\n",
        "feature_extract = False\n",
        "# Initialize the model for this run\n",
        "model_ft, input_size = initialize_model(model_name, num_classes, feature_extract, use_pretrained=True)\n",
        "# Define the device:\n",
        "device = torch.device('cuda:0')\n",
        "# Put the model on the device:\n",
        "modelR = model_ft.to(device)"
      ]
    },
    {
      "cell_type": "code",
      "execution_count": null,
      "metadata": {
        "id": "vefo2fc49oWh"
      },
      "outputs": [],
      "source": [
        "# we use Adam optimizer, use cross entropy loss as our loss function\n",
        "optimizer = optim.Adam(modelR.parameters(), lr=1e-3)\n",
        "criterion = nn.CrossEntropyLoss().to(device)"
      ]
    },
    {
      "cell_type": "code",
      "execution_count": null,
      "metadata": {
        "id": "CHriFGoG9oZq"
      },
      "outputs": [],
      "source": [
        "# this function is used during training process, to calculation the loss and accuracy\n",
        "class AverageMeter(object):\n",
        "    def __init__(self):\n",
        "        self.reset()\n",
        "\n",
        "    def reset(self):\n",
        "        self.val = 0\n",
        "        self.avg = 0\n",
        "        self.sum = 0\n",
        "        self.count = 0\n",
        "\n",
        "    def update(self, val, n=1):\n",
        "        self.val = val\n",
        "        self.sum += val * n\n",
        "        self.count += n\n",
        "        self.avg = self.sum / self.count\n"
      ]
    },
    {
      "cell_type": "code",
      "execution_count": null,
      "metadata": {
        "id": "54NTLbkZ9ohL"
      },
      "outputs": [],
      "source": [
        "total_loss_train, total_acc_train = [],[]\n",
        "def train(train_loader, model, criterion, optimizer, epoch):\n",
        "    model.train()\n",
        "    train_loss = AverageMeter()\n",
        "    train_acc = AverageMeter()\n",
        "    curr_iter = (epoch - 1) * len(train_loader)\n",
        "    for i, data in enumerate(train_loader):\n",
        "        images, labels = data\n",
        "        N = images.size(0)\n",
        "        #print('image shape:',images.size(0), 'label shape',labels.size(0))\n",
        "        images = Variable(images).to(device)\n",
        "        labels = Variable(labels).to(device)\n",
        "\n",
        "        optimizer.zero_grad()\n",
        "        outputs = model(images)\n",
        "        loss = criterion(outputs, labels)\n",
        "        loss.backward()\n",
        "        optimizer.step()\n",
        "        prediction = outputs.max(1, keepdim=True)[1]\n",
        "        train_acc.update(prediction.eq(labels.view_as(prediction)).sum().item()/N)\n",
        "        train_loss.update(loss.item())\n",
        "        curr_iter += 1\n",
        "        if (i + 1) % 100 == 0:\n",
        "            print('[epoch %d], [iter %d / %d], [train loss %.5f], [train acc %.5f]' % (\n",
        "                epoch, i + 1, len(train_loader), train_loss.avg, train_acc.avg))\n",
        "            total_loss_train.append(train_loss.avg)\n",
        "            total_acc_train.append(train_acc.avg)\n",
        "    return train_loss.avg, train_acc.avg\n",
        "\n"
      ]
    },
    {
      "cell_type": "code",
      "execution_count": null,
      "metadata": {
        "id": "H0A4Kr-9Mmeg"
      },
      "outputs": [],
      "source": [
        "def validate(val_loader, model, criterion, optimizer, epoch):\n",
        "    model.eval()\n",
        "    val_loss = AverageMeter()\n",
        "    val_acc = AverageMeter()\n",
        "    with torch.no_grad():\n",
        "        for i, data in enumerate(val_loader):\n",
        "            images, labels = data\n",
        "            N = images.size(0)\n",
        "            images = Variable(images).to(device)\n",
        "            labels = Variable(labels).to(device)\n",
        "\n",
        "            outputs = model(images)\n",
        "            prediction = outputs.max(1, keepdim=True)[1]\n",
        "\n",
        "            val_acc.update(prediction.eq(labels.view_as(prediction)).sum().item()/N)\n",
        "\n",
        "            val_loss.update(criterion(outputs, labels).item())\n",
        "\n",
        "    print('------------------------------------------------------------')\n",
        "    print('[epoch %d], [val loss %.5f], [val acc %.5f]' % (epoch, val_loss.avg, val_acc.avg))\n",
        "    print('------------------------------------------------------------')\n",
        "    return val_loss.avg, val_acc.avg"
      ]
    },
    {
      "cell_type": "markdown",
      "metadata": {
        "id": "uIxc3649MVlc"
      },
      "source": [
        "### training Resnet"
      ]
    },
    {
      "cell_type": "code",
      "execution_count": null,
      "metadata": {
        "colab": {
          "base_uri": "https://localhost:8080/"
        },
        "id": "rBkZ2--MMmb_",
        "outputId": "584b1c5e-2798-4861-9e26-c0661eb8cc2d"
      },
      "outputs": [
        {
          "output_type": "stream",
          "name": "stdout",
          "text": [
            "[epoch 1], [iter 100 / 279], [train loss 0.96104], [train acc 0.66531]\n",
            "[epoch 1], [iter 200 / 279], [train loss 0.91754], [train acc 0.67000]\n",
            "------------------------------------------------------------\n",
            "[epoch 1], [val loss 0.48221], [val acc 0.85167]\n",
            "------------------------------------------------------------\n",
            "*****************************************************\n",
            "best record: [epoch 1], [val loss 0.48221], [val acc 0.85167]\n",
            "*****************************************************\n",
            "[epoch 2], [iter 100 / 279], [train loss 0.81706], [train acc 0.69812]\n",
            "[epoch 2], [iter 200 / 279], [train loss 0.78766], [train acc 0.70875]\n",
            "------------------------------------------------------------\n",
            "[epoch 2], [val loss 0.46550], [val acc 0.84810]\n",
            "------------------------------------------------------------\n",
            "[epoch 3], [iter 100 / 279], [train loss 0.74991], [train acc 0.71719]\n",
            "[epoch 3], [iter 200 / 279], [train loss 0.72093], [train acc 0.72703]\n",
            "------------------------------------------------------------\n",
            "[epoch 3], [val loss 0.42047], [val acc 0.85690]\n",
            "------------------------------------------------------------\n",
            "*****************************************************\n",
            "best record: [epoch 3], [val loss 0.42047], [val acc 0.85690]\n",
            "*****************************************************\n",
            "[epoch 4], [iter 100 / 279], [train loss 0.68671], [train acc 0.74531]\n",
            "[epoch 4], [iter 200 / 279], [train loss 0.69095], [train acc 0.74375]\n",
            "------------------------------------------------------------\n",
            "[epoch 4], [val loss 0.56644], [val acc 0.82464]\n",
            "------------------------------------------------------------\n",
            "[epoch 5], [iter 100 / 279], [train loss 0.65283], [train acc 0.76125]\n",
            "[epoch 5], [iter 200 / 279], [train loss 0.65268], [train acc 0.75969]\n",
            "------------------------------------------------------------\n",
            "[epoch 5], [val loss 0.42099], [val acc 0.85423]\n",
            "------------------------------------------------------------\n",
            "[epoch 6], [iter 100 / 279], [train loss 0.62767], [train acc 0.77906]\n",
            "[epoch 6], [iter 200 / 279], [train loss 0.62573], [train acc 0.77484]\n",
            "------------------------------------------------------------\n",
            "[epoch 6], [val loss 0.39511], [val acc 0.86149]\n",
            "------------------------------------------------------------\n",
            "*****************************************************\n",
            "best record: [epoch 6], [val loss 0.39511], [val acc 0.86149]\n",
            "*****************************************************\n",
            "[epoch 7], [iter 100 / 279], [train loss 0.57725], [train acc 0.79281]\n",
            "[epoch 7], [iter 200 / 279], [train loss 0.57016], [train acc 0.79531]\n",
            "------------------------------------------------------------\n",
            "[epoch 7], [val loss 0.37264], [val acc 0.88649]\n",
            "------------------------------------------------------------\n",
            "*****************************************************\n",
            "best record: [epoch 7], [val loss 0.37264], [val acc 0.88649]\n",
            "*****************************************************\n",
            "[epoch 8], [iter 100 / 279], [train loss 0.51868], [train acc 0.79937]\n",
            "[epoch 8], [iter 200 / 279], [train loss 0.53834], [train acc 0.79547]\n",
            "------------------------------------------------------------\n",
            "[epoch 8], [val loss 0.40125], [val acc 0.87667]\n",
            "------------------------------------------------------------\n",
            "[epoch 9], [iter 100 / 279], [train loss 0.52578], [train acc 0.80250]\n",
            "[epoch 9], [iter 200 / 279], [train loss 0.51568], [train acc 0.81000]\n",
            "------------------------------------------------------------\n",
            "[epoch 9], [val loss 0.42344], [val acc 0.86071]\n",
            "------------------------------------------------------------\n",
            "[epoch 10], [iter 100 / 279], [train loss 0.42607], [train acc 0.84562]\n",
            "[epoch 10], [iter 200 / 279], [train loss 0.44926], [train acc 0.83953]\n",
            "------------------------------------------------------------\n",
            "[epoch 10], [val loss 0.36682], [val acc 0.88381]\n",
            "------------------------------------------------------------\n"
          ]
        }
      ],
      "source": [
        "##### training resnet \n",
        "epoch_num = 10\n",
        "best_val_acc = 0\n",
        "total_loss_val, total_acc_val = [],[]\n",
        "for epoch in range(1, epoch_num+1):\n",
        "    loss_train, acc_train = train(train_loader, modelR, criterion, optimizer, epoch)\n",
        "    loss_val, acc_val = validate(val_loader, modelR, criterion, optimizer, epoch)\n",
        "    total_loss_val.append(loss_val)\n",
        "    total_acc_val.append(acc_val)\n",
        "    if acc_val > best_val_acc:\n",
        "        best_val_acc = acc_val\n",
        "        print('*****************************************************')\n",
        "        print('best record: [epoch %d], [val loss %.5f], [val acc %.5f]' % (epoch, loss_val, acc_val))\n",
        "        print('*****************************************************')"
      ]
    },
    {
      "cell_type": "code",
      "execution_count": null,
      "metadata": {
        "id": "F0NN9QkeMmWj"
      },
      "outputs": [],
      "source": [
        "def plot_confusion_matrix(cm, classes,\n",
        "                          normalize=False,\n",
        "                          title='Confusion matrix',\n",
        "                          cmap=plt.cm.Blues):\n",
        "    \"\"\"\n",
        "    This function prints and plots the confusion matrix.\n",
        "    Normalization can be applied by setting `normalize=True`.\n",
        "    \"\"\"\n",
        "    plt.imshow(cm, interpolation='nearest', cmap=cmap)\n",
        "    plt.title(title)\n",
        "    plt.colorbar()\n",
        "    tick_marks = np.arange(len(classes))\n",
        "    plt.xticks(tick_marks, classes, rotation=45)\n",
        "    plt.yticks(tick_marks, classes)\n",
        "\n",
        "    if normalize:\n",
        "        cm = cm.astype('float') / cm.sum(axis=1)[:, np.newaxis]\n",
        "\n",
        "    thresh = cm.max() / 2.\n",
        "    for i, j in itertools.product(range(cm.shape[0]), range(cm.shape[1])):\n",
        "        plt.text(j, i, cm[i, j],\n",
        "        horizontalalignment=\"center\",\n",
        "        color=\"white\" if cm[i, j] > thresh else \"black\")\n",
        "\n",
        "    plt.tight_layout()\n",
        "    plt.ylabel('True label')\n",
        "    plt.xlabel('Predicted label')"
      ]
    },
    {
      "cell_type": "markdown",
      "metadata": {
        "id": "dk2XF25lM79W"
      },
      "source": [
        "### evaluation Resnet"
      ]
    },
    {
      "cell_type": "code",
      "execution_count": null,
      "metadata": {
        "id": "am98JzaVMmTt",
        "colab": {
          "base_uri": "https://localhost:8080/",
          "height": 311
        },
        "outputId": "de6337b3-b249-443b-eb0d-ec911b2373fc"
      },
      "outputs": [
        {
          "output_type": "display_data",
          "data": {
            "text/plain": [
              "<Figure size 432x288 with 2 Axes>"
            ],
            "image/png": "[encoded data removed]"
          },
          "metadata": {
            "needs_background": "light"
          }
        }
      ],
      "source": [
        "### evaluation resnet \n",
        "\n",
        "modelR.eval()\n",
        "y_label = []\n",
        "y_predict = []\n",
        "with torch.no_grad():\n",
        "    for i, data in enumerate(val_loader):\n",
        "        images, labels = data\n",
        "        N = images.size(0)\n",
        "        images = Variable(images).to(device)\n",
        "        outputs = modelR(images)\n",
        "        prediction = outputs.max(1, keepdim=True)[1]\n",
        "        y_label.extend(labels.cpu().numpy())\n",
        "        y_predict.extend(np.squeeze(prediction.cpu().numpy().T))\n",
        "\n",
        "# compute the confusion matrix\n",
        "confusion_mtx = confusion_matrix(y_label, y_predict)\n",
        "# plot the confusion matrix\n",
        "plot_labels = ['akiec', 'bcc', 'bkl', 'df', 'nv', 'vasc','mel']\n",
        "plot_confusion_matrix(confusion_mtx, plot_labels)"
      ]
    },
    {
      "cell_type": "code",
      "execution_count": null,
      "metadata": {
        "id": "VJCdtruwMmZa",
        "colab": {
          "base_uri": "https://localhost:8080/",
          "height": 265
        },
        "outputId": "cbd0a1f5-8a54-4079-d062-c9ab71e21b89"
      },
      "outputs": [
        {
          "output_type": "display_data",
          "data": {
            "text/plain": [
              "<Figure size 432x288 with 2 Axes>"
            ],
            "image/png": "[encoded data removed]"
          },
          "metadata": {
            "needs_background": "light"
          }
        }
      ],
      "source": [
        "fig = plt.figure(num = 2)\n",
        "fig1 = fig.add_subplot(2,1,1)\n",
        "fig2 = fig.add_subplot(2,1,2)\n",
        "fig1.plot(total_loss_train, label = 'training loss')\n",
        "fig1.plot(total_acc_train, label = 'training accuracy')\n",
        "fig1.legend(loc='upper center', ncol=2)\n",
        "fig2.plot(total_loss_val, label = 'validation loss')\n",
        "fig2.plot(total_acc_val, label = 'validation accuracy')\n",
        "fig2.legend()\n",
        "plt.show()"
      ]
    },
    {
      "cell_type": "code",
      "source": [
        "!pip install scikit-plot"
      ],
      "metadata": {
        "id": "55glDvTkGJ89"
      },
      "execution_count": null,
      "outputs": []
    },
    {
      "cell_type": "code",
      "execution_count": null,
      "metadata": {
        "id": "pyirU76QNZI7",
        "colab": {
          "base_uri": "https://localhost:8080/"
        },
        "outputId": "c9fca89e-d8d6-492a-b451-62650c951c05"
      },
      "outputs": [
        {
          "output_type": "stream",
          "name": "stdout",
          "text": [
            "              precision    recall  f1-score   support\n",
            "\n",
            "       akiec       0.49      0.60      0.54        30\n",
            "         bcc       0.70      0.54      0.61        35\n",
            "         bkl       0.67      0.58      0.62        88\n",
            "          df       1.00      0.12      0.22         8\n",
            "          nv       0.94      0.97      0.95       883\n",
            "        vasc       0.50      0.37      0.42        46\n",
            "         mel       0.90      0.69      0.78        13\n",
            "\n",
            "    accuracy                           0.88      1103\n",
            "   macro avg       0.74      0.55      0.59      1103\n",
            "weighted avg       0.88      0.88      0.88      1103\n",
            "\n"
          ]
        }
      ],
      "source": [
        "# Generate a classification report\n",
        "report = classification_report(y_label, y_predict, target_names=plot_labels)\n",
        "print(report)"
      ]
    },
    {
      "cell_type": "markdown",
      "source": [
        "### VGG "
      ],
      "metadata": {
        "id": "oh6rQUls9141"
      }
    },
    {
      "cell_type": "code",
      "source": [
        ""
      ],
      "metadata": {
        "id": "5VK9_tsn91hy"
      },
      "execution_count": null,
      "outputs": []
    },
    {
      "cell_type": "code",
      "source": [
        "############ next model is the vgg\n",
        "# resnet,vgg,densenet,inception,mobilenet\n",
        "model_nameVgg = 'vgg'\n",
        "# Initialize the model for this run\n",
        "model_ft2, input_size2 = initialize_model(model_nameVgg, num_classes, feature_extract, use_pretrained=True)\n",
        "# Define the device:\n",
        "device = torch.device('cuda:0')\n",
        "# Put the model on the device:\n",
        "modelVgg = model_ft2.to(device)"
      ],
      "metadata": {
        "colab": {
          "base_uri": "https://localhost:8080/",
          "height": 86,
          "referenced_widgets": [
            "d3b88f935dbd4d52aedc2e06089e191f",
            "32666c272ec348ae8a5548dd6b42c555",
            "02ed31c05736449cae3233d4d7c50196",
            "a988ce9e430344888551ad3d8e935131",
            "75ac3015cc6d4b4fbe921d6e83482497",
            "7dbea47dfde947fbb74ca1c94b4c652f",
            "65220a02b86d4eda99d5042dc69c42c4",
            "bf75a6d68e5c404b886c78b895a3595a",
            "65d5dd31fb1547549bf33cfea00b4a55",
            "b2d4684de2e24594bbb2893521179f80",
            "eab1c3bd3c1747f2b34d2765af56a056"
          ]
        },
        "id": "ZEqmkRKC9WP_",
        "outputId": "dd916222-5074-4c07-8def-70566b26db10"
      },
      "execution_count": null,
      "outputs": [
        {
          "output_type": "stream",
          "name": "stderr",
          "text": [
            "Downloading: \"https://download.pytorch.org/models/vgg11_bn-6002323d.pth\" to /root/.cache/torch/hub/checkpoints/vgg11_bn-6002323d.pth\n"
          ]
        },
        {
          "output_type": "display_data",
          "data": {
            "text/plain": [
              "  0%|          | 0.00/507M [00:00<?, ?B/s]"
            ],
            "application/vnd.jupyter.widget-view+json": {
              "version_major": 2,
              "version_minor": 0,
              "model_id": "d3b88f935dbd4d52aedc2e06089e191f"
            }
          },
          "metadata": {}
        }
      ]
    },
    {
      "cell_type": "code",
      "source": [
        "optimizer = optim.Adam(modelVgg.parameters(), lr=1e-3)\n",
        "criterion = nn.CrossEntropyLoss().to(device)\n",
        "\n",
        "total_loss_train, total_acc_train = [],[]\n",
        "\n",
        "epoch_num = 10\n",
        "best_val_acc = 0\n",
        "total_loss_val, total_acc_val = [],[]\n",
        "for epoch in range(1, epoch_num+1):\n",
        "    loss_train, acc_train = train(train_loader, modelVgg, criterion, optimizer, epoch)\n",
        "    loss_val, acc_val = validate(val_loader, modelVgg, criterion, optimizer, epoch)\n",
        "    total_loss_val.append(loss_val)\n",
        "    total_acc_val.append(acc_val)\n",
        "    if acc_val > best_val_acc:\n",
        "        best_val_acc = acc_val\n",
        "        print('*****************************************************')\n",
        "        print('best record: [epoch %d], [val loss %.5f], [val acc %.5f]' % (epoch, loss_val, acc_val))\n",
        "        print('*****************************************************')"
      ],
      "metadata": {
        "colab": {
          "base_uri": "https://localhost:8080/"
        },
        "id": "CwuSEEYf9WOh",
        "outputId": "0693765b-2830-44cf-eb09-95f7ed9bb3e7"
      },
      "execution_count": null,
      "outputs": [
        {
          "output_type": "stream",
          "name": "stdout",
          "text": [
            "[epoch 1], [iter 100 / 279], [train loss 1.11579], [train acc 0.63187]\n",
            "[epoch 1], [iter 200 / 279], [train loss 1.02179], [train acc 0.64516]\n",
            "------------------------------------------------------------\n",
            "[epoch 1], [val loss 0.79114], [val acc 0.82935]\n",
            "------------------------------------------------------------\n",
            "*****************************************************\n",
            "best record: [epoch 1], [val loss 0.79114], [val acc 0.82935]\n",
            "*****************************************************\n",
            "[epoch 2], [iter 100 / 279], [train loss 0.94037], [train acc 0.67969]\n",
            "[epoch 2], [iter 200 / 279], [train loss 0.95747], [train acc 0.67781]\n",
            "------------------------------------------------------------\n",
            "[epoch 2], [val loss 0.42839], [val acc 0.85524]\n",
            "------------------------------------------------------------\n",
            "*****************************************************\n",
            "best record: [epoch 2], [val loss 0.42839], [val acc 0.85524]\n",
            "*****************************************************\n",
            "[epoch 3], [iter 100 / 279], [train loss 0.85070], [train acc 0.69969]\n",
            "[epoch 3], [iter 200 / 279], [train loss 0.87149], [train acc 0.70641]\n",
            "------------------------------------------------------------\n",
            "[epoch 3], [val loss 0.41029], [val acc 0.84631]\n",
            "------------------------------------------------------------\n",
            "[epoch 4], [iter 100 / 279], [train loss 0.79549], [train acc 0.70969]\n",
            "[epoch 4], [iter 200 / 279], [train loss 0.81095], [train acc 0.71734]\n",
            "------------------------------------------------------------\n",
            "[epoch 4], [val loss 0.54665], [val acc 0.84274]\n",
            "------------------------------------------------------------\n",
            "[epoch 5], [iter 100 / 279], [train loss 0.83044], [train acc 0.72406]\n",
            "[epoch 5], [iter 200 / 279], [train loss 0.82635], [train acc 0.71484]\n",
            "------------------------------------------------------------\n",
            "[epoch 5], [val loss 0.43257], [val acc 0.86673]\n",
            "------------------------------------------------------------\n",
            "*****************************************************\n",
            "best record: [epoch 5], [val loss 0.43257], [val acc 0.86673]\n",
            "*****************************************************\n",
            "[epoch 6], [iter 100 / 279], [train loss 0.78574], [train acc 0.71906]\n",
            "[epoch 6], [iter 200 / 279], [train loss 0.76148], [train acc 0.72844]\n",
            "------------------------------------------------------------\n",
            "[epoch 6], [val loss 0.37359], [val acc 0.87220]\n",
            "------------------------------------------------------------\n",
            "*****************************************************\n",
            "best record: [epoch 6], [val loss 0.37359], [val acc 0.87220]\n",
            "*****************************************************\n",
            "[epoch 7], [iter 100 / 279], [train loss 0.73583], [train acc 0.73562]\n",
            "[epoch 7], [iter 200 / 279], [train loss 0.72995], [train acc 0.74203]\n",
            "------------------------------------------------------------\n",
            "[epoch 7], [val loss 0.38268], [val acc 0.87310]\n",
            "------------------------------------------------------------\n",
            "*****************************************************\n",
            "best record: [epoch 7], [val loss 0.38268], [val acc 0.87310]\n",
            "*****************************************************\n",
            "[epoch 8], [iter 100 / 279], [train loss 0.71531], [train acc 0.74687]\n",
            "[epoch 8], [iter 200 / 279], [train loss 0.70514], [train acc 0.74453]\n",
            "------------------------------------------------------------\n",
            "[epoch 8], [val loss 0.44982], [val acc 0.83357]\n",
            "------------------------------------------------------------\n",
            "[epoch 9], [iter 100 / 279], [train loss 0.84235], [train acc 0.72719]\n",
            "[epoch 9], [iter 200 / 279], [train loss 0.94890], [train acc 0.72422]\n",
            "------------------------------------------------------------\n",
            "[epoch 9], [val loss 0.57863], [val acc 0.86863]\n",
            "------------------------------------------------------------\n",
            "[epoch 10], [iter 100 / 279], [train loss 0.88034], [train acc 0.73375]\n",
            "[epoch 10], [iter 200 / 279], [train loss 0.79726], [train acc 0.74391]\n",
            "------------------------------------------------------------\n",
            "[epoch 10], [val loss 0.39142], [val acc 0.86863]\n",
            "------------------------------------------------------------\n"
          ]
        }
      ]
    },
    {
      "cell_type": "code",
      "source": [
        "### evaluation Vgg\n",
        "\n",
        "modelVgg.eval()\n",
        "y_label = []\n",
        "y_predict = []\n",
        "with torch.no_grad():\n",
        "    for i, data in enumerate(val_loader):\n",
        "        images, labels = data\n",
        "        N = images.size(0)\n",
        "        images = Variable(images).to(device)\n",
        "        outputs = modelVgg(images)\n",
        "        prediction = outputs.max(1, keepdim=True)[1]\n",
        "        y_label.extend(labels.cpu().numpy())\n",
        "        y_predict.extend(np.squeeze(prediction.cpu().numpy().T))\n",
        "\n",
        "# compute the confusion matrix\n",
        "confusion_mtx = confusion_matrix(y_label, y_predict)\n",
        "# plot the confusion matrix\n",
        "plot_labels = ['akiec', 'bcc', 'bkl', 'df', 'nv', 'vasc','mel']\n",
        "plot_confusion_matrix(confusion_mtx, plot_labels)"
      ],
      "metadata": {
        "colab": {
          "base_uri": "https://localhost:8080/",
          "height": 311
        },
        "id": "PNJ_cCOl9WKx",
        "outputId": "280a6e8d-84fd-40d2-dc9e-7585207c60a3"
      },
      "execution_count": null,
      "outputs": [
        {
          "output_type": "display_data",
          "data": {
            "text/plain": [
              "<Figure size 432x288 with 2 Axes>"
            ],
            "image/png": "[encoded data removed]"
          },
          "metadata": {
            "needs_background": "light"
          }
        }
      ]
    },
    {
      "cell_type": "code",
      "source": [
        "fig = plt.figure(num = 2)\n",
        "fig1 = fig.add_subplot(2,1,1)\n",
        "fig2 = fig.add_subplot(2,1,2)\n",
        "fig1.plot(total_loss_train, label = 'training loss')\n",
        "fig1.plot(total_acc_train, label = 'training accuracy')\n",
        "fig1.legend(loc='upper center', ncol=2)\n",
        "fig2.plot(total_loss_val, label = 'validation loss')\n",
        "fig2.plot(total_acc_val, label = 'validation accuracy')\n",
        "fig2.legend()\n",
        "plt.show()"
      ],
      "metadata": {
        "colab": {
          "base_uri": "https://localhost:8080/",
          "height": 265
        },
        "id": "vVeILuOe9WIB",
        "outputId": "701e8239-7157-4528-a360-ccd6a2f17f32"
      },
      "execution_count": null,
      "outputs": [
        {
          "output_type": "display_data",
          "data": {
            "text/plain": [
              "<Figure size 432x288 with 2 Axes>"
            ],
            "image/png": "[encoded data removed]"
          },
          "metadata": {
            "needs_background": "light"
          }
        }
      ]
    },
    {
      "cell_type": "code",
      "source": [
        "# Generate a classification report\n",
        "report = classification_report(y_label, y_predict, target_names=plot_labels)\n",
        "print(report)"
      ],
      "metadata": {
        "colab": {
          "base_uri": "https://localhost:8080/"
        },
        "id": "tL1V3rvt9WE7",
        "outputId": "df69cf32-8af1-479a-c947-c45ec9bcde0a"
      },
      "execution_count": null,
      "outputs": [
        {
          "output_type": "stream",
          "name": "stdout",
          "text": [
            "              precision    recall  f1-score   support\n",
            "\n",
            "       akiec       0.50      0.17      0.25        30\n",
            "         bcc       0.59      0.77      0.67        35\n",
            "         bkl       0.65      0.39      0.49        88\n",
            "          df       1.00      0.12      0.22         8\n",
            "          nv       0.91      0.98      0.95       883\n",
            "        vasc       0.46      0.39      0.42        46\n",
            "         mel       1.00      0.46      0.63        13\n",
            "\n",
            "    accuracy                           0.87      1103\n",
            "   macro avg       0.73      0.47      0.52      1103\n",
            "weighted avg       0.85      0.87      0.85      1103\n",
            "\n"
          ]
        }
      ]
    },
    {
      "cell_type": "markdown",
      "source": [
        "### Densnet "
      ],
      "metadata": {
        "id": "F6olykyL-Qqu"
      }
    },
    {
      "cell_type": "code",
      "source": [
        "############ model densnet\n",
        "# resnet,vgg,densenet,inception,mobilenet\n",
        "model_nameDen = 'densenet'\n",
        "# Initialize the model for this run\n",
        "model_ft3, input_size3 = initialize_model(model_nameDen, num_classes, feature_extract, use_pretrained=True)\n",
        "# Define the device:\n",
        "device = torch.device('cuda:0')\n",
        "# Put the model on the device:\n",
        "modelDen = model_ft3.to(device)\n",
        "\n",
        "\n",
        "###### training densnet \n",
        "\n",
        "optimizer = optim.Adam(modelDen.parameters(), lr=1e-3)\n",
        "criterion = nn.CrossEntropyLoss().to(device)\n",
        "\n",
        "total_loss_train, total_acc_train = [],[]\n",
        "\n",
        "epoch_num = 10\n",
        "best_val_acc = 0\n",
        "total_loss_val, total_acc_val = [],[]\n",
        "for epoch in range(1, epoch_num+1):\n",
        "    loss_train, acc_train = train(train_loader, modelDen, criterion, optimizer, epoch)\n",
        "    loss_val, acc_val = validate(val_loader, modelDen, criterion, optimizer, epoch)\n",
        "    total_loss_val.append(loss_val)\n",
        "    total_acc_val.append(acc_val)\n",
        "    if acc_val > best_val_acc:\n",
        "        best_val_acc = acc_val\n",
        "        print('*****************************************************')\n",
        "        print('best record: [epoch %d], [val loss %.5f], [val acc %.5f]' % (epoch, loss_val, acc_val))\n",
        "        print('*****************************************************')"
      ],
      "metadata": {
        "colab": {
          "base_uri": "https://localhost:8080/",
          "height": 1000,
          "referenced_widgets": [
            "6c3401897ac24538871d659239bf4fe8",
            "a32d3e8769694539bcfccc6079060868",
            "e7f3a0d023ea4d6693b451831b33312f",
            "ba5ba439896e45da89cb379e2d09850c",
            "8905bcdbceb84e19a0538cbdb7738098",
            "dd7021db436048e1aa3b0c8451e061cf",
            "424037b29cb04219b426e6e57c2ab855",
            "67f822ce0cd94dec9b49f19a20cb963f",
            "8aa2e810dddf41718652c3e26606822f",
            "69d56538e5fc4feb8c35e1ac337e9068",
            "81cd84ba69844dac91d9b3139bc5d9cf"
          ]
        },
        "id": "ZNsjSQ7A9WCD",
        "outputId": "1f4b28b8-8604-4078-f568-8737798bdece"
      },
      "execution_count": null,
      "outputs": [
        {
          "output_type": "stream",
          "name": "stderr",
          "text": [
            "Downloading: \"https://download.pytorch.org/models/densenet121-a639ec97.pth\" to /root/.cache/torch/hub/checkpoints/densenet121-a639ec97.pth\n"
          ]
        },
        {
          "output_type": "display_data",
          "data": {
            "text/plain": [
              "  0%|          | 0.00/30.8M [00:00<?, ?B/s]"
            ],
            "application/vnd.jupyter.widget-view+json": {
              "version_major": 2,
              "version_minor": 0,
              "model_id": "6c3401897ac24538871d659239bf4fe8"
            }
          },
          "metadata": {}
        },
        {
          "output_type": "stream",
          "name": "stdout",
          "text": [
            "[epoch 1], [iter 100 / 279], [train loss 0.94791], [train acc 0.67156]\n",
            "[epoch 1], [iter 200 / 279], [train loss 0.87507], [train acc 0.68766]\n",
            "------------------------------------------------------------\n",
            "[epoch 1], [val loss 0.40454], [val acc 0.86952]\n",
            "------------------------------------------------------------\n",
            "*****************************************************\n",
            "best record: [epoch 1], [val loss 0.40454], [val acc 0.86952]\n",
            "*****************************************************\n",
            "[epoch 2], [iter 100 / 279], [train loss 0.71390], [train acc 0.73188]\n",
            "[epoch 2], [iter 200 / 279], [train loss 0.70931], [train acc 0.73547]\n",
            "------------------------------------------------------------\n",
            "[epoch 2], [val loss 0.39715], [val acc 0.85958]\n",
            "------------------------------------------------------------\n",
            "[epoch 3], [iter 100 / 279], [train loss 0.67846], [train acc 0.75406]\n",
            "[epoch 3], [iter 200 / 279], [train loss 0.65332], [train acc 0.76141]\n",
            "------------------------------------------------------------\n",
            "[epoch 3], [val loss 0.40552], [val acc 0.86238]\n",
            "------------------------------------------------------------\n",
            "[epoch 4], [iter 100 / 279], [train loss 0.63089], [train acc 0.76687]\n",
            "[epoch 4], [iter 200 / 279], [train loss 0.60792], [train acc 0.77609]\n",
            "------------------------------------------------------------\n",
            "[epoch 4], [val loss 0.36096], [val acc 0.88190]\n",
            "------------------------------------------------------------\n",
            "*****************************************************\n",
            "best record: [epoch 4], [val loss 0.36096], [val acc 0.88190]\n",
            "*****************************************************\n",
            "[epoch 5], [iter 100 / 279], [train loss 0.54118], [train acc 0.80688]\n",
            "[epoch 5], [iter 200 / 279], [train loss 0.54491], [train acc 0.80234]\n",
            "------------------------------------------------------------\n",
            "[epoch 5], [val loss 0.33065], [val acc 0.87923]\n",
            "------------------------------------------------------------\n",
            "[epoch 6], [iter 100 / 279], [train loss 0.49911], [train acc 0.81750]\n",
            "[epoch 6], [iter 200 / 279], [train loss 0.49875], [train acc 0.81719]\n",
            "------------------------------------------------------------\n",
            "[epoch 6], [val loss 0.29533], [val acc 0.89810]\n",
            "------------------------------------------------------------\n",
            "*****************************************************\n",
            "best record: [epoch 6], [val loss 0.29533], [val acc 0.89810]\n",
            "*****************************************************\n",
            "[epoch 7], [iter 100 / 279], [train loss 0.46029], [train acc 0.83094]\n",
            "[epoch 7], [iter 200 / 279], [train loss 0.47325], [train acc 0.82984]\n",
            "------------------------------------------------------------\n",
            "[epoch 7], [val loss 0.30690], [val acc 0.89464]\n",
            "------------------------------------------------------------\n",
            "[epoch 8], [iter 100 / 279], [train loss 0.41849], [train acc 0.84406]\n",
            "[epoch 8], [iter 200 / 279], [train loss 0.42541], [train acc 0.84172]\n",
            "------------------------------------------------------------\n",
            "[epoch 8], [val loss 0.35559], [val acc 0.88280]\n",
            "------------------------------------------------------------\n",
            "[epoch 9], [iter 100 / 279], [train loss 0.41035], [train acc 0.84813]\n",
            "[epoch 9], [iter 200 / 279], [train loss 0.41564], [train acc 0.84766]\n",
            "------------------------------------------------------------\n",
            "[epoch 9], [val loss 0.31133], [val acc 0.89631]\n",
            "------------------------------------------------------------\n",
            "[epoch 10], [iter 100 / 279], [train loss 0.33919], [train acc 0.87594]\n",
            "[epoch 10], [iter 200 / 279], [train loss 0.35642], [train acc 0.86859]\n",
            "------------------------------------------------------------\n",
            "[epoch 10], [val loss 0.29359], [val acc 0.89185]\n",
            "------------------------------------------------------------\n"
          ]
        }
      ]
    },
    {
      "cell_type": "code",
      "source": [
        "### evaluation Densnet\n",
        "\n",
        "modelDen.eval()\n",
        "y_label = []\n",
        "y_predict = []\n",
        "with torch.no_grad():\n",
        "    for i, data in enumerate(val_loader):\n",
        "        images, labels = data\n",
        "        N = images.size(0)\n",
        "        images = Variable(images).to(device)\n",
        "        outputs = modelDen(images)\n",
        "        prediction = outputs.max(1, keepdim=True)[1]\n",
        "        y_label.extend(labels.cpu().numpy())\n",
        "        y_predict.extend(np.squeeze(prediction.cpu().numpy().T))\n",
        "\n",
        "# compute the confusion matrix\n",
        "confusion_mtx = confusion_matrix(y_label, y_predict)\n",
        "# plot the confusion matrix\n",
        "plot_labels = ['akiec', 'bcc', 'bkl', 'df', 'nv', 'vasc','mel']\n",
        "plot_confusion_matrix(confusion_mtx, plot_labels)"
      ],
      "metadata": {
        "colab": {
          "base_uri": "https://localhost:8080/",
          "height": 311
        },
        "id": "SxBA0Xjl9V_x",
        "outputId": "626c43c9-f2c2-444d-9beb-fc4b7673f39a"
      },
      "execution_count": null,
      "outputs": [
        {
          "output_type": "display_data",
          "data": {
            "text/plain": [
              "<Figure size 432x288 with 2 Axes>"
            ],
            "image/png": "[encoded data removed]"
          },
          "metadata": {
            "needs_background": "light"
          }
        }
      ]
    },
    {
      "cell_type": "code",
      "source": [
        "fig = plt.figure(num = 2)\n",
        "fig1 = fig.add_subplot(2,1,1)\n",
        "fig2 = fig.add_subplot(2,1,2)\n",
        "fig1.plot(total_loss_train, label = 'training loss')\n",
        "fig1.plot(total_acc_train, label = 'training accuracy')\n",
        "fig1.legend(loc='upper center', ncol=2)\n",
        "fig2.plot(total_loss_val, label = 'validation loss')\n",
        "fig2.plot(total_acc_val, label = 'validation accuracy')\n",
        "fig2.legend()\n",
        "plt.show()"
      ],
      "metadata": {
        "colab": {
          "base_uri": "https://localhost:8080/",
          "height": 265
        },
        "id": "lXL4fQna9V59",
        "outputId": "584e7225-0e9f-4afd-d0cc-149670a6f17c"
      },
      "execution_count": null,
      "outputs": [
        {
          "output_type": "display_data",
          "data": {
            "text/plain": [
              "<Figure size 432x288 with 2 Axes>"
            ],
            "image/png": "[encoded data removed]"
          },
          "metadata": {
            "needs_background": "light"
          }
        }
      ]
    },
    {
      "cell_type": "code",
      "source": [
        "report = classification_report(y_label, y_predict, target_names=plot_labels)\n",
        "print(report)"
      ],
      "metadata": {
        "colab": {
          "base_uri": "https://localhost:8080/"
        },
        "id": "Z2Rb3FsU-a5L",
        "outputId": "8d4fad76-6579-42ef-cd4e-d756a5a9e8b4"
      },
      "execution_count": null,
      "outputs": [
        {
          "output_type": "stream",
          "name": "stdout",
          "text": [
            "              precision    recall  f1-score   support\n",
            "\n",
            "       akiec       0.71      0.40      0.51        30\n",
            "         bcc       0.70      0.80      0.75        35\n",
            "         bkl       0.71      0.55      0.62        88\n",
            "          df       0.29      0.62      0.40         8\n",
            "          nv       0.95      0.98      0.96       883\n",
            "        vasc       0.38      0.33      0.35        46\n",
            "         mel       0.90      0.69      0.78        13\n",
            "\n",
            "    accuracy                           0.89      1103\n",
            "   macro avg       0.66      0.62      0.62      1103\n",
            "weighted avg       0.89      0.89      0.89      1103\n",
            "\n"
          ]
        }
      ]
    },
    {
      "cell_type": "markdown",
      "source": [
        "### Inception"
      ],
      "metadata": {
        "id": "8XpvvHj8-hiC"
      }
    },
    {
      "cell_type": "code",
      "source": [
        "input_size =299\n",
        "train_transformI = transforms.Compose([transforms.Resize((input_size,input_size)),transforms.RandomHorizontalFlip(),\n",
        "                                      transforms.RandomVerticalFlip(),transforms.RandomRotation(20),\n",
        "                                      transforms.ColorJitter(brightness=0.1, contrast=0.1, hue=0.1),\n",
        "                                        transforms.ToTensor(), transforms.Normalize(norm_mean, norm_std)])\n",
        "# define the transformation of the val images.\n",
        "val_transformI = transforms.Compose([transforms.Resize((input_size,input_size)), transforms.ToTensor(),\n",
        "                                    transforms.Normalize(norm_mean, norm_std)])\n",
        "\n",
        "\n",
        "# Define the training set using the table train_df and using our defined transitions (train_transform)\n",
        "training_setI = HAM10000(df_train, transform=train_transformI)\n",
        "train_loaderI = DataLoader(training_setI, batch_size=32, shuffle=True, num_workers=4)\n",
        "# Same for the validation set:\n",
        "validation_setI = HAM10000(df_val, transform=val_transformI)\n",
        "val_loaderI = DataLoader(validation_setI, batch_size=32, shuffle=False, num_workers=4)\n",
        "\n",
        "###### training inception "
      ],
      "metadata": {
        "id": "NK1hYwMw-a3h"
      },
      "execution_count": null,
      "outputs": []
    },
    {
      "cell_type": "code",
      "source": [
        "model_nameI = 'inception'\n",
        "# Initialize the model for this run\n",
        "num_classes = 7\n",
        "feature_extract = False\n",
        "model_ft, input_size = initialize_model(model_nameI,num_classes, feature_extract, use_pretrained=True)\n",
        "# Define the device:\n",
        "device = torch.device('cuda:0')\n",
        "# Put the model on the device:\n",
        "modelI = model_ft.to(device)\n",
        "\n",
        "\n",
        "###### training densnet \n",
        "\n",
        "optimizer = optim.Adam(modelI.parameters(), lr=1e-3)\n",
        "criterion = nn.CrossEntropyLoss().to(device)\n",
        "\n",
        "total_loss_train, total_acc_train = [],[]\n",
        "\n",
        "epoch_num = 10\n",
        "best_val_acc = 0\n",
        "total_loss_val, total_acc_val = [],[]\n",
        "for epoch in range(1, epoch_num+1):\n",
        "    loss_train, acc_train = train(train_loaderI, modelI, criterion, optimizer, epoch)\n",
        "    loss_val, acc_val = validate(val_loaderI, modelI, criterion, optimizer, epoch)\n",
        "    total_loss_val.append(loss_val)\n",
        "    total_acc_val.append(acc_val)\n",
        "    if acc_val > best_val_acc:\n",
        "        best_val_acc = acc_val\n",
        "        print('*****************************************************')\n",
        "        print('best record: [epoch %d], [val loss %.5f], [val acc %.5f]' % (epoch, loss_val, acc_val))\n",
        "        print('***********************************')"
      ],
      "metadata": {
        "colab": {
          "base_uri": "https://localhost:8080/",
          "height": 1000,
          "referenced_widgets": [
            "fd991a6de6f843eaab3499318d9e842f",
            "a1287f3dad784637918013d873db4e5e",
            "2eb5fcf01f19424090a77ad3754fa3ba",
            "bb6e530b537546cbb863c1b53072ff04",
            "fe60419fdd444385b40c891178bee453",
            "79f5d03ade364d709f8610a63c51ff59",
            "304aedd54e30477099b783a1f405a300",
            "55f92ba15f7540a2a957386d1bee7618",
            "19f03e0b82c641b99a3b632bb742fcf5",
            "dbc4eaea7ed94000817c73f67731186e",
            "ce896a58c3ff4e7d8a09d5c885fd02bc"
          ]
        },
        "id": "K-cqcrwu-a0E",
        "outputId": "475bfb08-e671-470d-de6e-4855ffc611cb"
      },
      "execution_count": null,
      "outputs": [
        {
          "output_type": "stream",
          "name": "stderr",
          "text": [
            "Downloading: \"https://download.pytorch.org/models/inception_v3_google-0cc3c7bd.pth\" to /root/.cache/torch/hub/checkpoints/inception_v3_google-0cc3c7bd.pth\n"
          ]
        },
        {
          "output_type": "display_data",
          "data": {
            "text/plain": [
              "  0%|          | 0.00/104M [00:00<?, ?B/s]"
            ],
            "application/vnd.jupyter.widget-view+json": {
              "version_major": 2,
              "version_minor": 0,
              "model_id": "fd991a6de6f843eaab3499318d9e842f"
            }
          },
          "metadata": {}
        },
        {
          "output_type": "stream",
          "name": "stdout",
          "text": [
            "[epoch 1], [iter 100 / 279], [train loss 0.99888], [train acc 0.66406]\n",
            "[epoch 1], [iter 200 / 279], [train loss 0.96849], [train acc 0.67031]\n",
            "------------------------------------------------------------\n",
            "[epoch 1], [val loss 0.51765], [val acc 0.84810]\n",
            "------------------------------------------------------------\n",
            "*****************************************************\n",
            "best record: [epoch 1], [val loss 0.51765], [val acc 0.84810]\n",
            "***********************************\n",
            "[epoch 2], [iter 100 / 279], [train loss 0.89868], [train acc 0.69312]\n",
            "[epoch 2], [iter 200 / 279], [train loss 0.88685], [train acc 0.69594]\n",
            "------------------------------------------------------------\n",
            "[epoch 2], [val loss 0.60304], [val acc 0.84542]\n",
            "------------------------------------------------------------\n",
            "[epoch 3], [iter 100 / 279], [train loss 0.85297], [train acc 0.69250]\n",
            "[epoch 3], [iter 200 / 279], [train loss 0.83795], [train acc 0.70016]\n",
            "------------------------------------------------------------\n",
            "[epoch 3], [val loss 0.51521], [val acc 0.83280]\n",
            "------------------------------------------------------------\n",
            "[epoch 4], [iter 100 / 279], [train loss 0.79575], [train acc 0.71875]\n",
            "[epoch 4], [iter 200 / 279], [train loss 0.79361], [train acc 0.71750]\n",
            "------------------------------------------------------------\n",
            "[epoch 4], [val loss 0.43658], [val acc 0.86327]\n",
            "------------------------------------------------------------\n",
            "*****************************************************\n",
            "best record: [epoch 4], [val loss 0.43658], [val acc 0.86327]\n",
            "***********************************\n",
            "[epoch 5], [iter 100 / 279], [train loss 0.77688], [train acc 0.72500]\n",
            "[epoch 5], [iter 200 / 279], [train loss 0.76673], [train acc 0.72625]\n",
            "------------------------------------------------------------\n",
            "[epoch 5], [val loss 0.75920], [val acc 0.75333]\n",
            "------------------------------------------------------------\n",
            "[epoch 6], [iter 100 / 279], [train loss 0.72853], [train acc 0.72969]\n",
            "[epoch 6], [iter 200 / 279], [train loss 0.73415], [train acc 0.73375]\n",
            "------------------------------------------------------------\n",
            "[epoch 6], [val loss 0.44095], [val acc 0.86685]\n",
            "------------------------------------------------------------\n",
            "*****************************************************\n",
            "best record: [epoch 6], [val loss 0.44095], [val acc 0.86685]\n",
            "***********************************\n",
            "[epoch 7], [iter 100 / 279], [train loss 0.73210], [train acc 0.74062]\n",
            "[epoch 7], [iter 200 / 279], [train loss 0.70542], [train acc 0.74453]\n",
            "------------------------------------------------------------\n",
            "[epoch 7], [val loss 0.39554], [val acc 0.86685]\n",
            "------------------------------------------------------------\n",
            "[epoch 8], [iter 100 / 279], [train loss 0.70667], [train acc 0.74094]\n",
            "[epoch 8], [iter 200 / 279], [train loss 0.68999], [train acc 0.74500]\n",
            "------------------------------------------------------------\n",
            "[epoch 8], [val loss 0.33732], [val acc 0.88548]\n",
            "------------------------------------------------------------\n",
            "*****************************************************\n",
            "best record: [epoch 8], [val loss 0.33732], [val acc 0.88548]\n",
            "***********************************\n",
            "[epoch 9], [iter 100 / 279], [train loss 0.68025], [train acc 0.75219]\n",
            "[epoch 9], [iter 200 / 279], [train loss 0.65591], [train acc 0.75875]\n",
            "------------------------------------------------------------\n",
            "[epoch 9], [val loss 0.35266], [val acc 0.88036]\n",
            "------------------------------------------------------------\n",
            "[epoch 10], [iter 100 / 279], [train loss 0.65148], [train acc 0.75844]\n",
            "[epoch 10], [iter 200 / 279], [train loss 0.64891], [train acc 0.75781]\n",
            "------------------------------------------------------------\n",
            "[epoch 10], [val loss 0.38916], [val acc 0.86595]\n",
            "------------------------------------------------------------\n"
          ]
        }
      ]
    },
    {
      "cell_type": "code",
      "source": [
        "modelI.eval()\n",
        "y_label = []\n",
        "y_predict = []\n",
        "with torch.no_grad():\n",
        "    for i, data in enumerate(val_loaderI):\n",
        "        images, labels = data\n",
        "        N = images.size(0)\n",
        "        images = Variable(images).to(device)\n",
        "        outputs = modelI(images)\n",
        "        prediction = outputs.max(1, keepdim=True)[1]\n",
        "        y_label.extend(labels.cpu().numpy())\n",
        "        y_predict.extend(np.squeeze(prediction.cpu().numpy().T))\n",
        "\n",
        "# compute the confusion matrix\n",
        "confusion_mtx = confusion_matrix(y_label, y_predict)\n",
        "# plot the confusion matrix\n",
        "plot_labels = ['akiec', 'bcc', 'bkl', 'df', 'nv', 'vasc','mel']\n",
        "plot_confusion_matrix(confusion_mtx, plot_labels)"
      ],
      "metadata": {
        "colab": {
          "base_uri": "https://localhost:8080/"
        },
        "id": "Io48lNx4-ayO",
        "outputId": "41cfda83-024f-4767-e59d-157e4a27d661"
      },
      "execution_count": null,
      "outputs": [
        {
          "output_type": "display_data",
          "data": {
            "text/plain": [
              "<Figure size 432x288 with 2 Axes>"
            ],
            "image/png": "[encoded data removed]"
          },
          "metadata": {
            "needs_background": "light"
          }
        }
      ]
    },
    {
      "cell_type": "code",
      "source": [
        "fig = plt.figure(num = 2)\n",
        "fig1 = fig.add_subplot(2,1,1)\n",
        "fig2 = fig.add_subplot(2,1,2)\n",
        "fig1.plot(total_loss_train, label = 'training loss')\n",
        "fig1.plot(total_acc_train, label = 'training accuracy')\n",
        "fig1.legend(loc='upper center', ncol=2)\n",
        "fig2.plot(total_loss_val, label = 'validation loss')\n",
        "fig2.plot(total_acc_val, label = 'validation accuracy')\n",
        "fig2.legend()\n",
        "plt.show()"
      ],
      "metadata": {
        "colab": {
          "base_uri": "https://localhost:8080/",
          "height": 265
        },
        "id": "H6LUtEC6-auu",
        "outputId": "23a8d0a3-bddf-41ad-db38-fef846a772b5"
      },
      "execution_count": null,
      "outputs": [
        {
          "output_type": "display_data",
          "data": {
            "text/plain": [
              "<Figure size 432x288 with 2 Axes>"
            ],
            "image/png": "[encoded data removed]"
          },
          "metadata": {
            "needs_background": "light"
          }
        }
      ]
    },
    {
      "cell_type": "code",
      "source": [
        "report = classification_report(y_label, y_predict, target_names=plot_labels)\n",
        "print(report)"
      ],
      "metadata": {
        "colab": {
          "base_uri": "https://localhost:8080/"
        },
        "id": "kw03weGO-arw",
        "outputId": "088311e4-4322-4d09-fbef-d5d882aecfce"
      },
      "execution_count": null,
      "outputs": [
        {
          "output_type": "stream",
          "name": "stdout",
          "text": [
            "              precision    recall  f1-score   support\n",
            "\n",
            "       akiec       0.62      0.17      0.26        30\n",
            "         bcc       0.85      0.66      0.74        35\n",
            "         bkl       0.70      0.61      0.65        88\n",
            "          df       0.00      0.00      0.00         8\n",
            "          nv       0.92      0.96      0.94       883\n",
            "        vasc       0.39      0.24      0.30        46\n",
            "         mel       0.28      0.69      0.40        13\n",
            "\n",
            "    accuracy                           0.86      1103\n",
            "   macro avg       0.54      0.48      0.47      1103\n",
            "weighted avg       0.85      0.86      0.85      1103\n",
            "\n"
          ]
        }
      ]
    },
    {
      "cell_type": "markdown",
      "source": [
        "### Mobilenet "
      ],
      "metadata": {
        "id": "-XiRAng6_Zqy"
      }
    },
    {
      "cell_type": "code",
      "source": [
        "# model mobilenet\n",
        "model_nameM = 'mobilenet'\n",
        "# Initialize the model for this run\n",
        "model_ft5, input_size5 = initialize_model(model_nameM, num_classes, feature_extract, use_pretrained=True)\n",
        "# Define the device:\n",
        "device = torch.device('cuda:0')\n",
        "# Put the model on the device:\n",
        "modelM = model_ft5.to(device)\n",
        "\n",
        "\n",
        "###### training mobilenet\n",
        "\n",
        "optimizer = optim.Adam(modelM.parameters(), lr=1e-3)\n",
        "criterion = nn.CrossEntropyLoss().to(device)\n",
        "\n",
        "total_loss_train, total_acc_train = [],[]\n",
        "\n",
        "epoch_num = 10\n",
        "best_val_acc = 0\n",
        "total_loss_val, total_acc_val = [],[]\n",
        "for epoch in range(1, epoch_num+1):\n",
        "    loss_train, acc_train = train(train_loader, modelM, criterion, optimizer, epoch)\n",
        "    loss_val, acc_val = validate(val_loader, modelM, criterion, optimizer, epoch)\n",
        "    total_loss_val.append(loss_val)\n",
        "    total_acc_val.append(acc_val)\n",
        "    if acc_val > best_val_acc:\n",
        "        best_val_acc = acc_val\n",
        "        print('*****************************************************')\n",
        "        print('best record: [epoch %d], [val loss %.5f], [val acc %.5f]' % (epoch, loss_val, acc_val))\n",
        "        print('*****************************************************')\n"
      ],
      "metadata": {
        "id": "VmhjFRnz_Yy8",
        "colab": {
          "base_uri": "https://localhost:8080/",
          "height": 1000,
          "referenced_widgets": [
            "dc07e652282e44eba374ffc90ac3c94f",
            "eb529bb09c4f4b9fb259ed69b5838d06",
            "92738563e46843b1bcd75d97a66f0128",
            "9e858502b6e244868b0984a0ef2d5e5b",
            "8eb921caeecd4c9da61fcd24ea46b290",
            "7875cdd89747405db9036c660a3012c7",
            "b40b1d25a5594de69ff6eef9a5277f3d",
            "05f6b3b380ef4ccf93c684935d8240fa",
            "ed329b8f23e84fe9a414016882b06306",
            "7bd0b31472dd4bdea7a93481f813c79b",
            "0236c5c9ad994fa7834227ad67ce1a5c"
          ]
        },
        "outputId": "05f67b70-cf5e-46f6-d236-53be9db2a907"
      },
      "execution_count": null,
      "outputs": [
        {
          "output_type": "stream",
          "name": "stderr",
          "text": [
            "Downloading: \"https://download.pytorch.org/models/mobilenet_v3_small-047dcff4.pth\" to /root/.cache/torch/hub/checkpoints/mobilenet_v3_small-047dcff4.pth\n"
          ]
        },
        {
          "output_type": "display_data",
          "data": {
            "text/plain": [
              "  0%|          | 0.00/9.83M [00:00<?, ?B/s]"
            ],
            "application/vnd.jupyter.widget-view+json": {
              "version_major": 2,
              "version_minor": 0,
              "model_id": "dc07e652282e44eba374ffc90ac3c94f"
            }
          },
          "metadata": {}
        },
        {
          "output_type": "stream",
          "name": "stdout",
          "text": [
            "[epoch 1], [iter 100 / 279], [train loss 1.14508], [train acc 0.66875]\n",
            "[epoch 1], [iter 200 / 279], [train loss 0.94247], [train acc 0.69797]\n",
            "------------------------------------------------------------\n",
            "[epoch 1], [val loss 0.37863], [val acc 0.88292]\n",
            "------------------------------------------------------------\n",
            "*****************************************************\n",
            "best record: [epoch 1], [val loss 0.37863], [val acc 0.88292]\n",
            "*****************************************************\n",
            "[epoch 2], [iter 100 / 279], [train loss 0.52253], [train acc 0.80469]\n",
            "[epoch 2], [iter 200 / 279], [train loss 0.53335], [train acc 0.80578]\n",
            "------------------------------------------------------------\n",
            "[epoch 2], [val loss 0.33782], [val acc 0.88202]\n",
            "------------------------------------------------------------\n",
            "[epoch 3], [iter 100 / 279], [train loss 0.37323], [train acc 0.86469]\n",
            "[epoch 3], [iter 200 / 279], [train loss 0.40391], [train acc 0.85141]\n",
            "------------------------------------------------------------\n",
            "[epoch 3], [val loss 0.34734], [val acc 0.88125]\n",
            "------------------------------------------------------------\n",
            "[epoch 4], [iter 100 / 279], [train loss 0.28737], [train acc 0.89469]\n",
            "[epoch 4], [iter 200 / 279], [train loss 0.32518], [train acc 0.88078]\n",
            "------------------------------------------------------------\n",
            "[epoch 4], [val loss 0.33072], [val acc 0.90702]\n",
            "------------------------------------------------------------\n",
            "*****************************************************\n",
            "best record: [epoch 4], [val loss 0.33072], [val acc 0.90702]\n",
            "*****************************************************\n",
            "[epoch 5], [iter 100 / 279], [train loss 0.18390], [train acc 0.93188]\n",
            "[epoch 5], [iter 200 / 279], [train loss 0.23658], [train acc 0.91328]\n",
            "------------------------------------------------------------\n",
            "[epoch 5], [val loss 0.47481], [val acc 0.85268]\n",
            "------------------------------------------------------------\n",
            "[epoch 6], [iter 100 / 279], [train loss 0.20765], [train acc 0.92875]\n",
            "[epoch 6], [iter 200 / 279], [train loss 0.21768], [train acc 0.92078]\n",
            "------------------------------------------------------------\n",
            "[epoch 6], [val loss 0.33858], [val acc 0.89798]\n",
            "------------------------------------------------------------\n",
            "[epoch 7], [iter 100 / 279], [train loss 0.15892], [train acc 0.94375]\n",
            "[epoch 7], [iter 200 / 279], [train loss 0.16719], [train acc 0.94016]\n",
            "------------------------------------------------------------\n",
            "[epoch 7], [val loss 0.44730], [val acc 0.89530]\n",
            "------------------------------------------------------------\n",
            "[epoch 8], [iter 100 / 279], [train loss 0.12509], [train acc 0.95750]\n",
            "[epoch 8], [iter 200 / 279], [train loss 0.11859], [train acc 0.95813]\n",
            "------------------------------------------------------------\n",
            "[epoch 8], [val loss 0.37693], [val acc 0.90345]\n",
            "------------------------------------------------------------\n",
            "[epoch 9], [iter 100 / 279], [train loss 0.10016], [train acc 0.96500]\n",
            "[epoch 9], [iter 200 / 279], [train loss 0.10453], [train acc 0.96344]\n",
            "------------------------------------------------------------\n",
            "[epoch 9], [val loss 0.41523], [val acc 0.89821]\n",
            "------------------------------------------------------------\n",
            "[epoch 10], [iter 100 / 279], [train loss 0.06305], [train acc 0.97813]\n",
            "[epoch 10], [iter 200 / 279], [train loss 0.07880], [train acc 0.97250]\n",
            "------------------------------------------------------------\n",
            "[epoch 10], [val loss 0.50168], [val acc 0.89988]\n",
            "------------------------------------------------------------\n"
          ]
        }
      ]
    },
    {
      "cell_type": "code",
      "source": [
        "modelM.eval()\n",
        "y_label = []\n",
        "y_predict = []\n",
        "with torch.no_grad():\n",
        "    for i, data in enumerate(val_loader):\n",
        "        images, labels = data\n",
        "        N = images.size(0)\n",
        "        images = Variable(images).to(device)\n",
        "        outputs = modelM(images)\n",
        "        prediction = outputs.max(1, keepdim=True)[1]\n",
        "        y_label.extend(labels.cpu().numpy())\n",
        "        y_predict.extend(np.squeeze(prediction.cpu().numpy().T))\n",
        "\n",
        "# compute the confusion matrix\n",
        "confusion_mtx = confusion_matrix(y_label, y_predict)\n",
        "# plot the confusion matrix\n",
        "plot_labels = ['akiec', 'bcc', 'bkl', 'df', 'nv', 'vasc','mel']\n",
        "plot_confusion_matrix(confusion_mtx, plot_labels)"
      ],
      "metadata": {
        "id": "_FPO4ajO_Y1x",
        "colab": {
          "base_uri": "https://localhost:8080/",
          "height": 311
        },
        "outputId": "f72f183f-418f-462f-de95-8d86115587e0"
      },
      "execution_count": null,
      "outputs": [
        {
          "output_type": "display_data",
          "data": {
            "text/plain": [
              "<Figure size 432x288 with 2 Axes>"
            ],
            "image/png": "[encoded data removed]"
          },
          "metadata": {
            "needs_background": "light"
          }
        }
      ]
    },
    {
      "cell_type": "code",
      "source": [
        "fig = plt.figure(num = 2)\n",
        "fig1 = fig.add_subplot(2,1,1)\n",
        "fig2 = fig.add_subplot(2,1,2)\n",
        "fig1.plot(total_loss_train, label = 'training loss')\n",
        "fig1.plot(total_acc_train, label = 'training accuracy')\n",
        "fig1.legend(loc='upper center', ncol=2)\n",
        "fig2.plot(total_loss_val, label = 'validation loss')\n",
        "fig2.plot(total_acc_val, label = 'validation accuracy')\n",
        "fig2.legend()\n",
        "plt.show()"
      ],
      "metadata": {
        "id": "OrGWpz1n_Y44",
        "colab": {
          "base_uri": "https://localhost:8080/",
          "height": 265
        },
        "outputId": "c1fdf96d-4d3d-47c0-eb80-890db5f616ff"
      },
      "execution_count": null,
      "outputs": [
        {
          "output_type": "display_data",
          "data": {
            "text/plain": [
              "<Figure size 432x288 with 2 Axes>"
            ],
            "image/png": "[encoded data removed]"
          },
          "metadata": {
            "needs_background": "light"
          }
        }
      ]
    },
    {
      "cell_type": "code",
      "source": [
        "report = classification_report(y_label, y_predict, target_names=plot_labels)\n",
        "print(report)"
      ],
      "metadata": {
        "id": "ToUuhYks_Y6v",
        "colab": {
          "base_uri": "https://localhost:8080/"
        },
        "outputId": "c884fb32-9a4e-411a-e031-fbb10782201b"
      },
      "execution_count": null,
      "outputs": [
        {
          "output_type": "stream",
          "name": "stdout",
          "text": [
            "              precision    recall  f1-score   support\n",
            "\n",
            "       akiec       0.48      0.70      0.57        30\n",
            "         bcc       0.86      0.71      0.78        35\n",
            "         bkl       0.70      0.72      0.71        88\n",
            "          df       0.83      0.62      0.71         8\n",
            "          nv       0.95      0.98      0.96       883\n",
            "        vasc       0.43      0.07      0.11        46\n",
            "         mel       0.64      0.69      0.67        13\n",
            "\n",
            "    accuracy                           0.90      1103\n",
            "   macro avg       0.70      0.64      0.65      1103\n",
            "weighted avg       0.89      0.90      0.89      1103\n",
            "\n"
          ]
        }
      ]
    },
    {
      "cell_type": "markdown",
      "source": [
        "## Focal loss "
      ],
      "metadata": {
        "id": "cbualDh1AgWe"
      }
    },
    {
      "cell_type": "code",
      "source": [
        "train_transform = transforms.Compose([transforms.Resize((input_size,input_size)),transforms.RandomHorizontalFlip(),\n",
        "                                      transforms.RandomVerticalFlip(),transforms.RandomRotation(20),\n",
        "                                      transforms.ColorJitter(brightness=0.1, contrast=0.1, hue=0.1),\n",
        "                                        transforms.ToTensor(), transforms.Normalize(norm_mean, norm_std)])\n",
        "# define the transformation of the val images.\n",
        "val_transform = transforms.Compose([transforms.Resize((input_size,input_size)), transforms.ToTensor(),\n",
        "                                    transforms.Normalize(norm_mean, norm_std)])\n",
        "\n",
        "\n",
        "# Define the training set using the table train_df and using our defined transitions (train_transform)\n",
        "training_set = HAM10000(df_train, transform=train_transform)\n",
        "train_loader = DataLoader(training_set, batch_size=32, shuffle=True, num_workers=4)\n",
        "# Same for the validation set:\n",
        "validation_set = HAM10000(df_val, transform=val_transform)\n",
        "val_loader = DataLoader(validation_set, batch_size=32, shuffle=False, num_workers=4)"
      ],
      "metadata": {
        "id": "MmgdtGePMop0"
      },
      "execution_count": null,
      "outputs": []
    },
    {
      "cell_type": "code",
      "source": [
        "import torch\n",
        "import torch.nn as nn\n",
        "import torch.nn.functional as F\n",
        "\n",
        "class FocalLoss(nn.modules.loss._WeightedLoss):\n",
        "    def __init__(self, weight=None, gamma=2,reduction='none', alpha = 0.25):\n",
        "        super(FocalLoss, self).__init__(weight,reduction=reduction)\n",
        "        self.gamma = gamma\n",
        "        self.weight = weight #weight parameter will act as the alpha parameter to balance class weights\n",
        "        self.alpha = alpha\n",
        "    def forward(self, input, target):\n",
        "       \n",
        "        #ce_loss = F.cross_entropy(input, target, reduction='none') # important to add reduction='none' to keep per-batch-item loss\n",
        "       # pt = torch.exp(-ce_loss)\n",
        "       # \n",
        "        ce_loss = F.cross_entropy(input, target,reduction='none',weight=self.weight)\n",
        "        pt = torch.exp(-ce_loss)\n",
        "        #focal_loss = ((1 - pt) ** self.gamma * ce_loss).mean()\n",
        "        focal_loss = (self.alpha * (1-pt)** self.gamma * ce_loss).mean()\n",
        "        return focal_loss\n",
        "   "
      ],
      "metadata": {
        "id": "vBW4Qxa8_Y9_"
      },
      "execution_count": null,
      "outputs": []
    },
    {
      "cell_type": "markdown",
      "source": [
        "### Resnet\n"
      ],
      "metadata": {
        "id": "_dnu2NasV90F"
      }
    },
    {
      "cell_type": "code",
      "source": [
        "model_name = 'resnet'\n",
        "num_classes = 7\n",
        "feature_extract = False\n",
        "# Initialize the model for this run\n",
        "model_ft, input_size = initialize_model(model_name, num_classes, feature_extract, use_pretrained=True)\n",
        "# Define the device:\n",
        "device = torch.device('cuda:0')\n",
        "# Put the model on the device:\n",
        "modelRF = model_ft.to(device)"
      ],
      "metadata": {
        "id": "hsfKSkcQFUVf"
      },
      "execution_count": null,
      "outputs": []
    },
    {
      "cell_type": "code",
      "source": [
        "# we use Adam optimizer, use cross entropy loss as our loss function\n",
        "optimizer = optim.Adam(modelRF.parameters(), lr=1e-3)\n",
        "criterion = FocalLoss()#.to(device)#nn.CrossEntropyLoss().to(device)"
      ],
      "metadata": {
        "id": "yzfKhpkiFUgO"
      },
      "execution_count": null,
      "outputs": []
    },
    {
      "cell_type": "code",
      "source": [
        "##### training resnet \n",
        "epoch_num = 10\n",
        "best_val_acc = 0\n",
        "total_loss_val, total_acc_val = [],[]\n",
        "for epoch in range(1, epoch_num+1):\n",
        "    loss_train, acc_train = train(train_loader, modelRF, criterion, optimizer, epoch)\n",
        "    loss_val, acc_val = validate(val_loader, modelRF, criterion, optimizer, epoch)\n",
        "    total_loss_val.append(loss_val)\n",
        "    total_acc_val.append(acc_val)\n",
        "    if acc_val > best_val_acc:\n",
        "        best_val_acc = acc_val\n",
        "        print('*****************************************************')\n",
        "        print('best record: [epoch %d], [val loss %.5f], [val acc %.5f]' % (epoch, loss_val, acc_val))\n",
        "        print('*****************************************************')"
      ],
      "metadata": {
        "colab": {
          "base_uri": "https://localhost:8080/"
        },
        "id": "QP320LCe_Y_g",
        "outputId": "374e60f0-2834-4bdf-924e-d7e588af1d80"
      },
      "execution_count": null,
      "outputs": [
        {
          "output_type": "stream",
          "name": "stdout",
          "text": [
            "[epoch 1], [iter 100 / 279], [train loss 0.17263], [train acc 0.64187]\n",
            "[epoch 1], [iter 200 / 279], [train loss 0.15944], [train acc 0.64984]\n",
            "------------------------------------------------------------\n",
            "[epoch 1], [val loss 0.07759], [val acc 0.82220]\n",
            "------------------------------------------------------------\n",
            "*****************************************************\n",
            "best record: [epoch 1], [val loss 0.07759], [val acc 0.82220]\n",
            "*****************************************************\n",
            "[epoch 2], [iter 100 / 279], [train loss 0.13327], [train acc 0.65719]\n",
            "[epoch 2], [iter 200 / 279], [train loss 0.13259], [train acc 0.66391]\n",
            "------------------------------------------------------------\n",
            "[epoch 2], [val loss 0.09090], [val acc 0.80690]\n",
            "------------------------------------------------------------\n",
            "[epoch 3], [iter 100 / 279], [train loss 0.13135], [train acc 0.67281]\n",
            "[epoch 3], [iter 200 / 279], [train loss 0.12513], [train acc 0.68125]\n",
            "------------------------------------------------------------\n",
            "[epoch 3], [val loss 0.06812], [val acc 0.84810]\n",
            "------------------------------------------------------------\n",
            "*****************************************************\n",
            "best record: [epoch 3], [val loss 0.06812], [val acc 0.84810]\n",
            "*****************************************************\n",
            "[epoch 4], [iter 100 / 279], [train loss 0.12463], [train acc 0.68594]\n",
            "[epoch 4], [iter 200 / 279], [train loss 0.12704], [train acc 0.68219]\n",
            "------------------------------------------------------------\n",
            "[epoch 4], [val loss 0.06577], [val acc 0.85256]\n",
            "------------------------------------------------------------\n",
            "*****************************************************\n",
            "best record: [epoch 4], [val loss 0.06577], [val acc 0.85256]\n",
            "*****************************************************\n",
            "[epoch 5], [iter 100 / 279], [train loss 0.11773], [train acc 0.68719]\n",
            "[epoch 5], [iter 200 / 279], [train loss 0.11851], [train acc 0.69109]\n",
            "------------------------------------------------------------\n",
            "[epoch 5], [val loss 0.07735], [val acc 0.84363]\n",
            "------------------------------------------------------------\n",
            "[epoch 6], [iter 100 / 279], [train loss 0.12144], [train acc 0.69312]\n",
            "[epoch 6], [iter 200 / 279], [train loss 0.11919], [train acc 0.69453]\n",
            "------------------------------------------------------------\n",
            "[epoch 6], [val loss 0.05662], [val acc 0.85970]\n",
            "------------------------------------------------------------\n",
            "*****************************************************\n",
            "best record: [epoch 6], [val loss 0.05662], [val acc 0.85970]\n",
            "*****************************************************\n",
            "[epoch 7], [iter 100 / 279], [train loss 0.11358], [train acc 0.70500]\n",
            "[epoch 7], [iter 200 / 279], [train loss 0.10890], [train acc 0.71344]\n",
            "------------------------------------------------------------\n",
            "[epoch 7], [val loss 0.07411], [val acc 0.80958]\n",
            "------------------------------------------------------------\n",
            "[epoch 8], [iter 100 / 279], [train loss 0.10531], [train acc 0.71156]\n",
            "[epoch 8], [iter 200 / 279], [train loss 0.10566], [train acc 0.71016]\n",
            "------------------------------------------------------------\n",
            "[epoch 8], [val loss 0.05511], [val acc 0.87310]\n",
            "------------------------------------------------------------\n",
            "*****************************************************\n",
            "best record: [epoch 8], [val loss 0.05511], [val acc 0.87310]\n",
            "*****************************************************\n",
            "[epoch 9], [iter 100 / 279], [train loss 0.10155], [train acc 0.72469]\n",
            "[epoch 9], [iter 200 / 279], [train loss 0.10024], [train acc 0.72844]\n",
            "------------------------------------------------------------\n",
            "[epoch 9], [val loss 0.07280], [val acc 0.84095]\n",
            "------------------------------------------------------------\n",
            "[epoch 10], [iter 100 / 279], [train loss 0.09907], [train acc 0.73406]\n",
            "[epoch 10], [iter 200 / 279], [train loss 0.09947], [train acc 0.72344]\n",
            "------------------------------------------------------------\n",
            "[epoch 10], [val loss 0.05748], [val acc 0.85435]\n",
            "------------------------------------------------------------\n"
          ]
        }
      ]
    },
    {
      "cell_type": "code",
      "source": [
        "### evaluation resnet \n",
        "\n",
        "modelRF.eval()\n",
        "y_label = []\n",
        "y_predict = []\n",
        "with torch.no_grad():\n",
        "    for i, data in enumerate(val_loader):\n",
        "        images, labels = data\n",
        "        N = images.size(0)\n",
        "        images = Variable(images).to(device)\n",
        "        outputs = modelRF(images)\n",
        "        prediction = outputs.max(1, keepdim=True)[1]\n",
        "        y_label.extend(labels.cpu().numpy())\n",
        "        y_predict.extend(np.squeeze(prediction.cpu().numpy().T))\n",
        "\n",
        "# compute the confusion matrix\n",
        "confusion_mtx = confusion_matrix(y_label, y_predict)\n",
        "# plot the confusion matrix\n",
        "plot_labels = ['akiec', 'bcc', 'bkl', 'df', 'nv', 'vasc','mel']\n",
        "plot_confusion_matrix(confusion_mtx, plot_labels)"
      ],
      "metadata": {
        "colab": {
          "base_uri": "https://localhost:8080/",
          "height": 311
        },
        "id": "QzugSnIy_ZCs",
        "outputId": "4a2cb134-0868-42d9-af9d-4e1e96faf960"
      },
      "execution_count": null,
      "outputs": [
        {
          "output_type": "display_data",
          "data": {
            "text/plain": [
              "<Figure size 432x288 with 2 Axes>"
            ],
            "image/png": "[encoded data removed]"
          },
          "metadata": {
            "needs_background": "light"
          }
        }
      ]
    },
    {
      "cell_type": "code",
      "source": [
        "fig = plt.figure(num = 2)\n",
        "fig1 = fig.add_subplot(2,1,1)\n",
        "fig2 = fig.add_subplot(2,1,2)\n",
        "fig1.plot(total_loss_train, label = 'training loss')\n",
        "fig1.plot(total_acc_train, label = 'training accuracy')\n",
        "fig1.legend(loc='upper center', ncol=2)\n",
        "fig2.plot(total_loss_val, label = 'validation loss')\n",
        "fig2.plot(total_acc_val, label = 'validation accuracy')\n",
        "fig2.legend()\n",
        "plt.show()"
      ],
      "metadata": {
        "colab": {
          "base_uri": "https://localhost:8080/",
          "height": 265
        },
        "id": "HMCzX55Z9V3C",
        "outputId": "b87a2b8a-acd7-4cb8-ff14-bc7827fefe3f"
      },
      "execution_count": null,
      "outputs": [
        {
          "output_type": "display_data",
          "data": {
            "text/plain": [
              "<Figure size 432x288 with 2 Axes>"
            ],
            "image/png": "[encoded data removed]"
          },
          "metadata": {
            "needs_background": "light"
          }
        }
      ]
    },
    {
      "cell_type": "code",
      "source": [
        "report = classification_report(y_label, y_predict, target_names=plot_labels)\n",
        "print(report)"
      ],
      "metadata": {
        "id": "lycP6KBSP4l5",
        "colab": {
          "base_uri": "https://localhost:8080/"
        },
        "outputId": "fde3199c-41fa-4703-841a-b75221899d24"
      },
      "execution_count": null,
      "outputs": [
        {
          "output_type": "stream",
          "name": "stdout",
          "text": [
            "              precision    recall  f1-score   support\n",
            "\n",
            "       akiec       0.45      0.17      0.24        30\n",
            "         bcc       0.72      0.66      0.69        35\n",
            "         bkl       0.68      0.49      0.57        88\n",
            "          df       0.00      0.00      0.00         8\n",
            "          nv       0.92      0.99      0.95       883\n",
            "        vasc       0.55      0.52      0.53        46\n",
            "         mel       0.89      0.62      0.73        13\n",
            "\n",
            "    accuracy                           0.88      1103\n",
            "   macro avg       0.60      0.49      0.53      1103\n",
            "weighted avg       0.86      0.88      0.87      1103\n",
            "\n"
          ]
        }
      ]
    },
    {
      "cell_type": "markdown",
      "source": [
        "### Vgg "
      ],
      "metadata": {
        "id": "9WXou0mQVjU7"
      }
    },
    {
      "cell_type": "code",
      "source": [
        "############ next model is the vgg\n",
        "# resnet,vgg,densenet,inception,mobilenet\n",
        "model_nameVgg = 'vgg'\n",
        "# Initialize the model for this run\n",
        "model_ft2, input_size2 = initialize_model(model_nameVgg, num_classes, feature_extract, use_pretrained=True)\n",
        "# Define the device:\n",
        "device = torch.device('cuda:0')\n",
        "# Put the model on the device:\n",
        "modelVgg = model_ft2.to(device)"
      ],
      "metadata": {
        "id": "9lSoYMBpQkoQ"
      },
      "execution_count": null,
      "outputs": []
    },
    {
      "cell_type": "code",
      "source": [
        "# we use Adam optimizer, use cross entropy loss as our loss function\n",
        "optimizer = optim.Adam(modelVgg.parameters(), lr=1e-3)\n",
        "criterion = FocalLoss()"
      ],
      "metadata": {
        "id": "MO-MCDbPQkiY"
      },
      "execution_count": null,
      "outputs": []
    },
    {
      "cell_type": "code",
      "source": [
        "\n",
        "total_loss_train, total_acc_train = [],[]\n",
        "\n",
        "epoch_num = 10\n",
        "best_val_acc = 0\n",
        "total_loss_val, total_acc_val = [],[]\n",
        "for epoch in range(1, epoch_num+1):\n",
        "    loss_train, acc_train = train(train_loader, modelVgg, criterion, optimizer, epoch)\n",
        "    loss_val, acc_val = validate(val_loader, modelVgg, criterion, optimizer, epoch)\n",
        "    total_loss_val.append(loss_val)\n",
        "    total_acc_val.append(acc_val)\n",
        "    if acc_val > best_val_acc:\n",
        "        best_val_acc = acc_val\n",
        "        print('*****************************************************')\n",
        "        print('best record: [epoch %d], [val loss %.5f], [val acc %.5f]' % (epoch, loss_val, acc_val))\n",
        "        print('*****************************************************')"
      ],
      "metadata": {
        "colab": {
          "base_uri": "https://localhost:8080/"
        },
        "id": "vjbPzwyKQkdb",
        "outputId": "56eb687b-bf29-421d-f4ec-bcf959bca4b2"
      },
      "execution_count": null,
      "outputs": [
        {
          "output_type": "stream",
          "name": "stdout",
          "text": [
            "[epoch 1], [iter 100 / 279], [train loss 0.19185], [train acc 0.64250]\n",
            "[epoch 1], [iter 200 / 279], [train loss 0.18351], [train acc 0.64563]\n",
            "------------------------------------------------------------\n",
            "[epoch 1], [val loss 0.09801], [val acc 0.80256]\n",
            "------------------------------------------------------------\n",
            "*****************************************************\n",
            "best record: [epoch 1], [val loss 0.09801], [val acc 0.80256]\n",
            "*****************************************************\n",
            "[epoch 2], [iter 100 / 279], [train loss 0.17074], [train acc 0.65375]\n",
            "[epoch 2], [iter 200 / 279], [train loss 0.16331], [train acc 0.65500]\n",
            "------------------------------------------------------------\n",
            "[epoch 2], [val loss 0.08627], [val acc 0.81060]\n",
            "------------------------------------------------------------\n",
            "*****************************************************\n",
            "best record: [epoch 2], [val loss 0.08627], [val acc 0.81060]\n",
            "*****************************************************\n",
            "[epoch 3], [iter 100 / 279], [train loss 0.14283], [train acc 0.66125]\n",
            "[epoch 3], [iter 200 / 279], [train loss 0.14151], [train acc 0.66094]\n",
            "------------------------------------------------------------\n",
            "[epoch 3], [val loss 0.08559], [val acc 0.81238]\n",
            "------------------------------------------------------------\n",
            "*****************************************************\n",
            "best record: [epoch 3], [val loss 0.08559], [val acc 0.81238]\n",
            "*****************************************************\n",
            "[epoch 4], [iter 100 / 279], [train loss 0.14138], [train acc 0.66000]\n",
            "[epoch 4], [iter 200 / 279], [train loss 0.13857], [train acc 0.66063]\n",
            "------------------------------------------------------------\n",
            "[epoch 4], [val loss 0.08102], [val acc 0.82042]\n",
            "------------------------------------------------------------\n",
            "*****************************************************\n",
            "best record: [epoch 4], [val loss 0.08102], [val acc 0.82042]\n",
            "*****************************************************\n",
            "[epoch 5], [iter 100 / 279], [train loss 0.12529], [train acc 0.67969]\n",
            "[epoch 5], [iter 200 / 279], [train loss 0.13042], [train acc 0.67344]\n",
            "------------------------------------------------------------\n",
            "[epoch 5], [val loss 0.07654], [val acc 0.82845]\n",
            "------------------------------------------------------------\n",
            "*****************************************************\n",
            "best record: [epoch 5], [val loss 0.07654], [val acc 0.82845]\n",
            "*****************************************************\n",
            "[epoch 6], [iter 100 / 279], [train loss 0.14757], [train acc 0.64625]\n",
            "[epoch 6], [iter 200 / 279], [train loss 0.15672], [train acc 0.65469]\n",
            "------------------------------------------------------------\n",
            "[epoch 6], [val loss 0.08797], [val acc 0.82488]\n",
            "------------------------------------------------------------\n",
            "[epoch 7], [iter 100 / 279], [train loss 0.16636], [train acc 0.64969]\n",
            "[epoch 7], [iter 200 / 279], [train loss 0.15349], [train acc 0.65906]\n",
            "------------------------------------------------------------\n",
            "[epoch 7], [val loss 0.07117], [val acc 0.83024]\n",
            "------------------------------------------------------------\n",
            "*****************************************************\n",
            "best record: [epoch 7], [val loss 0.07117], [val acc 0.83024]\n",
            "*****************************************************\n",
            "[epoch 8], [iter 100 / 279], [train loss 0.14109], [train acc 0.65781]\n",
            "[epoch 8], [iter 200 / 279], [train loss 0.13541], [train acc 0.67141]\n",
            "------------------------------------------------------------\n",
            "[epoch 8], [val loss 0.07246], [val acc 0.84452]\n",
            "------------------------------------------------------------\n",
            "*****************************************************\n",
            "best record: [epoch 8], [val loss 0.07246], [val acc 0.84452]\n",
            "*****************************************************\n",
            "[epoch 9], [iter 100 / 279], [train loss 0.12913], [train acc 0.67625]\n",
            "[epoch 9], [iter 200 / 279], [train loss 0.12677], [train acc 0.68109]\n",
            "------------------------------------------------------------\n",
            "[epoch 9], [val loss 0.07205], [val acc 0.83381]\n",
            "------------------------------------------------------------\n",
            "[epoch 10], [iter 100 / 279], [train loss 0.12564], [train acc 0.67469]\n",
            "[epoch 10], [iter 200 / 279], [train loss 0.12574], [train acc 0.67609]\n",
            "------------------------------------------------------------\n",
            "[epoch 10], [val loss 0.06687], [val acc 0.84631]\n",
            "------------------------------------------------------------\n",
            "*****************************************************\n",
            "best record: [epoch 10], [val loss 0.06687], [val acc 0.84631]\n",
            "*****************************************************\n"
          ]
        }
      ]
    },
    {
      "cell_type": "code",
      "source": [
        "### evaluation Vgg\n",
        "\n",
        "modelVgg.eval()\n",
        "y_label = []\n",
        "y_predict = []\n",
        "with torch.no_grad():\n",
        "    for i, data in enumerate(val_loader):\n",
        "        images, labels = data\n",
        "        N = images.size(0)\n",
        "        images = Variable(images).to(device)\n",
        "        outputs = modelVgg(images)\n",
        "        prediction = outputs.max(1, keepdim=True)[1]\n",
        "        y_label.extend(labels.cpu().numpy())\n",
        "        y_predict.extend(np.squeeze(prediction.cpu().numpy().T))\n",
        "\n",
        "# compute the confusion matrix\n",
        "confusion_mtx = confusion_matrix(y_label, y_predict)\n",
        "# plot the confusion matrix\n",
        "plot_labels = ['akiec', 'bcc', 'bkl', 'df', 'nv', 'vasc','mel']\n",
        "plot_confusion_matrix(confusion_mtx, plot_labels)"
      ],
      "metadata": {
        "colab": {
          "base_uri": "https://localhost:8080/",
          "height": 311
        },
        "id": "h-royx6hWFZC",
        "outputId": "bd51671a-b1db-4212-a152-3c03793a0671"
      },
      "execution_count": null,
      "outputs": [
        {
          "output_type": "display_data",
          "data": {
            "text/plain": [
              "<Figure size 432x288 with 2 Axes>"
            ],
            "image/png": "[encoded data removed]"
          },
          "metadata": {
            "needs_background": "light"
          }
        }
      ]
    },
    {
      "cell_type": "code",
      "source": [
        "fig = plt.figure(num = 2)\n",
        "fig1 = fig.add_subplot(2,1,1)\n",
        "fig2 = fig.add_subplot(2,1,2)\n",
        "fig1.plot(total_loss_train, label = 'training loss')\n",
        "fig1.plot(total_acc_train, label = 'training accuracy')\n",
        "fig1.legend(loc='upper center', ncol=2)\n",
        "fig2.plot(total_loss_val, label = 'validation loss')\n",
        "fig2.plot(total_acc_val, label = 'validation accuracy')\n",
        "fig2.legend()\n",
        "plt.show()"
      ],
      "metadata": {
        "colab": {
          "base_uri": "https://localhost:8080/",
          "height": 265
        },
        "id": "CbO32wS8Qka_",
        "outputId": "e7d90bf8-0067-4f2a-eb0c-1578bf6ce9fc"
      },
      "execution_count": null,
      "outputs": [
        {
          "output_type": "display_data",
          "data": {
            "text/plain": [
              "<Figure size 432x288 with 2 Axes>"
            ],
            "image/png": "[encoded data removed]"
          },
          "metadata": {
            "needs_background": "light"
          }
        }
      ]
    },
    {
      "cell_type": "code",
      "source": [
        "# Generate a classification report\n",
        "report = classification_report(y_label, y_predict, target_names=plot_labels)\n",
        "print(report)"
      ],
      "metadata": {
        "colab": {
          "base_uri": "https://localhost:8080/"
        },
        "id": "hWorrRR8ad81",
        "outputId": "c264cc08-510b-47cf-8f34-745c7cd45db1"
      },
      "execution_count": null,
      "outputs": [
        {
          "output_type": "stream",
          "name": "stdout",
          "text": [
            "              precision    recall  f1-score   support\n",
            "\n",
            "       akiec       0.44      0.13      0.21        30\n",
            "         bcc       0.51      0.74      0.60        35\n",
            "         bkl       0.49      0.35      0.41        88\n",
            "          df       0.00      0.00      0.00         8\n",
            "          nv       0.90      0.98      0.94       883\n",
            "        vasc       0.33      0.09      0.14        46\n",
            "         mel       0.00      0.00      0.00        13\n",
            "\n",
            "    accuracy                           0.84      1103\n",
            "   macro avg       0.38      0.33      0.33      1103\n",
            "weighted avg       0.80      0.84      0.81      1103\n",
            "\n"
          ]
        }
      ]
    },
    {
      "cell_type": "markdown",
      "source": [
        "### Densnet "
      ],
      "metadata": {
        "id": "-XeqlgPYaeqF"
      }
    },
    {
      "cell_type": "code",
      "source": [
        "############ model densnet\n",
        "# resnet,vgg,densenet,inception,mobilenet\n",
        "model_nameDen = 'densenet'\n",
        "# Initialize the model for this run\n",
        "model_ft3, input_size3 = initialize_model(model_nameDen, num_classes, feature_extract, use_pretrained=True)\n",
        "# Define the device:\n",
        "device = torch.device('cuda:0')\n",
        "# Put the model on the device:\n",
        "modelDen = model_ft3.to(device)\n",
        "\n",
        "\n",
        "###### training densnet \n",
        "\n",
        "optimizer = optim.Adam(modelDen.parameters(), lr=1e-3)\n",
        "criterion = FocalLoss()\n",
        "\n",
        "total_loss_train, total_acc_train = [],[]\n",
        "\n",
        "epoch_num = 10\n",
        "best_val_acc = 0\n",
        "total_loss_val, total_acc_val = [],[]\n",
        "for epoch in range(1, epoch_num+1):\n",
        "    loss_train, acc_train = train(train_loader, modelDen, criterion, optimizer, epoch)\n",
        "    loss_val, acc_val = validate(val_loader, modelDen, criterion, optimizer, epoch)\n",
        "    total_loss_val.append(loss_val)\n",
        "    total_acc_val.append(acc_val)\n",
        "    if acc_val > best_val_acc:\n",
        "        best_val_acc = acc_val\n",
        "        print('*****************************************************')\n",
        "        print('best record: [epoch %d], [val loss %.5f], [val acc %.5f]' % (epoch, loss_val, acc_val))\n",
        "        print('*****************************************************')"
      ],
      "metadata": {
        "colab": {
          "base_uri": "https://localhost:8080/",
          "height": 1000,
          "referenced_widgets": [
            "f478f82111cd4d9ab76c837d86158948",
            "ccfcf6c8b62a4752b02d7ee701bd95bc",
            "3b78fe31856748d7b36301a109c860e1",
            "3d11e4f659b94dbca9d35d064cd28c92",
            "e32673006037498390a845041b167178",
            "a30871aba1d641cfa6fc4094576bb6d9",
            "6fbabd9b7383421b8e135cfcc0917c47",
            "96c03c27b00d456688abeee684c0bc33",
            "7124b2a9e6cc4a3f99e74976b066a56b",
            "0eb0b63488044940bddd004e6ac3bbb8",
            "87cc072f0c4141c895d7d31249448e44"
          ]
        },
        "id": "9YulgHz2ad3_",
        "outputId": "3867ffe3-dd55-4e9d-c085-549ba26e6320"
      },
      "execution_count": null,
      "outputs": [
        {
          "metadata": {
            "tags": null
          },
          "name": "stderr",
          "output_type": "stream",
          "text": [
            "Downloading: \"https://download.pytorch.org/models/densenet121-a639ec97.pth\" to /root/.cache/torch/hub/checkpoints/densenet121-a639ec97.pth\n"
          ]
        },
        {
          "data": {
            "application/vnd.jupyter.widget-view+json": {
              "model_id": "f478f82111cd4d9ab76c837d86158948",
              "version_major": 2,
              "version_minor": 0
            },
            "text/plain": [
              "  0%|          | 0.00/30.8M [00:00<?, ?B/s]"
            ]
          },
          "metadata": {},
          "output_type": "display_data"
        },
        {
          "output_type": "stream",
          "name": "stdout",
          "text": [
            "[epoch 1], [iter 100 / 279], [train loss 0.14617], [train acc 0.66750]\n",
            "[epoch 1], [iter 200 / 279], [train loss 0.13790], [train acc 0.66844]\n",
            "------------------------------------------------------------\n",
            "[epoch 1], [val loss 0.22044], [val acc 0.41244]\n",
            "------------------------------------------------------------\n",
            "*****************************************************\n",
            "best record: [epoch 1], [val loss 0.22044], [val acc 0.41244]\n",
            "*****************************************************\n",
            "[epoch 2], [iter 100 / 279], [train loss 0.11758], [train acc 0.68812]\n",
            "[epoch 2], [iter 200 / 279], [train loss 0.11314], [train acc 0.70094]\n",
            "------------------------------------------------------------\n",
            "[epoch 2], [val loss 0.06268], [val acc 0.85155]\n",
            "------------------------------------------------------------\n",
            "*****************************************************\n",
            "best record: [epoch 2], [val loss 0.06268], [val acc 0.85155]\n",
            "*****************************************************\n",
            "[epoch 3], [iter 100 / 279], [train loss 0.12125], [train acc 0.68875]\n",
            "[epoch 3], [iter 200 / 279], [train loss 0.11202], [train acc 0.70281]\n",
            "------------------------------------------------------------\n",
            "[epoch 3], [val loss 0.05436], [val acc 0.85970]\n",
            "------------------------------------------------------------\n",
            "*****************************************************\n",
            "best record: [epoch 3], [val loss 0.05436], [val acc 0.85970]\n",
            "*****************************************************\n",
            "[epoch 4], [iter 100 / 279], [train loss 0.10115], [train acc 0.73562]\n",
            "[epoch 4], [iter 200 / 279], [train loss 0.09635], [train acc 0.74141]\n",
            "------------------------------------------------------------\n",
            "[epoch 4], [val loss 0.04560], [val acc 0.88381]\n",
            "------------------------------------------------------------\n",
            "*****************************************************\n",
            "best record: [epoch 4], [val loss 0.04560], [val acc 0.88381]\n",
            "*****************************************************\n",
            "[epoch 5], [iter 100 / 279], [train loss 0.09556], [train acc 0.72344]\n",
            "[epoch 5], [iter 200 / 279], [train loss 0.09140], [train acc 0.73719]\n",
            "------------------------------------------------------------\n",
            "[epoch 5], [val loss 0.04914], [val acc 0.87667]\n",
            "------------------------------------------------------------\n",
            "[epoch 6], [iter 100 / 279], [train loss 0.09115], [train acc 0.75031]\n",
            "[epoch 6], [iter 200 / 279], [train loss 0.08828], [train acc 0.74984]\n",
            "------------------------------------------------------------\n",
            "[epoch 6], [val loss 0.04865], [val acc 0.86863]\n",
            "------------------------------------------------------------\n",
            "[epoch 7], [iter 100 / 279], [train loss 0.08009], [train acc 0.75313]\n",
            "[epoch 7], [iter 200 / 279], [train loss 0.08108], [train acc 0.75875]\n",
            "------------------------------------------------------------\n",
            "[epoch 7], [val loss 0.06210], [val acc 0.85524]\n",
            "------------------------------------------------------------\n",
            "[epoch 8], [iter 100 / 279], [train loss 0.09097], [train acc 0.74344]\n",
            "[epoch 8], [iter 200 / 279], [train loss 0.08856], [train acc 0.74750]\n",
            "------------------------------------------------------------\n",
            "[epoch 8], [val loss 0.04617], [val acc 0.88292]\n",
            "------------------------------------------------------------\n",
            "[epoch 9], [iter 100 / 279], [train loss 0.08398], [train acc 0.76219]\n",
            "[epoch 9], [iter 200 / 279], [train loss 0.08074], [train acc 0.76781]\n",
            "------------------------------------------------------------\n",
            "[epoch 9], [val loss 0.04349], [val acc 0.89720]\n",
            "------------------------------------------------------------\n",
            "*****************************************************\n",
            "best record: [epoch 9], [val loss 0.04349], [val acc 0.89720]\n",
            "*****************************************************\n",
            "[epoch 10], [iter 100 / 279], [train loss 0.07825], [train acc 0.77563]\n",
            "[epoch 10], [iter 200 / 279], [train loss 0.07809], [train acc 0.77219]\n",
            "------------------------------------------------------------\n",
            "[epoch 10], [val loss 0.04335], [val acc 0.87935]\n",
            "------------------------------------------------------------\n"
          ]
        }
      ]
    },
    {
      "cell_type": "code",
      "source": [
        "### evaluation Densnet\n",
        "modelDen.eval()\n",
        "y_label = []\n",
        "y_predict = []\n",
        "with torch.no_grad():\n",
        "    for i, data in enumerate(val_loader):\n",
        "        images, labels = data\n",
        "        N = images.size(0)\n",
        "        images = Variable(images).to(device)\n",
        "        outputs = modelDen(images)\n",
        "        prediction = outputs.max(1, keepdim=True)[1]\n",
        "        y_label.extend(labels.cpu().numpy())\n",
        "        y_predict.extend(np.squeeze(prediction.cpu().numpy().T))\n",
        "\n",
        "# compute the confusion matrix\n",
        "confusion_mtx = confusion_matrix(y_label, y_predict)\n",
        "# plot the confusion matrix\n",
        "plot_labels = ['akiec', 'bcc', 'bkl', 'df', 'nv', 'vasc','mel']\n",
        "plot_confusion_matrix(confusion_mtx, plot_labels)"
      ],
      "metadata": {
        "colab": {
          "base_uri": "https://localhost:8080/",
          "height": 311
        },
        "id": "oHVyN0Liad1T",
        "outputId": "01b1c97a-7bcd-4738-e7bb-e76754ba7731"
      },
      "execution_count": null,
      "outputs": [
        {
          "output_type": "display_data",
          "data": {
            "text/plain": [
              "<Figure size 432x288 with 2 Axes>"
            ],
            "image/png": "[encoded data removed]"
          },
          "metadata": {
            "needs_background": "light"
          }
        }
      ]
    },
    {
      "cell_type": "code",
      "source": [
        "fig = plt.figure(num = 2)\n",
        "fig1 = fig.add_subplot(2,1,1)\n",
        "fig2 = fig.add_subplot(2,1,2)\n",
        "fig1.plot(total_loss_train, label = 'training loss')\n",
        "fig1.plot(total_acc_train, label = 'training accuracy')\n",
        "fig1.legend(loc='upper center', ncol=2)\n",
        "fig2.plot(total_loss_val, label = 'validation loss')\n",
        "fig2.plot(total_acc_val, label = 'validation accuracy')\n",
        "fig2.legend()\n",
        "plt.show()"
      ],
      "metadata": {
        "colab": {
          "base_uri": "https://localhost:8080/",
          "height": 268
        },
        "id": "HvRFKtg-adys",
        "outputId": "43b947c9-8a2e-4bd7-e95e-4401dd597833"
      },
      "execution_count": null,
      "outputs": [
        {
          "output_type": "display_data",
          "data": {
            "text/plain": [
              "<Figure size 432x288 with 2 Axes>"
            ],
            "image/png": "[encoded data removed]"
          },
          "metadata": {
            "needs_background": "light"
          }
        }
      ]
    },
    {
      "cell_type": "code",
      "source": [
        "report = classification_report(y_label, y_predict, target_names=plot_labels)\n",
        "print(report)"
      ],
      "metadata": {
        "colab": {
          "base_uri": "https://localhost:8080/"
        },
        "id": "O7Ec-TNtadvm",
        "outputId": "06a3e439-879e-46fb-caa2-45f122b416f1"
      },
      "execution_count": null,
      "outputs": [
        {
          "output_type": "stream",
          "name": "stdout",
          "text": [
            "              precision    recall  f1-score   support\n",
            "\n",
            "       akiec       0.50      0.37      0.42        30\n",
            "         bcc       0.95      0.51      0.67        35\n",
            "         bkl       0.65      0.50      0.56        88\n",
            "          df       0.38      0.62      0.48         8\n",
            "          nv       0.93      0.97      0.95       883\n",
            "        vasc       0.59      0.50      0.54        46\n",
            "         mel       0.45      0.77      0.57        13\n",
            "\n",
            "    accuracy                           0.88      1103\n",
            "   macro avg       0.64      0.61      0.60      1103\n",
            "weighted avg       0.87      0.88      0.87      1103\n",
            "\n"
          ]
        }
      ]
    },
    {
      "cell_type": "markdown",
      "source": [
        "### incerption "
      ],
      "metadata": {
        "id": "Z7r3lMmKa8UF"
      }
    },
    {
      "cell_type": "code",
      "source": [
        "input_size =299\n",
        "train_transformI = transforms.Compose([transforms.Resize((input_size,input_size)),transforms.RandomHorizontalFlip(),\n",
        "                                      transforms.RandomVerticalFlip(),transforms.RandomRotation(20),\n",
        "                                      transforms.ColorJitter(brightness=0.1, contrast=0.1, hue=0.1),\n",
        "                                        transforms.ToTensor(), transforms.Normalize(norm_mean, norm_std)])\n",
        "# define the transformation of the val images.\n",
        "val_transformI = transforms.Compose([transforms.Resize((input_size,input_size)), transforms.ToTensor(),\n",
        "                                    transforms.Normalize(norm_mean, norm_std)])\n",
        "\n",
        "\n",
        "# Define the training set using the table train_df and using our defined transitions (train_transform)\n",
        "training_setI = HAM10000(df_train, transform=train_transformI)\n",
        "train_loaderI = DataLoader(training_setI, batch_size=32, shuffle=True, num_workers=4)\n",
        "# Same for the validation set:\n",
        "validation_setI = HAM10000(df_val, transform=val_transformI)\n",
        "val_loaderI = DataLoader(validation_setI, batch_size=32, shuffle=False, num_workers=4)\n",
        "\n",
        "###### training inception "
      ],
      "metadata": {
        "id": "52weswQVadsv"
      },
      "execution_count": null,
      "outputs": []
    },
    {
      "cell_type": "code",
      "source": [
        "model_nameI = 'inception'\n",
        "# Initialize the model for this run\n",
        "num_classes = 7\n",
        "feature_extract = False\n",
        "model_ft, input_size = initialize_model(model_nameI,num_classes, feature_extract, use_pretrained=True)\n",
        "# Define the device:\n",
        "device = torch.device('cuda:0')\n",
        "# Put the model on the device:\n",
        "modelI = model_ft.to(device)\n",
        "\n",
        "\n",
        "###### training densnet \n",
        "\n",
        "optimizer = optim.Adam(modelI.parameters(), lr=1e-3)\n",
        "criterion = FocalLoss()\n",
        "\n",
        "total_loss_train, total_acc_train = [],[]\n",
        "\n",
        "epoch_num = 10\n",
        "best_val_acc = 0\n",
        "total_loss_val, total_acc_val = [],[]\n",
        "for epoch in range(1, epoch_num+1):\n",
        "    loss_train, acc_train = train(train_loaderI, modelI, criterion, optimizer, epoch)\n",
        "    loss_val, acc_val = validate(val_loaderI, modelI, criterion, optimizer, epoch)\n",
        "    total_loss_val.append(loss_val)\n",
        "    total_acc_val.append(acc_val)\n",
        "    if acc_val > best_val_acc:\n",
        "        best_val_acc = acc_val\n",
        "        print('*****************************************************')\n",
        "        print('best record: [epoch %d], [val loss %.5f], [val acc %.5f]' % (epoch, loss_val, acc_val))\n",
        "        print('***********************************')"
      ],
      "metadata": {
        "colab": {
          "base_uri": "https://localhost:8080/"
        },
        "id": "JRmevoDcadpa",
        "outputId": "533e0993-bf37-4ffc-db34-cbd63a197d9c"
      },
      "execution_count": null,
      "outputs": [
        {
          "output_type": "stream",
          "name": "stdout",
          "text": [
            "[epoch 1], [iter 100 / 279], [train loss 0.15568], [train acc 0.64469]\n",
            "[epoch 1], [iter 200 / 279], [train loss 0.14286], [train acc 0.66203]\n",
            "------------------------------------------------------------\n",
            "[epoch 1], [val loss 0.06696], [val acc 0.84899]\n",
            "------------------------------------------------------------\n",
            "*****************************************************\n",
            "best record: [epoch 1], [val loss 0.06696], [val acc 0.84899]\n",
            "***********************************\n",
            "[epoch 2], [iter 100 / 279], [train loss 0.11435], [train acc 0.69437]\n",
            "[epoch 2], [iter 200 / 279], [train loss 0.11662], [train acc 0.69328]\n",
            "------------------------------------------------------------\n",
            "[epoch 2], [val loss 0.06558], [val acc 0.85256]\n",
            "------------------------------------------------------------\n",
            "*****************************************************\n",
            "best record: [epoch 2], [val loss 0.06558], [val acc 0.85256]\n",
            "***********************************\n",
            "[epoch 3], [iter 100 / 279], [train loss 0.11110], [train acc 0.69875]\n",
            "[epoch 3], [iter 200 / 279], [train loss 0.11259], [train acc 0.69828]\n",
            "------------------------------------------------------------\n",
            "[epoch 3], [val loss 0.05791], [val acc 0.87577]\n",
            "------------------------------------------------------------\n",
            "*****************************************************\n",
            "best record: [epoch 3], [val loss 0.05791], [val acc 0.87577]\n",
            "***********************************\n",
            "[epoch 4], [iter 100 / 279], [train loss 0.11098], [train acc 0.71781]\n",
            "[epoch 4], [iter 200 / 279], [train loss 0.10655], [train acc 0.72266]\n",
            "------------------------------------------------------------\n",
            "[epoch 4], [val loss 0.05052], [val acc 0.87565]\n",
            "------------------------------------------------------------\n",
            "[epoch 5], [iter 100 / 279], [train loss 0.09474], [train acc 0.74375]\n",
            "[epoch 5], [iter 200 / 279], [train loss 0.09429], [train acc 0.73969]\n",
            "------------------------------------------------------------\n",
            "[epoch 5], [val loss 0.05750], [val acc 0.85702]\n",
            "------------------------------------------------------------\n",
            "[epoch 6], [iter 100 / 279], [train loss 0.09180], [train acc 0.74531]\n",
            "[epoch 6], [iter 200 / 279], [train loss 0.09076], [train acc 0.74719]\n",
            "------------------------------------------------------------\n",
            "[epoch 6], [val loss 0.05038], [val acc 0.88202]\n",
            "------------------------------------------------------------\n",
            "*****************************************************\n",
            "best record: [epoch 6], [val loss 0.05038], [val acc 0.88202]\n",
            "***********************************\n",
            "[epoch 7], [iter 100 / 279], [train loss 0.08821], [train acc 0.75156]\n",
            "[epoch 7], [iter 200 / 279], [train loss 0.08888], [train acc 0.75562]\n",
            "------------------------------------------------------------\n",
            "[epoch 7], [val loss 0.04400], [val acc 0.88560]\n",
            "------------------------------------------------------------\n",
            "*****************************************************\n",
            "best record: [epoch 7], [val loss 0.04400], [val acc 0.88560]\n",
            "***********************************\n",
            "[epoch 8], [iter 100 / 279], [train loss 0.08339], [train acc 0.75875]\n",
            "[epoch 8], [iter 200 / 279], [train loss 0.08375], [train acc 0.75297]\n",
            "------------------------------------------------------------\n",
            "[epoch 8], [val loss 0.05123], [val acc 0.86685]\n",
            "------------------------------------------------------------\n",
            "[epoch 9], [iter 100 / 279], [train loss 0.08043], [train acc 0.76781]\n",
            "------------------------------------------------------------\n",
            "[epoch 9], [val loss 0.13084], [val acc 0.65452]\n",
            "------------------------------------------------------------\n",
            "[epoch 10], [iter 100 / 279], [train loss 0.07749], [train acc 0.77719]\n",
            "[epoch 10], [iter 200 / 279], [train loss 0.07867], [train acc 0.76844]\n",
            "------------------------------------------------------------\n",
            "[epoch 10], [val loss 0.04350], [val acc 0.88113]\n",
            "------------------------------------------------------------\n"
          ]
        }
      ]
    },
    {
      "cell_type": "code",
      "source": [
        "modelI.eval()\n",
        "y_label = []\n",
        "y_predict = []\n",
        "with torch.no_grad():\n",
        "    for i, data in enumerate(val_loaderI):\n",
        "        images, labels = data\n",
        "        N = images.size(0)\n",
        "        images = Variable(images).to(device)\n",
        "        outputs = modelI(images)\n",
        "        prediction = outputs.max(1, keepdim=True)[1]\n",
        "        y_label.extend(labels.cpu().numpy())\n",
        "        y_predict.extend(np.squeeze(prediction.cpu().numpy().T))\n",
        "\n",
        "# compute the confusion matrix\n",
        "confusion_mtx = confusion_matrix(y_label, y_predict)\n",
        "# plot the confusion matrix\n",
        "plot_labels = ['akiec', 'bcc', 'bkl', 'df', 'nv', 'vasc','mel']\n",
        "plot_confusion_matrix(confusion_mtx, plot_labels)"
      ],
      "metadata": {
        "colab": {
          "base_uri": "https://localhost:8080/",
          "height": 311
        },
        "id": "kitpyzAVadmN",
        "outputId": "4be318da-6a04-4657-ee70-823603d80a78"
      },
      "execution_count": null,
      "outputs": [
        {
          "output_type": "display_data",
          "data": {
            "text/plain": [
              "<Figure size 432x288 with 2 Axes>"
            ],
            "image/png": "[encoded data removed]"
          },
          "metadata": {
            "needs_background": "light"
          }
        }
      ]
    },
    {
      "cell_type": "code",
      "source": [
        "fig = plt.figure(num = 2)\n",
        "fig1 = fig.add_subplot(2,1,1)\n",
        "fig2 = fig.add_subplot(2,1,2)\n",
        "fig1.plot(total_loss_train, label = 'training loss')\n",
        "fig1.plot(total_acc_train, label = 'training accuracy')\n",
        "fig1.legend(loc='upper center', ncol=2)\n",
        "fig2.plot(total_loss_val, label = 'validation loss')\n",
        "fig2.plot(total_acc_val, label = 'validation accuracy')\n",
        "fig2.legend()\n",
        "plt.show()"
      ],
      "metadata": {
        "colab": {
          "base_uri": "https://localhost:8080/",
          "height": 268
        },
        "id": "t-gWFjiebTlS",
        "outputId": "8ce59536-496e-4910-bc45-2b0769205e27"
      },
      "execution_count": null,
      "outputs": [
        {
          "output_type": "display_data",
          "data": {
            "text/plain": [
              "<Figure size 432x288 with 2 Axes>"
            ],
            "image/png": "[encoded data removed]"
          },
          "metadata": {
            "needs_background": "light"
          }
        }
      ]
    },
    {
      "cell_type": "code",
      "source": [
        "# Generate a classification report\n",
        "report = classification_report(y_label, y_predict, target_names=plot_labels)\n",
        "print(report)"
      ],
      "metadata": {
        "colab": {
          "base_uri": "https://localhost:8080/"
        },
        "id": "oawKqQXYbTiI",
        "outputId": "5bc17355-2896-4cfa-d697-d9733dbc06c3"
      },
      "execution_count": null,
      "outputs": [
        {
          "output_type": "stream",
          "name": "stdout",
          "text": [
            "              precision    recall  f1-score   support\n",
            "\n",
            "       akiec       0.43      0.67      0.52        30\n",
            "         bcc       0.73      0.91      0.81        35\n",
            "         bkl       0.86      0.35      0.50        88\n",
            "          df       0.67      0.25      0.36         8\n",
            "          nv       0.95      0.97      0.96       883\n",
            "        vasc       0.39      0.46      0.42        46\n",
            "         mel       0.60      0.92      0.73        13\n",
            "\n",
            "    accuracy                           0.88      1103\n",
            "   macro avg       0.66      0.65      0.61      1103\n",
            "weighted avg       0.89      0.88      0.87      1103\n",
            "\n"
          ]
        }
      ]
    },
    {
      "cell_type": "markdown",
      "source": [
        "### Mobilenet \n"
      ],
      "metadata": {
        "id": "_M2H3kiBbsZ1"
      }
    },
    {
      "cell_type": "code",
      "source": [
        "# model mobilenet\n",
        "model_nameM = 'mobilenet'\n",
        "# Initialize the model for this run\n",
        "model_ft5, input_size5 = initialize_model(model_nameM, num_classes, feature_extract, use_pretrained=True)\n",
        "# Define the device:\n",
        "device = torch.device('cuda:0')\n",
        "# Put the model on the device:\n",
        "modelM = model_ft5.to(device)\n",
        "\n",
        "\n",
        "###### training mobilenet\n",
        "\n",
        "optimizer = optim.Adam(modelM.parameters(), lr=1e-3)\n",
        "criterion = FocalLoss()\n",
        "\n",
        "total_loss_train, total_acc_train = [],[]\n",
        "\n",
        "epoch_num = 10\n",
        "best_val_acc = 0\n",
        "total_loss_val, total_acc_val = [],[]\n",
        "for epoch in range(1, epoch_num+1):\n",
        "    loss_train, acc_train = train(train_loader, modelM, criterion, optimizer, epoch)\n",
        "    loss_val, acc_val = validate(val_loader, modelM, criterion, optimizer, epoch)\n",
        "    total_loss_val.append(loss_val)\n",
        "    total_acc_val.append(acc_val)\n",
        "    if acc_val > best_val_acc:\n",
        "        best_val_acc = acc_val\n",
        "        print('*****************************************************')\n",
        "        print('best record: [epoch %d], [val loss %.5f], [val acc %.5f]' % (epoch, loss_val, acc_val))\n",
        "        print('*****************************************************')\n"
      ],
      "metadata": {
        "colab": {
          "base_uri": "https://localhost:8080/",
          "height": 1000,
          "referenced_widgets": [
            "cca7fb6a356647eebe38a3a049aeab97",
            "bfe6f97c17e943b79662fe6b0e04646e",
            "38db19a0c76440a5bccbf41bd3c0267c",
            "f133cdfd533f47ea8fbf2dca7318a256",
            "61dfbd8486784ca2a6cdce6c9137f716",
            "b85b8c6727a3490cac797ab358df2602",
            "41f7d6a51e0a4f629d69701ab4585ab9",
            "e6fa2f0c5e204de4ae53db2f1f7308b0",
            "663d58c6947847e989ca6ef615bc6f16",
            "de57d14760d547288523204b3e84ec0a",
            "36d2995b73874724823e01027f0108c3"
          ]
        },
        "id": "pfLyXx4VbTfr",
        "outputId": "21a2f465-2ad8-4bbc-b283-24ff2602e664"
      },
      "execution_count": null,
      "outputs": [
        {
          "output_type": "stream",
          "name": "stderr",
          "text": [
            "Downloading: \"https://download.pytorch.org/models/mobilenet_v3_small-047dcff4.pth\" to /root/.cache/torch/hub/checkpoints/mobilenet_v3_small-047dcff4.pth\n"
          ]
        },
        {
          "output_type": "display_data",
          "data": {
            "text/plain": [
              "  0%|          | 0.00/9.83M [00:00<?, ?B/s]"
            ],
            "application/vnd.jupyter.widget-view+json": {
              "version_major": 2,
              "version_minor": 0,
              "model_id": "cca7fb6a356647eebe38a3a049aeab97"
            }
          },
          "metadata": {}
        },
        {
          "output_type": "stream",
          "name": "stdout",
          "text": [
            "[epoch 1], [iter 100 / 279], [train loss 0.22856], [train acc 0.64531]\n",
            "[epoch 1], [iter 200 / 279], [train loss 0.17885], [train acc 0.66156]\n",
            "------------------------------------------------------------\n",
            "[epoch 1], [val loss 0.06923], [val acc 0.84810]\n",
            "------------------------------------------------------------\n",
            "*****************************************************\n",
            "best record: [epoch 1], [val loss 0.06923], [val acc 0.84810]\n",
            "*****************************************************\n",
            "[epoch 2], [iter 100 / 279], [train loss 0.10738], [train acc 0.71437]\n",
            "[epoch 2], [iter 200 / 279], [train loss 0.09841], [train acc 0.73109]\n",
            "------------------------------------------------------------\n",
            "[epoch 2], [val loss 0.06115], [val acc 0.85881]\n",
            "------------------------------------------------------------\n",
            "*****************************************************\n",
            "best record: [epoch 2], [val loss 0.06115], [val acc 0.85881]\n",
            "*****************************************************\n",
            "[epoch 3], [iter 100 / 279], [train loss 0.08673], [train acc 0.75344]\n",
            "[epoch 3], [iter 200 / 279], [train loss 0.08507], [train acc 0.75734]\n",
            "------------------------------------------------------------\n",
            "[epoch 3], [val loss 0.03764], [val acc 0.88917]\n",
            "------------------------------------------------------------\n",
            "*****************************************************\n",
            "best record: [epoch 3], [val loss 0.03764], [val acc 0.88917]\n",
            "*****************************************************\n",
            "[epoch 4], [iter 100 / 279], [train loss 0.07453], [train acc 0.77563]\n",
            "[epoch 4], [iter 200 / 279], [train loss 0.07670], [train acc 0.76828]\n",
            "------------------------------------------------------------\n",
            "[epoch 4], [val loss 0.04260], [val acc 0.87935]\n",
            "------------------------------------------------------------\n",
            "[epoch 5], [iter 100 / 279], [train loss 0.06876], [train acc 0.78969]\n",
            "[epoch 5], [iter 200 / 279], [train loss 0.07018], [train acc 0.78328]\n",
            "------------------------------------------------------------\n",
            "[epoch 5], [val loss 0.03805], [val acc 0.88649]\n",
            "------------------------------------------------------------\n",
            "[epoch 6], [iter 100 / 279], [train loss 0.06026], [train acc 0.80625]\n",
            "[epoch 6], [iter 200 / 279], [train loss 0.06228], [train acc 0.80047]\n",
            "------------------------------------------------------------\n",
            "[epoch 6], [val loss 0.04691], [val acc 0.89262]\n",
            "------------------------------------------------------------\n",
            "*****************************************************\n",
            "best record: [epoch 6], [val loss 0.04691], [val acc 0.89262]\n",
            "*****************************************************\n",
            "[epoch 7], [iter 100 / 279], [train loss 0.06061], [train acc 0.81031]\n",
            "[epoch 7], [iter 200 / 279], [train loss 0.06174], [train acc 0.80859]\n",
            "------------------------------------------------------------\n",
            "[epoch 7], [val loss 0.04982], [val acc 0.88738]\n",
            "------------------------------------------------------------\n",
            "[epoch 8], [iter 100 / 279], [train loss 0.05539], [train acc 0.81719]\n",
            "[epoch 8], [iter 200 / 279], [train loss 0.05437], [train acc 0.82125]\n",
            "------------------------------------------------------------\n",
            "[epoch 8], [val loss 0.03811], [val acc 0.90167]\n",
            "------------------------------------------------------------\n",
            "*****************************************************\n",
            "best record: [epoch 8], [val loss 0.03811], [val acc 0.90167]\n",
            "*****************************************************\n",
            "[epoch 9], [iter 100 / 279], [train loss 0.05144], [train acc 0.83531]\n",
            "[epoch 9], [iter 200 / 279], [train loss 0.05252], [train acc 0.82969]\n",
            "------------------------------------------------------------\n",
            "[epoch 9], [val loss 0.03767], [val acc 0.87845]\n",
            "------------------------------------------------------------\n",
            "[epoch 10], [iter 100 / 279], [train loss 0.04715], [train acc 0.83219]\n",
            "[epoch 10], [iter 200 / 279], [train loss 0.04660], [train acc 0.83344]\n",
            "------------------------------------------------------------\n",
            "[epoch 10], [val loss 0.04504], [val acc 0.88560]\n",
            "------------------------------------------------------------\n"
          ]
        }
      ]
    },
    {
      "cell_type": "code",
      "source": [
        "modelM.eval()\n",
        "y_label = []\n",
        "y_predict = []\n",
        "with torch.no_grad():\n",
        "    for i, data in enumerate(val_loader):\n",
        "        images, labels = data\n",
        "        N = images.size(0)\n",
        "        images = Variable(images).to(device)\n",
        "        outputs = modelM(images)\n",
        "        prediction = outputs.max(1, keepdim=True)[1]\n",
        "        y_label.extend(labels.cpu().numpy())\n",
        "        y_predict.extend(np.squeeze(prediction.cpu().numpy().T))\n",
        "\n",
        "# compute the confusion matrix\n",
        "confusion_mtx = confusion_matrix(y_label, y_predict)\n",
        "# plot the confusion matrix\n",
        "plot_labels = ['akiec', 'bcc', 'bkl', 'df', 'nv', 'vasc','mel']\n",
        "plot_confusion_matrix(confusion_mtx, plot_labels)"
      ],
      "metadata": {
        "colab": {
          "base_uri": "https://localhost:8080/",
          "height": 311
        },
        "id": "RGTXb_W4bTb3",
        "outputId": "3a1ccd89-8517-4513-b7a6-52732748eb85"
      },
      "execution_count": null,
      "outputs": [
        {
          "output_type": "display_data",
          "data": {
            "text/plain": [
              "<Figure size 432x288 with 2 Axes>"
            ],
            "image/png": "[encoded data removed]"
          },
          "metadata": {
            "needs_background": "light"
          }
        }
      ]
    },
    {
      "cell_type": "code",
      "source": [
        "fig = plt.figure(num = 2)\n",
        "fig1 = fig.add_subplot(2,1,1)\n",
        "fig2 = fig.add_subplot(2,1,2)\n",
        "fig1.plot(total_loss_train, label = 'training loss')\n",
        "fig1.plot(total_acc_train, label = 'training accuracy')\n",
        "fig1.legend(loc='upper center', ncol=2)\n",
        "fig2.plot(total_loss_val, label = 'validation loss')\n",
        "fig2.plot(total_acc_val, label = 'validation accuracy')\n",
        "fig2.legend()\n",
        "plt.show()"
      ],
      "metadata": {
        "colab": {
          "base_uri": "https://localhost:8080/",
          "height": 265
        },
        "id": "6nt_VHTFbTYf",
        "outputId": "06ca1d24-e233-4250-c9c1-01e51f9b60df"
      },
      "execution_count": null,
      "outputs": [
        {
          "output_type": "display_data",
          "data": {
            "text/plain": [
              "<Figure size 432x288 with 2 Axes>"
            ],
            "image/png": "[encoded data removed]"
          },
          "metadata": {
            "needs_background": "light"
          }
        }
      ]
    },
    {
      "cell_type": "code",
      "source": [
        "report = classification_report(y_label, y_predict, target_names=plot_labels)\n",
        "print(report)"
      ],
      "metadata": {
        "colab": {
          "base_uri": "https://localhost:8080/"
        },
        "id": "crlF9zlRbTNG",
        "outputId": "edf035fe-2ab5-487f-da30-2d524e689bdd"
      },
      "execution_count": null,
      "outputs": [
        {
          "output_type": "stream",
          "name": "stdout",
          "text": [
            "              precision    recall  f1-score   support\n",
            "\n",
            "       akiec       0.57      0.40      0.47        30\n",
            "         bcc       0.83      0.54      0.66        35\n",
            "         bkl       0.65      0.60      0.62        88\n",
            "          df       1.00      0.62      0.77         8\n",
            "          nv       0.92      0.99      0.95       883\n",
            "        vasc       0.47      0.17      0.25        46\n",
            "         mel       1.00      0.62      0.76        13\n",
            "\n",
            "    accuracy                           0.88      1103\n",
            "   macro avg       0.78      0.56      0.64      1103\n",
            "weighted avg       0.87      0.88      0.87      1103\n",
            "\n"
          ]
        }
      ]
    },
    {
      "cell_type": "code",
      "source": [
        ""
      ],
      "metadata": {
        "id": "o0NaWN5ladiq"
      },
      "execution_count": null,
      "outputs": []
    }
  ],
  "metadata": {
    "accelerator": "GPU",
    "colab": {
      "collapsed_sections": [
        "uIxc3649MVlc",
        "dk2XF25lM79W",
        "oh6rQUls9141",
        "F6olykyL-Qqu",
        "8XpvvHj8-hiC",
        "-XiRAng6_Zqy"
      ],
      "machine_shape": "hm",
      "name": "part1 baseline and focal loss ProjectModelsEvaluation.ipynb",
      "provenance": []
    },
    "kernelspec": {
      "display_name": "Python 3",
      "name": "python3"
    },
    "language_info": {
      "name": "python"
    },
    "widgets": {
      "application/vnd.jupyter.widget-state+json": {
        "d3b88f935dbd4d52aedc2e06089e191f": {
          "model_module": "@jupyter-widgets/controls",
          "model_name": "HBoxModel",
          "model_module_version": "1.5.0",
          "state": {
            "_dom_classes": [],
            "_model_module": "@jupyter-widgets/controls",
            "_model_module_version": "1.5.0",
            "_model_name": "HBoxModel",
            "_view_count": null,
            "_view_module": "@jupyter-widgets/controls",
            "_view_module_version": "1.5.0",
            "_view_name": "HBoxView",
            "box_style": "",
            "children": [
              "IPY_MODEL_32666c272ec348ae8a5548dd6b42c555",
              "IPY_MODEL_02ed31c05736449cae3233d4d7c50196",
              "IPY_MODEL_a988ce9e430344888551ad3d8e935131"
            ],
            "layout": "IPY_MODEL_75ac3015cc6d4b4fbe921d6e83482497"
          }
        },
        "32666c272ec348ae8a5548dd6b42c555": {
          "model_module": "@jupyter-widgets/controls",
          "model_name": "HTMLModel",
          "model_module_version": "1.5.0",
          "state": {
            "_dom_classes": [],
            "_model_module": "@jupyter-widgets/controls",
            "_model_module_version": "1.5.0",
            "_model_name": "HTMLModel",
            "_view_count": null,
            "_view_module": "@jupyter-widgets/controls",
            "_view_module_version": "1.5.0",
            "_view_name": "HTMLView",
            "description": "",
            "description_tooltip": null,
            "layout": "IPY_MODEL_7dbea47dfde947fbb74ca1c94b4c652f",
            "placeholder": "​",
            "style": "IPY_MODEL_65220a02b86d4eda99d5042dc69c42c4",
            "value": "100%"
          }
        },
        "02ed31c05736449cae3233d4d7c50196": {
          "model_module": "@jupyter-widgets/controls",
          "model_name": "FloatProgressModel",
          "model_module_version": "1.5.0",
          "state": {
            "_dom_classes": [],
            "_model_module": "@jupyter-widgets/controls",
            "_model_module_version": "1.5.0",
            "_model_name": "FloatProgressModel",
            "_view_count": null,
            "_view_module": "@jupyter-widgets/controls",
            "_view_module_version": "1.5.0",
            "_view_name": "ProgressView",
            "bar_style": "success",
            "description": "",
            "description_tooltip": null,
            "layout": "IPY_MODEL_bf75a6d68e5c404b886c78b895a3595a",
            "max": 531503671,
            "min": 0,
            "orientation": "horizontal",
            "style": "IPY_MODEL_65d5dd31fb1547549bf33cfea00b4a55",
            "value": 531503671
          }
        },
        "a988ce9e430344888551ad3d8e935131": {
          "model_module": "@jupyter-widgets/controls",
          "model_name": "HTMLModel",
          "model_module_version": "1.5.0",
          "state": {
            "_dom_classes": [],
            "_model_module": "@jupyter-widgets/controls",
            "_model_module_version": "1.5.0",
            "_model_name": "HTMLModel",
            "_view_count": null,
            "_view_module": "@jupyter-widgets/controls",
            "_view_module_version": "1.5.0",
            "_view_name": "HTMLView",
            "description": "",
            "description_tooltip": null,
            "layout": "IPY_MODEL_b2d4684de2e24594bbb2893521179f80",
            "placeholder": "​",
            "style": "IPY_MODEL_eab1c3bd3c1747f2b34d2765af56a056",
            "value": " 507M/507M [00:06&lt;00:00, 81.0MB/s]"
          }
        },
        "75ac3015cc6d4b4fbe921d6e83482497": {
          "model_module": "@jupyter-widgets/base",
          "model_name": "LayoutModel",
          "model_module_version": "1.2.0",
          "state": {
            "_model_module": "@jupyter-widgets/base",
            "_model_module_version": "1.2.0",
            "_model_name": "LayoutModel",
            "_view_count": null,
            "_view_module": "@jupyter-widgets/base",
            "_view_module_version": "1.2.0",
            "_view_name": "LayoutView",
            "align_content": null,
            "align_items": null,
            "align_self": null,
            "border": null,
            "bottom": null,
            "display": null,
            "flex": null,
            "flex_flow": null,
            "grid_area": null,
            "grid_auto_columns": null,
            "grid_auto_flow": null,
            "grid_auto_rows": null,
            "grid_column": null,
            "grid_gap": null,
            "grid_row": null,
            "grid_template_areas": null,
            "grid_template_columns": null,
            "grid_template_rows": null,
            "height": null,
            "justify_content": null,
            "justify_items": null,
            "left": null,
            "margin": null,
            "max_height": null,
            "max_width": null,
            "min_height": null,
            "min_width": null,
            "object_fit": null,
            "object_position": null,
            "order": null,
            "overflow": null,
            "overflow_x": null,
            "overflow_y": null,
            "padding": null,
            "right": null,
            "top": null,
            "visibility": null,
            "width": null
          }
        },
        "7dbea47dfde947fbb74ca1c94b4c652f": {
          "model_module": "@jupyter-widgets/base",
          "model_name": "LayoutModel",
          "model_module_version": "1.2.0",
          "state": {
            "_model_module": "@jupyter-widgets/base",
            "_model_module_version": "1.2.0",
            "_model_name": "LayoutModel",
            "_view_count": null,
            "_view_module": "@jupyter-widgets/base",
            "_view_module_version": "1.2.0",
            "_view_name": "LayoutView",
            "align_content": null,
            "align_items": null,
            "align_self": null,
            "border": null,
            "bottom": null,
            "display": null,
            "flex": null,
            "flex_flow": null,
            "grid_area": null,
            "grid_auto_columns": null,
            "grid_auto_flow": null,
            "grid_auto_rows": null,
            "grid_column": null,
            "grid_gap": null,
            "grid_row": null,
            "grid_template_areas": null,
            "grid_template_columns": null,
            "grid_template_rows": null,
            "height": null,
            "justify_content": null,
            "justify_items": null,
            "left": null,
            "margin": null,
            "max_height": null,
            "max_width": null,
            "min_height": null,
            "min_width": null,
            "object_fit": null,
            "object_position": null,
            "order": null,
            "overflow": null,
            "overflow_x": null,
            "overflow_y": null,
            "padding": null,
            "right": null,
            "top": null,
            "visibility": null,
            "width": null
          }
        },
        "65220a02b86d4eda99d5042dc69c42c4": {
          "model_module": "@jupyter-widgets/controls",
          "model_name": "DescriptionStyleModel",
          "model_module_version": "1.5.0",
          "state": {
            "_model_module": "@jupyter-widgets/controls",
            "_model_module_version": "1.5.0",
            "_model_name": "DescriptionStyleModel",
            "_view_count": null,
            "_view_module": "@jupyter-widgets/base",
            "_view_module_version": "1.2.0",
            "_view_name": "StyleView",
            "description_width": ""
          }
        },
        "bf75a6d68e5c404b886c78b895a3595a": {
          "model_module": "@jupyter-widgets/base",
          "model_name": "LayoutModel",
          "model_module_version": "1.2.0",
          "state": {
            "_model_module": "@jupyter-widgets/base",
            "_model_module_version": "1.2.0",
            "_model_name": "LayoutModel",
            "_view_count": null,
            "_view_module": "@jupyter-widgets/base",
            "_view_module_version": "1.2.0",
            "_view_name": "LayoutView",
            "align_content": null,
            "align_items": null,
            "align_self": null,
            "border": null,
            "bottom": null,
            "display": null,
            "flex": null,
            "flex_flow": null,
            "grid_area": null,
            "grid_auto_columns": null,
            "grid_auto_flow": null,
            "grid_auto_rows": null,
            "grid_column": null,
            "grid_gap": null,
            "grid_row": null,
            "grid_template_areas": null,
            "grid_template_columns": null,
            "grid_template_rows": null,
            "height": null,
            "justify_content": null,
            "justify_items": null,
            "left": null,
            "margin": null,
            "max_height": null,
            "max_width": null,
            "min_height": null,
            "min_width": null,
            "object_fit": null,
            "object_position": null,
            "order": null,
            "overflow": null,
            "overflow_x": null,
            "overflow_y": null,
            "padding": null,
            "right": null,
            "top": null,
            "visibility": null,
            "width": null
          }
        },
        "65d5dd31fb1547549bf33cfea00b4a55": {
          "model_module": "@jupyter-widgets/controls",
          "model_name": "ProgressStyleModel",
          "model_module_version": "1.5.0",
          "state": {
            "_model_module": "@jupyter-widgets/controls",
            "_model_module_version": "1.5.0",
            "_model_name": "ProgressStyleModel",
            "_view_count": null,
            "_view_module": "@jupyter-widgets/base",
            "_view_module_version": "1.2.0",
            "_view_name": "StyleView",
            "bar_color": null,
            "description_width": ""
          }
        },
        "b2d4684de2e24594bbb2893521179f80": {
          "model_module": "@jupyter-widgets/base",
          "model_name": "LayoutModel",
          "model_module_version": "1.2.0",
          "state": {
            "_model_module": "@jupyter-widgets/base",
            "_model_module_version": "1.2.0",
            "_model_name": "LayoutModel",
            "_view_count": null,
            "_view_module": "@jupyter-widgets/base",
            "_view_module_version": "1.2.0",
            "_view_name": "LayoutView",
            "align_content": null,
            "align_items": null,
            "align_self": null,
            "border": null,
            "bottom": null,
            "display": null,
            "flex": null,
            "flex_flow": null,
            "grid_area": null,
            "grid_auto_columns": null,
            "grid_auto_flow": null,
            "grid_auto_rows": null,
            "grid_column": null,
            "grid_gap": null,
            "grid_row": null,
            "grid_template_areas": null,
            "grid_template_columns": null,
            "grid_template_rows": null,
            "height": null,
            "justify_content": null,
            "justify_items": null,
            "left": null,
            "margin": null,
            "max_height": null,
            "max_width": null,
            "min_height": null,
            "min_width": null,
            "object_fit": null,
            "object_position": null,
            "order": null,
            "overflow": null,
            "overflow_x": null,
            "overflow_y": null,
            "padding": null,
            "right": null,
            "top": null,
            "visibility": null,
            "width": null
          }
        },
        "eab1c3bd3c1747f2b34d2765af56a056": {
          "model_module": "@jupyter-widgets/controls",
          "model_name": "DescriptionStyleModel",
          "model_module_version": "1.5.0",
          "state": {
            "_model_module": "@jupyter-widgets/controls",
            "_model_module_version": "1.5.0",
            "_model_name": "DescriptionStyleModel",
            "_view_count": null,
            "_view_module": "@jupyter-widgets/base",
            "_view_module_version": "1.2.0",
            "_view_name": "StyleView",
            "description_width": ""
          }
        },
        "6c3401897ac24538871d659239bf4fe8": {
          "model_module": "@jupyter-widgets/controls",
          "model_name": "HBoxModel",
          "model_module_version": "1.5.0",
          "state": {
            "_dom_classes": [],
            "_model_module": "@jupyter-widgets/controls",
            "_model_module_version": "1.5.0",
            "_model_name": "HBoxModel",
            "_view_count": null,
            "_view_module": "@jupyter-widgets/controls",
            "_view_module_version": "1.5.0",
            "_view_name": "HBoxView",
            "box_style": "",
            "children": [
              "IPY_MODEL_a32d3e8769694539bcfccc6079060868",
              "IPY_MODEL_e7f3a0d023ea4d6693b451831b33312f",
              "IPY_MODEL_ba5ba439896e45da89cb379e2d09850c"
            ],
            "layout": "IPY_MODEL_8905bcdbceb84e19a0538cbdb7738098"
          }
        },
        "a32d3e8769694539bcfccc6079060868": {
          "model_module": "@jupyter-widgets/controls",
          "model_name": "HTMLModel",
          "model_module_version": "1.5.0",
          "state": {
            "_dom_classes": [],
            "_model_module": "@jupyter-widgets/controls",
            "_model_module_version": "1.5.0",
            "_model_name": "HTMLModel",
            "_view_count": null,
            "_view_module": "@jupyter-widgets/controls",
            "_view_module_version": "1.5.0",
            "_view_name": "HTMLView",
            "description": "",
            "description_tooltip": null,
            "layout": "IPY_MODEL_dd7021db436048e1aa3b0c8451e061cf",
            "placeholder": "​",
            "style": "IPY_MODEL_424037b29cb04219b426e6e57c2ab855",
            "value": "100%"
          }
        },
        "e7f3a0d023ea4d6693b451831b33312f": {
          "model_module": "@jupyter-widgets/controls",
          "model_name": "FloatProgressModel",
          "model_module_version": "1.5.0",
          "state": {
            "_dom_classes": [],
            "_model_module": "@jupyter-widgets/controls",
            "_model_module_version": "1.5.0",
            "_model_name": "FloatProgressModel",
            "_view_count": null,
            "_view_module": "@jupyter-widgets/controls",
            "_view_module_version": "1.5.0",
            "_view_name": "ProgressView",
            "bar_style": "success",
            "description": "",
            "description_tooltip": null,
            "layout": "IPY_MODEL_67f822ce0cd94dec9b49f19a20cb963f",
            "max": 32342954,
            "min": 0,
            "orientation": "horizontal",
            "style": "IPY_MODEL_8aa2e810dddf41718652c3e26606822f",
            "value": 32342954
          }
        },
        "ba5ba439896e45da89cb379e2d09850c": {
          "model_module": "@jupyter-widgets/controls",
          "model_name": "HTMLModel",
          "model_module_version": "1.5.0",
          "state": {
            "_dom_classes": [],
            "_model_module": "@jupyter-widgets/controls",
            "_model_module_version": "1.5.0",
            "_model_name": "HTMLModel",
            "_view_count": null,
            "_view_module": "@jupyter-widgets/controls",
            "_view_module_version": "1.5.0",
            "_view_name": "HTMLView",
            "description": "",
            "description_tooltip": null,
            "layout": "IPY_MODEL_69d56538e5fc4feb8c35e1ac337e9068",
            "placeholder": "​",
            "style": "IPY_MODEL_81cd84ba69844dac91d9b3139bc5d9cf",
            "value": " 30.8M/30.8M [00:00&lt;00:00, 109MB/s]"
          }
        },
        "8905bcdbceb84e19a0538cbdb7738098": {
          "model_module": "@jupyter-widgets/base",
          "model_name": "LayoutModel",
          "model_module_version": "1.2.0",
          "state": {
            "_model_module": "@jupyter-widgets/base",
            "_model_module_version": "1.2.0",
            "_model_name": "LayoutModel",
            "_view_count": null,
            "_view_module": "@jupyter-widgets/base",
            "_view_module_version": "1.2.0",
            "_view_name": "LayoutView",
            "align_content": null,
            "align_items": null,
            "align_self": null,
            "border": null,
            "bottom": null,
            "display": null,
            "flex": null,
            "flex_flow": null,
            "grid_area": null,
            "grid_auto_columns": null,
            "grid_auto_flow": null,
            "grid_auto_rows": null,
            "grid_column": null,
            "grid_gap": null,
            "grid_row": null,
            "grid_template_areas": null,
            "grid_template_columns": null,
            "grid_template_rows": null,
            "height": null,
            "justify_content": null,
            "justify_items": null,
            "left": null,
            "margin": null,
            "max_height": null,
            "max_width": null,
            "min_height": null,
            "min_width": null,
            "object_fit": null,
            "object_position": null,
            "order": null,
            "overflow": null,
            "overflow_x": null,
            "overflow_y": null,
            "padding": null,
            "right": null,
            "top": null,
            "visibility": null,
            "width": null
          }
        },
        "dd7021db436048e1aa3b0c8451e061cf": {
          "model_module": "@jupyter-widgets/base",
          "model_name": "LayoutModel",
          "model_module_version": "1.2.0",
          "state": {
            "_model_module": "@jupyter-widgets/base",
            "_model_module_version": "1.2.0",
            "_model_name": "LayoutModel",
            "_view_count": null,
            "_view_module": "@jupyter-widgets/base",
            "_view_module_version": "1.2.0",
            "_view_name": "LayoutView",
            "align_content": null,
            "align_items": null,
            "align_self": null,
            "border": null,
            "bottom": null,
            "display": null,
            "flex": null,
            "flex_flow": null,
            "grid_area": null,
            "grid_auto_columns": null,
            "grid_auto_flow": null,
            "grid_auto_rows": null,
            "grid_column": null,
            "grid_gap": null,
            "grid_row": null,
            "grid_template_areas": null,
            "grid_template_columns": null,
            "grid_template_rows": null,
            "height": null,
            "justify_content": null,
            "justify_items": null,
            "left": null,
            "margin": null,
            "max_height": null,
            "max_width": null,
            "min_height": null,
            "min_width": null,
            "object_fit": null,
            "object_position": null,
            "order": null,
            "overflow": null,
            "overflow_x": null,
            "overflow_y": null,
            "padding": null,
            "right": null,
            "top": null,
            "visibility": null,
            "width": null
          }
        },
        "424037b29cb04219b426e6e57c2ab855": {
          "model_module": "@jupyter-widgets/controls",
          "model_name": "DescriptionStyleModel",
          "model_module_version": "1.5.0",
          "state": {
            "_model_module": "@jupyter-widgets/controls",
            "_model_module_version": "1.5.0",
            "_model_name": "DescriptionStyleModel",
            "_view_count": null,
            "_view_module": "@jupyter-widgets/base",
            "_view_module_version": "1.2.0",
            "_view_name": "StyleView",
            "description_width": ""
          }
        },
        "67f822ce0cd94dec9b49f19a20cb963f": {
          "model_module": "@jupyter-widgets/base",
          "model_name": "LayoutModel",
          "model_module_version": "1.2.0",
          "state": {
            "_model_module": "@jupyter-widgets/base",
            "_model_module_version": "1.2.0",
            "_model_name": "LayoutModel",
            "_view_count": null,
            "_view_module": "@jupyter-widgets/base",
            "_view_module_version": "1.2.0",
            "_view_name": "LayoutView",
            "align_content": null,
            "align_items": null,
            "align_self": null,
            "border": null,
            "bottom": null,
            "display": null,
            "flex": null,
            "flex_flow": null,
            "grid_area": null,
            "grid_auto_columns": null,
            "grid_auto_flow": null,
            "grid_auto_rows": null,
            "grid_column": null,
            "grid_gap": null,
            "grid_row": null,
            "grid_template_areas": null,
            "grid_template_columns": null,
            "grid_template_rows": null,
            "height": null,
            "justify_content": null,
            "justify_items": null,
            "left": null,
            "margin": null,
            "max_height": null,
            "max_width": null,
            "min_height": null,
            "min_width": null,
            "object_fit": null,
            "object_position": null,
            "order": null,
            "overflow": null,
            "overflow_x": null,
            "overflow_y": null,
            "padding": null,
            "right": null,
            "top": null,
            "visibility": null,
            "width": null
          }
        },
        "8aa2e810dddf41718652c3e26606822f": {
          "model_module": "@jupyter-widgets/controls",
          "model_name": "ProgressStyleModel",
          "model_module_version": "1.5.0",
          "state": {
            "_model_module": "@jupyter-widgets/controls",
            "_model_module_version": "1.5.0",
            "_model_name": "ProgressStyleModel",
            "_view_count": null,
            "_view_module": "@jupyter-widgets/base",
            "_view_module_version": "1.2.0",
            "_view_name": "StyleView",
            "bar_color": null,
            "description_width": ""
          }
        },
        "69d56538e5fc4feb8c35e1ac337e9068": {
          "model_module": "@jupyter-widgets/base",
          "model_name": "LayoutModel",
          "model_module_version": "1.2.0",
          "state": {
            "_model_module": "@jupyter-widgets/base",
            "_model_module_version": "1.2.0",
            "_model_name": "LayoutModel",
            "_view_count": null,
            "_view_module": "@jupyter-widgets/base",
            "_view_module_version": "1.2.0",
            "_view_name": "LayoutView",
            "align_content": null,
            "align_items": null,
            "align_self": null,
            "border": null,
            "bottom": null,
            "display": null,
            "flex": null,
            "flex_flow": null,
            "grid_area": null,
            "grid_auto_columns": null,
            "grid_auto_flow": null,
            "grid_auto_rows": null,
            "grid_column": null,
            "grid_gap": null,
            "grid_row": null,
            "grid_template_areas": null,
            "grid_template_columns": null,
            "grid_template_rows": null,
            "height": null,
            "justify_content": null,
            "justify_items": null,
            "left": null,
            "margin": null,
            "max_height": null,
            "max_width": null,
            "min_height": null,
            "min_width": null,
            "object_fit": null,
            "object_position": null,
            "order": null,
            "overflow": null,
            "overflow_x": null,
            "overflow_y": null,
            "padding": null,
            "right": null,
            "top": null,
            "visibility": null,
            "width": null
          }
        },
        "81cd84ba69844dac91d9b3139bc5d9cf": {
          "model_module": "@jupyter-widgets/controls",
          "model_name": "DescriptionStyleModel",
          "model_module_version": "1.5.0",
          "state": {
            "_model_module": "@jupyter-widgets/controls",
            "_model_module_version": "1.5.0",
            "_model_name": "DescriptionStyleModel",
            "_view_count": null,
            "_view_module": "@jupyter-widgets/base",
            "_view_module_version": "1.2.0",
            "_view_name": "StyleView",
            "description_width": ""
          }
        },
        "fd991a6de6f843eaab3499318d9e842f": {
          "model_module": "@jupyter-widgets/controls",
          "model_name": "HBoxModel",
          "model_module_version": "1.5.0",
          "state": {
            "_dom_classes": [],
            "_model_module": "@jupyter-widgets/controls",
            "_model_module_version": "1.5.0",
            "_model_name": "HBoxModel",
            "_view_count": null,
            "_view_module": "@jupyter-widgets/controls",
            "_view_module_version": "1.5.0",
            "_view_name": "HBoxView",
            "box_style": "",
            "children": [
              "IPY_MODEL_a1287f3dad784637918013d873db4e5e",
              "IPY_MODEL_2eb5fcf01f19424090a77ad3754fa3ba",
              "IPY_MODEL_bb6e530b537546cbb863c1b53072ff04"
            ],
            "layout": "IPY_MODEL_fe60419fdd444385b40c891178bee453"
          }
        },
        "a1287f3dad784637918013d873db4e5e": {
          "model_module": "@jupyter-widgets/controls",
          "model_name": "HTMLModel",
          "model_module_version": "1.5.0",
          "state": {
            "_dom_classes": [],
            "_model_module": "@jupyter-widgets/controls",
            "_model_module_version": "1.5.0",
            "_model_name": "HTMLModel",
            "_view_count": null,
            "_view_module": "@jupyter-widgets/controls",
            "_view_module_version": "1.5.0",
            "_view_name": "HTMLView",
            "description": "",
            "description_tooltip": null,
            "layout": "IPY_MODEL_79f5d03ade364d709f8610a63c51ff59",
            "placeholder": "​",
            "style": "IPY_MODEL_304aedd54e30477099b783a1f405a300",
            "value": "100%"
          }
        },
        "2eb5fcf01f19424090a77ad3754fa3ba": {
          "model_module": "@jupyter-widgets/controls",
          "model_name": "FloatProgressModel",
          "model_module_version": "1.5.0",
          "state": {
            "_dom_classes": [],
            "_model_module": "@jupyter-widgets/controls",
            "_model_module_version": "1.5.0",
            "_model_name": "FloatProgressModel",
            "_view_count": null,
            "_view_module": "@jupyter-widgets/controls",
            "_view_module_version": "1.5.0",
            "_view_name": "ProgressView",
            "bar_style": "success",
            "description": "",
            "description_tooltip": null,
            "layout": "IPY_MODEL_55f92ba15f7540a2a957386d1bee7618",
            "max": 108949747,
            "min": 0,
            "orientation": "horizontal",
            "style": "IPY_MODEL_19f03e0b82c641b99a3b632bb742fcf5",
            "value": 108949747
          }
        },
        "bb6e530b537546cbb863c1b53072ff04": {
          "model_module": "@jupyter-widgets/controls",
          "model_name": "HTMLModel",
          "model_module_version": "1.5.0",
          "state": {
            "_dom_classes": [],
            "_model_module": "@jupyter-widgets/controls",
            "_model_module_version": "1.5.0",
            "_model_name": "HTMLModel",
            "_view_count": null,
            "_view_module": "@jupyter-widgets/controls",
            "_view_module_version": "1.5.0",
            "_view_name": "HTMLView",
            "description": "",
            "description_tooltip": null,
            "layout": "IPY_MODEL_dbc4eaea7ed94000817c73f67731186e",
            "placeholder": "​",
            "style": "IPY_MODEL_ce896a58c3ff4e7d8a09d5c885fd02bc",
            "value": " 104M/104M [00:01&lt;00:00, 72.7MB/s]"
          }
        },
        "fe60419fdd444385b40c891178bee453": {
          "model_module": "@jupyter-widgets/base",
          "model_name": "LayoutModel",
          "model_module_version": "1.2.0",
          "state": {
            "_model_module": "@jupyter-widgets/base",
            "_model_module_version": "1.2.0",
            "_model_name": "LayoutModel",
            "_view_count": null,
            "_view_module": "@jupyter-widgets/base",
            "_view_module_version": "1.2.0",
            "_view_name": "LayoutView",
            "align_content": null,
            "align_items": null,
            "align_self": null,
            "border": null,
            "bottom": null,
            "display": null,
            "flex": null,
            "flex_flow": null,
            "grid_area": null,
            "grid_auto_columns": null,
            "grid_auto_flow": null,
            "grid_auto_rows": null,
            "grid_column": null,
            "grid_gap": null,
            "grid_row": null,
            "grid_template_areas": null,
            "grid_template_columns": null,
            "grid_template_rows": null,
            "height": null,
            "justify_content": null,
            "justify_items": null,
            "left": null,
            "margin": null,
            "max_height": null,
            "max_width": null,
            "min_height": null,
            "min_width": null,
            "object_fit": null,
            "object_position": null,
            "order": null,
            "overflow": null,
            "overflow_x": null,
            "overflow_y": null,
            "padding": null,
            "right": null,
            "top": null,
            "visibility": null,
            "width": null
          }
        },
        "79f5d03ade364d709f8610a63c51ff59": {
          "model_module": "@jupyter-widgets/base",
          "model_name": "LayoutModel",
          "model_module_version": "1.2.0",
          "state": {
            "_model_module": "@jupyter-widgets/base",
            "_model_module_version": "1.2.0",
            "_model_name": "LayoutModel",
            "_view_count": null,
            "_view_module": "@jupyter-widgets/base",
            "_view_module_version": "1.2.0",
            "_view_name": "LayoutView",
            "align_content": null,
            "align_items": null,
            "align_self": null,
            "border": null,
            "bottom": null,
            "display": null,
            "flex": null,
            "flex_flow": null,
            "grid_area": null,
            "grid_auto_columns": null,
            "grid_auto_flow": null,
            "grid_auto_rows": null,
            "grid_column": null,
            "grid_gap": null,
            "grid_row": null,
            "grid_template_areas": null,
            "grid_template_columns": null,
            "grid_template_rows": null,
            "height": null,
            "justify_content": null,
            "justify_items": null,
            "left": null,
            "margin": null,
            "max_height": null,
            "max_width": null,
            "min_height": null,
            "min_width": null,
            "object_fit": null,
            "object_position": null,
            "order": null,
            "overflow": null,
            "overflow_x": null,
            "overflow_y": null,
            "padding": null,
            "right": null,
            "top": null,
            "visibility": null,
            "width": null
          }
        },
        "304aedd54e30477099b783a1f405a300": {
          "model_module": "@jupyter-widgets/controls",
          "model_name": "DescriptionStyleModel",
          "model_module_version": "1.5.0",
          "state": {
            "_model_module": "@jupyter-widgets/controls",
            "_model_module_version": "1.5.0",
            "_model_name": "DescriptionStyleModel",
            "_view_count": null,
            "_view_module": "@jupyter-widgets/base",
            "_view_module_version": "1.2.0",
            "_view_name": "StyleView",
            "description_width": ""
          }
        },
        "55f92ba15f7540a2a957386d1bee7618": {
          "model_module": "@jupyter-widgets/base",
          "model_name": "LayoutModel",
          "model_module_version": "1.2.0",
          "state": {
            "_model_module": "@jupyter-widgets/base",
            "_model_module_version": "1.2.0",
            "_model_name": "LayoutModel",
            "_view_count": null,
            "_view_module": "@jupyter-widgets/base",
            "_view_module_version": "1.2.0",
            "_view_name": "LayoutView",
            "align_content": null,
            "align_items": null,
            "align_self": null,
            "border": null,
            "bottom": null,
            "display": null,
            "flex": null,
            "flex_flow": null,
            "grid_area": null,
            "grid_auto_columns": null,
            "grid_auto_flow": null,
            "grid_auto_rows": null,
            "grid_column": null,
            "grid_gap": null,
            "grid_row": null,
            "grid_template_areas": null,
            "grid_template_columns": null,
            "grid_template_rows": null,
            "height": null,
            "justify_content": null,
            "justify_items": null,
            "left": null,
            "margin": null,
            "max_height": null,
            "max_width": null,
            "min_height": null,
            "min_width": null,
            "object_fit": null,
            "object_position": null,
            "order": null,
            "overflow": null,
            "overflow_x": null,
            "overflow_y": null,
            "padding": null,
            "right": null,
            "top": null,
            "visibility": null,
            "width": null
          }
        },
        "19f03e0b82c641b99a3b632bb742fcf5": {
          "model_module": "@jupyter-widgets/controls",
          "model_name": "ProgressStyleModel",
          "model_module_version": "1.5.0",
          "state": {
            "_model_module": "@jupyter-widgets/controls",
            "_model_module_version": "1.5.0",
            "_model_name": "ProgressStyleModel",
            "_view_count": null,
            "_view_module": "@jupyter-widgets/base",
            "_view_module_version": "1.2.0",
            "_view_name": "StyleView",
            "bar_color": null,
            "description_width": ""
          }
        },
        "dbc4eaea7ed94000817c73f67731186e": {
          "model_module": "@jupyter-widgets/base",
          "model_name": "LayoutModel",
          "model_module_version": "1.2.0",
          "state": {
            "_model_module": "@jupyter-widgets/base",
            "_model_module_version": "1.2.0",
            "_model_name": "LayoutModel",
            "_view_count": null,
            "_view_module": "@jupyter-widgets/base",
            "_view_module_version": "1.2.0",
            "_view_name": "LayoutView",
            "align_content": null,
            "align_items": null,
            "align_self": null,
            "border": null,
            "bottom": null,
            "display": null,
            "flex": null,
            "flex_flow": null,
            "grid_area": null,
            "grid_auto_columns": null,
            "grid_auto_flow": null,
            "grid_auto_rows": null,
            "grid_column": null,
            "grid_gap": null,
            "grid_row": null,
            "grid_template_areas": null,
            "grid_template_columns": null,
            "grid_template_rows": null,
            "height": null,
            "justify_content": null,
            "justify_items": null,
            "left": null,
            "margin": null,
            "max_height": null,
            "max_width": null,
            "min_height": null,
            "min_width": null,
            "object_fit": null,
            "object_position": null,
            "order": null,
            "overflow": null,
            "overflow_x": null,
            "overflow_y": null,
            "padding": null,
            "right": null,
            "top": null,
            "visibility": null,
            "width": null
          }
        },
        "ce896a58c3ff4e7d8a09d5c885fd02bc": {
          "model_module": "@jupyter-widgets/controls",
          "model_name": "DescriptionStyleModel",
          "model_module_version": "1.5.0",
          "state": {
            "_model_module": "@jupyter-widgets/controls",
            "_model_module_version": "1.5.0",
            "_model_name": "DescriptionStyleModel",
            "_view_count": null,
            "_view_module": "@jupyter-widgets/base",
            "_view_module_version": "1.2.0",
            "_view_name": "StyleView",
            "description_width": ""
          }
        },
        "20b81bc062334a69a838243b1b329524": {
          "model_module": "@jupyter-widgets/controls",
          "model_name": "HBoxModel",
          "model_module_version": "1.5.0",
          "state": {
            "_dom_classes": [],
            "_model_module": "@jupyter-widgets/controls",
            "_model_module_version": "1.5.0",
            "_model_name": "HBoxModel",
            "_view_count": null,
            "_view_module": "@jupyter-widgets/controls",
            "_view_module_version": "1.5.0",
            "_view_name": "HBoxView",
            "box_style": "",
            "children": [
              "IPY_MODEL_ee7720133675415a971f973af0915a73",
              "IPY_MODEL_1a6e94d90ff14db4ba633966c0f507dc",
              "IPY_MODEL_7e4cb20c2f144add990cd0ed456123ef"
            ],
            "layout": "IPY_MODEL_b688a98d22614fe693322dfa779e23e0"
          }
        },
        "ee7720133675415a971f973af0915a73": {
          "model_module": "@jupyter-widgets/controls",
          "model_name": "HTMLModel",
          "model_module_version": "1.5.0",
          "state": {
            "_dom_classes": [],
            "_model_module": "@jupyter-widgets/controls",
            "_model_module_version": "1.5.0",
            "_model_name": "HTMLModel",
            "_view_count": null,
            "_view_module": "@jupyter-widgets/controls",
            "_view_module_version": "1.5.0",
            "_view_name": "HTMLView",
            "description": "",
            "description_tooltip": null,
            "layout": "IPY_MODEL_8eb296b02c884a3383c7eefa2a498ff9",
            "placeholder": "​",
            "style": "IPY_MODEL_d469d06cabdd427e8a8af04274cbf9c3",
            "value": "100%"
          }
        },
        "1a6e94d90ff14db4ba633966c0f507dc": {
          "model_module": "@jupyter-widgets/controls",
          "model_name": "FloatProgressModel",
          "model_module_version": "1.5.0",
          "state": {
            "_dom_classes": [],
            "_model_module": "@jupyter-widgets/controls",
            "_model_module_version": "1.5.0",
            "_model_name": "FloatProgressModel",
            "_view_count": null,
            "_view_module": "@jupyter-widgets/controls",
            "_view_module_version": "1.5.0",
            "_view_name": "ProgressView",
            "bar_style": "success",
            "description": "",
            "description_tooltip": null,
            "layout": "IPY_MODEL_07a7ab2bd6a04756a0e2383f9faf896d",
            "max": 102530333,
            "min": 0,
            "orientation": "horizontal",
            "style": "IPY_MODEL_4eb65e5c01ca481b80c2b4ddb8a83e01",
            "value": 102530333
          }
        },
        "7e4cb20c2f144add990cd0ed456123ef": {
          "model_module": "@jupyter-widgets/controls",
          "model_name": "HTMLModel",
          "model_module_version": "1.5.0",
          "state": {
            "_dom_classes": [],
            "_model_module": "@jupyter-widgets/controls",
            "_model_module_version": "1.5.0",
            "_model_name": "HTMLModel",
            "_view_count": null,
            "_view_module": "@jupyter-widgets/controls",
            "_view_module_version": "1.5.0",
            "_view_name": "HTMLView",
            "description": "",
            "description_tooltip": null,
            "layout": "IPY_MODEL_23d3a55e58474700b1b7dc53f8d5e1c2",
            "placeholder": "​",
            "style": "IPY_MODEL_1ed5a013dfd34bbba506b8dedff4ef5d",
            "value": " 97.8M/97.8M [00:01&lt;00:00, 99.9MB/s]"
          }
        },
        "b688a98d22614fe693322dfa779e23e0": {
          "model_module": "@jupyter-widgets/base",
          "model_name": "LayoutModel",
          "model_module_version": "1.2.0",
          "state": {
            "_model_module": "@jupyter-widgets/base",
            "_model_module_version": "1.2.0",
            "_model_name": "LayoutModel",
            "_view_count": null,
            "_view_module": "@jupyter-widgets/base",
            "_view_module_version": "1.2.0",
            "_view_name": "LayoutView",
            "align_content": null,
            "align_items": null,
            "align_self": null,
            "border": null,
            "bottom": null,
            "display": null,
            "flex": null,
            "flex_flow": null,
            "grid_area": null,
            "grid_auto_columns": null,
            "grid_auto_flow": null,
            "grid_auto_rows": null,
            "grid_column": null,
            "grid_gap": null,
            "grid_row": null,
            "grid_template_areas": null,
            "grid_template_columns": null,
            "grid_template_rows": null,
            "height": null,
            "justify_content": null,
            "justify_items": null,
            "left": null,
            "margin": null,
            "max_height": null,
            "max_width": null,
            "min_height": null,
            "min_width": null,
            "object_fit": null,
            "object_position": null,
            "order": null,
            "overflow": null,
            "overflow_x": null,
            "overflow_y": null,
            "padding": null,
            "right": null,
            "top": null,
            "visibility": null,
            "width": null
          }
        },
        "8eb296b02c884a3383c7eefa2a498ff9": {
          "model_module": "@jupyter-widgets/base",
          "model_name": "LayoutModel",
          "model_module_version": "1.2.0",
          "state": {
            "_model_module": "@jupyter-widgets/base",
            "_model_module_version": "1.2.0",
            "_model_name": "LayoutModel",
            "_view_count": null,
            "_view_module": "@jupyter-widgets/base",
            "_view_module_version": "1.2.0",
            "_view_name": "LayoutView",
            "align_content": null,
            "align_items": null,
            "align_self": null,
            "border": null,
            "bottom": null,
            "display": null,
            "flex": null,
            "flex_flow": null,
            "grid_area": null,
            "grid_auto_columns": null,
            "grid_auto_flow": null,
            "grid_auto_rows": null,
            "grid_column": null,
            "grid_gap": null,
            "grid_row": null,
            "grid_template_areas": null,
            "grid_template_columns": null,
            "grid_template_rows": null,
            "height": null,
            "justify_content": null,
            "justify_items": null,
            "left": null,
            "margin": null,
            "max_height": null,
            "max_width": null,
            "min_height": null,
            "min_width": null,
            "object_fit": null,
            "object_position": null,
            "order": null,
            "overflow": null,
            "overflow_x": null,
            "overflow_y": null,
            "padding": null,
            "right": null,
            "top": null,
            "visibility": null,
            "width": null
          }
        },
        "d469d06cabdd427e8a8af04274cbf9c3": {
          "model_module": "@jupyter-widgets/controls",
          "model_name": "DescriptionStyleModel",
          "model_module_version": "1.5.0",
          "state": {
            "_model_module": "@jupyter-widgets/controls",
            "_model_module_version": "1.5.0",
            "_model_name": "DescriptionStyleModel",
            "_view_count": null,
            "_view_module": "@jupyter-widgets/base",
            "_view_module_version": "1.2.0",
            "_view_name": "StyleView",
            "description_width": ""
          }
        },
        "07a7ab2bd6a04756a0e2383f9faf896d": {
          "model_module": "@jupyter-widgets/base",
          "model_name": "LayoutModel",
          "model_module_version": "1.2.0",
          "state": {
            "_model_module": "@jupyter-widgets/base",
            "_model_module_version": "1.2.0",
            "_model_name": "LayoutModel",
            "_view_count": null,
            "_view_module": "@jupyter-widgets/base",
            "_view_module_version": "1.2.0",
            "_view_name": "LayoutView",
            "align_content": null,
            "align_items": null,
            "align_self": null,
            "border": null,
            "bottom": null,
            "display": null,
            "flex": null,
            "flex_flow": null,
            "grid_area": null,
            "grid_auto_columns": null,
            "grid_auto_flow": null,
            "grid_auto_rows": null,
            "grid_column": null,
            "grid_gap": null,
            "grid_row": null,
            "grid_template_areas": null,
            "grid_template_columns": null,
            "grid_template_rows": null,
            "height": null,
            "justify_content": null,
            "justify_items": null,
            "left": null,
            "margin": null,
            "max_height": null,
            "max_width": null,
            "min_height": null,
            "min_width": null,
            "object_fit": null,
            "object_position": null,
            "order": null,
            "overflow": null,
            "overflow_x": null,
            "overflow_y": null,
            "padding": null,
            "right": null,
            "top": null,
            "visibility": null,
            "width": null
          }
        },
        "4eb65e5c01ca481b80c2b4ddb8a83e01": {
          "model_module": "@jupyter-widgets/controls",
          "model_name": "ProgressStyleModel",
          "model_module_version": "1.5.0",
          "state": {
            "_model_module": "@jupyter-widgets/controls",
            "_model_module_version": "1.5.0",
            "_model_name": "ProgressStyleModel",
            "_view_count": null,
            "_view_module": "@jupyter-widgets/base",
            "_view_module_version": "1.2.0",
            "_view_name": "StyleView",
            "bar_color": null,
            "description_width": ""
          }
        },
        "23d3a55e58474700b1b7dc53f8d5e1c2": {
          "model_module": "@jupyter-widgets/base",
          "model_name": "LayoutModel",
          "model_module_version": "1.2.0",
          "state": {
            "_model_module": "@jupyter-widgets/base",
            "_model_module_version": "1.2.0",
            "_model_name": "LayoutModel",
            "_view_count": null,
            "_view_module": "@jupyter-widgets/base",
            "_view_module_version": "1.2.0",
            "_view_name": "LayoutView",
            "align_content": null,
            "align_items": null,
            "align_self": null,
            "border": null,
            "bottom": null,
            "display": null,
            "flex": null,
            "flex_flow": null,
            "grid_area": null,
            "grid_auto_columns": null,
            "grid_auto_flow": null,
            "grid_auto_rows": null,
            "grid_column": null,
            "grid_gap": null,
            "grid_row": null,
            "grid_template_areas": null,
            "grid_template_columns": null,
            "grid_template_rows": null,
            "height": null,
            "justify_content": null,
            "justify_items": null,
            "left": null,
            "margin": null,
            "max_height": null,
            "max_width": null,
            "min_height": null,
            "min_width": null,
            "object_fit": null,
            "object_position": null,
            "order": null,
            "overflow": null,
            "overflow_x": null,
            "overflow_y": null,
            "padding": null,
            "right": null,
            "top": null,
            "visibility": null,
            "width": null
          }
        },
        "1ed5a013dfd34bbba506b8dedff4ef5d": {
          "model_module": "@jupyter-widgets/controls",
          "model_name": "DescriptionStyleModel",
          "model_module_version": "1.5.0",
          "state": {
            "_model_module": "@jupyter-widgets/controls",
            "_model_module_version": "1.5.0",
            "_model_name": "DescriptionStyleModel",
            "_view_count": null,
            "_view_module": "@jupyter-widgets/base",
            "_view_module_version": "1.2.0",
            "_view_name": "StyleView",
            "description_width": ""
          }
        },
        "dc07e652282e44eba374ffc90ac3c94f": {
          "model_module": "@jupyter-widgets/controls",
          "model_name": "HBoxModel",
          "model_module_version": "1.5.0",
          "state": {
            "_dom_classes": [],
            "_model_module": "@jupyter-widgets/controls",
            "_model_module_version": "1.5.0",
            "_model_name": "HBoxModel",
            "_view_count": null,
            "_view_module": "@jupyter-widgets/controls",
            "_view_module_version": "1.5.0",
            "_view_name": "HBoxView",
            "box_style": "",
            "children": [
              "IPY_MODEL_eb529bb09c4f4b9fb259ed69b5838d06",
              "IPY_MODEL_92738563e46843b1bcd75d97a66f0128",
              "IPY_MODEL_9e858502b6e244868b0984a0ef2d5e5b"
            ],
            "layout": "IPY_MODEL_8eb921caeecd4c9da61fcd24ea46b290"
          }
        },
        "eb529bb09c4f4b9fb259ed69b5838d06": {
          "model_module": "@jupyter-widgets/controls",
          "model_name": "HTMLModel",
          "model_module_version": "1.5.0",
          "state": {
            "_dom_classes": [],
            "_model_module": "@jupyter-widgets/controls",
            "_model_module_version": "1.5.0",
            "_model_name": "HTMLModel",
            "_view_count": null,
            "_view_module": "@jupyter-widgets/controls",
            "_view_module_version": "1.5.0",
            "_view_name": "HTMLView",
            "description": "",
            "description_tooltip": null,
            "layout": "IPY_MODEL_7875cdd89747405db9036c660a3012c7",
            "placeholder": "​",
            "style": "IPY_MODEL_b40b1d25a5594de69ff6eef9a5277f3d",
            "value": "100%"
          }
        },
        "92738563e46843b1bcd75d97a66f0128": {
          "model_module": "@jupyter-widgets/controls",
          "model_name": "FloatProgressModel",
          "model_module_version": "1.5.0",
          "state": {
            "_dom_classes": [],
            "_model_module": "@jupyter-widgets/controls",
            "_model_module_version": "1.5.0",
            "_model_name": "FloatProgressModel",
            "_view_count": null,
            "_view_module": "@jupyter-widgets/controls",
            "_view_module_version": "1.5.0",
            "_view_name": "ProgressView",
            "bar_style": "success",
            "description": "",
            "description_tooltip": null,
            "layout": "IPY_MODEL_05f6b3b380ef4ccf93c684935d8240fa",
            "max": 10306551,
            "min": 0,
            "orientation": "horizontal",
            "style": "IPY_MODEL_ed329b8f23e84fe9a414016882b06306",
            "value": 10306551
          }
        },
        "9e858502b6e244868b0984a0ef2d5e5b": {
          "model_module": "@jupyter-widgets/controls",
          "model_name": "HTMLModel",
          "model_module_version": "1.5.0",
          "state": {
            "_dom_classes": [],
            "_model_module": "@jupyter-widgets/controls",
            "_model_module_version": "1.5.0",
            "_model_name": "HTMLModel",
            "_view_count": null,
            "_view_module": "@jupyter-widgets/controls",
            "_view_module_version": "1.5.0",
            "_view_name": "HTMLView",
            "description": "",
            "description_tooltip": null,
            "layout": "IPY_MODEL_7bd0b31472dd4bdea7a93481f813c79b",
            "placeholder": "​",
            "style": "IPY_MODEL_0236c5c9ad994fa7834227ad67ce1a5c",
            "value": " 9.83M/9.83M [00:00&lt;00:00, 52.7MB/s]"
          }
        },
        "8eb921caeecd4c9da61fcd24ea46b290": {
          "model_module": "@jupyter-widgets/base",
          "model_name": "LayoutModel",
          "model_module_version": "1.2.0",
          "state": {
            "_model_module": "@jupyter-widgets/base",
            "_model_module_version": "1.2.0",
            "_model_name": "LayoutModel",
            "_view_count": null,
            "_view_module": "@jupyter-widgets/base",
            "_view_module_version": "1.2.0",
            "_view_name": "LayoutView",
            "align_content": null,
            "align_items": null,
            "align_self": null,
            "border": null,
            "bottom": null,
            "display": null,
            "flex": null,
            "flex_flow": null,
            "grid_area": null,
            "grid_auto_columns": null,
            "grid_auto_flow": null,
            "grid_auto_rows": null,
            "grid_column": null,
            "grid_gap": null,
            "grid_row": null,
            "grid_template_areas": null,
            "grid_template_columns": null,
            "grid_template_rows": null,
            "height": null,
            "justify_content": null,
            "justify_items": null,
            "left": null,
            "margin": null,
            "max_height": null,
            "max_width": null,
            "min_height": null,
            "min_width": null,
            "object_fit": null,
            "object_position": null,
            "order": null,
            "overflow": null,
            "overflow_x": null,
            "overflow_y": null,
            "padding": null,
            "right": null,
            "top": null,
            "visibility": null,
            "width": null
          }
        },
        "7875cdd89747405db9036c660a3012c7": {
          "model_module": "@jupyter-widgets/base",
          "model_name": "LayoutModel",
          "model_module_version": "1.2.0",
          "state": {
            "_model_module": "@jupyter-widgets/base",
            "_model_module_version": "1.2.0",
            "_model_name": "LayoutModel",
            "_view_count": null,
            "_view_module": "@jupyter-widgets/base",
            "_view_module_version": "1.2.0",
            "_view_name": "LayoutView",
            "align_content": null,
            "align_items": null,
            "align_self": null,
            "border": null,
            "bottom": null,
            "display": null,
            "flex": null,
            "flex_flow": null,
            "grid_area": null,
            "grid_auto_columns": null,
            "grid_auto_flow": null,
            "grid_auto_rows": null,
            "grid_column": null,
            "grid_gap": null,
            "grid_row": null,
            "grid_template_areas": null,
            "grid_template_columns": null,
            "grid_template_rows": null,
            "height": null,
            "justify_content": null,
            "justify_items": null,
            "left": null,
            "margin": null,
            "max_height": null,
            "max_width": null,
            "min_height": null,
            "min_width": null,
            "object_fit": null,
            "object_position": null,
            "order": null,
            "overflow": null,
            "overflow_x": null,
            "overflow_y": null,
            "padding": null,
            "right": null,
            "top": null,
            "visibility": null,
            "width": null
          }
        },
        "b40b1d25a5594de69ff6eef9a5277f3d": {
          "model_module": "@jupyter-widgets/controls",
          "model_name": "DescriptionStyleModel",
          "model_module_version": "1.5.0",
          "state": {
            "_model_module": "@jupyter-widgets/controls",
            "_model_module_version": "1.5.0",
            "_model_name": "DescriptionStyleModel",
            "_view_count": null,
            "_view_module": "@jupyter-widgets/base",
            "_view_module_version": "1.2.0",
            "_view_name": "StyleView",
            "description_width": ""
          }
        },
        "05f6b3b380ef4ccf93c684935d8240fa": {
          "model_module": "@jupyter-widgets/base",
          "model_name": "LayoutModel",
          "model_module_version": "1.2.0",
          "state": {
            "_model_module": "@jupyter-widgets/base",
            "_model_module_version": "1.2.0",
            "_model_name": "LayoutModel",
            "_view_count": null,
            "_view_module": "@jupyter-widgets/base",
            "_view_module_version": "1.2.0",
            "_view_name": "LayoutView",
            "align_content": null,
            "align_items": null,
            "align_self": null,
            "border": null,
            "bottom": null,
            "display": null,
            "flex": null,
            "flex_flow": null,
            "grid_area": null,
            "grid_auto_columns": null,
            "grid_auto_flow": null,
            "grid_auto_rows": null,
            "grid_column": null,
            "grid_gap": null,
            "grid_row": null,
            "grid_template_areas": null,
            "grid_template_columns": null,
            "grid_template_rows": null,
            "height": null,
            "justify_content": null,
            "justify_items": null,
            "left": null,
            "margin": null,
            "max_height": null,
            "max_width": null,
            "min_height": null,
            "min_width": null,
            "object_fit": null,
            "object_position": null,
            "order": null,
            "overflow": null,
            "overflow_x": null,
            "overflow_y": null,
            "padding": null,
            "right": null,
            "top": null,
            "visibility": null,
            "width": null
          }
        },
        "ed329b8f23e84fe9a414016882b06306": {
          "model_module": "@jupyter-widgets/controls",
          "model_name": "ProgressStyleModel",
          "model_module_version": "1.5.0",
          "state": {
            "_model_module": "@jupyter-widgets/controls",
            "_model_module_version": "1.5.0",
            "_model_name": "ProgressStyleModel",
            "_view_count": null,
            "_view_module": "@jupyter-widgets/base",
            "_view_module_version": "1.2.0",
            "_view_name": "StyleView",
            "bar_color": null,
            "description_width": ""
          }
        },
        "7bd0b31472dd4bdea7a93481f813c79b": {
          "model_module": "@jupyter-widgets/base",
          "model_name": "LayoutModel",
          "model_module_version": "1.2.0",
          "state": {
            "_model_module": "@jupyter-widgets/base",
            "_model_module_version": "1.2.0",
            "_model_name": "LayoutModel",
            "_view_count": null,
            "_view_module": "@jupyter-widgets/base",
            "_view_module_version": "1.2.0",
            "_view_name": "LayoutView",
            "align_content": null,
            "align_items": null,
            "align_self": null,
            "border": null,
            "bottom": null,
            "display": null,
            "flex": null,
            "flex_flow": null,
            "grid_area": null,
            "grid_auto_columns": null,
            "grid_auto_flow": null,
            "grid_auto_rows": null,
            "grid_column": null,
            "grid_gap": null,
            "grid_row": null,
            "grid_template_areas": null,
            "grid_template_columns": null,
            "grid_template_rows": null,
            "height": null,
            "justify_content": null,
            "justify_items": null,
            "left": null,
            "margin": null,
            "max_height": null,
            "max_width": null,
            "min_height": null,
            "min_width": null,
            "object_fit": null,
            "object_position": null,
            "order": null,
            "overflow": null,
            "overflow_x": null,
            "overflow_y": null,
            "padding": null,
            "right": null,
            "top": null,
            "visibility": null,
            "width": null
          }
        },
        "0236c5c9ad994fa7834227ad67ce1a5c": {
          "model_module": "@jupyter-widgets/controls",
          "model_name": "DescriptionStyleModel",
          "model_module_version": "1.5.0",
          "state": {
            "_model_module": "@jupyter-widgets/controls",
            "_model_module_version": "1.5.0",
            "_model_name": "DescriptionStyleModel",
            "_view_count": null,
            "_view_module": "@jupyter-widgets/base",
            "_view_module_version": "1.2.0",
            "_view_name": "StyleView",
            "description_width": ""
          }
        },
        "f478f82111cd4d9ab76c837d86158948": {
          "model_module": "@jupyter-widgets/controls",
          "model_name": "HBoxModel",
          "model_module_version": "1.5.0",
          "state": {
            "_dom_classes": [],
            "_model_module": "@jupyter-widgets/controls",
            "_model_module_version": "1.5.0",
            "_model_name": "HBoxModel",
            "_view_count": null,
            "_view_module": "@jupyter-widgets/controls",
            "_view_module_version": "1.5.0",
            "_view_name": "HBoxView",
            "box_style": "",
            "children": [
              "IPY_MODEL_ccfcf6c8b62a4752b02d7ee701bd95bc",
              "IPY_MODEL_3b78fe31856748d7b36301a109c860e1",
              "IPY_MODEL_3d11e4f659b94dbca9d35d064cd28c92"
            ],
            "layout": "IPY_MODEL_e32673006037498390a845041b167178"
          }
        },
        "ccfcf6c8b62a4752b02d7ee701bd95bc": {
          "model_module": "@jupyter-widgets/controls",
          "model_name": "HTMLModel",
          "model_module_version": "1.5.0",
          "state": {
            "_dom_classes": [],
            "_model_module": "@jupyter-widgets/controls",
            "_model_module_version": "1.5.0",
            "_model_name": "HTMLModel",
            "_view_count": null,
            "_view_module": "@jupyter-widgets/controls",
            "_view_module_version": "1.5.0",
            "_view_name": "HTMLView",
            "description": "",
            "description_tooltip": null,
            "layout": "IPY_MODEL_a30871aba1d641cfa6fc4094576bb6d9",
            "placeholder": "​",
            "style": "IPY_MODEL_6fbabd9b7383421b8e135cfcc0917c47",
            "value": "100%"
          }
        },
        "3b78fe31856748d7b36301a109c860e1": {
          "model_module": "@jupyter-widgets/controls",
          "model_name": "FloatProgressModel",
          "model_module_version": "1.5.0",
          "state": {
            "_dom_classes": [],
            "_model_module": "@jupyter-widgets/controls",
            "_model_module_version": "1.5.0",
            "_model_name": "FloatProgressModel",
            "_view_count": null,
            "_view_module": "@jupyter-widgets/controls",
            "_view_module_version": "1.5.0",
            "_view_name": "ProgressView",
            "bar_style": "success",
            "description": "",
            "description_tooltip": null,
            "layout": "IPY_MODEL_96c03c27b00d456688abeee684c0bc33",
            "max": 32342954,
            "min": 0,
            "orientation": "horizontal",
            "style": "IPY_MODEL_7124b2a9e6cc4a3f99e74976b066a56b",
            "value": 32342954
          }
        },
        "3d11e4f659b94dbca9d35d064cd28c92": {
          "model_module": "@jupyter-widgets/controls",
          "model_name": "HTMLModel",
          "model_module_version": "1.5.0",
          "state": {
            "_dom_classes": [],
            "_model_module": "@jupyter-widgets/controls",
            "_model_module_version": "1.5.0",
            "_model_name": "HTMLModel",
            "_view_count": null,
            "_view_module": "@jupyter-widgets/controls",
            "_view_module_version": "1.5.0",
            "_view_name": "HTMLView",
            "description": "",
            "description_tooltip": null,
            "layout": "IPY_MODEL_0eb0b63488044940bddd004e6ac3bbb8",
            "placeholder": "​",
            "style": "IPY_MODEL_87cc072f0c4141c895d7d31249448e44",
            "value": " 30.8M/30.8M [00:00&lt;00:00, 81.2MB/s]"
          }
        },
        "e32673006037498390a845041b167178": {
          "model_module": "@jupyter-widgets/base",
          "model_name": "LayoutModel",
          "model_module_version": "1.2.0",
          "state": {
            "_model_module": "@jupyter-widgets/base",
            "_model_module_version": "1.2.0",
            "_model_name": "LayoutModel",
            "_view_count": null,
            "_view_module": "@jupyter-widgets/base",
            "_view_module_version": "1.2.0",
            "_view_name": "LayoutView",
            "align_content": null,
            "align_items": null,
            "align_self": null,
            "border": null,
            "bottom": null,
            "display": null,
            "flex": null,
            "flex_flow": null,
            "grid_area": null,
            "grid_auto_columns": null,
            "grid_auto_flow": null,
            "grid_auto_rows": null,
            "grid_column": null,
            "grid_gap": null,
            "grid_row": null,
            "grid_template_areas": null,
            "grid_template_columns": null,
            "grid_template_rows": null,
            "height": null,
            "justify_content": null,
            "justify_items": null,
            "left": null,
            "margin": null,
            "max_height": null,
            "max_width": null,
            "min_height": null,
            "min_width": null,
            "object_fit": null,
            "object_position": null,
            "order": null,
            "overflow": null,
            "overflow_x": null,
            "overflow_y": null,
            "padding": null,
            "right": null,
            "top": null,
            "visibility": null,
            "width": null
          }
        },
        "a30871aba1d641cfa6fc4094576bb6d9": {
          "model_module": "@jupyter-widgets/base",
          "model_name": "LayoutModel",
          "model_module_version": "1.2.0",
          "state": {
            "_model_module": "@jupyter-widgets/base",
            "_model_module_version": "1.2.0",
            "_model_name": "LayoutModel",
            "_view_count": null,
            "_view_module": "@jupyter-widgets/base",
            "_view_module_version": "1.2.0",
            "_view_name": "LayoutView",
            "align_content": null,
            "align_items": null,
            "align_self": null,
            "border": null,
            "bottom": null,
            "display": null,
            "flex": null,
            "flex_flow": null,
            "grid_area": null,
            "grid_auto_columns": null,
            "grid_auto_flow": null,
            "grid_auto_rows": null,
            "grid_column": null,
            "grid_gap": null,
            "grid_row": null,
            "grid_template_areas": null,
            "grid_template_columns": null,
            "grid_template_rows": null,
            "height": null,
            "justify_content": null,
            "justify_items": null,
            "left": null,
            "margin": null,
            "max_height": null,
            "max_width": null,
            "min_height": null,
            "min_width": null,
            "object_fit": null,
            "object_position": null,
            "order": null,
            "overflow": null,
            "overflow_x": null,
            "overflow_y": null,
            "padding": null,
            "right": null,
            "top": null,
            "visibility": null,
            "width": null
          }
        },
        "6fbabd9b7383421b8e135cfcc0917c47": {
          "model_module": "@jupyter-widgets/controls",
          "model_name": "DescriptionStyleModel",
          "model_module_version": "1.5.0",
          "state": {
            "_model_module": "@jupyter-widgets/controls",
            "_model_module_version": "1.5.0",
            "_model_name": "DescriptionStyleModel",
            "_view_count": null,
            "_view_module": "@jupyter-widgets/base",
            "_view_module_version": "1.2.0",
            "_view_name": "StyleView",
            "description_width": ""
          }
        },
        "96c03c27b00d456688abeee684c0bc33": {
          "model_module": "@jupyter-widgets/base",
          "model_name": "LayoutModel",
          "model_module_version": "1.2.0",
          "state": {
            "_model_module": "@jupyter-widgets/base",
            "_model_module_version": "1.2.0",
            "_model_name": "LayoutModel",
            "_view_count": null,
            "_view_module": "@jupyter-widgets/base",
            "_view_module_version": "1.2.0",
            "_view_name": "LayoutView",
            "align_content": null,
            "align_items": null,
            "align_self": null,
            "border": null,
            "bottom": null,
            "display": null,
            "flex": null,
            "flex_flow": null,
            "grid_area": null,
            "grid_auto_columns": null,
            "grid_auto_flow": null,
            "grid_auto_rows": null,
            "grid_column": null,
            "grid_gap": null,
            "grid_row": null,
            "grid_template_areas": null,
            "grid_template_columns": null,
            "grid_template_rows": null,
            "height": null,
            "justify_content": null,
            "justify_items": null,
            "left": null,
            "margin": null,
            "max_height": null,
            "max_width": null,
            "min_height": null,
            "min_width": null,
            "object_fit": null,
            "object_position": null,
            "order": null,
            "overflow": null,
            "overflow_x": null,
            "overflow_y": null,
            "padding": null,
            "right": null,
            "top": null,
            "visibility": null,
            "width": null
          }
        },
        "7124b2a9e6cc4a3f99e74976b066a56b": {
          "model_module": "@jupyter-widgets/controls",
          "model_name": "ProgressStyleModel",
          "model_module_version": "1.5.0",
          "state": {
            "_model_module": "@jupyter-widgets/controls",
            "_model_module_version": "1.5.0",
            "_model_name": "ProgressStyleModel",
            "_view_count": null,
            "_view_module": "@jupyter-widgets/base",
            "_view_module_version": "1.2.0",
            "_view_name": "StyleView",
            "bar_color": null,
            "description_width": ""
          }
        },
        "0eb0b63488044940bddd004e6ac3bbb8": {
          "model_module": "@jupyter-widgets/base",
          "model_name": "LayoutModel",
          "model_module_version": "1.2.0",
          "state": {
            "_model_module": "@jupyter-widgets/base",
            "_model_module_version": "1.2.0",
            "_model_name": "LayoutModel",
            "_view_count": null,
            "_view_module": "@jupyter-widgets/base",
            "_view_module_version": "1.2.0",
            "_view_name": "LayoutView",
            "align_content": null,
            "align_items": null,
            "align_self": null,
            "border": null,
            "bottom": null,
            "display": null,
            "flex": null,
            "flex_flow": null,
            "grid_area": null,
            "grid_auto_columns": null,
            "grid_auto_flow": null,
            "grid_auto_rows": null,
            "grid_column": null,
            "grid_gap": null,
            "grid_row": null,
            "grid_template_areas": null,
            "grid_template_columns": null,
            "grid_template_rows": null,
            "height": null,
            "justify_content": null,
            "justify_items": null,
            "left": null,
            "margin": null,
            "max_height": null,
            "max_width": null,
            "min_height": null,
            "min_width": null,
            "object_fit": null,
            "object_position": null,
            "order": null,
            "overflow": null,
            "overflow_x": null,
            "overflow_y": null,
            "padding": null,
            "right": null,
            "top": null,
            "visibility": null,
            "width": null
          }
        },
        "87cc072f0c4141c895d7d31249448e44": {
          "model_module": "@jupyter-widgets/controls",
          "model_name": "DescriptionStyleModel",
          "model_module_version": "1.5.0",
          "state": {
            "_model_module": "@jupyter-widgets/controls",
            "_model_module_version": "1.5.0",
            "_model_name": "DescriptionStyleModel",
            "_view_count": null,
            "_view_module": "@jupyter-widgets/base",
            "_view_module_version": "1.2.0",
            "_view_name": "StyleView",
            "description_width": ""
          }
        },
        "cca7fb6a356647eebe38a3a049aeab97": {
          "model_module": "@jupyter-widgets/controls",
          "model_name": "HBoxModel",
          "model_module_version": "1.5.0",
          "state": {
            "_dom_classes": [],
            "_model_module": "@jupyter-widgets/controls",
            "_model_module_version": "1.5.0",
            "_model_name": "HBoxModel",
            "_view_count": null,
            "_view_module": "@jupyter-widgets/controls",
            "_view_module_version": "1.5.0",
            "_view_name": "HBoxView",
            "box_style": "",
            "children": [
              "IPY_MODEL_bfe6f97c17e943b79662fe6b0e04646e",
              "IPY_MODEL_38db19a0c76440a5bccbf41bd3c0267c",
              "IPY_MODEL_f133cdfd533f47ea8fbf2dca7318a256"
            ],
            "layout": "IPY_MODEL_61dfbd8486784ca2a6cdce6c9137f716"
          }
        },
        "bfe6f97c17e943b79662fe6b0e04646e": {
          "model_module": "@jupyter-widgets/controls",
          "model_name": "HTMLModel",
          "model_module_version": "1.5.0",
          "state": {
            "_dom_classes": [],
            "_model_module": "@jupyter-widgets/controls",
            "_model_module_version": "1.5.0",
            "_model_name": "HTMLModel",
            "_view_count": null,
            "_view_module": "@jupyter-widgets/controls",
            "_view_module_version": "1.5.0",
            "_view_name": "HTMLView",
            "description": "",
            "description_tooltip": null,
            "layout": "IPY_MODEL_b85b8c6727a3490cac797ab358df2602",
            "placeholder": "​",
            "style": "IPY_MODEL_41f7d6a51e0a4f629d69701ab4585ab9",
            "value": "100%"
          }
        },
        "38db19a0c76440a5bccbf41bd3c0267c": {
          "model_module": "@jupyter-widgets/controls",
          "model_name": "FloatProgressModel",
          "model_module_version": "1.5.0",
          "state": {
            "_dom_classes": [],
            "_model_module": "@jupyter-widgets/controls",
            "_model_module_version": "1.5.0",
            "_model_name": "FloatProgressModel",
            "_view_count": null,
            "_view_module": "@jupyter-widgets/controls",
            "_view_module_version": "1.5.0",
            "_view_name": "ProgressView",
            "bar_style": "success",
            "description": "",
            "description_tooltip": null,
            "layout": "IPY_MODEL_e6fa2f0c5e204de4ae53db2f1f7308b0",
            "max": 10306551,
            "min": 0,
            "orientation": "horizontal",
            "style": "IPY_MODEL_663d58c6947847e989ca6ef615bc6f16",
            "value": 10306551
          }
        },
        "f133cdfd533f47ea8fbf2dca7318a256": {
          "model_module": "@jupyter-widgets/controls",
          "model_name": "HTMLModel",
          "model_module_version": "1.5.0",
          "state": {
            "_dom_classes": [],
            "_model_module": "@jupyter-widgets/controls",
            "_model_module_version": "1.5.0",
            "_model_name": "HTMLModel",
            "_view_count": null,
            "_view_module": "@jupyter-widgets/controls",
            "_view_module_version": "1.5.0",
            "_view_name": "HTMLView",
            "description": "",
            "description_tooltip": null,
            "layout": "IPY_MODEL_de57d14760d547288523204b3e84ec0a",
            "placeholder": "​",
            "style": "IPY_MODEL_36d2995b73874724823e01027f0108c3",
            "value": " 9.83M/9.83M [00:00&lt;00:00, 10.8MB/s]"
          }
        },
        "61dfbd8486784ca2a6cdce6c9137f716": {
          "model_module": "@jupyter-widgets/base",
          "model_name": "LayoutModel",
          "model_module_version": "1.2.0",
          "state": {
            "_model_module": "@jupyter-widgets/base",
            "_model_module_version": "1.2.0",
            "_model_name": "LayoutModel",
            "_view_count": null,
            "_view_module": "@jupyter-widgets/base",
            "_view_module_version": "1.2.0",
            "_view_name": "LayoutView",
            "align_content": null,
            "align_items": null,
            "align_self": null,
            "border": null,
            "bottom": null,
            "display": null,
            "flex": null,
            "flex_flow": null,
            "grid_area": null,
            "grid_auto_columns": null,
            "grid_auto_flow": null,
            "grid_auto_rows": null,
            "grid_column": null,
            "grid_gap": null,
            "grid_row": null,
            "grid_template_areas": null,
            "grid_template_columns": null,
            "grid_template_rows": null,
            "height": null,
            "justify_content": null,
            "justify_items": null,
            "left": null,
            "margin": null,
            "max_height": null,
            "max_width": null,
            "min_height": null,
            "min_width": null,
            "object_fit": null,
            "object_position": null,
            "order": null,
            "overflow": null,
            "overflow_x": null,
            "overflow_y": null,
            "padding": null,
            "right": null,
            "top": null,
            "visibility": null,
            "width": null
          }
        },
        "b85b8c6727a3490cac797ab358df2602": {
          "model_module": "@jupyter-widgets/base",
          "model_name": "LayoutModel",
          "model_module_version": "1.2.0",
          "state": {
            "_model_module": "@jupyter-widgets/base",
            "_model_module_version": "1.2.0",
            "_model_name": "LayoutModel",
            "_view_count": null,
            "_view_module": "@jupyter-widgets/base",
            "_view_module_version": "1.2.0",
            "_view_name": "LayoutView",
            "align_content": null,
            "align_items": null,
            "align_self": null,
            "border": null,
            "bottom": null,
            "display": null,
            "flex": null,
            "flex_flow": null,
            "grid_area": null,
            "grid_auto_columns": null,
            "grid_auto_flow": null,
            "grid_auto_rows": null,
            "grid_column": null,
            "grid_gap": null,
            "grid_row": null,
            "grid_template_areas": null,
            "grid_template_columns": null,
            "grid_template_rows": null,
            "height": null,
            "justify_content": null,
            "justify_items": null,
            "left": null,
            "margin": null,
            "max_height": null,
            "max_width": null,
            "min_height": null,
            "min_width": null,
            "object_fit": null,
            "object_position": null,
            "order": null,
            "overflow": null,
            "overflow_x": null,
            "overflow_y": null,
            "padding": null,
            "right": null,
            "top": null,
            "visibility": null,
            "width": null
          }
        },
        "41f7d6a51e0a4f629d69701ab4585ab9": {
          "model_module": "@jupyter-widgets/controls",
          "model_name": "DescriptionStyleModel",
          "model_module_version": "1.5.0",
          "state": {
            "_model_module": "@jupyter-widgets/controls",
            "_model_module_version": "1.5.0",
            "_model_name": "DescriptionStyleModel",
            "_view_count": null,
            "_view_module": "@jupyter-widgets/base",
            "_view_module_version": "1.2.0",
            "_view_name": "StyleView",
            "description_width": ""
          }
        },
        "e6fa2f0c5e204de4ae53db2f1f7308b0": {
          "model_module": "@jupyter-widgets/base",
          "model_name": "LayoutModel",
          "model_module_version": "1.2.0",
          "state": {
            "_model_module": "@jupyter-widgets/base",
            "_model_module_version": "1.2.0",
            "_model_name": "LayoutModel",
            "_view_count": null,
            "_view_module": "@jupyter-widgets/base",
            "_view_module_version": "1.2.0",
            "_view_name": "LayoutView",
            "align_content": null,
            "align_items": null,
            "align_self": null,
            "border": null,
            "bottom": null,
            "display": null,
            "flex": null,
            "flex_flow": null,
            "grid_area": null,
            "grid_auto_columns": null,
            "grid_auto_flow": null,
            "grid_auto_rows": null,
            "grid_column": null,
            "grid_gap": null,
            "grid_row": null,
            "grid_template_areas": null,
            "grid_template_columns": null,
            "grid_template_rows": null,
            "height": null,
            "justify_content": null,
            "justify_items": null,
            "left": null,
            "margin": null,
            "max_height": null,
            "max_width": null,
            "min_height": null,
            "min_width": null,
            "object_fit": null,
            "object_position": null,
            "order": null,
            "overflow": null,
            "overflow_x": null,
            "overflow_y": null,
            "padding": null,
            "right": null,
            "top": null,
            "visibility": null,
            "width": null
          }
        },
        "663d58c6947847e989ca6ef615bc6f16": {
          "model_module": "@jupyter-widgets/controls",
          "model_name": "ProgressStyleModel",
          "model_module_version": "1.5.0",
          "state": {
            "_model_module": "@jupyter-widgets/controls",
            "_model_module_version": "1.5.0",
            "_model_name": "ProgressStyleModel",
            "_view_count": null,
            "_view_module": "@jupyter-widgets/base",
            "_view_module_version": "1.2.0",
            "_view_name": "StyleView",
            "bar_color": null,
            "description_width": ""
          }
        },
        "de57d14760d547288523204b3e84ec0a": {
          "model_module": "@jupyter-widgets/base",
          "model_name": "LayoutModel",
          "model_module_version": "1.2.0",
          "state": {
            "_model_module": "@jupyter-widgets/base",
            "_model_module_version": "1.2.0",
            "_model_name": "LayoutModel",
            "_view_count": null,
            "_view_module": "@jupyter-widgets/base",
            "_view_module_version": "1.2.0",
            "_view_name": "LayoutView",
            "align_content": null,
            "align_items": null,
            "align_self": null,
            "border": null,
            "bottom": null,
            "display": null,
            "flex": null,
            "flex_flow": null,
            "grid_area": null,
            "grid_auto_columns": null,
            "grid_auto_flow": null,
            "grid_auto_rows": null,
            "grid_column": null,
            "grid_gap": null,
            "grid_row": null,
            "grid_template_areas": null,
            "grid_template_columns": null,
            "grid_template_rows": null,
            "height": null,
            "justify_content": null,
            "justify_items": null,
            "left": null,
            "margin": null,
            "max_height": null,
            "max_width": null,
            "min_height": null,
            "min_width": null,
            "object_fit": null,
            "object_position": null,
            "order": null,
            "overflow": null,
            "overflow_x": null,
            "overflow_y": null,
            "padding": null,
            "right": null,
            "top": null,
            "visibility": null,
            "width": null
          }
        },
        "36d2995b73874724823e01027f0108c3": {
          "model_module": "@jupyter-widgets/controls",
          "model_name": "DescriptionStyleModel",
          "model_module_version": "1.5.0",
          "state": {
            "_model_module": "@jupyter-widgets/controls",
            "_model_module_version": "1.5.0",
            "_model_name": "DescriptionStyleModel",
            "_view_count": null,
            "_view_module": "@jupyter-widgets/base",
            "_view_module_version": "1.2.0",
            "_view_name": "StyleView",
            "description_width": ""
          }
        }
      }
    }
  },
  "nbformat": 4,
  "nbformat_minor": 0
}