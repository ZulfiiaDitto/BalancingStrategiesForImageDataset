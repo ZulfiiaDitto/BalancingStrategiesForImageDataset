{
  "cells": [
    {
      "cell_type": "code",
      "execution_count": null,
      "metadata": {
        "colab": {
          "background_save": true
        },
        "id": "AWyONCdtvo0H"
      },
      "outputs": [],
      "source": [
        "import random\n",
        "import numpy as np\n",
        "import torch \n",
        "\n",
        "def set_seed(seed):\n",
        "    random.seed(seed)\n",
        "    np.random.seed(seed)\n",
        "    torch.manual_seed(seed)\n",
        "    if torch.cuda.is_available():\n",
        "        torch.cuda.manual_seed(seed)\n",
        "        torch.cuda.manual_seed_all(seed)\n",
        "set_seed(42)\n",
        "\n",
        "# Ensure that all operations are deterministic on GPU (if used) for reproducibility\n",
        "torch.backends.cudnn.determinstic = True"
      ]
    },
    {
      "cell_type": "code",
      "execution_count": null,
      "metadata": {
        "colab": {
          "background_save": true
        },
        "id": "KzRfBMLnoKsb"
      },
      "outputs": [],
      "source": [
        "import warnings\n",
        "warnings.filterwarnings(\"ignore\")"
      ]
    },
    {
      "cell_type": "code",
      "execution_count": null,
      "metadata": {
        "colab": {
          "background_save": true
        },
        "id": "5hCAuhBAs8sr"
      },
      "outputs": [],
      "source": [
        "def get_default_device():\n",
        "    \"\"\"Pick GPU if available, else CPU\"\"\"\n",
        "    if torch.cuda.is_available():\n",
        "        return torch.device('cuda')\n",
        "    else:\n",
        "        return torch.device('cpu')"
      ]
    },
    {
      "cell_type": "code",
      "execution_count": null,
      "metadata": {
        "colab": {
          "base_uri": "https://localhost:8080/"
        },
        "id": "2goWQL3Zs96S",
        "outputId": "abbedf6f-aae1-4954-e8a6-691aede7da80"
      },
      "outputs": [
        {
          "data": {
            "text/plain": [
              "device(type='cuda')"
            ]
          },
          "execution_count": 4,
          "metadata": {},
          "output_type": "execute_result"
        }
      ],
      "source": [
        "device = get_default_device()\n",
        "device"
      ]
    },
    {
      "cell_type": "code",
      "execution_count": null,
      "metadata": {
        "id": "MpKYtN0qtAyD"
      },
      "outputs": [],
      "source": [
        "def to_device(data, device):\n",
        "    \"\"\"Move tensor(s) to chosen device\"\"\"\n",
        "    if isinstance(data, (list,tuple)):\n",
        "        return [to_device(x, device) for x in data]\n",
        "    return data.to(device, non_blocking=True)"
      ]
    },
    {
      "cell_type": "code",
      "execution_count": null,
      "metadata": {
        "id": "BIHL7k-DvyMV"
      },
      "outputs": [],
      "source": [
        "%matplotlib inline\n",
        "# python libraties\n",
        "import os, cv2,itertools\n",
        "import matplotlib.pyplot as plt\n",
        "import numpy as np\n",
        "import pandas as pd\n",
        "from tqdm import tqdm\n",
        "from glob import glob\n",
        "from PIL import Image\n",
        "\n",
        "# pytorch libraries\n",
        "import torch\n",
        "from torch import optim,nn\n",
        "from torch.autograd import Variable\n",
        "from torch.utils.data import DataLoader,Dataset, WeightedRandomSampler\n",
        "from torchvision import models,transforms\n",
        "\n",
        "# sklearn libraries\n",
        "from sklearn.metrics import confusion_matrix\n",
        "from sklearn.model_selection import train_test_split\n",
        "from sklearn.metrics import classification_report\n"
      ]
    },
    {
      "cell_type": "code",
      "execution_count": null,
      "metadata": {
        "colab": {
          "base_uri": "https://localhost:8080/"
        },
        "id": "1PIMJtpXvx_z",
        "outputId": "ad413ecb-5ee1-4dd1-e37c-6b766fc54beb"
      },
      "outputs": [
        {
          "name": "stdout",
          "output_type": "stream",
          "text": [
            "Mounted at /content/drive\n"
          ]
        }
      ],
      "source": [
        "from google.colab import drive\n",
        "#drive.mount('content/drive/My_Drive/Colab_Notebook')\n",
        "drive.mount('/content/drive')"
      ]
    },
    {
      "cell_type": "code",
      "execution_count": null,
      "metadata": {
        "colab": {
          "base_uri": "https://localhost:8080/"
        },
        "id": "lde3JDqbvyJj",
        "outputId": "b1b6baba-9577-4d67-e692-19572634c2e1"
      },
      "outputs": [
        {
          "name": "stdout",
          "output_type": "stream",
          "text": [
            "/content\n"
          ]
        }
      ],
      "source": [
        "!pwd"
      ]
    },
    {
      "cell_type": "code",
      "execution_count": null,
      "metadata": {
        "colab": {
          "base_uri": "https://localhost:8080/"
        },
        "id": "_aLLsUXZwdQo",
        "outputId": "b92cec8a-85fa-4130-802e-820b7d98221a"
      },
      "outputs": [
        {
          "name": "stdout",
          "output_type": "stream",
          "text": [
            "/content/drive/My Drive/Colab Notebooks/dataverse_files\n"
          ]
        }
      ],
      "source": [
        "%cd '/content/drive/My Drive/Colab Notebooks/dataverse_files'"
      ]
    },
    {
      "cell_type": "code",
      "execution_count": null,
      "metadata": {
        "colab": {
          "base_uri": "https://localhost:8080/"
        },
        "id": "BpGNCCSYwdNg",
        "outputId": "7bd35080-546a-408d-a6df-0f280d699abc"
      },
      "outputs": [
        {
          "name": "stdout",
          "output_type": "stream",
          "text": [
            "HAM10000_images_part_1\tHAM10000_images_part_2\tHAM10000_metadata  Train.csv\n"
          ]
        }
      ],
      "source": [
        "!ls"
      ]
    },
    {
      "cell_type": "code",
      "execution_count": null,
      "metadata": {
        "colab": {
          "base_uri": "https://localhost:8080/",
          "height": 35
        },
        "id": "ytEbzxNtw2gN",
        "outputId": "810d9b9d-4d5c-485e-e7f9-9343aea27d26"
      },
      "outputs": [
        {
          "data": {
            "application/vnd.google.colaboratory.intrinsic+json": {
              "type": "string"
            },
            "text/plain": [
              "'/content/drive/My Drive/Colab Notebooks/dataverse_files'"
            ]
          },
          "execution_count": 9,
          "metadata": {},
          "output_type": "execute_result"
        }
      ],
      "source": [
        "os.getcwd()"
      ]
    },
    {
      "cell_type": "code",
      "execution_count": null,
      "metadata": {
        "id": "dGp90iFnwy18"
      },
      "outputs": [],
      "source": [
        "data_dir = '.'\n",
        "all_image_path = glob(os.path.join(data_dir, '*', '*.jpg'))\n"
      ]
    },
    {
      "cell_type": "code",
      "execution_count": null,
      "metadata": {
        "colab": {
          "base_uri": "https://localhost:8080/"
        },
        "id": "NEPzi6ld2lov",
        "outputId": "388d3630-6627-4235-92d9-6db5a5d446d0"
      },
      "outputs": [
        {
          "data": {
            "text/plain": [
              "10015"
            ]
          },
          "execution_count": 11,
          "metadata": {},
          "output_type": "execute_result"
        }
      ],
      "source": [
        "len(all_image_path)"
      ]
    },
    {
      "cell_type": "code",
      "execution_count": null,
      "metadata": {
        "id": "XW21m3MFxJd-"
      },
      "outputs": [],
      "source": [
        "imageid_path_dict = {os.path.splitext(os.path.basename(x))[0]: x for x in all_image_path}\n",
        "lesion_type_dict = {\n",
        "    'nv': 'Melanocytic nevi',\n",
        "    'mel': 'Melanoma',\n",
        "    'bkl': 'Benign keratosis-like lesions ',\n",
        "    'bcc': 'Basal cell carcinoma',\n",
        "    'akiec': 'Actinic keratoses',\n",
        "    'vasc': 'Vascular lesions',\n",
        "    'df': 'Dermatofibroma'\n",
        "}"
      ]
    },
    {
      "cell_type": "markdown",
      "metadata": {
        "id": "tz5N7R9KhEd_"
      },
      "source": [
        " Actinic keratoses and intraepithelial carcinoma / Bowen's disease (akiec), basal cell carcinoma (bcc), benign keratosis-like lesions (solar lentigines / seborrheic keratoses and lichen-planus like keratoses, bkl), dermatofibroma (df), melanoma (mel), melanocytic nevi (nv) and vascular lesions (angiomas, angiokeratomas, pyogenic granulomas and hemorrhage, vasc)."
      ]
    },
    {
      "cell_type": "code",
      "execution_count": null,
      "metadata": {
        "id": "RC8rSm6ZzGfA"
      },
      "outputs": [],
      "source": [
        "#### the function bellow normalize the images -> for all datset BUT I DESIDED TO NOT USE IT "
      ]
    },
    {
      "cell_type": "code",
      "execution_count": null,
      "metadata": {
        "id": "RfoLEQ9FzELn"
      },
      "outputs": [],
      "source": [
        "def compute_img_mean_std(image_paths):\n",
        "    \"\"\"\n",
        "        computing the mean and std of three channel on the whole dataset,\n",
        "        first we should normalize the image from 0-255 to 0-1\n",
        "    \"\"\"\n",
        "\n",
        "    img_h, img_w = 224, 224\n",
        "    imgs = []\n",
        "    means, stdevs = [], []\n",
        "\n",
        "    for i in tqdm(range(len(image_paths))):\n",
        "        img = cv2.imread(image_paths[i])\n",
        "        img = cv2.resize(img, (img_h, img_w))\n",
        "        imgs.append(img)\n",
        "\n",
        "    imgs = np.stack(imgs, axis=3)\n",
        "    print(imgs.shape)\n",
        "\n",
        "    imgs = imgs.astype(np.float32) / 255.\n",
        "\n",
        "    for i in range(3):\n",
        "        pixels = imgs[:, :, i, :].ravel()  # resize to one row\n",
        "        means.append(np.mean(pixels))\n",
        "        stdevs.append(np.std(pixels))\n",
        "\n",
        "    means.reverse()  # BGR --> RGB\n",
        "    stdevs.reverse()\n",
        "\n",
        "    print(\"normMean = {}\".format(means))\n",
        "    print(\"normStd = {}\".format(stdevs))\n",
        "    return means,stdevs"
      ]
    },
    {
      "cell_type": "code",
      "execution_count": null,
      "metadata": {
        "colab": {
          "base_uri": "https://localhost:8080/"
        },
        "id": "RWL7VN8TzOiw",
        "outputId": "2fb35bc8-0fe4-4e58-a5ac-8f9cbf06f339"
      },
      "outputs": [
        {
          "name": "stderr",
          "output_type": "stream",
          "text": [
            " 91%|█████████▏| 9161/10015 [1:00:39<17:13,  1.21s/it]"
          ]
        }
      ],
      "source": [
        "#norm_mean,norm_std = compute_img_mean_std(all_image_path)"
      ]
    },
    {
      "cell_type": "code",
      "execution_count": null,
      "metadata": {
        "id": "0QT9llHi9bSI"
      },
      "outputs": [],
      "source": [
        "#norm_mean,norm_std"
      ]
    },
    {
      "cell_type": "code",
      "execution_count": null,
      "metadata": {
        "colab": {
          "base_uri": "https://localhost:8080/",
          "height": 444
        },
        "id": "zo1NNfdIzOlu",
        "outputId": "7aa2562a-985b-43f0-d32c-83b978998fd2"
      },
      "outputs": [
        {
          "data": {
            "text/html": [
              "\n",
              "  <div id=\"df-19ee14e0-74b8-491f-a9da-b880da9099d3\">\n",
              "    <div class=\"colab-df-container\">\n",
              "      <div>\n",
              "<style scoped>\n",
              "    .dataframe tbody tr th:only-of-type {\n",
              "        vertical-align: middle;\n",
              "    }\n",
              "\n",
              "    .dataframe tbody tr th {\n",
              "        vertical-align: top;\n",
              "    }\n",
              "\n",
              "    .dataframe thead th {\n",
              "        text-align: right;\n",
              "    }\n",
              "</style>\n",
              "<table border=\"1\" class=\"dataframe\">\n",
              "  <thead>\n",
              "    <tr style=\"text-align: right;\">\n",
              "      <th></th>\n",
              "      <th>lesion_id</th>\n",
              "      <th>image_id</th>\n",
              "      <th>dx</th>\n",
              "      <th>dx_type</th>\n",
              "      <th>age</th>\n",
              "      <th>sex</th>\n",
              "      <th>localization</th>\n",
              "      <th>dataset</th>\n",
              "      <th>path</th>\n",
              "      <th>cell_type</th>\n",
              "      <th>cell_type_idx</th>\n",
              "    </tr>\n",
              "  </thead>\n",
              "  <tbody>\n",
              "    <tr>\n",
              "      <th>0</th>\n",
              "      <td>HAM_0000118</td>\n",
              "      <td>ISIC_0027419</td>\n",
              "      <td>bkl</td>\n",
              "      <td>histo</td>\n",
              "      <td>80.0</td>\n",
              "      <td>male</td>\n",
              "      <td>scalp</td>\n",
              "      <td>vidir_modern</td>\n",
              "      <td>./HAM10000_images_part_1/ISIC_0027419.jpg</td>\n",
              "      <td>Benign keratosis-like lesions</td>\n",
              "      <td>2</td>\n",
              "    </tr>\n",
              "    <tr>\n",
              "      <th>1</th>\n",
              "      <td>HAM_0000118</td>\n",
              "      <td>ISIC_0025030</td>\n",
              "      <td>bkl</td>\n",
              "      <td>histo</td>\n",
              "      <td>80.0</td>\n",
              "      <td>male</td>\n",
              "      <td>scalp</td>\n",
              "      <td>vidir_modern</td>\n",
              "      <td>./HAM10000_images_part_1/ISIC_0025030.jpg</td>\n",
              "      <td>Benign keratosis-like lesions</td>\n",
              "      <td>2</td>\n",
              "    </tr>\n",
              "    <tr>\n",
              "      <th>2</th>\n",
              "      <td>HAM_0002730</td>\n",
              "      <td>ISIC_0026769</td>\n",
              "      <td>bkl</td>\n",
              "      <td>histo</td>\n",
              "      <td>80.0</td>\n",
              "      <td>male</td>\n",
              "      <td>scalp</td>\n",
              "      <td>vidir_modern</td>\n",
              "      <td>./HAM10000_images_part_1/ISIC_0026769.jpg</td>\n",
              "      <td>Benign keratosis-like lesions</td>\n",
              "      <td>2</td>\n",
              "    </tr>\n",
              "    <tr>\n",
              "      <th>3</th>\n",
              "      <td>HAM_0002730</td>\n",
              "      <td>ISIC_0025661</td>\n",
              "      <td>bkl</td>\n",
              "      <td>histo</td>\n",
              "      <td>80.0</td>\n",
              "      <td>male</td>\n",
              "      <td>scalp</td>\n",
              "      <td>vidir_modern</td>\n",
              "      <td>./HAM10000_images_part_1/ISIC_0025661.jpg</td>\n",
              "      <td>Benign keratosis-like lesions</td>\n",
              "      <td>2</td>\n",
              "    </tr>\n",
              "    <tr>\n",
              "      <th>4</th>\n",
              "      <td>HAM_0001466</td>\n",
              "      <td>ISIC_0031633</td>\n",
              "      <td>bkl</td>\n",
              "      <td>histo</td>\n",
              "      <td>75.0</td>\n",
              "      <td>male</td>\n",
              "      <td>ear</td>\n",
              "      <td>vidir_modern</td>\n",
              "      <td>./HAM10000_images_part_2/ISIC_0031633.jpg</td>\n",
              "      <td>Benign keratosis-like lesions</td>\n",
              "      <td>2</td>\n",
              "    </tr>\n",
              "  </tbody>\n",
              "</table>\n",
              "</div>\n",
              "      <button class=\"colab-df-convert\" onclick=\"convertToInteractive('df-19ee14e0-74b8-491f-a9da-b880da9099d3')\"\n",
              "              title=\"Convert this dataframe to an interactive table.\"\n",
              "              style=\"display:none;\">\n",
              "        \n",
              "  <svg xmlns=\"http://www.w3.org/2000/svg\" height=\"24px\"viewBox=\"0 0 24 24\"\n",
              "       width=\"24px\">\n",
              "    <path d=\"M0 0h24v24H0V0z\" fill=\"none\"/>\n",
              "    <path d=\"M18.56 5.44l.94 2.06.94-2.06 2.06-.94-2.06-.94-.94-2.06-.94 2.06-2.06.94zm-11 1L8.5 8.5l.94-2.06 2.06-.94-2.06-.94L8.5 2.5l-.94 2.06-2.06.94zm10 10l.94 2.06.94-2.06 2.06-.94-2.06-.94-.94-2.06-.94 2.06-2.06.94z\"/><path d=\"M17.41 7.96l-1.37-1.37c-.4-.4-.92-.59-1.43-.59-.52 0-1.04.2-1.43.59L10.3 9.45l-7.72 7.72c-.78.78-.78 2.05 0 2.83L4 21.41c.39.39.9.59 1.41.59.51 0 1.02-.2 1.41-.59l7.78-7.78 2.81-2.81c.8-.78.8-2.07 0-2.86zM5.41 20L4 18.59l7.72-7.72 1.47 1.35L5.41 20z\"/>\n",
              "  </svg>\n",
              "      </button>\n",
              "      \n",
              "  <style>\n",
              "    .colab-df-container {\n",
              "      display:flex;\n",
              "      flex-wrap:wrap;\n",
              "      gap: 12px;\n",
              "    }\n",
              "\n",
              "    .colab-df-convert {\n",
              "      background-color: #E8F0FE;\n",
              "      border: none;\n",
              "      border-radius: 50%;\n",
              "      cursor: pointer;\n",
              "      display: none;\n",
              "      fill: #1967D2;\n",
              "      height: 32px;\n",
              "      padding: 0 0 0 0;\n",
              "      width: 32px;\n",
              "    }\n",
              "\n",
              "    .colab-df-convert:hover {\n",
              "      background-color: #E2EBFA;\n",
              "      box-shadow: 0px 1px 2px rgba(60, 64, 67, 0.3), 0px 1px 3px 1px rgba(60, 64, 67, 0.15);\n",
              "      fill: #174EA6;\n",
              "    }\n",
              "\n",
              "    [theme=dark] .colab-df-convert {\n",
              "      background-color: #3B4455;\n",
              "      fill: #D2E3FC;\n",
              "    }\n",
              "\n",
              "    [theme=dark] .colab-df-convert:hover {\n",
              "      background-color: #434B5C;\n",
              "      box-shadow: 0px 1px 3px 1px rgba(0, 0, 0, 0.15);\n",
              "      filter: drop-shadow(0px 1px 2px rgba(0, 0, 0, 0.3));\n",
              "      fill: #FFFFFF;\n",
              "    }\n",
              "  </style>\n",
              "\n",
              "      <script>\n",
              "        const buttonEl =\n",
              "          document.querySelector('#df-19ee14e0-74b8-491f-a9da-b880da9099d3 button.colab-df-convert');\n",
              "        buttonEl.style.display =\n",
              "          google.colab.kernel.accessAllowed ? 'block' : 'none';\n",
              "\n",
              "        async function convertToInteractive(key) {\n",
              "          const element = document.querySelector('#df-19ee14e0-74b8-491f-a9da-b880da9099d3');\n",
              "          const dataTable =\n",
              "            await google.colab.kernel.invokeFunction('convertToInteractive',\n",
              "                                                     [key], {});\n",
              "          if (!dataTable) return;\n",
              "\n",
              "          const docLinkHtml = 'Like what you see? Visit the ' +\n",
              "            '<a target=\"_blank\" href=https://colab.research.google.com/notebooks/data_table.ipynb>data table notebook</a>'\n",
              "            + ' to learn more about interactive tables.';\n",
              "          element.innerHTML = '';\n",
              "          dataTable['output_type'] = 'display_data';\n",
              "          await google.colab.output.renderOutput(dataTable, element);\n",
              "          const docLink = document.createElement('div');\n",
              "          docLink.innerHTML = docLinkHtml;\n",
              "          element.appendChild(docLink);\n",
              "        }\n",
              "      </script>\n",
              "    </div>\n",
              "  </div>\n",
              "  "
            ],
            "text/plain": [
              "     lesion_id      image_id   dx dx_type   age   sex localization  \\\n",
              "0  HAM_0000118  ISIC_0027419  bkl   histo  80.0  male        scalp   \n",
              "1  HAM_0000118  ISIC_0025030  bkl   histo  80.0  male        scalp   \n",
              "2  HAM_0002730  ISIC_0026769  bkl   histo  80.0  male        scalp   \n",
              "3  HAM_0002730  ISIC_0025661  bkl   histo  80.0  male        scalp   \n",
              "4  HAM_0001466  ISIC_0031633  bkl   histo  75.0  male          ear   \n",
              "\n",
              "        dataset                                       path  \\\n",
              "0  vidir_modern  ./HAM10000_images_part_1/ISIC_0027419.jpg   \n",
              "1  vidir_modern  ./HAM10000_images_part_1/ISIC_0025030.jpg   \n",
              "2  vidir_modern  ./HAM10000_images_part_1/ISIC_0026769.jpg   \n",
              "3  vidir_modern  ./HAM10000_images_part_1/ISIC_0025661.jpg   \n",
              "4  vidir_modern  ./HAM10000_images_part_2/ISIC_0031633.jpg   \n",
              "\n",
              "                        cell_type  cell_type_idx  \n",
              "0  Benign keratosis-like lesions               2  \n",
              "1  Benign keratosis-like lesions               2  \n",
              "2  Benign keratosis-like lesions               2  \n",
              "3  Benign keratosis-like lesions               2  \n",
              "4  Benign keratosis-like lesions               2  "
            ]
          },
          "execution_count": 11,
          "metadata": {},
          "output_type": "execute_result"
        }
      ],
      "source": [
        "df_original = pd.read_csv(os.path.join(data_dir, 'HAM10000_metadata'))\n",
        "df_original['path'] = df_original['image_id'].map(imageid_path_dict.get)\n",
        "df_original['cell_type'] = df_original['dx'].map(lesion_type_dict.get)\n",
        "df_original['cell_type_idx'] = pd.Categorical(df_original['cell_type']).codes\n",
        "df_original.head()"
      ]
    },
    {
      "cell_type": "code",
      "execution_count": null,
      "metadata": {
        "colab": {
          "base_uri": "https://localhost:8080/",
          "height": 206
        },
        "id": "oGGPkk8PzOnn",
        "outputId": "263ceb84-c91d-40ca-ad0b-783e49223554"
      },
      "outputs": [
        {
          "data": {
            "text/html": [
              "\n",
              "  <div id=\"df-e8896f0a-fa24-4a0a-be81-74591ed49e5e\">\n",
              "    <div class=\"colab-df-container\">\n",
              "      <div>\n",
              "<style scoped>\n",
              "    .dataframe tbody tr th:only-of-type {\n",
              "        vertical-align: middle;\n",
              "    }\n",
              "\n",
              "    .dataframe tbody tr th {\n",
              "        vertical-align: top;\n",
              "    }\n",
              "\n",
              "    .dataframe thead th {\n",
              "        text-align: right;\n",
              "    }\n",
              "</style>\n",
              "<table border=\"1\" class=\"dataframe\">\n",
              "  <thead>\n",
              "    <tr style=\"text-align: right;\">\n",
              "      <th></th>\n",
              "      <th>lesion_id</th>\n",
              "      <th>image_id</th>\n",
              "      <th>dx</th>\n",
              "      <th>dx_type</th>\n",
              "      <th>age</th>\n",
              "      <th>sex</th>\n",
              "      <th>localization</th>\n",
              "      <th>dataset</th>\n",
              "      <th>path</th>\n",
              "      <th>cell_type</th>\n",
              "      <th>cell_type_idx</th>\n",
              "    </tr>\n",
              "  </thead>\n",
              "  <tbody>\n",
              "    <tr>\n",
              "      <th>0</th>\n",
              "      <td>HAM_0000001</td>\n",
              "      <td>1</td>\n",
              "      <td>1</td>\n",
              "      <td>1</td>\n",
              "      <td>1</td>\n",
              "      <td>1</td>\n",
              "      <td>1</td>\n",
              "      <td>1</td>\n",
              "      <td>1</td>\n",
              "      <td>1</td>\n",
              "      <td>1</td>\n",
              "    </tr>\n",
              "    <tr>\n",
              "      <th>1</th>\n",
              "      <td>HAM_0000003</td>\n",
              "      <td>1</td>\n",
              "      <td>1</td>\n",
              "      <td>1</td>\n",
              "      <td>1</td>\n",
              "      <td>1</td>\n",
              "      <td>1</td>\n",
              "      <td>1</td>\n",
              "      <td>1</td>\n",
              "      <td>1</td>\n",
              "      <td>1</td>\n",
              "    </tr>\n",
              "    <tr>\n",
              "      <th>2</th>\n",
              "      <td>HAM_0000004</td>\n",
              "      <td>1</td>\n",
              "      <td>1</td>\n",
              "      <td>1</td>\n",
              "      <td>1</td>\n",
              "      <td>1</td>\n",
              "      <td>1</td>\n",
              "      <td>1</td>\n",
              "      <td>1</td>\n",
              "      <td>1</td>\n",
              "      <td>1</td>\n",
              "    </tr>\n",
              "    <tr>\n",
              "      <th>3</th>\n",
              "      <td>HAM_0000007</td>\n",
              "      <td>1</td>\n",
              "      <td>1</td>\n",
              "      <td>1</td>\n",
              "      <td>1</td>\n",
              "      <td>1</td>\n",
              "      <td>1</td>\n",
              "      <td>1</td>\n",
              "      <td>1</td>\n",
              "      <td>1</td>\n",
              "      <td>1</td>\n",
              "    </tr>\n",
              "    <tr>\n",
              "      <th>4</th>\n",
              "      <td>HAM_0000008</td>\n",
              "      <td>1</td>\n",
              "      <td>1</td>\n",
              "      <td>1</td>\n",
              "      <td>1</td>\n",
              "      <td>1</td>\n",
              "      <td>1</td>\n",
              "      <td>1</td>\n",
              "      <td>1</td>\n",
              "      <td>1</td>\n",
              "      <td>1</td>\n",
              "    </tr>\n",
              "  </tbody>\n",
              "</table>\n",
              "</div>\n",
              "      <button class=\"colab-df-convert\" onclick=\"convertToInteractive('df-e8896f0a-fa24-4a0a-be81-74591ed49e5e')\"\n",
              "              title=\"Convert this dataframe to an interactive table.\"\n",
              "              style=\"display:none;\">\n",
              "        \n",
              "  <svg xmlns=\"http://www.w3.org/2000/svg\" height=\"24px\"viewBox=\"0 0 24 24\"\n",
              "       width=\"24px\">\n",
              "    <path d=\"M0 0h24v24H0V0z\" fill=\"none\"/>\n",
              "    <path d=\"M18.56 5.44l.94 2.06.94-2.06 2.06-.94-2.06-.94-.94-2.06-.94 2.06-2.06.94zm-11 1L8.5 8.5l.94-2.06 2.06-.94-2.06-.94L8.5 2.5l-.94 2.06-2.06.94zm10 10l.94 2.06.94-2.06 2.06-.94-2.06-.94-.94-2.06-.94 2.06-2.06.94z\"/><path d=\"M17.41 7.96l-1.37-1.37c-.4-.4-.92-.59-1.43-.59-.52 0-1.04.2-1.43.59L10.3 9.45l-7.72 7.72c-.78.78-.78 2.05 0 2.83L4 21.41c.39.39.9.59 1.41.59.51 0 1.02-.2 1.41-.59l7.78-7.78 2.81-2.81c.8-.78.8-2.07 0-2.86zM5.41 20L4 18.59l7.72-7.72 1.47 1.35L5.41 20z\"/>\n",
              "  </svg>\n",
              "      </button>\n",
              "      \n",
              "  <style>\n",
              "    .colab-df-container {\n",
              "      display:flex;\n",
              "      flex-wrap:wrap;\n",
              "      gap: 12px;\n",
              "    }\n",
              "\n",
              "    .colab-df-convert {\n",
              "      background-color: #E8F0FE;\n",
              "      border: none;\n",
              "      border-radius: 50%;\n",
              "      cursor: pointer;\n",
              "      display: none;\n",
              "      fill: #1967D2;\n",
              "      height: 32px;\n",
              "      padding: 0 0 0 0;\n",
              "      width: 32px;\n",
              "    }\n",
              "\n",
              "    .colab-df-convert:hover {\n",
              "      background-color: #E2EBFA;\n",
              "      box-shadow: 0px 1px 2px rgba(60, 64, 67, 0.3), 0px 1px 3px 1px rgba(60, 64, 67, 0.15);\n",
              "      fill: #174EA6;\n",
              "    }\n",
              "\n",
              "    [theme=dark] .colab-df-convert {\n",
              "      background-color: #3B4455;\n",
              "      fill: #D2E3FC;\n",
              "    }\n",
              "\n",
              "    [theme=dark] .colab-df-convert:hover {\n",
              "      background-color: #434B5C;\n",
              "      box-shadow: 0px 1px 3px 1px rgba(0, 0, 0, 0.15);\n",
              "      filter: drop-shadow(0px 1px 2px rgba(0, 0, 0, 0.3));\n",
              "      fill: #FFFFFF;\n",
              "    }\n",
              "  </style>\n",
              "\n",
              "      <script>\n",
              "        const buttonEl =\n",
              "          document.querySelector('#df-e8896f0a-fa24-4a0a-be81-74591ed49e5e button.colab-df-convert');\n",
              "        buttonEl.style.display =\n",
              "          google.colab.kernel.accessAllowed ? 'block' : 'none';\n",
              "\n",
              "        async function convertToInteractive(key) {\n",
              "          const element = document.querySelector('#df-e8896f0a-fa24-4a0a-be81-74591ed49e5e');\n",
              "          const dataTable =\n",
              "            await google.colab.kernel.invokeFunction('convertToInteractive',\n",
              "                                                     [key], {});\n",
              "          if (!dataTable) return;\n",
              "\n",
              "          const docLinkHtml = 'Like what you see? Visit the ' +\n",
              "            '<a target=\"_blank\" href=https://colab.research.google.com/notebooks/data_table.ipynb>data table notebook</a>'\n",
              "            + ' to learn more about interactive tables.';\n",
              "          element.innerHTML = '';\n",
              "          dataTable['output_type'] = 'display_data';\n",
              "          await google.colab.output.renderOutput(dataTable, element);\n",
              "          const docLink = document.createElement('div');\n",
              "          docLink.innerHTML = docLinkHtml;\n",
              "          element.appendChild(docLink);\n",
              "        }\n",
              "      </script>\n",
              "    </div>\n",
              "  </div>\n",
              "  "
            ],
            "text/plain": [
              "     lesion_id  image_id  dx  dx_type  age  sex  localization  dataset  path  \\\n",
              "0  HAM_0000001         1   1        1    1    1             1        1     1   \n",
              "1  HAM_0000003         1   1        1    1    1             1        1     1   \n",
              "2  HAM_0000004         1   1        1    1    1             1        1     1   \n",
              "3  HAM_0000007         1   1        1    1    1             1        1     1   \n",
              "4  HAM_0000008         1   1        1    1    1             1        1     1   \n",
              "\n",
              "   cell_type  cell_type_idx  \n",
              "0          1              1  \n",
              "1          1              1  \n",
              "2          1              1  \n",
              "3          1              1  \n",
              "4          1              1  "
            ]
          },
          "execution_count": 12,
          "metadata": {},
          "output_type": "execute_result"
        }
      ],
      "source": [
        "# this will tell us how many images are associated with each lesion_id\n",
        "df_undup = df_original.groupby('lesion_id').count()\n",
        "# now we filter out lesion_id's that have only one image associated with it\n",
        "df_undup = df_undup[df_undup['image_id'] == 1]\n",
        "df_undup.reset_index(inplace=True)\n",
        "df_undup.head()"
      ]
    },
    {
      "cell_type": "code",
      "execution_count": null,
      "metadata": {
        "colab": {
          "base_uri": "https://localhost:8080/",
          "height": 444
        },
        "id": "ot-Xg1-BzOqa",
        "outputId": "89292344-4c2a-40a4-94df-ce1de2dafcf1"
      },
      "outputs": [
        {
          "data": {
            "text/html": [
              "\n",
              "  <div id=\"df-777e1002-6b19-4ba6-b22e-415d8e9b4f41\">\n",
              "    <div class=\"colab-df-container\">\n",
              "      <div>\n",
              "<style scoped>\n",
              "    .dataframe tbody tr th:only-of-type {\n",
              "        vertical-align: middle;\n",
              "    }\n",
              "\n",
              "    .dataframe tbody tr th {\n",
              "        vertical-align: top;\n",
              "    }\n",
              "\n",
              "    .dataframe thead th {\n",
              "        text-align: right;\n",
              "    }\n",
              "</style>\n",
              "<table border=\"1\" class=\"dataframe\">\n",
              "  <thead>\n",
              "    <tr style=\"text-align: right;\">\n",
              "      <th></th>\n",
              "      <th>lesion_id</th>\n",
              "      <th>image_id</th>\n",
              "      <th>dx</th>\n",
              "      <th>dx_type</th>\n",
              "      <th>age</th>\n",
              "      <th>sex</th>\n",
              "      <th>localization</th>\n",
              "      <th>dataset</th>\n",
              "      <th>path</th>\n",
              "      <th>cell_type</th>\n",
              "      <th>cell_type_idx</th>\n",
              "      <th>duplicates</th>\n",
              "    </tr>\n",
              "  </thead>\n",
              "  <tbody>\n",
              "    <tr>\n",
              "      <th>0</th>\n",
              "      <td>HAM_0000118</td>\n",
              "      <td>ISIC_0027419</td>\n",
              "      <td>bkl</td>\n",
              "      <td>histo</td>\n",
              "      <td>80.0</td>\n",
              "      <td>male</td>\n",
              "      <td>scalp</td>\n",
              "      <td>vidir_modern</td>\n",
              "      <td>./HAM10000_images_part_1/ISIC_0027419.jpg</td>\n",
              "      <td>Benign keratosis-like lesions</td>\n",
              "      <td>2</td>\n",
              "      <td>duplicated</td>\n",
              "    </tr>\n",
              "    <tr>\n",
              "      <th>1</th>\n",
              "      <td>HAM_0000118</td>\n",
              "      <td>ISIC_0025030</td>\n",
              "      <td>bkl</td>\n",
              "      <td>histo</td>\n",
              "      <td>80.0</td>\n",
              "      <td>male</td>\n",
              "      <td>scalp</td>\n",
              "      <td>vidir_modern</td>\n",
              "      <td>./HAM10000_images_part_1/ISIC_0025030.jpg</td>\n",
              "      <td>Benign keratosis-like lesions</td>\n",
              "      <td>2</td>\n",
              "      <td>duplicated</td>\n",
              "    </tr>\n",
              "    <tr>\n",
              "      <th>2</th>\n",
              "      <td>HAM_0002730</td>\n",
              "      <td>ISIC_0026769</td>\n",
              "      <td>bkl</td>\n",
              "      <td>histo</td>\n",
              "      <td>80.0</td>\n",
              "      <td>male</td>\n",
              "      <td>scalp</td>\n",
              "      <td>vidir_modern</td>\n",
              "      <td>./HAM10000_images_part_1/ISIC_0026769.jpg</td>\n",
              "      <td>Benign keratosis-like lesions</td>\n",
              "      <td>2</td>\n",
              "      <td>duplicated</td>\n",
              "    </tr>\n",
              "    <tr>\n",
              "      <th>3</th>\n",
              "      <td>HAM_0002730</td>\n",
              "      <td>ISIC_0025661</td>\n",
              "      <td>bkl</td>\n",
              "      <td>histo</td>\n",
              "      <td>80.0</td>\n",
              "      <td>male</td>\n",
              "      <td>scalp</td>\n",
              "      <td>vidir_modern</td>\n",
              "      <td>./HAM10000_images_part_1/ISIC_0025661.jpg</td>\n",
              "      <td>Benign keratosis-like lesions</td>\n",
              "      <td>2</td>\n",
              "      <td>duplicated</td>\n",
              "    </tr>\n",
              "    <tr>\n",
              "      <th>4</th>\n",
              "      <td>HAM_0001466</td>\n",
              "      <td>ISIC_0031633</td>\n",
              "      <td>bkl</td>\n",
              "      <td>histo</td>\n",
              "      <td>75.0</td>\n",
              "      <td>male</td>\n",
              "      <td>ear</td>\n",
              "      <td>vidir_modern</td>\n",
              "      <td>./HAM10000_images_part_2/ISIC_0031633.jpg</td>\n",
              "      <td>Benign keratosis-like lesions</td>\n",
              "      <td>2</td>\n",
              "      <td>duplicated</td>\n",
              "    </tr>\n",
              "  </tbody>\n",
              "</table>\n",
              "</div>\n",
              "      <button class=\"colab-df-convert\" onclick=\"convertToInteractive('df-777e1002-6b19-4ba6-b22e-415d8e9b4f41')\"\n",
              "              title=\"Convert this dataframe to an interactive table.\"\n",
              "              style=\"display:none;\">\n",
              "        \n",
              "  <svg xmlns=\"http://www.w3.org/2000/svg\" height=\"24px\"viewBox=\"0 0 24 24\"\n",
              "       width=\"24px\">\n",
              "    <path d=\"M0 0h24v24H0V0z\" fill=\"none\"/>\n",
              "    <path d=\"M18.56 5.44l.94 2.06.94-2.06 2.06-.94-2.06-.94-.94-2.06-.94 2.06-2.06.94zm-11 1L8.5 8.5l.94-2.06 2.06-.94-2.06-.94L8.5 2.5l-.94 2.06-2.06.94zm10 10l.94 2.06.94-2.06 2.06-.94-2.06-.94-.94-2.06-.94 2.06-2.06.94z\"/><path d=\"M17.41 7.96l-1.37-1.37c-.4-.4-.92-.59-1.43-.59-.52 0-1.04.2-1.43.59L10.3 9.45l-7.72 7.72c-.78.78-.78 2.05 0 2.83L4 21.41c.39.39.9.59 1.41.59.51 0 1.02-.2 1.41-.59l7.78-7.78 2.81-2.81c.8-.78.8-2.07 0-2.86zM5.41 20L4 18.59l7.72-7.72 1.47 1.35L5.41 20z\"/>\n",
              "  </svg>\n",
              "      </button>\n",
              "      \n",
              "  <style>\n",
              "    .colab-df-container {\n",
              "      display:flex;\n",
              "      flex-wrap:wrap;\n",
              "      gap: 12px;\n",
              "    }\n",
              "\n",
              "    .colab-df-convert {\n",
              "      background-color: #E8F0FE;\n",
              "      border: none;\n",
              "      border-radius: 50%;\n",
              "      cursor: pointer;\n",
              "      display: none;\n",
              "      fill: #1967D2;\n",
              "      height: 32px;\n",
              "      padding: 0 0 0 0;\n",
              "      width: 32px;\n",
              "    }\n",
              "\n",
              "    .colab-df-convert:hover {\n",
              "      background-color: #E2EBFA;\n",
              "      box-shadow: 0px 1px 2px rgba(60, 64, 67, 0.3), 0px 1px 3px 1px rgba(60, 64, 67, 0.15);\n",
              "      fill: #174EA6;\n",
              "    }\n",
              "\n",
              "    [theme=dark] .colab-df-convert {\n",
              "      background-color: #3B4455;\n",
              "      fill: #D2E3FC;\n",
              "    }\n",
              "\n",
              "    [theme=dark] .colab-df-convert:hover {\n",
              "      background-color: #434B5C;\n",
              "      box-shadow: 0px 1px 3px 1px rgba(0, 0, 0, 0.15);\n",
              "      filter: drop-shadow(0px 1px 2px rgba(0, 0, 0, 0.3));\n",
              "      fill: #FFFFFF;\n",
              "    }\n",
              "  </style>\n",
              "\n",
              "      <script>\n",
              "        const buttonEl =\n",
              "          document.querySelector('#df-777e1002-6b19-4ba6-b22e-415d8e9b4f41 button.colab-df-convert');\n",
              "        buttonEl.style.display =\n",
              "          google.colab.kernel.accessAllowed ? 'block' : 'none';\n",
              "\n",
              "        async function convertToInteractive(key) {\n",
              "          const element = document.querySelector('#df-777e1002-6b19-4ba6-b22e-415d8e9b4f41');\n",
              "          const dataTable =\n",
              "            await google.colab.kernel.invokeFunction('convertToInteractive',\n",
              "                                                     [key], {});\n",
              "          if (!dataTable) return;\n",
              "\n",
              "          const docLinkHtml = 'Like what you see? Visit the ' +\n",
              "            '<a target=\"_blank\" href=https://colab.research.google.com/notebooks/data_table.ipynb>data table notebook</a>'\n",
              "            + ' to learn more about interactive tables.';\n",
              "          element.innerHTML = '';\n",
              "          dataTable['output_type'] = 'display_data';\n",
              "          await google.colab.output.renderOutput(dataTable, element);\n",
              "          const docLink = document.createElement('div');\n",
              "          docLink.innerHTML = docLinkHtml;\n",
              "          element.appendChild(docLink);\n",
              "        }\n",
              "      </script>\n",
              "    </div>\n",
              "  </div>\n",
              "  "
            ],
            "text/plain": [
              "     lesion_id      image_id   dx dx_type   age   sex localization  \\\n",
              "0  HAM_0000118  ISIC_0027419  bkl   histo  80.0  male        scalp   \n",
              "1  HAM_0000118  ISIC_0025030  bkl   histo  80.0  male        scalp   \n",
              "2  HAM_0002730  ISIC_0026769  bkl   histo  80.0  male        scalp   \n",
              "3  HAM_0002730  ISIC_0025661  bkl   histo  80.0  male        scalp   \n",
              "4  HAM_0001466  ISIC_0031633  bkl   histo  75.0  male          ear   \n",
              "\n",
              "        dataset                                       path  \\\n",
              "0  vidir_modern  ./HAM10000_images_part_1/ISIC_0027419.jpg   \n",
              "1  vidir_modern  ./HAM10000_images_part_1/ISIC_0025030.jpg   \n",
              "2  vidir_modern  ./HAM10000_images_part_1/ISIC_0026769.jpg   \n",
              "3  vidir_modern  ./HAM10000_images_part_1/ISIC_0025661.jpg   \n",
              "4  vidir_modern  ./HAM10000_images_part_2/ISIC_0031633.jpg   \n",
              "\n",
              "                        cell_type  cell_type_idx  duplicates  \n",
              "0  Benign keratosis-like lesions               2  duplicated  \n",
              "1  Benign keratosis-like lesions               2  duplicated  \n",
              "2  Benign keratosis-like lesions               2  duplicated  \n",
              "3  Benign keratosis-like lesions               2  duplicated  \n",
              "4  Benign keratosis-like lesions               2  duplicated  "
            ]
          },
          "execution_count": 13,
          "metadata": {},
          "output_type": "execute_result"
        }
      ],
      "source": [
        "# here we identify lesion_id's that have duplicate images and those that have only one image.\n",
        "def get_duplicates(x):\n",
        "    unique_list = list(df_undup['lesion_id'])\n",
        "    if x in unique_list:\n",
        "        return 'unduplicated'\n",
        "    else:\n",
        "        return 'duplicated'\n",
        "\n",
        "# create a new colum that is a copy of the lesion_id column\n",
        "df_original['duplicates'] = df_original['lesion_id']\n",
        "# apply the function to this new column\n",
        "df_original['duplicates'] = df_original['duplicates'].apply(get_duplicates)\n",
        "df_original.head()"
      ]
    },
    {
      "cell_type": "code",
      "execution_count": null,
      "metadata": {
        "colab": {
          "base_uri": "https://localhost:8080/"
        },
        "id": "SEfikEZb3e-s",
        "outputId": "079a099f-598d-4d15-b5df-6205da269939"
      },
      "outputs": [
        {
          "data": {
            "text/plain": [
              "unduplicated    5514\n",
              "duplicated      4501\n",
              "Name: duplicates, dtype: int64"
            ]
          },
          "execution_count": 14,
          "metadata": {},
          "output_type": "execute_result"
        }
      ],
      "source": [
        "df_original['duplicates'].value_counts()"
      ]
    },
    {
      "cell_type": "code",
      "execution_count": null,
      "metadata": {
        "colab": {
          "base_uri": "https://localhost:8080/"
        },
        "id": "9IE2v1iM3e8I",
        "outputId": "a785a9ca-6c4a-421a-cf31-359590ab311f"
      },
      "outputs": [
        {
          "data": {
            "text/plain": [
              "(5514, 12)"
            ]
          },
          "execution_count": 15,
          "metadata": {},
          "output_type": "execute_result"
        }
      ],
      "source": [
        "# now we filter out images that don't have duplicates\n",
        "df_undup = df_original[df_original['duplicates'] == 'unduplicated']\n",
        "df_undup.shape"
      ]
    },
    {
      "cell_type": "code",
      "execution_count": null,
      "metadata": {
        "colab": {
          "base_uri": "https://localhost:8080/"
        },
        "id": "ThCO-7HR3e51",
        "outputId": "a0cbf3cf-f93f-42c8-868b-14474433cf4e"
      },
      "outputs": [
        {
          "data": {
            "text/plain": [
              "(1103, 12)"
            ]
          },
          "execution_count": 16,
          "metadata": {},
          "output_type": "execute_result"
        }
      ],
      "source": [
        "# now we create a val set using df because we are sure that none of these images have augmented duplicates in the train set\n",
        "y = df_undup['cell_type_idx']\n",
        "df_train, df_val = train_test_split(df_undup, test_size=0.2, random_state=101, stratify=y)\n",
        "df_val.shape"
      ]
    },
    {
      "cell_type": "code",
      "execution_count": null,
      "metadata": {
        "colab": {
          "base_uri": "https://localhost:8080/"
        },
        "id": "Qec-RNPy3e3S",
        "outputId": "554f4ed5-4562-45fa-98d9-2166bb475e70"
      },
      "outputs": [
        {
          "data": {
            "text/plain": [
              "4    883\n",
              "2     88\n",
              "5     46\n",
              "1     35\n",
              "0     30\n",
              "6     13\n",
              "3      8\n",
              "Name: cell_type_idx, dtype: int64"
            ]
          },
          "execution_count": 21,
          "metadata": {},
          "output_type": "execute_result"
        }
      ],
      "source": [
        "df_val['cell_type_idx'].value_counts()"
      ]
    },
    {
      "cell_type": "code",
      "execution_count": null,
      "metadata": {
        "colab": {
          "base_uri": "https://localhost:8080/"
        },
        "id": "fN40F8O-3e0_",
        "outputId": "e18c42b2-e322-41dd-b143-91ada792d5ab"
      },
      "outputs": [
        {
          "name": "stdout",
          "output_type": "stream",
          "text": [
            "4411\n",
            "1103\n"
          ]
        }
      ],
      "source": [
        "def get_val_rows(x):\n",
        "    # create a list of all the lesion_id's in the val set\n",
        "    val_list = list(df_val['image_id'])\n",
        "    if str(x) in val_list:\n",
        "        return 'val'\n",
        "    else:\n",
        "        return 'train'\n",
        "\n",
        "# identify train and val rows\n",
        "# create a new colum that is a copy of the image_id column\n",
        "df_original['train_or_val'] = df_original['image_id']\n",
        "# apply the function to this new column\n",
        "df_original['train_or_val'] = df_original['train_or_val'].apply(get_val_rows)\n",
        "# filter out train rows\n",
        "#df_train = df_original[(df_original['train_or_val'] == 'train') ]\n",
        "print(len(df_train))\n",
        "print(len(df_val))\n"
      ]
    },
    {
      "cell_type": "code",
      "execution_count": null,
      "metadata": {
        "colab": {
          "base_uri": "https://localhost:8080/"
        },
        "id": "XBbsaOaYStVL",
        "outputId": "49c19d23-8cbf-4684-ec5b-31d4e124b94b"
      },
      "outputs": [
        {
          "data": {
            "text/plain": [
              "4    3532\n",
              "2     352\n",
              "5     184\n",
              "1     140\n",
              "0     121\n",
              "6      51\n",
              "3      31\n",
              "Name: cell_type_idx, dtype: int64"
            ]
          },
          "execution_count": 21,
          "metadata": {},
          "output_type": "execute_result"
        }
      ],
      "source": [
        "df_train['cell_type_idx'].value_counts()"
      ]
    },
    {
      "cell_type": "code",
      "execution_count": null,
      "metadata": {
        "colab": {
          "base_uri": "https://localhost:8080/"
        },
        "id": "eTo192Ss3evc",
        "outputId": "e8cafa87-f383-48ce-fb96-838c536a4a14"
      },
      "outputs": [
        {
          "data": {
            "text/plain": [
              "array(['train'], dtype=object)"
            ]
          },
          "execution_count": 230,
          "metadata": {},
          "output_type": "execute_result"
        }
      ],
      "source": [
        "\n",
        "df_train.train_or_val.unique()"
      ]
    },
    {
      "cell_type": "markdown",
      "metadata": {
        "id": "1NJI5dB0hPji"
      },
      "source": [
        "## Analysis of the different model with the oversampling technique \n",
        "\n",
        "the main dataset whihch I will modify is df_train for training purpose "
      ]
    },
    {
      "cell_type": "markdown",
      "metadata": {
        "id": "83XGEvlC42Al"
      },
      "source": [
        "### balancing via oversampling "
      ]
    },
    {
      "cell_type": "code",
      "execution_count": null,
      "metadata": {
        "colab": {
          "base_uri": "https://localhost:8080/"
        },
        "id": "2W5LuHJflYTC",
        "outputId": "c87f52c3-2cde-43ca-cde4-ab993049c8d6"
      },
      "outputs": [
        {
          "name": "stdout",
          "output_type": "stream",
          "text": [
            "/content/drive/MyDrive/Colab Notebooks/dataverse_files\n"
          ]
        }
      ],
      "source": [
        "!pwd"
      ]
    },
    {
      "cell_type": "code",
      "execution_count": null,
      "metadata": {
        "id": "HtTA84Dqhsf2"
      },
      "outputs": [],
      "source": [
        "########################## this cell is important ######################\n",
        "\n",
        "df_trainOS = df_train.copy()"
      ]
    },
    {
      "cell_type": "code",
      "execution_count": null,
      "metadata": {
        "colab": {
          "base_uri": "https://localhost:8080/"
        },
        "id": "PEN3J0Cjig1X",
        "outputId": "8440f402-1578-4006-a402-896470414498"
      },
      "outputs": [
        {
          "data": {
            "text/plain": [
              "Melanocytic nevi                  5.394111\n",
              "Benign keratosis-like lesions     5.412500\n",
              "Melanoma                          6.902899\n",
              "Vascular lesions                  7.471373\n",
              "Actinic keratoses                 7.872727\n",
              "Dermatofibroma                    8.779724\n",
              "Basal cell carcinoma              9.072381\n",
              "Name: cell_type, dtype: float64"
            ]
          },
          "execution_count": 255,
          "metadata": {},
          "output_type": "execute_result"
        }
      ],
      "source": [
        "len(df_trainOS)/df_trainOS['cell_type'].value_counts()"
      ]
    },
    {
      "cell_type": "code",
      "execution_count": null,
      "metadata": {
        "colab": {
          "base_uri": "https://localhost:8080/"
        },
        "id": "zRQIhghjYm_g",
        "outputId": "c890c94b-4777-4e8e-9f71-ffb8ff31d06b"
      },
      "outputs": [
        {
          "data": {
            "text/plain": [
              "Melanocytic nevi                  3532\n",
              "Benign keratosis-like lesions      352\n",
              "Melanoma                           184\n",
              "Basal cell carcinoma               140\n",
              "Actinic keratoses                  121\n",
              "Vascular lesions                    51\n",
              "Dermatofibroma                      31\n",
              "Name: cell_type, dtype: int64"
            ]
          },
          "execution_count": 245,
          "metadata": {},
          "output_type": "execute_result"
        }
      ],
      "source": [
        "df_trainOS['cell_type'].value_counts()"
      ]
    },
    {
      "cell_type": "code",
      "execution_count": null,
      "metadata": {
        "colab": {
          "base_uri": "https://localhost:8080/"
        },
        "id": "6qxdv4ED4I-W",
        "outputId": "dfa1e0f2-31c7-4672-d07b-37564c4931ec"
      },
      "outputs": [
        {
          "data": {
            "text/plain": [
              "Melanocytic nevi                  3532\n",
              "Benign keratosis-like lesions     3520\n",
              "Melanoma                          2760\n",
              "Vascular lesions                  2550\n",
              "Dermatofibroma                    2480\n",
              "Actinic keratoses                 2420\n",
              "Basal cell carcinoma              2100\n",
              "Name: cell_type, dtype: int64"
            ]
          },
          "execution_count": 259,
          "metadata": {},
          "output_type": "execute_result"
        }
      ],
      "source": [
        "data_aug_rate =[20, 15,10, 80,0,15,50]   # [15,10,5,50,0,5,40]\n",
        "for i in range(7):\n",
        "    if data_aug_rate[i]:\n",
        "        df_trainOS=df_trainOS.append([df_trainOS.loc[df_trainOS['cell_type_idx'] == i,:]]*(data_aug_rate[i]-1), ignore_index=True)\n",
        "df_trainOS['cell_type'].value_counts()"
      ]
    },
    {
      "cell_type": "code",
      "execution_count": null,
      "metadata": {
        "id": "2XuNuUZF4I8I"
      },
      "outputs": [],
      "source": [
        "\n",
        "df_trainOS = df_trainOS.reset_index()\n",
        "df_val = df_val.reset_index()\n"
      ]
    },
    {
      "cell_type": "markdown",
      "metadata": {
        "id": "cEBEvJCV5Epe"
      },
      "source": [
        "### Model building "
      ]
    },
    {
      "cell_type": "code",
      "execution_count": null,
      "metadata": {
        "id": "dm6yFKIo4I51"
      },
      "outputs": [],
      "source": [
        "### using all pretrained model \n",
        "def set_parameter_requires_grad(model, feature_extracting):\n",
        "    if feature_extracting:\n",
        "        for param in model.parameters():\n",
        "            param.requires_grad = False"
      ]
    },
    {
      "cell_type": "code",
      "execution_count": null,
      "metadata": {
        "id": "GQv_wLyQ4I3P"
      },
      "outputs": [],
      "source": [
        "def initialize_model(model_name, num_classes, feature_extract, use_pretrained=True):\n",
        "    # Initialize these variables which will be set in this if statement. Each of these\n",
        "    #   variables is model specific.\n",
        "    model_ft = None\n",
        "    input_size = 0\n",
        "\n",
        "    if model_name == \"resnet\":\n",
        "        \"\"\" Resnet18, resnet34, resnet50, resnet101\n",
        "        \"\"\"\n",
        "        model_ft = models.resnet50(pretrained=use_pretrained)\n",
        "        set_parameter_requires_grad(model_ft, feature_extract)\n",
        "        num_ftrs = model_ft.fc.in_features\n",
        "        model_ft.fc = nn.Linear(num_ftrs, num_classes)\n",
        "        input_size = 224\n",
        "\n",
        "\n",
        "    elif model_name == \"vgg\":\n",
        "        \"\"\" VGG11_bn\n",
        "        \"\"\"\n",
        "        model_ft = models.vgg11_bn(pretrained=use_pretrained)\n",
        "\n",
        "        set_parameter_requires_grad(model_ft, feature_extract)\n",
        "        num_ftrs = model_ft.classifier[6].in_features\n",
        "        model_ft.classifier[6] = nn.Linear(num_ftrs,num_classes)\n",
        "        input_size = 224\n",
        "\n",
        "    elif model_name == \"densenet\":\n",
        "        \"\"\" Densenet121\n",
        "        \"\"\"\n",
        "        model_ft = models.densenet121(pretrained=use_pretrained)\n",
        "        set_parameter_requires_grad(model_ft, feature_extract)\n",
        "        num_ftrs = model_ft.classifier.in_features\n",
        "        model_ft.classifier = nn.Linear(num_ftrs, num_classes)\n",
        "        input_size = 224\n",
        "\n",
        "    elif model_name == \"inception\":\n",
        "        \"\"\" Inception v3\n",
        "        Be careful, expects (299,299) sized images and has auxiliary output, whihc I turned off \n",
        "        \"\"\"\n",
        "        input_size = 299\n",
        "        model_ft = models.inception_v3(pretrained=use_pretrained,  aux_logits =False )\n",
        "\n",
        "        #set_parameter_requires_grad(model_ft, feature_extract)\n",
        "        # Handle the auxilary net\n",
        "        #num_ftrs = model_ft.AuxLogits.fc.in_features\n",
        "        #model_ft.AuxLogits.fc = nn.Linear(num_ftrs, num_classes)\n",
        "        # Handle the primary net\n",
        "        num_ftrs = model_ft.fc.in_features\n",
        "        model_ft.fc = nn.Linear(num_ftrs,num_classes)\n",
        "        input_size = 299\n",
        "\n",
        "    elif model_name == \"mobilenet\":\n",
        "      \"\"\"mobilenet_v3_small\"\"\"\n",
        "      model_ft = models.mobilenet_v3_small(pretrained=True)\n",
        "      set_parameter_requires_grad(model_ft, feature_extract)\n",
        "      model_ft.classifier[3].out_features = 7\n",
        "#      num_ftrs = model_ft.fc.in_features\n",
        " #     model_ft.classifier[3] = nn.Linear(num_ftrs, num_classes)\n",
        "      input_size = 224\n",
        "\n",
        "    else:\n",
        "        print(\"Invalid model name, exiting...\")\n",
        "        exit()\n",
        "    return model_ft, input_size"
      ]
    },
    {
      "cell_type": "markdown",
      "metadata": {
        "id": "_2Q5haG3moRK"
      },
      "source": [
        "### starting with resnet "
      ]
    },
    {
      "cell_type": "code",
      "execution_count": null,
      "metadata": {
        "id": "R2wOM_-h9oTm"
      },
      "outputs": [],
      "source": [
        "# resnet,vgg,densenet,inception,mobilenet\n",
        "model_name = 'resnet'\n",
        "num_classes = 7\n",
        "feature_extract = False\n",
        "# Initialize the model for this run\n",
        "model_ft, input_size = initialize_model(model_name, num_classes, feature_extract, use_pretrained=True)\n",
        "# Define the device:\n",
        "device = torch.device('cuda:0')\n",
        "# Put the model on the device:\n",
        "model = model_ft.to(device)"
      ]
    },
    {
      "cell_type": "markdown",
      "metadata": {
        "id": "xVA_UCon9pVS"
      },
      "source": [
        "### Dataset "
      ]
    },
    {
      "cell_type": "code",
      "execution_count": null,
      "metadata": {
        "id": "C8rAWqRD9t3H"
      },
      "outputs": [],
      "source": [
        "norm_mean = (0.49139968, 0.48215827, 0.44653124)\n",
        "norm_std = (0.24703233, 0.24348505, 0.26158768)\n",
        "# define the transformation of the train images.\n",
        "input_size =224\n",
        "train_transform = transforms.Compose([transforms.Resize((input_size,input_size)),transforms.RandomHorizontalFlip(),\n",
        "                                      transforms.RandomVerticalFlip(),transforms.RandomRotation(20),\n",
        "                                      transforms.ColorJitter(brightness=0.1, contrast=0.1, hue=0.1),\n",
        "                                        transforms.ToTensor(), transforms.Normalize(norm_mean, norm_std)])\n",
        "# define the transformation of the val images.\n",
        "val_transform = transforms.Compose([transforms.Resize((input_size,input_size)), transforms.ToTensor(),\n",
        "                                    transforms.Normalize(norm_mean, norm_std)])\n"
      ]
    },
    {
      "cell_type": "code",
      "execution_count": null,
      "metadata": {
        "id": "yp2aMtmo9tv1"
      },
      "outputs": [],
      "source": [
        "# Define a pytorch dataloader for this dataset\n",
        "class HAM10000(Dataset):\n",
        "    def __init__(self, df, transform=None):\n",
        "        self.df = df\n",
        "        self.transform = transform\n",
        "\n",
        "    def __len__(self):\n",
        "        return len(self.df)\n",
        "\n",
        "    def __getitem__(self, index):\n",
        "        # Load data and get label\n",
        "        X = Image.open(self.df['path'][index])\n",
        "        y = torch.tensor(int(self.df['cell_type_idx'][index]))\n",
        "\n",
        "        if self.transform:\n",
        "            X = self.transform(X)\n",
        "\n",
        "        return X, y"
      ]
    },
    {
      "cell_type": "code",
      "execution_count": null,
      "metadata": {
        "id": "9rHyr45J9tmd"
      },
      "outputs": [],
      "source": [
        "# Define the training set using the table train_df and using our defined transitions (train_transform)\n",
        "training_set = HAM10000(df_trainOS, transform=train_transform)\n",
        "train_loader = DataLoader(training_set, batch_size=32, shuffle=True, num_workers=4)\n",
        "# Same for the validation set:\n",
        "validation_set = HAM10000(df_val, transform=val_transform)\n",
        "val_loader = DataLoader(validation_set, batch_size=32, shuffle=False, num_workers=4)"
      ]
    },
    {
      "cell_type": "code",
      "execution_count": null,
      "metadata": {
        "id": "vefo2fc49oWh"
      },
      "outputs": [],
      "source": [
        "# we use Adam optimizer, use cross entropy loss as our loss function\n",
        "optimizer = optim.Adam(model.parameters(), lr=1e-3)\n",
        "criterion = nn.CrossEntropyLoss().to(device)"
      ]
    },
    {
      "cell_type": "markdown",
      "metadata": {
        "id": "uIxc3649MVlc"
      },
      "source": [
        "### training Resnet"
      ]
    },
    {
      "cell_type": "code",
      "execution_count": null,
      "metadata": {
        "id": "CHriFGoG9oZq"
      },
      "outputs": [],
      "source": [
        "# this function is used during training process, to calculation the loss and accuracy\n",
        "class AverageMeter(object):\n",
        "    def __init__(self):\n",
        "        self.reset()\n",
        "\n",
        "    def reset(self):\n",
        "        self.val = 0\n",
        "        self.avg = 0\n",
        "        self.sum = 0\n",
        "        self.count = 0\n",
        "\n",
        "    def update(self, val, n=1):\n",
        "        self.val = val\n",
        "        self.sum += val * n\n",
        "        self.count += n\n",
        "        self.avg = self.sum / self.count\n"
      ]
    },
    {
      "cell_type": "code",
      "execution_count": null,
      "metadata": {
        "id": "54NTLbkZ9ohL"
      },
      "outputs": [],
      "source": [
        "total_loss_train, total_acc_train = [],[]\n",
        "def train(train_loader, model, criterion, optimizer, epoch):\n",
        "    model.train()\n",
        "    train_loss = AverageMeter()\n",
        "    train_acc = AverageMeter()\n",
        "    curr_iter = (epoch - 1) * len(train_loader)\n",
        "    for i, data in enumerate(train_loader):\n",
        "        images, labels = data\n",
        "        N = images.size(0)\n",
        "        # print('image shape:',images.size(0), 'label shape',labels.size(0))\n",
        "        images = Variable(images).to(device)\n",
        "        labels = Variable(labels).to(device)\n",
        "\n",
        "        optimizer.zero_grad()\n",
        "        outputs = model(images)\n",
        "        loss = criterion(outputs, labels)\n",
        "        loss.backward()\n",
        "        optimizer.step()\n",
        "        prediction = outputs.max(1, keepdim=True)[1]\n",
        "        train_acc.update(prediction.eq(labels.view_as(prediction)).sum().item()/N)\n",
        "        train_loss.update(loss.item())\n",
        "        curr_iter += 1\n",
        "        if (i + 1) % 100 == 0:\n",
        "            print('[epoch %d], [iter %d / %d], [train loss %.5f], [train acc %.5f]' % (\n",
        "                epoch, i + 1, len(train_loader), train_loss.avg, train_acc.avg))\n",
        "            total_loss_train.append(train_loss.avg)\n",
        "            total_acc_train.append(train_acc.avg)\n",
        "    return train_loss.avg, train_acc.avg\n"
      ]
    },
    {
      "cell_type": "code",
      "execution_count": null,
      "metadata": {
        "id": "H0A4Kr-9Mmeg"
      },
      "outputs": [],
      "source": [
        "def validate(val_loader, model, criterion, optimizer, epoch):\n",
        "    model.eval()\n",
        "    val_loss = AverageMeter()\n",
        "    val_acc = AverageMeter()\n",
        "    with torch.no_grad():\n",
        "        for i, data in enumerate(val_loader):\n",
        "            images, labels = data\n",
        "            N = images.size(0)\n",
        "            images = Variable(images).to(device)\n",
        "            labels = Variable(labels).to(device)\n",
        "\n",
        "            outputs = model(images)\n",
        "            prediction = outputs.max(1, keepdim=True)[1]\n",
        "\n",
        "            val_acc.update(prediction.eq(labels.view_as(prediction)).sum().item()/N)\n",
        "\n",
        "            val_loss.update(criterion(outputs, labels).item())\n",
        "\n",
        "    print('------------------------------------------------------------')\n",
        "    print('[epoch %d], [val loss %.5f], [val acc %.5f]' % (epoch, val_loss.avg, val_acc.avg))\n",
        "    print('------------------------------------------------------------')\n",
        "    return val_loss.avg, val_acc.avg"
      ]
    },
    {
      "cell_type": "code",
      "execution_count": null,
      "metadata": {
        "colab": {
          "base_uri": "https://localhost:8080/"
        },
        "id": "rBkZ2--MMmb_",
        "outputId": "9e80919b-f602-455b-c40c-a718a5bc44d3"
      },
      "outputs": [
        {
          "name": "stdout",
          "output_type": "stream",
          "text": [
            "[epoch 1], [iter 100 / 606], [train loss 1.06868], [train acc 0.60406]\n",
            "[epoch 1], [iter 200 / 606], [train loss 1.01671], [train acc 0.62484]\n",
            "[epoch 1], [iter 300 / 606], [train loss 0.96190], [train acc 0.64677]\n",
            "[epoch 1], [iter 400 / 606], [train loss 0.92742], [train acc 0.65945]\n",
            "[epoch 1], [iter 500 / 606], [train loss 0.89553], [train acc 0.67237]\n",
            "[epoch 1], [iter 600 / 606], [train loss 0.85994], [train acc 0.68448]\n",
            "------------------------------------------------------------\n",
            "[epoch 1], [val loss 0.66343], [val acc 0.77196]\n",
            "------------------------------------------------------------\n",
            "*****************************************************\n",
            "best record: [epoch 1], [val loss 0.66343], [val acc 0.77196]\n",
            "*****************************************************\n",
            "[epoch 2], [iter 100 / 606], [train loss 0.75444], [train acc 0.73125]\n",
            "[epoch 2], [iter 200 / 606], [train loss 0.70926], [train acc 0.74453]\n",
            "[epoch 2], [iter 300 / 606], [train loss 0.67660], [train acc 0.75396]\n",
            "[epoch 2], [iter 400 / 606], [train loss 0.65009], [train acc 0.76203]\n",
            "[epoch 2], [iter 500 / 606], [train loss 0.63447], [train acc 0.76606]\n",
            "[epoch 2], [iter 600 / 606], [train loss 0.62431], [train acc 0.77052]\n",
            "------------------------------------------------------------\n",
            "[epoch 2], [val loss 1.05291], [val acc 0.70923]\n",
            "------------------------------------------------------------\n",
            "[epoch 3], [iter 100 / 606], [train loss 0.54753], [train acc 0.79781]\n",
            "[epoch 3], [iter 200 / 606], [train loss 0.54289], [train acc 0.80094]\n",
            "[epoch 3], [iter 300 / 606], [train loss 0.53871], [train acc 0.80208]\n",
            "[epoch 3], [iter 400 / 606], [train loss 0.52417], [train acc 0.80937]\n",
            "[epoch 3], [iter 500 / 606], [train loss 0.51720], [train acc 0.81331]\n",
            "[epoch 3], [iter 600 / 606], [train loss 0.50133], [train acc 0.81854]\n",
            "------------------------------------------------------------\n",
            "[epoch 3], [val loss 0.63321], [val acc 0.80310]\n",
            "------------------------------------------------------------\n",
            "*****************************************************\n",
            "best record: [epoch 3], [val loss 0.63321], [val acc 0.80310]\n",
            "*****************************************************\n",
            "[epoch 4], [iter 100 / 606], [train loss 0.59007], [train acc 0.79344]\n",
            "[epoch 4], [iter 200 / 606], [train loss 0.50960], [train acc 0.81953]\n",
            "[epoch 4], [iter 300 / 606], [train loss 0.47126], [train acc 0.83031]\n",
            "[epoch 4], [iter 400 / 606], [train loss 0.45164], [train acc 0.83547]\n",
            "[epoch 4], [iter 500 / 606], [train loss 0.43961], [train acc 0.84031]\n",
            "[epoch 4], [iter 600 / 606], [train loss 0.42856], [train acc 0.84365]\n",
            "------------------------------------------------------------\n",
            "[epoch 4], [val loss 0.64255], [val acc 0.79863]\n",
            "------------------------------------------------------------\n",
            "[epoch 5], [iter 100 / 606], [train loss 0.65606], [train acc 0.77500]\n",
            "[epoch 5], [iter 200 / 606], [train loss 0.53267], [train acc 0.81156]\n",
            "[epoch 5], [iter 300 / 606], [train loss 0.48970], [train acc 0.82448]\n",
            "[epoch 5], [iter 400 / 606], [train loss 0.45414], [train acc 0.83750]\n",
            "[epoch 5], [iter 500 / 606], [train loss 0.43059], [train acc 0.84588]\n",
            "[epoch 5], [iter 600 / 606], [train loss 0.41258], [train acc 0.85224]\n",
            "------------------------------------------------------------\n",
            "[epoch 5], [val loss 0.53366], [val acc 0.83815]\n",
            "------------------------------------------------------------\n",
            "*****************************************************\n",
            "best record: [epoch 5], [val loss 0.53366], [val acc 0.83815]\n",
            "*****************************************************\n",
            "[epoch 6], [iter 100 / 606], [train loss 0.51987], [train acc 0.81500]\n",
            "[epoch 6], [iter 200 / 606], [train loss 0.42000], [train acc 0.84875]\n",
            "[epoch 6], [iter 300 / 606], [train loss 0.37009], [train acc 0.86698]\n",
            "[epoch 6], [iter 400 / 606], [train loss 0.35949], [train acc 0.87156]\n",
            "[epoch 6], [iter 500 / 606], [train loss 0.34412], [train acc 0.87606]\n",
            "[epoch 6], [iter 600 / 606], [train loss 0.32847], [train acc 0.88099]\n",
            "------------------------------------------------------------\n",
            "[epoch 6], [val loss 0.44967], [val acc 0.85935]\n",
            "------------------------------------------------------------\n",
            "*****************************************************\n",
            "best record: [epoch 6], [val loss 0.44967], [val acc 0.85935]\n",
            "*****************************************************\n",
            "[epoch 7], [iter 100 / 606], [train loss 0.41542], [train acc 0.86125]\n",
            "[epoch 7], [iter 200 / 606], [train loss 0.33300], [train acc 0.88906]\n",
            "[epoch 7], [iter 300 / 606], [train loss 0.30747], [train acc 0.89625]\n",
            "[epoch 7], [iter 400 / 606], [train loss 0.28523], [train acc 0.90305]\n",
            "[epoch 7], [iter 500 / 606], [train loss 0.27510], [train acc 0.90612]\n",
            "[epoch 7], [iter 600 / 606], [train loss 0.26730], [train acc 0.90839]\n",
            "------------------------------------------------------------\n",
            "[epoch 7], [val loss 0.70614], [val acc 0.76292]\n",
            "------------------------------------------------------------\n",
            "[epoch 8], [iter 100 / 606], [train loss 0.28769], [train acc 0.90094]\n",
            "[epoch 8], [iter 200 / 606], [train loss 0.26669], [train acc 0.90828]\n",
            "[epoch 8], [iter 300 / 606], [train loss 0.25425], [train acc 0.91375]\n",
            "[epoch 8], [iter 400 / 606], [train loss 0.25302], [train acc 0.91297]\n",
            "[epoch 8], [iter 500 / 606], [train loss 0.24188], [train acc 0.91738]\n",
            "[epoch 8], [iter 600 / 606], [train loss 0.23122], [train acc 0.92130]\n",
            "------------------------------------------------------------\n",
            "[epoch 8], [val loss 0.41833], [val acc 0.86482]\n",
            "------------------------------------------------------------\n",
            "*****************************************************\n",
            "best record: [epoch 8], [val loss 0.41833], [val acc 0.86482]\n",
            "*****************************************************\n",
            "[epoch 9], [iter 100 / 606], [train loss 0.21632], [train acc 0.92500]\n",
            "[epoch 9], [iter 200 / 606], [train loss 0.20795], [train acc 0.92609]\n",
            "[epoch 9], [iter 300 / 606], [train loss 0.20136], [train acc 0.92969]\n",
            "[epoch 9], [iter 400 / 606], [train loss 0.19407], [train acc 0.93242]\n",
            "[epoch 9], [iter 500 / 606], [train loss 0.19379], [train acc 0.93263]\n",
            "[epoch 9], [iter 600 / 606], [train loss 0.19225], [train acc 0.93312]\n",
            "------------------------------------------------------------\n",
            "[epoch 9], [val loss 0.41793], [val acc 0.85702]\n",
            "------------------------------------------------------------\n",
            "[epoch 10], [iter 100 / 606], [train loss 0.19108], [train acc 0.93344]\n",
            "[epoch 10], [iter 200 / 606], [train loss 0.17632], [train acc 0.94094]\n",
            "[epoch 10], [iter 300 / 606], [train loss 0.18401], [train acc 0.93885]\n",
            "[epoch 10], [iter 400 / 606], [train loss 0.18247], [train acc 0.93867]\n",
            "[epoch 10], [iter 500 / 606], [train loss 0.17738], [train acc 0.93981]\n",
            "[epoch 10], [iter 600 / 606], [train loss 0.17436], [train acc 0.94068]\n",
            "------------------------------------------------------------\n",
            "[epoch 10], [val loss 0.63549], [val acc 0.83101]\n",
            "------------------------------------------------------------\n"
          ]
        }
      ],
      "source": [
        "##### training resnet \n",
        "\n",
        "\n",
        "epoch_num = 10\n",
        "best_val_acc = 0\n",
        "total_loss_val, total_acc_val = [],[]\n",
        "for epoch in range(1, epoch_num+1):\n",
        "    loss_train, acc_train = train(train_loader, model, criterion, optimizer, epoch)\n",
        "    loss_val, acc_val = validate(val_loader, model, criterion, optimizer, epoch)\n",
        "    total_loss_val.append(loss_val)\n",
        "    total_acc_val.append(acc_val)\n",
        "    if acc_val > best_val_acc:\n",
        "        best_val_acc = acc_val\n",
        "        print('*****************************************************')\n",
        "        print('best record: [epoch %d], [val loss %.5f], [val acc %.5f]' % (epoch, loss_val, acc_val))\n",
        "        print('*****************************************************')"
      ]
    },
    {
      "cell_type": "markdown",
      "metadata": {
        "id": "dk2XF25lM79W"
      },
      "source": [
        "### evaluation Resnet"
      ]
    },
    {
      "cell_type": "code",
      "execution_count": null,
      "metadata": {
        "id": "F0NN9QkeMmWj"
      },
      "outputs": [],
      "source": [
        "def plot_confusion_matrix(cm, classes,\n",
        "                          normalize=False,\n",
        "                          title='Confusion matrix',\n",
        "                          cmap=plt.cm.Blues):\n",
        "    \"\"\"\n",
        "    This function prints and plots the confusion matrix.\n",
        "    Normalization can be applied by setting `normalize=True`.\n",
        "    \"\"\"\n",
        "    plt.imshow(cm, interpolation='nearest', cmap=cmap)\n",
        "    plt.title(title)\n",
        "    plt.colorbar()\n",
        "    tick_marks = np.arange(len(classes))\n",
        "    plt.xticks(tick_marks, classes, rotation=45)\n",
        "    plt.yticks(tick_marks, classes)\n",
        "\n",
        "    if normalize:\n",
        "        cm = cm.astype('float') / cm.sum(axis=1)[:, np.newaxis]\n",
        "\n",
        "    thresh = cm.max() / 2.\n",
        "    for i, j in itertools.product(range(cm.shape[0]), range(cm.shape[1])):\n",
        "        plt.text(j, i, cm[i, j],\n",
        "        horizontalalignment=\"center\",\n",
        "        color=\"white\" if cm[i, j] > thresh else \"black\")\n",
        "\n",
        "    plt.tight_layout()\n",
        "    plt.ylabel('True label')\n",
        "    plt.xlabel('Predicted label')"
      ]
    },
    {
      "cell_type": "code",
      "execution_count": null,
      "metadata": {
        "colab": {
          "base_uri": "https://localhost:8080/",
          "height": 311
        },
        "id": "am98JzaVMmTt",
        "outputId": "5be1e63d-33b8-42e2-8c19-267b615a5f03"
      },
      "outputs": [
        {
          "data": {
            "image/png": "[encoded data removed]",
            "text/plain": [
              "<Figure size 432x288 with 2 Axes>"
            ]
          },
          "metadata": {},
          "output_type": "display_data"
        }
      ],
      "source": [
        "### evaluation resnet \n",
        "\n",
        "model.eval()\n",
        "y_label = []\n",
        "y_predict = []\n",
        "with torch.no_grad():\n",
        "    for i, data in enumerate(val_loader):\n",
        "        images, labels = data\n",
        "        N = images.size(0)\n",
        "        images = Variable(images).to(device)\n",
        "        outputs = model(images)\n",
        "        prediction = outputs.max(1, keepdim=True)[1]\n",
        "        y_label.extend(labels.cpu().numpy())\n",
        "        y_predict.extend(np.squeeze(prediction.cpu().numpy().T))\n",
        "\n",
        "# compute the confusion matrix\n",
        "confusion_mtx = confusion_matrix(y_label, y_predict)\n",
        "# plot the confusion matrix\n",
        "plot_labels = ['akiec', 'bcc', 'bkl', 'df', 'nv', 'vasc','mel']\n",
        "plot_confusion_matrix(confusion_mtx, plot_labels)"
      ]
    },
    {
      "cell_type": "code",
      "execution_count": null,
      "metadata": {
        "colab": {
          "base_uri": "https://localhost:8080/",
          "height": 265
        },
        "id": "VJCdtruwMmZa",
        "outputId": "7b2dc921-3d04-49eb-9a6f-94ab2d9c08af"
      },
      "outputs": [
        {
          "data": {
            "image/png": "[encoded data removed]",
            "text/plain": [
              "<Figure size 432x288 with 2 Axes>"
            ]
          },
          "metadata": {},
          "output_type": "display_data"
        }
      ],
      "source": [
        "fig = plt.figure(num = 2)\n",
        "fig1 = fig.add_subplot(2,1,1)\n",
        "fig2 = fig.add_subplot(2,1,2)\n",
        "fig1.plot(total_loss_train, label = 'training loss')\n",
        "fig1.plot(total_acc_train, label = 'training accuracy')\n",
        "fig1.legend(loc='upper center', ncol=2)\n",
        "fig2.plot(total_loss_val, label = 'validation loss')\n",
        "fig2.plot(total_acc_val, label = 'validation accuracy')\n",
        "fig2.legend()\n",
        "plt.show()"
      ]
    },
    {
      "cell_type": "code",
      "execution_count": null,
      "metadata": {
        "colab": {
          "base_uri": "https://localhost:8080/"
        },
        "id": "pyirU76QNZI7",
        "outputId": "7e86cb6c-93ab-4238-9d4b-fc378f3d704c"
      },
      "outputs": [
        {
          "name": "stdout",
          "output_type": "stream",
          "text": [
            "              precision    recall  f1-score   support\n",
            "\n",
            "       akiec       0.54      0.70      0.61        30\n",
            "         bcc       0.42      0.89      0.57        35\n",
            "         bkl       0.50      0.62      0.55        88\n",
            "          df       0.35      0.75      0.48         8\n",
            "          nv       0.99      0.87      0.93       883\n",
            "        vasc       0.33      0.50      0.40        46\n",
            "         mel       0.79      0.85      0.81        13\n",
            "\n",
            "    accuracy                           0.83      1103\n",
            "   macro avg       0.56      0.74      0.62      1103\n",
            "weighted avg       0.88      0.83      0.85      1103\n",
            "\n"
          ]
        }
      ],
      "source": [
        "# Generate a classification report\n",
        "report = classification_report(y_label, y_predict, target_names=plot_labels)\n",
        "print(report)"
      ]
    },
    {
      "cell_type": "code",
      "execution_count": null,
      "metadata": {
        "colab": {
          "base_uri": "https://localhost:8080/"
        },
        "id": "55glDvTkGJ89",
        "outputId": "a9727260-b47e-48b2-a335-8ecc9705faf8"
      },
      "outputs": [
        {
          "name": "stdout",
          "output_type": "stream",
          "text": [
            "Collecting scikit-plot\n",
            "  Downloading scikit_plot-0.3.7-py3-none-any.whl (33 kB)\n",
            "Requirement already satisfied: matplotlib>=1.4.0 in /usr/local/lib/python3.7/dist-packages (from scikit-plot) (3.2.2)\n",
            "Requirement already satisfied: scipy>=0.9 in /usr/local/lib/python3.7/dist-packages (from scikit-plot) (1.4.1)\n",
            "Requirement already satisfied: scikit-learn>=0.18 in /usr/local/lib/python3.7/dist-packages (from scikit-plot) (1.0.2)\n",
            "Requirement already satisfied: joblib>=0.10 in /usr/local/lib/python3.7/dist-packages (from scikit-plot) (1.1.0)\n",
            "Requirement already satisfied: python-dateutil>=2.1 in /usr/local/lib/python3.7/dist-packages (from matplotlib>=1.4.0->scikit-plot) (2.8.2)\n",
            "Requirement already satisfied: cycler>=0.10 in /usr/local/lib/python3.7/dist-packages (from matplotlib>=1.4.0->scikit-plot) (0.11.0)\n",
            "Requirement already satisfied: kiwisolver>=1.0.1 in /usr/local/lib/python3.7/dist-packages (from matplotlib>=1.4.0->scikit-plot) (1.4.0)\n",
            "Requirement already satisfied: pyparsing!=2.0.4,!=2.1.2,!=2.1.6,>=2.0.1 in /usr/local/lib/python3.7/dist-packages (from matplotlib>=1.4.0->scikit-plot) (3.0.7)\n",
            "Requirement already satisfied: numpy>=1.11 in /usr/local/lib/python3.7/dist-packages (from matplotlib>=1.4.0->scikit-plot) (1.21.5)\n",
            "Requirement already satisfied: typing-extensions in /usr/local/lib/python3.7/dist-packages (from kiwisolver>=1.0.1->matplotlib>=1.4.0->scikit-plot) (3.10.0.2)\n",
            "Requirement already satisfied: six>=1.5 in /usr/local/lib/python3.7/dist-packages (from python-dateutil>=2.1->matplotlib>=1.4.0->scikit-plot) (1.15.0)\n",
            "Requirement already satisfied: threadpoolctl>=2.0.0 in /usr/local/lib/python3.7/dist-packages (from scikit-learn>=0.18->scikit-plot) (3.1.0)\n",
            "Installing collected packages: scikit-plot\n",
            "Successfully installed scikit-plot-0.3.7\n"
          ]
        }
      ],
      "source": [
        "!pip install scikit-plot"
      ]
    },
    {
      "cell_type": "markdown",
      "metadata": {
        "id": "5wfRKIxqZmyG"
      },
      "source": [
        "### Vgg model training "
      ]
    },
    {
      "cell_type": "code",
      "execution_count": null,
      "metadata": {
        "id": "OOI27eysJwOk"
      },
      "outputs": [],
      "source": [
        "############ next model is the vgg\n",
        "# resnet,vgg,densenet,inception,mobilenet\n",
        "model_nameVgg = 'vgg'\n",
        "# Initialize the model for this run\n",
        "model_ft2, input_size2 = initialize_model(model_nameVgg, num_classes, feature_extract, use_pretrained=True)\n",
        "# Define the device:\n",
        "device = torch.device('cuda:0')\n",
        "# Put the model on the device:\n",
        "modelVgg = model_ft2.to(device)"
      ]
    },
    {
      "cell_type": "code",
      "execution_count": null,
      "metadata": {
        "colab": {
          "base_uri": "https://localhost:8080/"
        },
        "id": "EJAfJv0qJwJD",
        "outputId": "37ff4f63-2482-40fc-e447-d2e733399cbd"
      },
      "outputs": [
        {
          "name": "stdout",
          "output_type": "stream",
          "text": [
            "[epoch 1], [iter 100 / 606], [train loss 1.50178], [train acc 0.40813]\n",
            "[epoch 1], [iter 200 / 606], [train loss 1.33394], [train acc 0.49109]\n",
            "[epoch 1], [iter 300 / 606], [train loss 1.25852], [train acc 0.52740]\n",
            "[epoch 1], [iter 400 / 606], [train loss 1.23184], [train acc 0.54016]\n",
            "[epoch 1], [iter 500 / 606], [train loss 1.19356], [train acc 0.55869]\n",
            "[epoch 1], [iter 600 / 606], [train loss 1.15597], [train acc 0.57589]\n",
            "------------------------------------------------------------\n",
            "[epoch 1], [val loss 0.68959], [val acc 0.76827]\n",
            "------------------------------------------------------------\n",
            "*****************************************************\n",
            "best record: [epoch 1], [val loss 0.68959], [val acc 0.76827]\n",
            "*****************************************************\n",
            "[epoch 2], [iter 100 / 606], [train loss 0.91816], [train acc 0.67906]\n",
            "[epoch 2], [iter 200 / 606], [train loss 0.94567], [train acc 0.67172]\n",
            "[epoch 2], [iter 300 / 606], [train loss 0.90741], [train acc 0.68677]\n",
            "[epoch 2], [iter 400 / 606], [train loss 0.87183], [train acc 0.69539]\n",
            "[epoch 2], [iter 500 / 606], [train loss 0.85464], [train acc 0.70237]\n",
            "[epoch 2], [iter 600 / 606], [train loss 0.82990], [train acc 0.71104]\n",
            "------------------------------------------------------------\n",
            "[epoch 2], [val loss 0.47620], [val acc 0.81036]\n",
            "------------------------------------------------------------\n",
            "*****************************************************\n",
            "best record: [epoch 2], [val loss 0.47620], [val acc 0.81036]\n",
            "*****************************************************\n",
            "[epoch 3], [iter 100 / 606], [train loss 0.72067], [train acc 0.73375]\n",
            "[epoch 3], [iter 200 / 606], [train loss 0.68825], [train acc 0.74922]\n",
            "[epoch 3], [iter 300 / 606], [train loss 0.67047], [train acc 0.75698]\n",
            "[epoch 3], [iter 400 / 606], [train loss 0.65185], [train acc 0.76492]\n",
            "[epoch 3], [iter 500 / 606], [train loss 0.64379], [train acc 0.76869]\n",
            "[epoch 3], [iter 600 / 606], [train loss 0.63665], [train acc 0.77234]\n",
            "------------------------------------------------------------\n",
            "[epoch 3], [val loss 0.65407], [val acc 0.79875]\n",
            "------------------------------------------------------------\n",
            "[epoch 4], [iter 100 / 606], [train loss 0.59609], [train acc 0.78719]\n",
            "[epoch 4], [iter 200 / 606], [train loss 0.59595], [train acc 0.79109]\n",
            "[epoch 4], [iter 300 / 606], [train loss 0.58968], [train acc 0.79260]\n",
            "[epoch 4], [iter 400 / 606], [train loss 0.58468], [train acc 0.79648]\n",
            "[epoch 4], [iter 500 / 606], [train loss 0.57058], [train acc 0.80156]\n",
            "[epoch 4], [iter 600 / 606], [train loss 0.55626], [train acc 0.80703]\n",
            "------------------------------------------------------------\n",
            "[epoch 4], [val loss 0.44131], [val acc 0.85167]\n",
            "------------------------------------------------------------\n",
            "*****************************************************\n",
            "best record: [epoch 4], [val loss 0.44131], [val acc 0.85167]\n",
            "*****************************************************\n",
            "[epoch 5], [iter 100 / 606], [train loss 0.52523], [train acc 0.81844]\n",
            "[epoch 5], [iter 200 / 606], [train loss 0.48409], [train acc 0.83313]\n",
            "[epoch 5], [iter 300 / 606], [train loss 0.46657], [train acc 0.83896]\n",
            "[epoch 5], [iter 400 / 606], [train loss 0.46298], [train acc 0.83937]\n",
            "[epoch 5], [iter 500 / 606], [train loss 0.45893], [train acc 0.84088]\n",
            "[epoch 5], [iter 600 / 606], [train loss 0.45274], [train acc 0.84281]\n",
            "------------------------------------------------------------\n",
            "[epoch 5], [val loss 0.76219], [val acc 0.75946]\n",
            "------------------------------------------------------------\n",
            "[epoch 6], [iter 100 / 606], [train loss 0.40282], [train acc 0.84719]\n",
            "[epoch 6], [iter 200 / 606], [train loss 0.38769], [train acc 0.85813]\n",
            "[epoch 6], [iter 300 / 606], [train loss 0.37979], [train acc 0.86438]\n",
            "[epoch 6], [iter 400 / 606], [train loss 0.36708], [train acc 0.86906]\n",
            "[epoch 6], [iter 500 / 606], [train loss 0.36383], [train acc 0.87106]\n",
            "[epoch 6], [iter 600 / 606], [train loss 0.36107], [train acc 0.87224]\n",
            "------------------------------------------------------------\n",
            "[epoch 6], [val loss 0.61577], [val acc 0.80143]\n",
            "------------------------------------------------------------\n",
            "[epoch 7], [iter 100 / 606], [train loss 0.39762], [train acc 0.86125]\n",
            "[epoch 7], [iter 200 / 606], [train loss 0.38314], [train acc 0.86734]\n",
            "[epoch 7], [iter 300 / 606], [train loss 0.36618], [train acc 0.87292]\n",
            "[epoch 7], [iter 400 / 606], [train loss 0.34349], [train acc 0.88055]\n",
            "[epoch 7], [iter 500 / 606], [train loss 0.34147], [train acc 0.88169]\n",
            "[epoch 7], [iter 600 / 606], [train loss 0.33155], [train acc 0.88542]\n",
            "------------------------------------------------------------\n",
            "[epoch 7], [val loss 0.61619], [val acc 0.81482]\n",
            "------------------------------------------------------------\n",
            "[epoch 8], [iter 100 / 606], [train loss 0.47177], [train acc 0.84250]\n",
            "[epoch 8], [iter 200 / 606], [train loss 0.44345], [train acc 0.85453]\n",
            "[epoch 8], [iter 300 / 606], [train loss 0.43814], [train acc 0.85740]\n",
            "[epoch 8], [iter 400 / 606], [train loss 0.40728], [train acc 0.86523]\n",
            "[epoch 8], [iter 500 / 606], [train loss 0.38582], [train acc 0.87238]\n",
            "[epoch 8], [iter 600 / 606], [train loss 0.36912], [train acc 0.87771]\n",
            "------------------------------------------------------------\n",
            "[epoch 8], [val loss 0.46246], [val acc 0.84440]\n",
            "------------------------------------------------------------\n",
            "[epoch 9], [iter 100 / 606], [train loss 0.26315], [train acc 0.90969]\n",
            "[epoch 9], [iter 200 / 606], [train loss 0.25887], [train acc 0.91016]\n",
            "[epoch 9], [iter 300 / 606], [train loss 0.25428], [train acc 0.91042]\n",
            "[epoch 9], [iter 400 / 606], [train loss 0.25931], [train acc 0.90984]\n",
            "[epoch 9], [iter 500 / 606], [train loss 0.25452], [train acc 0.91069]\n",
            "[epoch 9], [iter 600 / 606], [train loss 0.25395], [train acc 0.91234]\n",
            "------------------------------------------------------------\n",
            "[epoch 9], [val loss 0.51302], [val acc 0.86238]\n",
            "------------------------------------------------------------\n",
            "*****************************************************\n",
            "best record: [epoch 9], [val loss 0.51302], [val acc 0.86238]\n",
            "*****************************************************\n",
            "[epoch 10], [iter 100 / 606], [train loss 0.27401], [train acc 0.90750]\n",
            "[epoch 10], [iter 200 / 606], [train loss 0.27907], [train acc 0.90438]\n",
            "[epoch 10], [iter 300 / 606], [train loss 0.27417], [train acc 0.90740]\n",
            "[epoch 10], [iter 400 / 606], [train loss 0.26640], [train acc 0.91094]\n",
            "[epoch 10], [iter 500 / 606], [train loss 0.25491], [train acc 0.91512]\n",
            "[epoch 10], [iter 600 / 606], [train loss 0.24894], [train acc 0.91635]\n",
            "------------------------------------------------------------\n",
            "[epoch 10], [val loss 0.55991], [val acc 0.83726]\n",
            "------------------------------------------------------------\n"
          ]
        }
      ],
      "source": [
        "##### training Vgg\n",
        "\n",
        "optimizer = optim.Adam(modelVgg.parameters(), lr=1e-3)\n",
        "criterion = nn.CrossEntropyLoss().to(device)\n",
        "\n",
        "total_loss_train, total_acc_train = [],[]\n",
        "\n",
        "epoch_num = 10\n",
        "best_val_acc = 0\n",
        "total_loss_val, total_acc_val = [],[]\n",
        "for epoch in range(1, epoch_num+1):\n",
        "    loss_train, acc_train = train(train_loader, modelVgg, criterion, optimizer, epoch)\n",
        "    loss_val, acc_val = validate(val_loader, modelVgg, criterion, optimizer, epoch)\n",
        "    total_loss_val.append(loss_val)\n",
        "    total_acc_val.append(acc_val)\n",
        "    if acc_val > best_val_acc:\n",
        "        best_val_acc = acc_val\n",
        "        print('*****************************************************')\n",
        "        print('best record: [epoch %d], [val loss %.5f], [val acc %.5f]' % (epoch, loss_val, acc_val))\n",
        "        print('*****************************************************')"
      ]
    },
    {
      "cell_type": "code",
      "execution_count": null,
      "metadata": {
        "colab": {
          "base_uri": "https://localhost:8080/",
          "height": 311
        },
        "id": "6rDPlA3LJwGm",
        "outputId": "baf5d9b1-e0f6-4aaa-a91f-0017f0a96df2"
      },
      "outputs": [
        {
          "data": {
            "image/png": "[encoded data removed]",
            "text/plain": [
              "<Figure size 432x288 with 2 Axes>"
            ]
          },
          "metadata": {},
          "output_type": "display_data"
        }
      ],
      "source": [
        "### evaluation Vgg\n",
        "\n",
        "modelVgg.eval()\n",
        "y_label = []\n",
        "y_predict = []\n",
        "with torch.no_grad():\n",
        "    for i, data in enumerate(val_loader):\n",
        "        images, labels = data\n",
        "        N = images.size(0)\n",
        "        images = Variable(images).to(device)\n",
        "        outputs = modelVgg(images)\n",
        "        prediction = outputs.max(1, keepdim=True)[1]\n",
        "        y_label.extend(labels.cpu().numpy())\n",
        "        y_predict.extend(np.squeeze(prediction.cpu().numpy().T))\n",
        "\n",
        "# compute the confusion matrix\n",
        "confusion_mtx = confusion_matrix(y_label, y_predict)\n",
        "# plot the confusion matrix\n",
        "plot_labels = ['akiec', 'bcc', 'bkl', 'df', 'nv', 'vasc','mel']\n",
        "plot_confusion_matrix(confusion_mtx, plot_labels)"
      ]
    },
    {
      "cell_type": "code",
      "execution_count": null,
      "metadata": {
        "colab": {
          "base_uri": "https://localhost:8080/",
          "height": 265
        },
        "id": "Ad4CO1HjKmkY",
        "outputId": "65457638-e58a-418d-bbf0-a2a1e00465da"
      },
      "outputs": [
        {
          "data": {
            "image/png": "[encoded data removed]",
            "text/plain": [
              "<Figure size 432x288 with 2 Axes>"
            ]
          },
          "metadata": {},
          "output_type": "display_data"
        }
      ],
      "source": [
        "fig = plt.figure(num = 2)\n",
        "fig1 = fig.add_subplot(2,1,1)\n",
        "fig2 = fig.add_subplot(2,1,2)\n",
        "fig1.plot(total_loss_train, label = 'training loss')\n",
        "fig1.plot(total_acc_train, label = 'training accuracy')\n",
        "fig1.legend(loc='upper center', ncol=2)\n",
        "fig2.plot(total_loss_val, label = 'validation loss')\n",
        "fig2.plot(total_acc_val, label = 'validation accuracy')\n",
        "fig2.legend()\n",
        "plt.show()"
      ]
    },
    {
      "cell_type": "code",
      "execution_count": null,
      "metadata": {
        "colab": {
          "base_uri": "https://localhost:8080/"
        },
        "id": "sSf3GLV9KmhL",
        "outputId": "ae726186-32d3-47a4-e451-6b1865e43df5"
      },
      "outputs": [
        {
          "name": "stdout",
          "output_type": "stream",
          "text": [
            "              precision    recall  f1-score   support\n",
            "\n",
            "       akiec       0.34      0.90      0.50        30\n",
            "         bcc       0.71      0.71      0.71        35\n",
            "         bkl       0.50      0.73      0.59        88\n",
            "          df       0.40      0.50      0.44         8\n",
            "          nv       0.99      0.88      0.93       883\n",
            "        vasc       0.31      0.35      0.33        46\n",
            "         mel       1.00      0.69      0.82        13\n",
            "\n",
            "    accuracy                           0.84      1103\n",
            "   macro avg       0.61      0.68      0.62      1103\n",
            "weighted avg       0.89      0.84      0.85      1103\n",
            "\n"
          ]
        }
      ],
      "source": [
        "report = classification_report(y_label, y_predict, target_names=plot_labels)\n",
        "print(report)"
      ]
    },
    {
      "cell_type": "markdown",
      "metadata": {
        "id": "-sGYzR3nZq4o"
      },
      "source": [
        "### Training Densnet "
      ]
    },
    {
      "cell_type": "code",
      "execution_count": null,
      "metadata": {
        "colab": {
          "base_uri": "https://localhost:8080/"
        },
        "id": "de7IGpuyKmed",
        "outputId": "139c67bf-27cf-45ca-f003-205fc5afa64a"
      },
      "outputs": [
        {
          "name": "stdout",
          "output_type": "stream",
          "text": [
            "[epoch 1], [iter 100 / 606], [train loss 1.13171], [train acc 0.58000]\n",
            "[epoch 1], [iter 200 / 606], [train loss 1.00190], [train acc 0.63062]\n",
            "[epoch 1], [iter 300 / 606], [train loss 0.89840], [train acc 0.66698]\n",
            "[epoch 1], [iter 400 / 606], [train loss 0.83175], [train acc 0.69391]\n",
            "[epoch 1], [iter 500 / 606], [train loss 0.78638], [train acc 0.71062]\n",
            "[epoch 1], [iter 600 / 606], [train loss 0.75391], [train acc 0.72245]\n",
            "------------------------------------------------------------\n",
            "[epoch 1], [val loss 0.43288], [val acc 0.85679]\n",
            "------------------------------------------------------------\n",
            "*****************************************************\n",
            "best record: [epoch 1], [val loss 0.43288], [val acc 0.85679]\n",
            "*****************************************************\n",
            "[epoch 2], [iter 100 / 606], [train loss 0.57729], [train acc 0.78906]\n",
            "[epoch 2], [iter 200 / 606], [train loss 0.52080], [train acc 0.80703]\n",
            "[epoch 2], [iter 300 / 606], [train loss 0.50181], [train acc 0.81302]\n",
            "[epoch 2], [iter 400 / 606], [train loss 0.48462], [train acc 0.82039]\n",
            "[epoch 2], [iter 500 / 606], [train loss 0.46955], [train acc 0.82788]\n",
            "[epoch 2], [iter 600 / 606], [train loss 0.46095], [train acc 0.83062]\n",
            "------------------------------------------------------------\n",
            "[epoch 2], [val loss 0.64492], [val acc 0.78446]\n",
            "------------------------------------------------------------\n",
            "[epoch 3], [iter 100 / 606], [train loss 0.41753], [train acc 0.84281]\n",
            "[epoch 3], [iter 200 / 606], [train loss 0.38052], [train acc 0.85594]\n",
            "[epoch 3], [iter 300 / 606], [train loss 0.37741], [train acc 0.85802]\n",
            "[epoch 3], [iter 400 / 606], [train loss 0.36668], [train acc 0.86461]\n",
            "[epoch 3], [iter 500 / 606], [train loss 0.35507], [train acc 0.87025]\n",
            "[epoch 3], [iter 600 / 606], [train loss 0.35047], [train acc 0.87328]\n",
            "------------------------------------------------------------\n",
            "[epoch 3], [val loss 0.68880], [val acc 0.78256]\n",
            "------------------------------------------------------------\n",
            "[epoch 4], [iter 100 / 606], [train loss 0.48004], [train acc 0.83094]\n",
            "[epoch 4], [iter 200 / 606], [train loss 0.37708], [train acc 0.86625]\n",
            "[epoch 4], [iter 300 / 606], [train loss 0.33667], [train acc 0.88052]\n",
            "[epoch 4], [iter 400 / 606], [train loss 0.31001], [train acc 0.88922]\n",
            "[epoch 4], [iter 500 / 606], [train loss 0.29469], [train acc 0.89487]\n",
            "[epoch 4], [iter 600 / 606], [train loss 0.28864], [train acc 0.89677]\n",
            "------------------------------------------------------------\n",
            "[epoch 4], [val loss 0.56826], [val acc 0.81661]\n",
            "------------------------------------------------------------\n",
            "[epoch 5], [iter 100 / 606], [train loss 0.49425], [train acc 0.82656]\n",
            "[epoch 5], [iter 200 / 606], [train loss 0.37355], [train acc 0.86891]\n",
            "[epoch 5], [iter 300 / 606], [train loss 0.30922], [train acc 0.89104]\n",
            "[epoch 5], [iter 400 / 606], [train loss 0.28032], [train acc 0.90141]\n",
            "[epoch 5], [iter 500 / 606], [train loss 0.26706], [train acc 0.90575]\n",
            "[epoch 5], [iter 600 / 606], [train loss 0.26250], [train acc 0.90724]\n",
            "------------------------------------------------------------\n",
            "[epoch 5], [val loss 0.56466], [val acc 0.81381]\n",
            "------------------------------------------------------------\n",
            "[epoch 6], [iter 100 / 606], [train loss 0.24114], [train acc 0.91687]\n",
            "[epoch 6], [iter 200 / 606], [train loss 0.20928], [train acc 0.92812]\n",
            "[epoch 6], [iter 300 / 606], [train loss 0.19497], [train acc 0.93281]\n",
            "[epoch 6], [iter 400 / 606], [train loss 0.18696], [train acc 0.93430]\n",
            "[epoch 6], [iter 500 / 606], [train loss 0.18462], [train acc 0.93606]\n",
            "[epoch 6], [iter 600 / 606], [train loss 0.17888], [train acc 0.93844]\n",
            "------------------------------------------------------------\n",
            "[epoch 6], [val loss 0.68721], [val acc 0.81482]\n",
            "------------------------------------------------------------\n",
            "[epoch 7], [iter 100 / 606], [train loss 0.26149], [train acc 0.90750]\n",
            "[epoch 7], [iter 200 / 606], [train loss 0.20250], [train acc 0.92766]\n",
            "[epoch 7], [iter 300 / 606], [train loss 0.18000], [train acc 0.93677]\n",
            "[epoch 7], [iter 400 / 606], [train loss 0.17341], [train acc 0.94016]\n",
            "[epoch 7], [iter 500 / 606], [train loss 0.16703], [train acc 0.94250]\n",
            "[epoch 7], [iter 600 / 606], [train loss 0.16150], [train acc 0.94365]\n",
            "------------------------------------------------------------\n",
            "[epoch 7], [val loss 0.57171], [val acc 0.83435]\n",
            "------------------------------------------------------------\n",
            "[epoch 8], [iter 100 / 606], [train loss 0.15859], [train acc 0.95125]\n",
            "[epoch 8], [iter 200 / 606], [train loss 0.15730], [train acc 0.94719]\n",
            "[epoch 8], [iter 300 / 606], [train loss 0.15009], [train acc 0.94979]\n",
            "[epoch 8], [iter 400 / 606], [train loss 0.15214], [train acc 0.94937]\n",
            "[epoch 8], [iter 500 / 606], [train loss 0.14595], [train acc 0.95112]\n",
            "[epoch 8], [iter 600 / 606], [train loss 0.14415], [train acc 0.95078]\n",
            "------------------------------------------------------------\n",
            "[epoch 8], [val loss 0.47669], [val acc 0.88292]\n",
            "------------------------------------------------------------\n",
            "*****************************************************\n",
            "best record: [epoch 8], [val loss 0.47669], [val acc 0.88292]\n",
            "*****************************************************\n",
            "[epoch 9], [iter 100 / 606], [train loss 0.18175], [train acc 0.93844]\n",
            "[epoch 9], [iter 200 / 606], [train loss 0.14006], [train acc 0.95266]\n",
            "[epoch 9], [iter 300 / 606], [train loss 0.14145], [train acc 0.95198]\n",
            "[epoch 9], [iter 400 / 606], [train loss 0.14254], [train acc 0.95141]\n",
            "[epoch 9], [iter 500 / 606], [train loss 0.13340], [train acc 0.95362]\n",
            "[epoch 9], [iter 600 / 606], [train loss 0.13345], [train acc 0.95323]\n",
            "------------------------------------------------------------\n",
            "[epoch 9], [val loss 0.63547], [val acc 0.83536]\n",
            "------------------------------------------------------------\n",
            "[epoch 10], [iter 100 / 606], [train loss 0.18593], [train acc 0.94344]\n",
            "[epoch 10], [iter 200 / 606], [train loss 0.16267], [train acc 0.94781]\n",
            "[epoch 10], [iter 300 / 606], [train loss 0.13940], [train acc 0.95490]\n",
            "[epoch 10], [iter 400 / 606], [train loss 0.13127], [train acc 0.95734]\n",
            "[epoch 10], [iter 500 / 606], [train loss 0.12322], [train acc 0.95969]\n",
            "[epoch 10], [iter 600 / 606], [train loss 0.11792], [train acc 0.96115]\n",
            "------------------------------------------------------------\n",
            "[epoch 10], [val loss 0.46626], [val acc 0.88369]\n",
            "------------------------------------------------------------\n",
            "*****************************************************\n",
            "best record: [epoch 10], [val loss 0.46626], [val acc 0.88369]\n",
            "*****************************************************\n"
          ]
        }
      ],
      "source": [
        "############ model densnet\n",
        "# resnet,vgg,densenet,inception,mobilenet\n",
        "model_nameDen = 'densenet'\n",
        "# Initialize the model for this run\n",
        "model_ft3, input_size3 = initialize_model(model_nameDen, num_classes, feature_extract, use_pretrained=True)\n",
        "# Define the device:\n",
        "device = torch.device('cuda:0')\n",
        "# Put the model on the device:\n",
        "modelDen = model_ft3.to(device)\n",
        "\n",
        "\n",
        "###### training densnet \n",
        "\n",
        "optimizer = optim.Adam(modelDen.parameters(), lr=1e-3)\n",
        "criterion = nn.CrossEntropyLoss().to(device)\n",
        "\n",
        "total_loss_train, total_acc_train = [],[]\n",
        "\n",
        "epoch_num = 10\n",
        "best_val_acc = 0\n",
        "total_loss_val, total_acc_val = [],[]\n",
        "for epoch in range(1, epoch_num+1):\n",
        "    loss_train, acc_train = train(train_loader, modelDen, criterion, optimizer, epoch)\n",
        "    loss_val, acc_val = validate(val_loader, modelDen, criterion, optimizer, epoch)\n",
        "    total_loss_val.append(loss_val)\n",
        "    total_acc_val.append(acc_val)\n",
        "    if acc_val > best_val_acc:\n",
        "        best_val_acc = acc_val\n",
        "        print('*****************************************************')\n",
        "        print('best record: [epoch %d], [val loss %.5f], [val acc %.5f]' % (epoch, loss_val, acc_val))\n",
        "        print('*****************************************************')"
      ]
    },
    {
      "cell_type": "code",
      "execution_count": null,
      "metadata": {
        "colab": {
          "base_uri": "https://localhost:8080/",
          "height": 311
        },
        "id": "8HW-OMDiY1-J",
        "outputId": "30f47bed-b021-4810-cc29-253970e6c569"
      },
      "outputs": [
        {
          "data": {
            "image/png": "[encoded data removed]",
            "text/plain": [
              "<Figure size 432x288 with 2 Axes>"
            ]
          },
          "metadata": {},
          "output_type": "display_data"
        }
      ],
      "source": [
        "### evaluation Densnet\n",
        "\n",
        "modelDen.eval()\n",
        "y_label = []\n",
        "y_predict = []\n",
        "with torch.no_grad():\n",
        "    for i, data in enumerate(val_loader):\n",
        "        images, labels = data\n",
        "        N = images.size(0)\n",
        "        images = Variable(images).to(device)\n",
        "        outputs = modelDen(images)\n",
        "        prediction = outputs.max(1, keepdim=True)[1]\n",
        "        y_label.extend(labels.cpu().numpy())\n",
        "        y_predict.extend(np.squeeze(prediction.cpu().numpy().T))\n",
        "\n",
        "# compute the confusion matrix\n",
        "confusion_mtx = confusion_matrix(y_label, y_predict)\n",
        "# plot the confusion matrix\n",
        "plot_labels = ['akiec', 'bcc', 'bkl', 'df', 'nv', 'vasc','mel']\n",
        "plot_confusion_matrix(confusion_mtx, plot_labels)"
      ]
    },
    {
      "cell_type": "code",
      "execution_count": null,
      "metadata": {
        "colab": {
          "base_uri": "https://localhost:8080/",
          "height": 265
        },
        "id": "aWZlu3VbY17r",
        "outputId": "c0bcd90e-7c70-49a4-a5f4-b596293e4fec"
      },
      "outputs": [
        {
          "data": {
            "image/png": "[encoded data removed]",
            "text/plain": [
              "<Figure size 432x288 with 2 Axes>"
            ]
          },
          "metadata": {},
          "output_type": "display_data"
        }
      ],
      "source": [
        "fig = plt.figure(num = 2)\n",
        "fig1 = fig.add_subplot(2,1,1)\n",
        "fig2 = fig.add_subplot(2,1,2)\n",
        "fig1.plot(total_loss_train, label = 'training loss')\n",
        "fig1.plot(total_acc_train, label = 'training accuracy')\n",
        "fig1.legend(loc='upper center', ncol=2)\n",
        "fig2.plot(total_loss_val, label = 'validation loss')\n",
        "fig2.plot(total_acc_val, label = 'validation accuracy')\n",
        "fig2.legend()\n",
        "plt.show()"
      ]
    },
    {
      "cell_type": "code",
      "execution_count": null,
      "metadata": {
        "colab": {
          "base_uri": "https://localhost:8080/"
        },
        "id": "Q_v4384hY15a",
        "outputId": "d8071de5-5154-4aa6-8c13-9a1ac47ee00b"
      },
      "outputs": [
        {
          "name": "stdout",
          "output_type": "stream",
          "text": [
            "              precision    recall  f1-score   support\n",
            "\n",
            "       akiec       0.54      0.63      0.58        30\n",
            "         bcc       0.58      0.80      0.67        35\n",
            "         bkl       0.62      0.72      0.66        88\n",
            "          df       0.73      1.00      0.84         8\n",
            "          nv       0.97      0.95      0.96       883\n",
            "        vasc       0.40      0.30      0.35        46\n",
            "         mel       1.00      0.54      0.70        13\n",
            "\n",
            "    accuracy                           0.88      1103\n",
            "   macro avg       0.69      0.71      0.68      1103\n",
            "weighted avg       0.89      0.88      0.88      1103\n",
            "\n"
          ]
        }
      ],
      "source": [
        "report = classification_report(y_label, y_predict, target_names=plot_labels)\n",
        "print(report)"
      ]
    },
    {
      "cell_type": "code",
      "execution_count": null,
      "metadata": {
        "colab": {
          "base_uri": "https://localhost:8080/"
        },
        "id": "ZmzibgD3XJNJ",
        "outputId": "38c7ef55-481c-4cf3-901d-493117319a51"
      },
      "outputs": [
        {
          "name": "stdout",
          "output_type": "stream",
          "text": [
            "Wed Mar 23 21:32:14 2022       \n",
            "+-----------------------------------------------------------------------------+\n",
            "| NVIDIA-SMI 460.32.03    Driver Version: 460.32.03    CUDA Version: 11.2     |\n",
            "|-------------------------------+----------------------+----------------------+\n",
            "| GPU  Name        Persistence-M| Bus-Id        Disp.A | Volatile Uncorr. ECC |\n",
            "| Fan  Temp  Perf  Pwr:Usage/Cap|         Memory-Usage | GPU-Util  Compute M. |\n",
            "|                               |                      |               MIG M. |\n",
            "|===============================+======================+======================|\n",
            "|   0  Tesla P100-PCIE...  Off  | 00000000:00:04.0 Off |                    0 |\n",
            "| N/A   66C    P0    50W / 250W |  12325MiB / 16280MiB |      0%      Default |\n",
            "|                               |                      |                  N/A |\n",
            "+-------------------------------+----------------------+----------------------+\n",
            "                                                                               \n",
            "+-----------------------------------------------------------------------------+\n",
            "| Processes:                                                                  |\n",
            "|  GPU   GI   CI        PID   Type   Process name                  GPU Memory |\n",
            "|        ID   ID                                                   Usage      |\n",
            "|=============================================================================|\n",
            "+-----------------------------------------------------------------------------+\n"
          ]
        }
      ],
      "source": [
        "gpu_info = !nvidia-smi\n",
        "gpu_info = '\\n'.join(gpu_info)\n",
        "if gpu_info.find('failed') >= 0:\n",
        "  print('Not connected to a GPU')\n",
        "else:\n",
        "  print(gpu_info)"
      ]
    },
    {
      "cell_type": "code",
      "execution_count": null,
      "metadata": {
        "colab": {
          "base_uri": "https://localhost:8080/"
        },
        "id": "4628PzJ0XMfC",
        "outputId": "9abf02d6-260b-4390-dcdf-b84481e95b55"
      },
      "outputs": [
        {
          "name": "stdout",
          "output_type": "stream",
          "text": [
            "Your runtime has 27.3 gigabytes of available RAM\n",
            "\n",
            "You are using a high-RAM runtime!\n"
          ]
        }
      ],
      "source": [
        "from psutil import virtual_memory\n",
        "ram_gb = virtual_memory().total / 1e9\n",
        "print('Your runtime has {:.1f} gigabytes of available RAM\\n'.format(ram_gb))\n",
        "\n",
        "if ram_gb < 20:\n",
        "  print('Not using a high-RAM runtime')\n",
        "else:\n",
        "  print('You are using a high-RAM runtime!')"
      ]
    },
    {
      "cell_type": "markdown",
      "metadata": {
        "id": "_vTLf5NpZwXd"
      },
      "source": [
        "### Training inception"
      ]
    },
    {
      "cell_type": "code",
      "execution_count": null,
      "metadata": {
        "id": "HNaGYLHcY13M"
      },
      "outputs": [],
      "source": [
        "######## model inception\n",
        "\n",
        "\n",
        "train_transformI = transforms.Compose([transforms.Resize((input_size,input_size)),transforms.RandomHorizontalFlip(),\n",
        "                                      transforms.RandomVerticalFlip(),transforms.RandomRotation(20),\n",
        "                                      transforms.ColorJitter(brightness=0.1, contrast=0.1, hue=0.1),\n",
        "                                        transforms.ToTensor(), transforms.Normalize(norm_mean, norm_std)])\n",
        "# define the transformation of the val images.\n",
        "val_transformI = transforms.Compose([transforms.Resize((input_size,input_size)), transforms.ToTensor(),\n",
        "                                    transforms.Normalize(norm_mean, norm_std)])\n",
        "\n",
        "\n",
        "# Define the training set using the table train_df and using our defined transitions (train_transform)\n",
        "training_setI = HAM10000(df_trainOS, transform=train_transformI)\n",
        "train_loaderI = DataLoader(training_setI, batch_size=32, shuffle=True, num_workers=4)\n",
        "# Same for the validation set:\n",
        "validation_setI = HAM10000(df_val, transform=val_transformI)\n",
        "val_loaderI = DataLoader(validation_setI, batch_size=32, shuffle=False, num_workers=4)\n",
        "\n",
        "###### training inception \n"
      ]
    },
    {
      "cell_type": "code",
      "execution_count": null,
      "metadata": {
        "id": "pslQLwAxTDom"
      },
      "outputs": [],
      "source": [
        "modelI"
      ]
    },
    {
      "cell_type": "code",
      "execution_count": null,
      "metadata": {
        "colab": {
          "base_uri": "https://localhost:8080/"
        },
        "id": "uQPgGBWkBUPz",
        "outputId": "bde41f29-1600-440a-bf83-b6604e1b9133"
      },
      "outputs": [
        {
          "name": "stdout",
          "output_type": "stream",
          "text": [
            "[epoch 1], [iter 100 / 606], [train loss 1.19274], [train acc 0.56969]\n",
            "[epoch 1], [iter 200 / 606], [train loss 1.03689], [train acc 0.63234]\n",
            "[epoch 1], [iter 300 / 606], [train loss 0.94506], [train acc 0.66552]\n",
            "[epoch 1], [iter 400 / 606], [train loss 0.89084], [train acc 0.68375]\n",
            "[epoch 1], [iter 500 / 606], [train loss 0.83579], [train acc 0.70331]\n",
            "[epoch 1], [iter 600 / 606], [train loss 0.79044], [train acc 0.71964]\n",
            "------------------------------------------------------------\n",
            "[epoch 1], [val loss 0.60570], [val acc 0.78536]\n",
            "------------------------------------------------------------\n",
            "*****************************************************\n",
            "best record: [epoch 1], [val loss 0.60570], [val acc 0.78536]\n",
            "*****************************************************\n",
            "[epoch 2], [iter 100 / 606], [train loss 0.58619], [train acc 0.79781]\n",
            "[epoch 2], [iter 200 / 606], [train loss 0.55146], [train acc 0.80781]\n",
            "[epoch 2], [iter 300 / 606], [train loss 0.52131], [train acc 0.81688]\n",
            "[epoch 2], [iter 400 / 606], [train loss 0.50409], [train acc 0.82227]\n",
            "[epoch 2], [iter 500 / 606], [train loss 0.47650], [train acc 0.83331]\n",
            "[epoch 2], [iter 600 / 606], [train loss 0.46313], [train acc 0.83714]\n",
            "------------------------------------------------------------\n",
            "[epoch 2], [val loss 0.61314], [val acc 0.79696]\n",
            "------------------------------------------------------------\n",
            "*****************************************************\n",
            "best record: [epoch 2], [val loss 0.61314], [val acc 0.79696]\n",
            "*****************************************************\n",
            "[epoch 3], [iter 100 / 606], [train loss 0.35518], [train acc 0.86625]\n",
            "[epoch 3], [iter 200 / 606], [train loss 0.37625], [train acc 0.86719]\n",
            "[epoch 3], [iter 300 / 606], [train loss 0.38680], [train acc 0.86208]\n",
            "[epoch 3], [iter 400 / 606], [train loss 0.37405], [train acc 0.86797]\n",
            "[epoch 3], [iter 500 / 606], [train loss 0.35414], [train acc 0.87538]\n",
            "[epoch 3], [iter 600 / 606], [train loss 0.34187], [train acc 0.88026]\n",
            "------------------------------------------------------------\n",
            "[epoch 3], [val loss 0.59031], [val acc 0.82095]\n",
            "------------------------------------------------------------\n",
            "*****************************************************\n",
            "best record: [epoch 3], [val loss 0.59031], [val acc 0.82095]\n",
            "*****************************************************\n",
            "[epoch 4], [iter 100 / 606], [train loss 0.35439], [train acc 0.88406]\n",
            "[epoch 4], [iter 200 / 606], [train loss 0.32676], [train acc 0.89328]\n",
            "[epoch 4], [iter 300 / 606], [train loss 0.30029], [train acc 0.90167]\n",
            "[epoch 4], [iter 400 / 606], [train loss 0.27914], [train acc 0.90914]\n",
            "[epoch 4], [iter 500 / 606], [train loss 0.26805], [train acc 0.91256]\n",
            "[epoch 4], [iter 600 / 606], [train loss 0.26577], [train acc 0.91214]\n",
            "------------------------------------------------------------\n",
            "[epoch 4], [val loss 0.52059], [val acc 0.83280]\n",
            "------------------------------------------------------------\n",
            "*****************************************************\n",
            "best record: [epoch 4], [val loss 0.52059], [val acc 0.83280]\n",
            "*****************************************************\n",
            "[epoch 5], [iter 100 / 606], [train loss 0.20682], [train acc 0.93312]\n",
            "[epoch 5], [iter 200 / 606], [train loss 0.19428], [train acc 0.93594]\n",
            "[epoch 5], [iter 300 / 606], [train loss 0.19739], [train acc 0.93396]\n",
            "[epoch 5], [iter 400 / 606], [train loss 0.19765], [train acc 0.93430]\n",
            "[epoch 5], [iter 500 / 606], [train loss 0.20083], [train acc 0.93312]\n",
            "[epoch 5], [iter 600 / 606], [train loss 0.19597], [train acc 0.93406]\n",
            "------------------------------------------------------------\n",
            "[epoch 5], [val loss 0.59244], [val acc 0.83905]\n",
            "------------------------------------------------------------\n",
            "*****************************************************\n",
            "best record: [epoch 5], [val loss 0.59244], [val acc 0.83905]\n",
            "*****************************************************\n",
            "[epoch 6], [iter 100 / 606], [train loss 0.47145], [train acc 0.85281]\n",
            "[epoch 6], [iter 200 / 606], [train loss 0.35456], [train acc 0.88500]\n",
            "[epoch 6], [iter 300 / 606], [train loss 0.30400], [train acc 0.90135]\n",
            "[epoch 6], [iter 400 / 606], [train loss 0.26970], [train acc 0.91227]\n",
            "[epoch 6], [iter 500 / 606], [train loss 0.24781], [train acc 0.91938]\n",
            "[epoch 6], [iter 600 / 606], [train loss 0.23419], [train acc 0.92401]\n",
            "------------------------------------------------------------\n",
            "[epoch 6], [val loss 0.58703], [val acc 0.84988]\n",
            "------------------------------------------------------------\n",
            "*****************************************************\n",
            "best record: [epoch 6], [val loss 0.58703], [val acc 0.84988]\n",
            "*****************************************************\n",
            "[epoch 7], [iter 100 / 606], [train loss 0.19451], [train acc 0.93500]\n",
            "[epoch 7], [iter 200 / 606], [train loss 0.17595], [train acc 0.93891]\n",
            "[epoch 7], [iter 300 / 606], [train loss 0.16280], [train acc 0.94458]\n",
            "[epoch 7], [iter 400 / 606], [train loss 0.15467], [train acc 0.94688]\n",
            "[epoch 7], [iter 500 / 606], [train loss 0.14725], [train acc 0.94975]\n",
            "[epoch 7], [iter 600 / 606], [train loss 0.14519], [train acc 0.95083]\n",
            "------------------------------------------------------------\n",
            "[epoch 7], [val loss 0.50326], [val acc 0.84720]\n",
            "------------------------------------------------------------\n",
            "[epoch 8], [iter 100 / 606], [train loss 0.11765], [train acc 0.96031]\n",
            "[epoch 8], [iter 200 / 606], [train loss 0.13508], [train acc 0.95391]\n",
            "[epoch 8], [iter 300 / 606], [train loss 0.14309], [train acc 0.94979]\n",
            "[epoch 8], [iter 400 / 606], [train loss 0.13460], [train acc 0.95352]\n",
            "[epoch 8], [iter 500 / 606], [train loss 0.13415], [train acc 0.95356]\n",
            "[epoch 8], [iter 600 / 606], [train loss 0.13052], [train acc 0.95479]\n",
            "------------------------------------------------------------\n",
            "[epoch 8], [val loss 0.51932], [val acc 0.84542]\n",
            "------------------------------------------------------------\n",
            "[epoch 9], [iter 100 / 606], [train loss 0.41799], [train acc 0.86813]\n",
            "[epoch 9], [iter 200 / 606], [train loss 0.30860], [train acc 0.89922]\n",
            "[epoch 9], [iter 300 / 606], [train loss 0.24646], [train acc 0.91948]\n",
            "[epoch 9], [iter 400 / 606], [train loss 0.21972], [train acc 0.92820]\n",
            "[epoch 9], [iter 500 / 606], [train loss 0.20091], [train acc 0.93419]\n",
            "[epoch 9], [iter 600 / 606], [train loss 0.18466], [train acc 0.94005]\n",
            "------------------------------------------------------------\n",
            "[epoch 9], [val loss 0.40848], [val acc 0.87935]\n",
            "------------------------------------------------------------\n",
            "*****************************************************\n",
            "best record: [epoch 9], [val loss 0.40848], [val acc 0.87935]\n",
            "*****************************************************\n",
            "[epoch 10], [iter 100 / 606], [train loss 0.12559], [train acc 0.95562]\n",
            "[epoch 10], [iter 200 / 606], [train loss 0.12181], [train acc 0.95969]\n",
            "[epoch 10], [iter 300 / 606], [train loss 0.11723], [train acc 0.96167]\n",
            "[epoch 10], [iter 400 / 606], [train loss 0.11953], [train acc 0.96086]\n",
            "[epoch 10], [iter 500 / 606], [train loss 0.11924], [train acc 0.96119]\n",
            "[epoch 10], [iter 600 / 606], [train loss 0.11810], [train acc 0.96198]\n",
            "------------------------------------------------------------\n",
            "[epoch 10], [val loss 0.64705], [val acc 0.80613]\n",
            "------------------------------------------------------------\n"
          ]
        }
      ],
      "source": [
        "model_nameI = 'inception'\n",
        "# Initialize the model for this run\n",
        "num_classes = 7\n",
        "feature_extract = False\n",
        "model_ft, input_size = initialize_model(model_nameI,num_classes, feature_extract, use_pretrained=True)\n",
        "# Define the device:\n",
        "device = torch.device('cuda:0')\n",
        "# Put the model on the device:\n",
        "modelI = model_ft.to(device)\n",
        "\n",
        "\n",
        "###### training densnet \n",
        "\n",
        "optimizer = optim.Adam(modelI.parameters(), lr=1e-3)\n",
        "criterion = nn.CrossEntropyLoss().to(device)\n",
        "\n",
        "total_loss_train, total_acc_train = [],[]\n",
        "\n",
        "epoch_num = 10\n",
        "best_val_acc = 0\n",
        "total_loss_val, total_acc_val = [],[]\n",
        "for epoch in range(1, epoch_num+1):\n",
        "    loss_train, acc_train = train(train_loaderI, modelI, criterion, optimizer, epoch)\n",
        "    loss_val, acc_val = validate(val_loaderI, modelI, criterion, optimizer, epoch)\n",
        "    total_loss_val.append(loss_val)\n",
        "    total_acc_val.append(acc_val)\n",
        "    if acc_val > best_val_acc:\n",
        "        best_val_acc = acc_val\n",
        "        print('*****************************************************')\n",
        "        print('best record: [epoch %d], [val loss %.5f], [val acc %.5f]' % (epoch, loss_val, acc_val))\n",
        "        print('*****************************************************')"
      ]
    },
    {
      "cell_type": "code",
      "execution_count": null,
      "metadata": {
        "colab": {
          "base_uri": "https://localhost:8080/",
          "height": 311
        },
        "id": "ipHgPNL9FbiN",
        "outputId": "6e7d97c1-eaf4-4a61-de42-35c9a1018eaf"
      },
      "outputs": [
        {
          "data": {
            "image/png": "[encoded data removed]",
            "text/plain": [
              "<Figure size 432x288 with 2 Axes>"
            ]
          },
          "metadata": {},
          "output_type": "display_data"
        }
      ],
      "source": [
        "modelI.eval()\n",
        "y_label = []\n",
        "y_predict = []\n",
        "with torch.no_grad():\n",
        "    for i, data in enumerate(val_loaderI):\n",
        "        images, labels = data\n",
        "        N = images.size(0)\n",
        "        images = Variable(images).to(device)\n",
        "        outputs = modelI(images)\n",
        "        prediction = outputs.max(1, keepdim=True)[1]\n",
        "        y_label.extend(labels.cpu().numpy())\n",
        "        y_predict.extend(np.squeeze(prediction.cpu().numpy().T))\n",
        "\n",
        "# compute the confusion matrix\n",
        "confusion_mtx = confusion_matrix(y_label, y_predict)\n",
        "# plot the confusion matrix\n",
        "plot_labels = ['akiec', 'bcc', 'bkl', 'df', 'nv', 'vasc','mel']\n",
        "plot_confusion_matrix(confusion_mtx, plot_labels)"
      ]
    },
    {
      "cell_type": "code",
      "execution_count": null,
      "metadata": {
        "colab": {
          "base_uri": "https://localhost:8080/",
          "height": 265
        },
        "id": "tqNKWD2DBULF",
        "outputId": "90fe9fe2-c59f-4197-e149-95954b977c64"
      },
      "outputs": [
        {
          "data": {
            "image/png": "[encoded data removed]",
            "text/plain": [
              "<Figure size 432x288 with 2 Axes>"
            ]
          },
          "metadata": {},
          "output_type": "display_data"
        }
      ],
      "source": [
        "fig = plt.figure(num = 2)\n",
        "fig1 = fig.add_subplot(2,1,1)\n",
        "fig2 = fig.add_subplot(2,1,2)\n",
        "fig1.plot(total_loss_train, label = 'training loss')\n",
        "fig1.plot(total_acc_train, label = 'training accuracy')\n",
        "fig1.legend(loc='upper center', ncol=2)\n",
        "fig2.plot(total_loss_val, label = 'validation loss')\n",
        "fig2.plot(total_acc_val, label = 'validation accuracy')\n",
        "fig2.legend()\n",
        "plt.show()"
      ]
    },
    {
      "cell_type": "code",
      "execution_count": null,
      "metadata": {
        "colab": {
          "base_uri": "https://localhost:8080/"
        },
        "id": "YjhWH5lTBUIA",
        "outputId": "b4a7f18d-6d22-48fa-cdb8-f017dd891937"
      },
      "outputs": [
        {
          "name": "stdout",
          "output_type": "stream",
          "text": [
            "              precision    recall  f1-score   support\n",
            "\n",
            "       akiec       0.55      0.70      0.62        30\n",
            "         bcc       0.70      0.74      0.72        35\n",
            "         bkl       0.37      0.69      0.48        88\n",
            "          df       0.57      0.50      0.53         8\n",
            "          nv       0.98      0.83      0.90       883\n",
            "        vasc       0.34      0.70      0.46        46\n",
            "         mel       0.58      0.54      0.56        13\n",
            "\n",
            "    accuracy                           0.80      1103\n",
            "   macro avg       0.59      0.67      0.61      1103\n",
            "weighted avg       0.88      0.80      0.83      1103\n",
            "\n"
          ]
        }
      ],
      "source": [
        "report = classification_report(y_label, y_predict, target_names=plot_labels)\n",
        "print(report)"
      ]
    },
    {
      "cell_type": "code",
      "execution_count": null,
      "metadata": {
        "id": "ZqPYPEY-BUE8"
      },
      "outputs": [],
      "source": [
        ""
      ]
    },
    {
      "cell_type": "markdown",
      "metadata": {
        "id": "9hWVwGu_cI5e"
      },
      "source": [
        "### Training mobilenet \n"
      ]
    },
    {
      "cell_type": "code",
      "execution_count": null,
      "metadata": {
        "colab": {
          "base_uri": "https://localhost:8080/"
        },
        "id": "ml2LQetmbP6w",
        "outputId": "277662c1-c70b-449f-c4d5-11b683e65bd3"
      },
      "outputs": [
        {
          "name": "stdout",
          "output_type": "stream",
          "text": [
            "[epoch 1], [iter 100 / 606], [train loss 1.32948], [train acc 0.59188]\n",
            "[epoch 1], [iter 200 / 606], [train loss 1.00071], [train acc 0.67047]\n",
            "[epoch 1], [iter 300 / 606], [train loss 0.84628], [train acc 0.71677]\n",
            "[epoch 1], [iter 400 / 606], [train loss 0.75180], [train acc 0.74500]\n",
            "[epoch 1], [iter 500 / 606], [train loss 0.69169], [train acc 0.76287]\n",
            "[epoch 1], [iter 600 / 606], [train loss 0.63524], [train acc 0.78078]\n",
            "------------------------------------------------------------\n",
            "[epoch 1], [val loss 0.45261], [val acc 0.84810]\n",
            "------------------------------------------------------------\n",
            "*****************************************************\n",
            "best record: [epoch 1], [val loss 0.45261], [val acc 0.84810]\n",
            "*****************************************************\n",
            "[epoch 2], [iter 100 / 606], [train loss 0.31700], [train acc 0.89625]\n",
            "[epoch 2], [iter 200 / 606], [train loss 0.29045], [train acc 0.90406]\n",
            "[epoch 2], [iter 300 / 606], [train loss 0.28319], [train acc 0.90396]\n",
            "[epoch 2], [iter 400 / 606], [train loss 0.25907], [train acc 0.91172]\n",
            "[epoch 2], [iter 500 / 606], [train loss 0.25067], [train acc 0.91400]\n",
            "[epoch 2], [iter 600 / 606], [train loss 0.24494], [train acc 0.91526]\n",
            "------------------------------------------------------------\n",
            "[epoch 2], [val loss 0.47581], [val acc 0.85345]\n",
            "------------------------------------------------------------\n",
            "*****************************************************\n",
            "best record: [epoch 2], [val loss 0.47581], [val acc 0.85345]\n",
            "*****************************************************\n",
            "[epoch 3], [iter 100 / 606], [train loss 0.21758], [train acc 0.92094]\n",
            "[epoch 3], [iter 200 / 606], [train loss 0.19553], [train acc 0.93109]\n",
            "[epoch 3], [iter 300 / 606], [train loss 0.17893], [train acc 0.93688]\n",
            "[epoch 3], [iter 400 / 606], [train loss 0.17136], [train acc 0.93992]\n",
            "[epoch 3], [iter 500 / 606], [train loss 0.16916], [train acc 0.94088]\n",
            "[epoch 3], [iter 600 / 606], [train loss 0.16600], [train acc 0.94193]\n",
            "------------------------------------------------------------\n",
            "[epoch 3], [val loss 0.73019], [val acc 0.85435]\n",
            "------------------------------------------------------------\n",
            "*****************************************************\n",
            "best record: [epoch 3], [val loss 0.73019], [val acc 0.85435]\n",
            "*****************************************************\n",
            "[epoch 4], [iter 100 / 606], [train loss 0.17128], [train acc 0.94250]\n",
            "[epoch 4], [iter 200 / 606], [train loss 0.16108], [train acc 0.94469]\n",
            "[epoch 4], [iter 300 / 606], [train loss 0.15129], [train acc 0.94854]\n",
            "[epoch 4], [iter 400 / 606], [train loss 0.14293], [train acc 0.95109]\n",
            "[epoch 4], [iter 500 / 606], [train loss 0.13700], [train acc 0.95375]\n",
            "[epoch 4], [iter 600 / 606], [train loss 0.13092], [train acc 0.95536]\n",
            "------------------------------------------------------------\n",
            "[epoch 4], [val loss 0.63587], [val acc 0.81875]\n",
            "------------------------------------------------------------\n",
            "[epoch 5], [iter 100 / 606], [train loss 0.21662], [train acc 0.93125]\n",
            "[epoch 5], [iter 200 / 606], [train loss 0.17221], [train acc 0.94484]\n",
            "[epoch 5], [iter 300 / 606], [train loss 0.14564], [train acc 0.95177]\n",
            "[epoch 5], [iter 400 / 606], [train loss 0.13342], [train acc 0.95570]\n",
            "[epoch 5], [iter 500 / 606], [train loss 0.13037], [train acc 0.95700]\n",
            "[epoch 5], [iter 600 / 606], [train loss 0.12590], [train acc 0.95844]\n",
            "------------------------------------------------------------\n",
            "[epoch 5], [val loss 0.61003], [val acc 0.85077]\n",
            "------------------------------------------------------------\n",
            "[epoch 6], [iter 100 / 606], [train loss 0.12870], [train acc 0.95781]\n",
            "[epoch 6], [iter 200 / 606], [train loss 0.11767], [train acc 0.95937]\n",
            "[epoch 6], [iter 300 / 606], [train loss 0.11260], [train acc 0.96042]\n",
            "[epoch 6], [iter 400 / 606], [train loss 0.11292], [train acc 0.96125]\n",
            "[epoch 6], [iter 500 / 606], [train loss 0.10575], [train acc 0.96381]\n",
            "[epoch 6], [iter 600 / 606], [train loss 0.10175], [train acc 0.96495]\n",
            "------------------------------------------------------------\n",
            "[epoch 6], [val loss 0.46298], [val acc 0.88738]\n",
            "------------------------------------------------------------\n",
            "*****************************************************\n",
            "best record: [epoch 6], [val loss 0.46298], [val acc 0.88738]\n",
            "*****************************************************\n",
            "[epoch 7], [iter 100 / 606], [train loss 0.08409], [train acc 0.97406]\n",
            "[epoch 7], [iter 200 / 606], [train loss 0.09247], [train acc 0.97188]\n",
            "[epoch 7], [iter 300 / 606], [train loss 0.08766], [train acc 0.97219]\n",
            "[epoch 7], [iter 400 / 606], [train loss 0.07866], [train acc 0.97477]\n",
            "[epoch 7], [iter 500 / 606], [train loss 0.07989], [train acc 0.97413]\n",
            "[epoch 7], [iter 600 / 606], [train loss 0.07715], [train acc 0.97516]\n",
            "------------------------------------------------------------\n",
            "[epoch 7], [val loss 0.53605], [val acc 0.87107]\n",
            "------------------------------------------------------------\n",
            "[epoch 8], [iter 100 / 606], [train loss 0.14144], [train acc 0.95250]\n",
            "[epoch 8], [iter 200 / 606], [train loss 0.12235], [train acc 0.95719]\n",
            "[epoch 8], [iter 300 / 606], [train loss 0.10430], [train acc 0.96396]\n",
            "[epoch 8], [iter 400 / 606], [train loss 0.09871], [train acc 0.96641]\n",
            "[epoch 8], [iter 500 / 606], [train loss 0.09223], [train acc 0.96913]\n",
            "[epoch 8], [iter 600 / 606], [train loss 0.08626], [train acc 0.97120]\n",
            "------------------------------------------------------------\n",
            "[epoch 8], [val loss 0.68218], [val acc 0.86774]\n",
            "------------------------------------------------------------\n",
            "[epoch 9], [iter 100 / 606], [train loss 0.12605], [train acc 0.96188]\n",
            "[epoch 9], [iter 200 / 606], [train loss 0.09577], [train acc 0.97031]\n",
            "[epoch 9], [iter 300 / 606], [train loss 0.08934], [train acc 0.97302]\n",
            "[epoch 9], [iter 400 / 606], [train loss 0.08043], [train acc 0.97531]\n",
            "[epoch 9], [iter 500 / 606], [train loss 0.07731], [train acc 0.97569]\n",
            "[epoch 9], [iter 600 / 606], [train loss 0.07866], [train acc 0.97521]\n",
            "------------------------------------------------------------\n",
            "[epoch 9], [val loss 0.55862], [val acc 0.87667]\n",
            "------------------------------------------------------------\n",
            "[epoch 10], [iter 100 / 606], [train loss 0.13810], [train acc 0.95906]\n",
            "[epoch 10], [iter 200 / 606], [train loss 0.10508], [train acc 0.96750]\n",
            "[epoch 10], [iter 300 / 606], [train loss 0.08223], [train acc 0.97448]\n",
            "[epoch 10], [iter 400 / 606], [train loss 0.07214], [train acc 0.97680]\n",
            "[epoch 10], [iter 500 / 606], [train loss 0.06542], [train acc 0.97894]\n",
            "[epoch 10], [iter 600 / 606], [train loss 0.06342], [train acc 0.97932]\n",
            "------------------------------------------------------------\n",
            "[epoch 10], [val loss 0.67831], [val acc 0.87030]\n",
            "------------------------------------------------------------\n"
          ]
        }
      ],
      "source": [
        "# model mobilenet\n",
        "model_nameM = 'mobilenet'\n",
        "# Initialize the model for this run\n",
        "model_ft5, input_size5 = initialize_model(model_nameM, num_classes, feature_extract, use_pretrained=True)\n",
        "# Define the device:\n",
        "device = torch.device('cuda:0')\n",
        "# Put the model on the device:\n",
        "modelM = model_ft5.to(device)\n",
        "\n",
        "\n",
        "###### training mobilenet\n",
        "\n",
        "optimizer = optim.Adam(modelM.parameters(), lr=1e-3)\n",
        "criterion = nn.CrossEntropyLoss().to(device)\n",
        "\n",
        "total_loss_train, total_acc_train = [],[]\n",
        "\n",
        "epoch_num = 10\n",
        "best_val_acc = 0\n",
        "total_loss_val, total_acc_val = [],[]\n",
        "for epoch in range(1, epoch_num+1):\n",
        "    loss_train, acc_train = train(train_loader, modelM, criterion, optimizer, epoch)\n",
        "    loss_val, acc_val = validate(val_loader, modelM, criterion, optimizer, epoch)\n",
        "    total_loss_val.append(loss_val)\n",
        "    total_acc_val.append(acc_val)\n",
        "    if acc_val > best_val_acc:\n",
        "        best_val_acc = acc_val\n",
        "        print('*****************************************************')\n",
        "        print('best record: [epoch %d], [val loss %.5f], [val acc %.5f]' % (epoch, loss_val, acc_val))\n",
        "        print('*****************************************************')\n"
      ]
    },
    {
      "cell_type": "code",
      "execution_count": null,
      "metadata": {
        "colab": {
          "base_uri": "https://localhost:8080/",
          "height": 311
        },
        "id": "gIj8XzaLbP3c",
        "outputId": "18c42c0b-e01a-4375-afae-a24b1c09811a"
      },
      "outputs": [
        {
          "data": {
            "image/png": "[encoded data removed]",
            "text/plain": [
              "<Figure size 432x288 with 2 Axes>"
            ]
          },
          "metadata": {},
          "output_type": "display_data"
        }
      ],
      "source": [
        "modelM.eval()\n",
        "y_label = []\n",
        "y_predict = []\n",
        "with torch.no_grad():\n",
        "    for i, data in enumerate(val_loader):\n",
        "        images, labels = data\n",
        "        N = images.size(0)\n",
        "        images = Variable(images).to(device)\n",
        "        outputs = modelM(images)\n",
        "        prediction = outputs.max(1, keepdim=True)[1]\n",
        "        y_label.extend(labels.cpu().numpy())\n",
        "        y_predict.extend(np.squeeze(prediction.cpu().numpy().T))\n",
        "\n",
        "# compute the confusion matrix\n",
        "confusion_mtx = confusion_matrix(y_label, y_predict)\n",
        "# plot the confusion matrix\n",
        "plot_labels = ['akiec', 'bcc', 'bkl', 'df', 'nv', 'vasc','mel']\n",
        "plot_confusion_matrix(confusion_mtx, plot_labels)"
      ]
    },
    {
      "cell_type": "code",
      "execution_count": null,
      "metadata": {
        "colab": {
          "base_uri": "https://localhost:8080/",
          "height": 265
        },
        "id": "X8Br0HZ_bP0_",
        "outputId": "4c6304ec-7b13-4f5f-9974-d8b8ad474def"
      },
      "outputs": [
        {
          "data": {
            "image/png": "[encoded data removed]",
            "text/plain": [
              "<Figure size 432x288 with 2 Axes>"
            ]
          },
          "metadata": {},
          "output_type": "display_data"
        }
      ],
      "source": [
        "fig = plt.figure(num = 2)\n",
        "fig1 = fig.add_subplot(2,1,1)\n",
        "fig2 = fig.add_subplot(2,1,2)\n",
        "fig1.plot(total_loss_train, label = 'training loss')\n",
        "fig1.plot(total_acc_train, label = 'training accuracy')\n",
        "fig1.legend(loc='upper center', ncol=2)\n",
        "fig2.plot(total_loss_val, label = 'validation loss')\n",
        "fig2.plot(total_acc_val, label = 'validation accuracy')\n",
        "fig2.legend()\n",
        "plt.show()"
      ]
    },
    {
      "cell_type": "code",
      "execution_count": null,
      "metadata": {
        "colab": {
          "base_uri": "https://localhost:8080/"
        },
        "id": "RxbnE0UxbPyc",
        "outputId": "e5adc87b-8e10-4551-a398-78ceda8afb38"
      },
      "outputs": [
        {
          "name": "stdout",
          "output_type": "stream",
          "text": [
            "              precision    recall  f1-score   support\n",
            "\n",
            "       akiec       0.68      0.57      0.62        30\n",
            "         bcc       0.74      0.83      0.78        35\n",
            "         bkl       0.52      0.68      0.59        88\n",
            "          df       0.55      0.75      0.63         8\n",
            "          nv       0.98      0.92      0.95       883\n",
            "        vasc       0.38      0.67      0.49        46\n",
            "         mel       0.88      0.54      0.67        13\n",
            "\n",
            "    accuracy                           0.87      1103\n",
            "   macro avg       0.68      0.71      0.68      1103\n",
            "weighted avg       0.90      0.87      0.88      1103\n",
            "\n"
          ]
        }
      ],
      "source": [
        "report = classification_report(y_label, y_predict, target_names=plot_labels)\n",
        "print(report)"
      ]
    },
    {
      "cell_type": "code",
      "execution_count": null,
      "metadata": {
        "id": "zUdzq7KybPv5"
      },
      "outputs": [],
      "source": [
        ""
      ]
    },
    {
      "cell_type": "markdown",
      "metadata": {
        "id": "exSQgbmMO6cE"
      },
      "source": [
        "### balancing via balanced sampling  with replacement "
      ]
    },
    {
      "cell_type": "code",
      "execution_count": null,
      "metadata": {
        "id": "dcUa4O8svq_n"
      },
      "outputs": [],
      "source": [
        "#df_val = df_val.reset_index()"
      ]
    },
    {
      "cell_type": "code",
      "execution_count": null,
      "metadata": {
        "colab": {
          "base_uri": "https://localhost:8080/",
          "height": 444
        },
        "id": "ahPjp7FcZ6Q5",
        "outputId": "999601cb-93fb-4160-bf4c-586f7f1801a7"
      },
      "outputs": [
        {
          "data": {
            "text/html": [
              "\n",
              "  <div id=\"df-6a7bff23-4e09-42fb-88e4-820b2ae02fc0\">\n",
              "    <div class=\"colab-df-container\">\n",
              "      <div>\n",
              "<style scoped>\n",
              "    .dataframe tbody tr th:only-of-type {\n",
              "        vertical-align: middle;\n",
              "    }\n",
              "\n",
              "    .dataframe tbody tr th {\n",
              "        vertical-align: top;\n",
              "    }\n",
              "\n",
              "    .dataframe thead th {\n",
              "        text-align: right;\n",
              "    }\n",
              "</style>\n",
              "<table border=\"1\" class=\"dataframe\">\n",
              "  <thead>\n",
              "    <tr style=\"text-align: right;\">\n",
              "      <th></th>\n",
              "      <th>index</th>\n",
              "      <th>lesion_id</th>\n",
              "      <th>image_id</th>\n",
              "      <th>dx</th>\n",
              "      <th>dx_type</th>\n",
              "      <th>age</th>\n",
              "      <th>sex</th>\n",
              "      <th>localization</th>\n",
              "      <th>dataset</th>\n",
              "      <th>path</th>\n",
              "      <th>cell_type</th>\n",
              "      <th>cell_type_idx</th>\n",
              "      <th>duplicates</th>\n",
              "      <th>train_or_val</th>\n",
              "    </tr>\n",
              "  </thead>\n",
              "  <tbody>\n",
              "    <tr>\n",
              "      <th>0</th>\n",
              "      <td>10</td>\n",
              "      <td>HAM_0001396</td>\n",
              "      <td>ISIC_0025276</td>\n",
              "      <td>bkl</td>\n",
              "      <td>histo</td>\n",
              "      <td>55.0</td>\n",
              "      <td>female</td>\n",
              "      <td>trunk</td>\n",
              "      <td>vidir_modern</td>\n",
              "      <td>./HAM10000_images_part_1/ISIC_0025276.jpg</td>\n",
              "      <td>Benign keratosis-like lesions</td>\n",
              "      <td>2</td>\n",
              "      <td>unduplicated</td>\n",
              "      <td>train</td>\n",
              "    </tr>\n",
              "    <tr>\n",
              "      <th>1</th>\n",
              "      <td>15</td>\n",
              "      <td>HAM_0007207</td>\n",
              "      <td>ISIC_0031326</td>\n",
              "      <td>bkl</td>\n",
              "      <td>histo</td>\n",
              "      <td>65.0</td>\n",
              "      <td>male</td>\n",
              "      <td>back</td>\n",
              "      <td>vidir_modern</td>\n",
              "      <td>./HAM10000_images_part_2/ISIC_0031326.jpg</td>\n",
              "      <td>Benign keratosis-like lesions</td>\n",
              "      <td>2</td>\n",
              "      <td>unduplicated</td>\n",
              "      <td>train</td>\n",
              "    </tr>\n",
              "    <tr>\n",
              "      <th>2</th>\n",
              "      <td>20</td>\n",
              "      <td>HAM_0006071</td>\n",
              "      <td>ISIC_0032343</td>\n",
              "      <td>bkl</td>\n",
              "      <td>histo</td>\n",
              "      <td>70.0</td>\n",
              "      <td>female</td>\n",
              "      <td>face</td>\n",
              "      <td>vidir_modern</td>\n",
              "      <td>./HAM10000_images_part_2/ISIC_0032343.jpg</td>\n",
              "      <td>Benign keratosis-like lesions</td>\n",
              "      <td>2</td>\n",
              "      <td>unduplicated</td>\n",
              "      <td>train</td>\n",
              "    </tr>\n",
              "    <tr>\n",
              "      <th>3</th>\n",
              "      <td>33</td>\n",
              "      <td>HAM_0005612</td>\n",
              "      <td>ISIC_0024981</td>\n",
              "      <td>bkl</td>\n",
              "      <td>histo</td>\n",
              "      <td>80.0</td>\n",
              "      <td>male</td>\n",
              "      <td>scalp</td>\n",
              "      <td>vidir_modern</td>\n",
              "      <td>./HAM10000_images_part_1/ISIC_0024981.jpg</td>\n",
              "      <td>Benign keratosis-like lesions</td>\n",
              "      <td>2</td>\n",
              "      <td>unduplicated</td>\n",
              "      <td>train</td>\n",
              "    </tr>\n",
              "    <tr>\n",
              "      <th>4</th>\n",
              "      <td>34</td>\n",
              "      <td>HAM_0005388</td>\n",
              "      <td>ISIC_0027815</td>\n",
              "      <td>bkl</td>\n",
              "      <td>histo</td>\n",
              "      <td>80.0</td>\n",
              "      <td>male</td>\n",
              "      <td>chest</td>\n",
              "      <td>rosendahl</td>\n",
              "      <td>./HAM10000_images_part_1/ISIC_0027815.jpg</td>\n",
              "      <td>Benign keratosis-like lesions</td>\n",
              "      <td>2</td>\n",
              "      <td>unduplicated</td>\n",
              "      <td>train</td>\n",
              "    </tr>\n",
              "  </tbody>\n",
              "</table>\n",
              "</div>\n",
              "      <button class=\"colab-df-convert\" onclick=\"convertToInteractive('df-6a7bff23-4e09-42fb-88e4-820b2ae02fc0')\"\n",
              "              title=\"Convert this dataframe to an interactive table.\"\n",
              "              style=\"display:none;\">\n",
              "        \n",
              "  <svg xmlns=\"http://www.w3.org/2000/svg\" height=\"24px\"viewBox=\"0 0 24 24\"\n",
              "       width=\"24px\">\n",
              "    <path d=\"M0 0h24v24H0V0z\" fill=\"none\"/>\n",
              "    <path d=\"M18.56 5.44l.94 2.06.94-2.06 2.06-.94-2.06-.94-.94-2.06-.94 2.06-2.06.94zm-11 1L8.5 8.5l.94-2.06 2.06-.94-2.06-.94L8.5 2.5l-.94 2.06-2.06.94zm10 10l.94 2.06.94-2.06 2.06-.94-2.06-.94-.94-2.06-.94 2.06-2.06.94z\"/><path d=\"M17.41 7.96l-1.37-1.37c-.4-.4-.92-.59-1.43-.59-.52 0-1.04.2-1.43.59L10.3 9.45l-7.72 7.72c-.78.78-.78 2.05 0 2.83L4 21.41c.39.39.9.59 1.41.59.51 0 1.02-.2 1.41-.59l7.78-7.78 2.81-2.81c.8-.78.8-2.07 0-2.86zM5.41 20L4 18.59l7.72-7.72 1.47 1.35L5.41 20z\"/>\n",
              "  </svg>\n",
              "      </button>\n",
              "      \n",
              "  <style>\n",
              "    .colab-df-container {\n",
              "      display:flex;\n",
              "      flex-wrap:wrap;\n",
              "      gap: 12px;\n",
              "    }\n",
              "\n",
              "    .colab-df-convert {\n",
              "      background-color: #E8F0FE;\n",
              "      border: none;\n",
              "      border-radius: 50%;\n",
              "      cursor: pointer;\n",
              "      display: none;\n",
              "      fill: #1967D2;\n",
              "      height: 32px;\n",
              "      padding: 0 0 0 0;\n",
              "      width: 32px;\n",
              "    }\n",
              "\n",
              "    .colab-df-convert:hover {\n",
              "      background-color: #E2EBFA;\n",
              "      box-shadow: 0px 1px 2px rgba(60, 64, 67, 0.3), 0px 1px 3px 1px rgba(60, 64, 67, 0.15);\n",
              "      fill: #174EA6;\n",
              "    }\n",
              "\n",
              "    [theme=dark] .colab-df-convert {\n",
              "      background-color: #3B4455;\n",
              "      fill: #D2E3FC;\n",
              "    }\n",
              "\n",
              "    [theme=dark] .colab-df-convert:hover {\n",
              "      background-color: #434B5C;\n",
              "      box-shadow: 0px 1px 3px 1px rgba(0, 0, 0, 0.15);\n",
              "      filter: drop-shadow(0px 1px 2px rgba(0, 0, 0, 0.3));\n",
              "      fill: #FFFFFF;\n",
              "    }\n",
              "  </style>\n",
              "\n",
              "      <script>\n",
              "        const buttonEl =\n",
              "          document.querySelector('#df-6a7bff23-4e09-42fb-88e4-820b2ae02fc0 button.colab-df-convert');\n",
              "        buttonEl.style.display =\n",
              "          google.colab.kernel.accessAllowed ? 'block' : 'none';\n",
              "\n",
              "        async function convertToInteractive(key) {\n",
              "          const element = document.querySelector('#df-6a7bff23-4e09-42fb-88e4-820b2ae02fc0');\n",
              "          const dataTable =\n",
              "            await google.colab.kernel.invokeFunction('convertToInteractive',\n",
              "                                                     [key], {});\n",
              "          if (!dataTable) return;\n",
              "\n",
              "          const docLinkHtml = 'Like what you see? Visit the ' +\n",
              "            '<a target=\"_blank\" href=https://colab.research.google.com/notebooks/data_table.ipynb>data table notebook</a>'\n",
              "            + ' to learn more about interactive tables.';\n",
              "          element.innerHTML = '';\n",
              "          dataTable['output_type'] = 'display_data';\n",
              "          await google.colab.output.renderOutput(dataTable, element);\n",
              "          const docLink = document.createElement('div');\n",
              "          docLink.innerHTML = docLinkHtml;\n",
              "          element.appendChild(docLink);\n",
              "        }\n",
              "      </script>\n",
              "    </div>\n",
              "  </div>\n",
              "  "
            ],
            "text/plain": [
              "   index    lesion_id      image_id   dx dx_type   age     sex localization  \\\n",
              "0     10  HAM_0001396  ISIC_0025276  bkl   histo  55.0  female        trunk   \n",
              "1     15  HAM_0007207  ISIC_0031326  bkl   histo  65.0    male         back   \n",
              "2     20  HAM_0006071  ISIC_0032343  bkl   histo  70.0  female         face   \n",
              "3     33  HAM_0005612  ISIC_0024981  bkl   histo  80.0    male        scalp   \n",
              "4     34  HAM_0005388  ISIC_0027815  bkl   histo  80.0    male        chest   \n",
              "\n",
              "        dataset                                       path  \\\n",
              "0  vidir_modern  ./HAM10000_images_part_1/ISIC_0025276.jpg   \n",
              "1  vidir_modern  ./HAM10000_images_part_2/ISIC_0031326.jpg   \n",
              "2  vidir_modern  ./HAM10000_images_part_2/ISIC_0032343.jpg   \n",
              "3  vidir_modern  ./HAM10000_images_part_1/ISIC_0024981.jpg   \n",
              "4     rosendahl  ./HAM10000_images_part_1/ISIC_0027815.jpg   \n",
              "\n",
              "                        cell_type  cell_type_idx    duplicates train_or_val  \n",
              "0  Benign keratosis-like lesions               2  unduplicated        train  \n",
              "1  Benign keratosis-like lesions               2  unduplicated        train  \n",
              "2  Benign keratosis-like lesions               2  unduplicated        train  \n",
              "3  Benign keratosis-like lesions               2  unduplicated        train  \n",
              "4  Benign keratosis-like lesions               2  unduplicated        train  "
            ]
          },
          "execution_count": 317,
          "metadata": {},
          "output_type": "execute_result"
        }
      ],
      "source": [
        "df_trainBalanced = df_train.reset_index()\n",
        "df_trainBalanced.head()"
      ]
    },
    {
      "cell_type": "code",
      "execution_count": null,
      "metadata": {
        "colab": {
          "base_uri": "https://localhost:8080/"
        },
        "id": "JaPnWK9nSDN-",
        "outputId": "1e01d6ca-af2d-4e47-bfda-bf7d787a4861"
      },
      "outputs": [
        {
          "name": "stdout",
          "output_type": "stream",
          "text": [
            "4411\n"
          ]
        }
      ],
      "source": [
        "#df_trainBalanced = df_undup[df_undup['train_or_val'] == 'train'] # df_original\n",
        "print(len(df_trainBalanced))"
      ]
    },
    {
      "cell_type": "code",
      "execution_count": null,
      "metadata": {
        "colab": {
          "base_uri": "https://localhost:8080/"
        },
        "id": "Lzn0WWX6PLuO",
        "outputId": "ac3c017a-1519-4b5f-a574-2ca398dcb0c7"
      },
      "outputs": [
        {
          "data": {
            "text/plain": [
              "array([0.00826446, 0.00714286, 0.00284091, 0.03225806, 0.00028313,\n",
              "       0.00543478, 0.01960784])"
            ]
          },
          "execution_count": 319,
          "metadata": {},
          "output_type": "execute_result"
        }
      ],
      "source": [
        "class_sample_count = np.array(\n",
        "    [len(np.where(df_trainBalanced.cell_type == t)[0]) for t in np.unique(df_trainBalanced.cell_type)])\n",
        "\n",
        "weight = 1./class_sample_count\n",
        "weight\n",
        "\n",
        "\n"
      ]
    },
    {
      "cell_type": "code",
      "execution_count": null,
      "metadata": {
        "colab": {
          "base_uri": "https://localhost:8080/"
        },
        "id": "9le9F5AFZMyM",
        "outputId": "a29476de-f096-4cc0-ce68-cb55f057e549"
      },
      "outputs": [
        {
          "name": "stdout",
          "output_type": "stream",
          "text": [
            "[0.00284091 0.00284091 0.00284091 ... 0.00826446 0.00826446 0.00826446]\n"
          ]
        }
      ],
      "source": [
        "\n",
        "samples_weight=np.array([weight[t] for t in df_trainBalanced.cell_type_idx])\n",
        "print(samples_weight)\n",
        "samples_weight = torch.from_numpy(samples_weight)\n",
        "samples_weigth = samples_weight.double()\n",
        "\n",
        "sampler = WeightedRandomSampler(samples_weight, len(samples_weight), replacement=True)"
      ]
    },
    {
      "cell_type": "code",
      "execution_count": null,
      "metadata": {
        "colab": {
          "base_uri": "https://localhost:8080/"
        },
        "id": "OQfcgMgmkPAT",
        "outputId": "f92cecb3-af6a-4d91-cb8c-392b2e6968b9"
      },
      "outputs": [
        {
          "data": {
            "text/plain": [
              "tensor([0.0284, 0.0284, 0.0284,  ..., 0.0826, 0.0826, 0.0826],\n",
              "       dtype=torch.float64)"
            ]
          },
          "execution_count": 321,
          "metadata": {},
          "output_type": "execute_result"
        }
      ],
      "source": [
        "samples_weigth *10"
      ]
    },
    {
      "cell_type": "code",
      "execution_count": null,
      "metadata": {
        "id": "7wEIvZrJvqHt"
      },
      "outputs": [],
      "source": [
        ""
      ]
    },
    {
      "cell_type": "code",
      "execution_count": null,
      "metadata": {
        "id": "5DZ065nvSDQc"
      },
      "outputs": [],
      "source": [
        "# Define the training set using the table train_df and using our defined transitions (train_transform)\n",
        "training_setBalanced = HAM10000(df_trainBalanced , transform=train_transform)\n",
        "train_loaderBalanced = DataLoader(training_setBalanced,batch_size=32,  sampler=sampler, num_workers=4)\n",
        "validation_set = HAM10000(df_val, transform=val_transform)\n",
        "val_loader = DataLoader(validation_set, batch_size=32, shuffle=False, num_workers=4)"
      ]
    },
    {
      "cell_type": "code",
      "execution_count": null,
      "metadata": {
        "colab": {
          "base_uri": "https://localhost:8080/"
        },
        "id": "c40bVmBQbYNU",
        "outputId": "e32a52fd-0c11-4f5e-a8f5-3e868cd9db92"
      },
      "outputs": [
        {
          "data": {
            "text/plain": [
              "4411"
            ]
          },
          "execution_count": 323,
          "metadata": {},
          "output_type": "execute_result"
        }
      ],
      "source": [
        "sampler.num_samples"
      ]
    },
    {
      "cell_type": "code",
      "execution_count": null,
      "metadata": {
        "id": "tOxcJqXTaPmV"
      },
      "outputs": [],
      "source": [
        "#### repetining the resnet50 model with the randomSAMPLIER "
      ]
    },
    {
      "cell_type": "markdown",
      "metadata": {
        "id": "7ZAd7KYjhWo9"
      },
      "source": [
        "### Resnet via Balancedsampling"
      ]
    },
    {
      "cell_type": "code",
      "execution_count": null,
      "metadata": {
        "id": "VbpE_orkhEmp"
      },
      "outputs": [],
      "source": [
        "# resnet,vgg,densenet,inception,mobilenet\n",
        "model_name = 'resnet'\n",
        "num_classes = 7\n",
        "feature_extract = False\n",
        "# Initialize the model for this run\n",
        "model_ft, input_size = initialize_model(model_name, num_classes, feature_extract, use_pretrained=True)\n",
        "# Define the device:\n",
        "device = torch.device('cuda:0')\n",
        "# Put the model on the device:\n",
        "model = model_ft.to(device)"
      ]
    },
    {
      "cell_type": "code",
      "execution_count": null,
      "metadata": {
        "colab": {
          "base_uri": "https://localhost:8080/"
        },
        "id": "VSpF6mmUSDSf",
        "outputId": "e59da0f8-c5cf-42ae-9194-ded3b7f40f2f"
      },
      "outputs": [
        {
          "name": "stdout",
          "output_type": "stream",
          "text": [
            "[epoch 1], [iter 100 / 138], [train loss 1.31922], [train acc 0.51625]\n",
            "------------------------------------------------------------\n",
            "[epoch 1], [val loss 3.57592], [val acc 0.24923]\n",
            "------------------------------------------------------------\n",
            "*****************************************************\n",
            "best record: [epoch 1], [val loss 3.57592], [val acc 0.24923]\n",
            "*****************************************************\n",
            "[epoch 2], [iter 100 / 138], [train loss 1.01746], [train acc 0.61469]\n",
            "------------------------------------------------------------\n",
            "[epoch 2], [val loss 1.21226], [val acc 0.60821]\n",
            "------------------------------------------------------------\n",
            "*****************************************************\n",
            "best record: [epoch 2], [val loss 1.21226], [val acc 0.60821]\n",
            "*****************************************************\n",
            "[epoch 3], [iter 100 / 138], [train loss 0.91149], [train acc 0.66563]\n",
            "------------------------------------------------------------\n",
            "[epoch 3], [val loss 0.79150], [val acc 0.75310]\n",
            "------------------------------------------------------------\n",
            "*****************************************************\n",
            "best record: [epoch 3], [val loss 0.79150], [val acc 0.75310]\n",
            "*****************************************************\n",
            "[epoch 4], [iter 100 / 138], [train loss 0.80926], [train acc 0.70344]\n",
            "------------------------------------------------------------\n",
            "[epoch 4], [val loss 0.59289], [val acc 0.80345]\n",
            "------------------------------------------------------------\n",
            "*****************************************************\n",
            "best record: [epoch 4], [val loss 0.59289], [val acc 0.80345]\n",
            "*****************************************************\n",
            "[epoch 5], [iter 100 / 138], [train loss 0.73116], [train acc 0.73656]\n",
            "------------------------------------------------------------\n",
            "[epoch 5], [val loss 0.43970], [val acc 0.85077]\n",
            "------------------------------------------------------------\n",
            "*****************************************************\n",
            "best record: [epoch 5], [val loss 0.43970], [val acc 0.85077]\n",
            "*****************************************************\n",
            "[epoch 6], [iter 100 / 138], [train loss 0.68230], [train acc 0.75313]\n",
            "------------------------------------------------------------\n",
            "[epoch 6], [val loss 0.64203], [val acc 0.77286]\n",
            "------------------------------------------------------------\n",
            "[epoch 7], [iter 100 / 138], [train loss 0.60023], [train acc 0.78750]\n",
            "------------------------------------------------------------\n",
            "[epoch 7], [val loss 1.22005], [val acc 0.60083]\n",
            "------------------------------------------------------------\n",
            "[epoch 8], [iter 100 / 138], [train loss 0.60819], [train acc 0.77219]\n",
            "------------------------------------------------------------\n",
            "[epoch 8], [val loss 0.86242], [val acc 0.69214]\n",
            "------------------------------------------------------------\n",
            "[epoch 9], [iter 100 / 138], [train loss 0.51892], [train acc 0.81250]\n",
            "------------------------------------------------------------\n",
            "[epoch 9], [val loss 0.70990], [val acc 0.74583]\n",
            "------------------------------------------------------------\n",
            "[epoch 10], [iter 100 / 138], [train loss 0.57301], [train acc 0.79063]\n",
            "------------------------------------------------------------\n",
            "[epoch 10], [val loss 0.52492], [val acc 0.80488]\n",
            "------------------------------------------------------------\n"
          ]
        }
      ],
      "source": [
        "optimizer = optim.Adam(model.parameters(), lr=1e-3)\n",
        "criterion = nn.CrossEntropyLoss().to(device)\n",
        "\n",
        "epoch_num = 10\n",
        "best_val_acc = 0\n",
        "total_loss_val, total_acc_val = [],[]\n",
        "for epoch in range(1, epoch_num+1):\n",
        "    loss_train, acc_train = train(train_loaderBalanced, model, criterion, optimizer, epoch)\n",
        "    loss_val, acc_val = validate(val_loader, model, criterion, optimizer, epoch)\n",
        "    total_loss_val.append(loss_val)\n",
        "    total_acc_val.append(acc_val)\n",
        "    if acc_val > best_val_acc:\n",
        "        best_val_acc = acc_val\n",
        "        print('*****************************************************')\n",
        "        print('best record: [epoch %d], [val loss %.5f], [val acc %.5f]' % (epoch, loss_val, acc_val))\n",
        "        print('*****************************************************')"
      ]
    },
    {
      "cell_type": "code",
      "execution_count": null,
      "metadata": {
        "colab": {
          "base_uri": "https://localhost:8080/",
          "height": 311
        },
        "id": "HMuItX6wSDVP",
        "outputId": "07cd12ef-188d-4260-f233-8885f39673a9"
      },
      "outputs": [
        {
          "data": {
            "image/png": "[encoded data removed]",
            "text/plain": [
              "<Figure size 432x288 with 2 Axes>"
            ]
          },
          "metadata": {},
          "output_type": "display_data"
        }
      ],
      "source": [
        "model.eval()\n",
        "y_label = []\n",
        "y_predict = []\n",
        "with torch.no_grad():\n",
        "    for i, data in enumerate(val_loader):\n",
        "        images, labels = data\n",
        "        N = images.size(0)\n",
        "        images = Variable(images).to(device)\n",
        "        outputs = model(images)\n",
        "        prediction = outputs.max(1, keepdim=True)[1]\n",
        "        y_label.extend(labels.cpu().numpy())\n",
        "        y_predict.extend(np.squeeze(prediction.cpu().numpy().T))\n",
        "\n",
        "# compute the confusion matrix\n",
        "confusion_mtx = confusion_matrix(y_label, y_predict)\n",
        "# plot the confusion matrix\n",
        "plot_labels = ['akiec', 'bcc', 'bkl', 'df', 'nv', 'vasc','mel']\n",
        "plot_confusion_matrix(confusion_mtx, plot_labels)"
      ]
    },
    {
      "cell_type": "code",
      "execution_count": null,
      "metadata": {
        "colab": {
          "base_uri": "https://localhost:8080/",
          "height": 265
        },
        "id": "d3KLcuj5y4De",
        "outputId": "f289bca9-aa7c-449c-8bcf-84460e87095b"
      },
      "outputs": [
        {
          "data": {
            "image/png": "[encoded data removed]",
            "text/plain": [
              "<Figure size 432x288 with 2 Axes>"
            ]
          },
          "metadata": {},
          "output_type": "display_data"
        }
      ],
      "source": [
        "fig = plt.figure(num = 2)\n",
        "fig1 = fig.add_subplot(2,1,1)\n",
        "fig2 = fig.add_subplot(2,1,2)\n",
        "fig1.plot(total_loss_train, label = 'training loss')\n",
        "fig1.plot(total_acc_train, label = 'training accuracy')\n",
        "fig1.legend(loc='upper center', ncol=2)\n",
        "fig2.plot(total_loss_val, label = 'validation loss')\n",
        "fig2.plot(total_acc_val, label = 'validation accuracy')\n",
        "fig2.legend()\n",
        "plt.show()"
      ]
    },
    {
      "cell_type": "code",
      "execution_count": null,
      "metadata": {
        "colab": {
          "base_uri": "https://localhost:8080/"
        },
        "id": "dIzwWGlvy4BW",
        "outputId": "941988fb-cfd0-489a-db43-33f3bfacfdae"
      },
      "outputs": [
        {
          "name": "stdout",
          "output_type": "stream",
          "text": [
            "              precision    recall  f1-score   support\n",
            "\n",
            "       akiec       0.28      0.73      0.40        30\n",
            "         bcc       0.53      0.54      0.54        35\n",
            "         bkl       0.55      0.47      0.50        88\n",
            "          df       0.40      0.25      0.31         8\n",
            "          nv       0.98      0.87      0.92       883\n",
            "        vasc       0.24      0.59      0.34        46\n",
            "         mel       1.00      0.54      0.70        13\n",
            "\n",
            "    accuracy                           0.81      1103\n",
            "   macro avg       0.57      0.57      0.53      1103\n",
            "weighted avg       0.87      0.81      0.83      1103\n",
            "\n"
          ]
        }
      ],
      "source": [
        "report = classification_report(y_label, y_predict, target_names=plot_labels)\n",
        "print(report)"
      ]
    },
    {
      "cell_type": "markdown",
      "metadata": {
        "id": "m-8p0Le1zYVI"
      },
      "source": [
        "### VGG"
      ]
    },
    {
      "cell_type": "code",
      "execution_count": null,
      "metadata": {
        "id": "lhaVvBTxy3-Y"
      },
      "outputs": [],
      "source": [
        "############ next model is the vgg\n",
        "# resnet,vgg,densenet,inception,mobilenet\n",
        "model_nameVgg = 'vgg'\n",
        "# Initialize the model for this run\n",
        "model_ft2, input_size2 = initialize_model(model_nameVgg, num_classes, feature_extract, use_pretrained=True)\n",
        "# Define the device:\n",
        "device = torch.device('cuda:0')\n",
        "# Put the model on the device:\n",
        "modelVgg = model_ft2.to(device)"
      ]
    },
    {
      "cell_type": "code",
      "execution_count": null,
      "metadata": {
        "colab": {
          "base_uri": "https://localhost:8080/"
        },
        "id": "oWo7zTsEy369",
        "outputId": "dd96b0fc-8167-490e-9aae-72e9f5bf19dd"
      },
      "outputs": [
        {
          "name": "stdout",
          "output_type": "stream",
          "text": [
            "[epoch 1], [iter 100 / 138], [train loss 1.42764], [train acc 0.45813]\n",
            "------------------------------------------------------------\n",
            "[epoch 1], [val loss 0.76017], [val acc 0.71851]\n",
            "------------------------------------------------------------\n",
            "*****************************************************\n",
            "best record: [epoch 1], [val loss 0.76017], [val acc 0.71851]\n",
            "*****************************************************\n",
            "[epoch 2], [iter 100 / 138], [train loss 1.04923], [train acc 0.62094]\n",
            "------------------------------------------------------------\n",
            "[epoch 2], [val loss 0.76384], [val acc 0.71661]\n",
            "------------------------------------------------------------\n",
            "[epoch 3], [iter 100 / 138], [train loss 0.87971], [train acc 0.66469]\n",
            "------------------------------------------------------------\n",
            "[epoch 3], [val loss 0.83148], [val acc 0.73435]\n",
            "------------------------------------------------------------\n",
            "*****************************************************\n",
            "best record: [epoch 3], [val loss 0.83148], [val acc 0.73435]\n",
            "*****************************************************\n",
            "[epoch 4], [iter 100 / 138], [train loss 0.81267], [train acc 0.70688]\n",
            "------------------------------------------------------------\n",
            "[epoch 4], [val loss 0.62113], [val acc 0.77643]\n",
            "------------------------------------------------------------\n",
            "*****************************************************\n",
            "best record: [epoch 4], [val loss 0.62113], [val acc 0.77643]\n",
            "*****************************************************\n",
            "[epoch 5], [iter 100 / 138], [train loss 0.76352], [train acc 0.71813]\n",
            "------------------------------------------------------------\n",
            "[epoch 5], [val loss 0.56263], [val acc 0.78905]\n",
            "------------------------------------------------------------\n",
            "*****************************************************\n",
            "best record: [epoch 5], [val loss 0.56263], [val acc 0.78905]\n",
            "*****************************************************\n",
            "[epoch 6], [iter 100 / 138], [train loss 0.65935], [train acc 0.75875]\n",
            "------------------------------------------------------------\n",
            "[epoch 6], [val loss 0.81265], [val acc 0.73690]\n",
            "------------------------------------------------------------\n",
            "[epoch 7], [iter 100 / 138], [train loss 0.69012], [train acc 0.75313]\n",
            "------------------------------------------------------------\n",
            "[epoch 7], [val loss 0.58986], [val acc 0.81417]\n",
            "------------------------------------------------------------\n",
            "*****************************************************\n",
            "best record: [epoch 7], [val loss 0.58986], [val acc 0.81417]\n",
            "*****************************************************\n",
            "[epoch 8], [iter 100 / 138], [train loss 0.59070], [train acc 0.78312]\n",
            "------------------------------------------------------------\n",
            "[epoch 8], [val loss 0.58483], [val acc 0.78435]\n",
            "------------------------------------------------------------\n",
            "[epoch 9], [iter 100 / 138], [train loss 0.67380], [train acc 0.76781]\n",
            "------------------------------------------------------------\n",
            "[epoch 9], [val loss 0.69460], [val acc 0.76929]\n",
            "------------------------------------------------------------\n",
            "[epoch 10], [iter 100 / 138], [train loss 0.57474], [train acc 0.79781]\n",
            "------------------------------------------------------------\n",
            "[epoch 10], [val loss 0.62572], [val acc 0.80768]\n",
            "------------------------------------------------------------\n"
          ]
        }
      ],
      "source": [
        "optimizer = optim.Adam(modelVgg.parameters(), lr=1e-3)\n",
        "criterion = nn.CrossEntropyLoss().to(device)\n",
        "\n",
        "\n",
        "epoch_num = 10\n",
        "best_val_acc = 0\n",
        "total_loss_val, total_acc_val = [],[]\n",
        "for epoch in range(1, epoch_num+1):\n",
        "    loss_train, acc_train = train(train_loaderBalanced, modelVgg, criterion, optimizer, epoch)\n",
        "    loss_val, acc_val = validate(val_loader, modelVgg, criterion, optimizer, epoch)\n",
        "    total_loss_val.append(loss_val)\n",
        "    total_acc_val.append(acc_val)\n",
        "    if acc_val > best_val_acc:\n",
        "        best_val_acc = acc_val\n",
        "        print('*****************************************************')\n",
        "        print('best record: [epoch %d], [val loss %.5f], [val acc %.5f]' % (epoch, loss_val, acc_val))\n",
        "        print('*****************************************************')"
      ]
    },
    {
      "cell_type": "code",
      "execution_count": null,
      "metadata": {
        "colab": {
          "base_uri": "https://localhost:8080/",
          "height": 311
        },
        "id": "nPHop1uvy345",
        "outputId": "66288ccb-94e4-4a5a-f69b-2b344a69859a"
      },
      "outputs": [
        {
          "data": {
            "image/png": "[encoded data removed]",
            "text/plain": [
              "<Figure size 432x288 with 2 Axes>"
            ]
          },
          "metadata": {},
          "output_type": "display_data"
        }
      ],
      "source": [
        "modelVgg.eval()\n",
        "y_label = []\n",
        "y_predict = []\n",
        "with torch.no_grad():\n",
        "    for i, data in enumerate(val_loader):\n",
        "        images, labels = data\n",
        "        N = images.size(0)\n",
        "        images = Variable(images).to(device)\n",
        "        outputs = modelVgg(images)\n",
        "        prediction = outputs.max(1, keepdim=True)[1]\n",
        "        y_label.extend(labels.cpu().numpy())\n",
        "        y_predict.extend(np.squeeze(prediction.cpu().numpy().T))\n",
        "\n",
        "# compute the confusion matrix\n",
        "confusion_mtx = confusion_matrix(y_label, y_predict)\n",
        "# plot the confusion matrix\n",
        "plot_labels = ['akiec', 'bcc', 'bkl', 'df', 'nv', 'vasc','mel']\n",
        "plot_confusion_matrix(confusion_mtx, plot_labels)"
      ]
    },
    {
      "cell_type": "code",
      "execution_count": null,
      "metadata": {
        "colab": {
          "base_uri": "https://localhost:8080/",
          "height": 265
        },
        "id": "lNi3gggZy32L",
        "outputId": "0fee98c9-f372-45f6-c3fa-30ddfd52882f"
      },
      "outputs": [
        {
          "data": {
            "image/png": "[encoded data removed]",
            "text/plain": [
              "<Figure size 432x288 with 2 Axes>"
            ]
          },
          "metadata": {},
          "output_type": "display_data"
        }
      ],
      "source": [
        "fig = plt.figure(num = 2)\n",
        "fig1 = fig.add_subplot(2,1,1)\n",
        "fig2 = fig.add_subplot(2,1,2)\n",
        "fig1.plot(total_loss_train, label = 'training loss')\n",
        "fig1.plot(total_acc_train, label = 'training accuracy')\n",
        "fig1.legend(loc='upper center', ncol=2)\n",
        "fig2.plot(total_loss_val, label = 'validation loss')\n",
        "fig2.plot(total_acc_val, label = 'validation accuracy')\n",
        "fig2.legend()\n",
        "plt.show()"
      ]
    },
    {
      "cell_type": "code",
      "execution_count": null,
      "metadata": {
        "colab": {
          "base_uri": "https://localhost:8080/"
        },
        "id": "CHrjGWNqy3zR",
        "outputId": "6bf33d0e-5a80-489a-84fa-98363bdb8e56"
      },
      "outputs": [
        {
          "name": "stdout",
          "output_type": "stream",
          "text": [
            "              precision    recall  f1-score   support\n",
            "\n",
            "       akiec       0.26      0.93      0.40        30\n",
            "         bcc       0.56      0.71      0.63        35\n",
            "         bkl       0.54      0.49      0.51        88\n",
            "          df       0.29      0.50      0.36         8\n",
            "          nv       0.98      0.87      0.92       883\n",
            "        vasc       0.28      0.37      0.32        46\n",
            "         mel       0.62      0.62      0.62        13\n",
            "\n",
            "    accuracy                           0.81      1103\n",
            "   macro avg       0.50      0.64      0.54      1103\n",
            "weighted avg       0.87      0.81      0.83      1103\n",
            "\n"
          ]
        }
      ],
      "source": [
        "report = classification_report(y_label, y_predict, target_names=plot_labels)\n",
        "print(report)"
      ]
    },
    {
      "cell_type": "markdown",
      "metadata": {
        "id": "VbA420ar7hBa"
      },
      "source": [
        "### DEnsnet"
      ]
    },
    {
      "cell_type": "code",
      "execution_count": null,
      "metadata": {
        "colab": {
          "base_uri": "https://localhost:8080/"
        },
        "id": "BZyGtYAMy3wh",
        "outputId": "cc55d2b8-de81-4b8c-a7cc-a3a8bed68960"
      },
      "outputs": [
        {
          "name": "stdout",
          "output_type": "stream",
          "text": [
            "[epoch 1], [iter 100 / 138], [train loss 1.16307], [train acc 0.57281]\n",
            "------------------------------------------------------------\n",
            "[epoch 1], [val loss 0.73146], [val acc 0.75857]\n",
            "------------------------------------------------------------\n",
            "*****************************************************\n",
            "best record: [epoch 1], [val loss 0.73146], [val acc 0.75857]\n",
            "*****************************************************\n",
            "[epoch 2], [iter 100 / 138], [train loss 0.73502], [train acc 0.73250]\n",
            "------------------------------------------------------------\n",
            "[epoch 2], [val loss 0.57182], [val acc 0.80155]\n",
            "------------------------------------------------------------\n",
            "*****************************************************\n",
            "best record: [epoch 2], [val loss 0.57182], [val acc 0.80155]\n",
            "*****************************************************\n",
            "[epoch 3], [iter 100 / 138], [train loss 0.63069], [train acc 0.77281]\n",
            "------------------------------------------------------------\n",
            "[epoch 3], [val loss 0.88201], [val acc 0.73167]\n",
            "------------------------------------------------------------\n",
            "[epoch 4], [iter 100 / 138], [train loss 0.56648], [train acc 0.79187]\n",
            "------------------------------------------------------------\n",
            "[epoch 4], [val loss 0.52309], [val acc 0.81226]\n",
            "------------------------------------------------------------\n",
            "*****************************************************\n",
            "best record: [epoch 4], [val loss 0.52309], [val acc 0.81226]\n",
            "*****************************************************\n",
            "[epoch 5], [iter 100 / 138], [train loss 0.51881], [train acc 0.80812]\n",
            "------------------------------------------------------------\n",
            "[epoch 5], [val loss 0.79340], [val acc 0.72988]\n",
            "------------------------------------------------------------\n",
            "[epoch 6], [iter 100 / 138], [train loss 0.51951], [train acc 0.80625]\n",
            "------------------------------------------------------------\n",
            "[epoch 6], [val loss 0.59983], [val acc 0.79060]\n",
            "------------------------------------------------------------\n",
            "[epoch 7], [iter 100 / 138], [train loss 0.38582], [train acc 0.85531]\n",
            "------------------------------------------------------------\n",
            "[epoch 7], [val loss 0.43009], [val acc 0.83357]\n",
            "------------------------------------------------------------\n",
            "*****************************************************\n",
            "best record: [epoch 7], [val loss 0.43009], [val acc 0.83357]\n",
            "*****************************************************\n",
            "[epoch 8], [iter 100 / 138], [train loss 0.39757], [train acc 0.85719]\n",
            "------------------------------------------------------------\n",
            "[epoch 8], [val loss 0.56068], [val acc 0.78893]\n",
            "------------------------------------------------------------\n",
            "[epoch 9], [iter 100 / 138], [train loss 0.36907], [train acc 0.86406]\n",
            "------------------------------------------------------------\n",
            "[epoch 9], [val loss 0.58284], [val acc 0.78167]\n",
            "------------------------------------------------------------\n",
            "[epoch 10], [iter 100 / 138], [train loss 0.34052], [train acc 0.87438]\n",
            "------------------------------------------------------------\n",
            "[epoch 10], [val loss 0.58361], [val acc 0.80244]\n",
            "------------------------------------------------------------\n"
          ]
        }
      ],
      "source": [
        "model_nameDen = 'densenet'\n",
        "# Initialize the model for this run\n",
        "model_ft3, input_size3 = initialize_model(model_nameDen, num_classes, feature_extract, use_pretrained=True)\n",
        "# Define the device:\n",
        "device = torch.device('cuda:0')\n",
        "# Put the model on the device:\n",
        "modelDen = model_ft3.to(device)\n",
        "\n",
        "\n",
        "###### training densnet \n",
        "\n",
        "optimizer = optim.Adam(modelDen.parameters(), lr=1e-3)\n",
        "criterion = nn.CrossEntropyLoss().to(device)\n",
        "\n",
        "total_loss_train, total_acc_train = [],[]\n",
        "\n",
        "epoch_num = 10\n",
        "best_val_acc = 0\n",
        "total_loss_val, total_acc_val = [],[]\n",
        "for epoch in range(1, epoch_num+1):\n",
        "    loss_train, acc_train = train(train_loaderBalanced, modelDen, criterion, optimizer, epoch)\n",
        "    loss_val, acc_val = validate(val_loader, modelDen, criterion, optimizer, epoch)\n",
        "    total_loss_val.append(loss_val)\n",
        "    total_acc_val.append(acc_val)\n",
        "    if acc_val > best_val_acc:\n",
        "        best_val_acc = acc_val\n",
        "        print('*****************************************************')\n",
        "        print('best record: [epoch %d], [val loss %.5f], [val acc %.5f]' % (epoch, loss_val, acc_val))\n",
        "        print('*****************************************************')"
      ]
    },
    {
      "cell_type": "code",
      "execution_count": null,
      "metadata": {
        "colab": {
          "base_uri": "https://localhost:8080/",
          "height": 311
        },
        "id": "71LxKOBJy3tZ",
        "outputId": "178b51e7-79fc-45a9-88c9-d28aeb653f59"
      },
      "outputs": [
        {
          "data": {
            "image/png": "[encoded data removed]",
            "text/plain": [
              "<Figure size 432x288 with 2 Axes>"
            ]
          },
          "metadata": {},
          "output_type": "display_data"
        }
      ],
      "source": [
        "modelDen.eval()\n",
        "y_label = []\n",
        "y_predict = []\n",
        "with torch.no_grad():\n",
        "    for i, data in enumerate(val_loader):\n",
        "        images, labels = data\n",
        "        N = images.size(0)\n",
        "        images = Variable(images).to(device)\n",
        "        outputs = modelDen(images)\n",
        "        prediction = outputs.max(1, keepdim=True)[1]\n",
        "        y_label.extend(labels.cpu().numpy())\n",
        "        y_predict.extend(np.squeeze(prediction.cpu().numpy().T))\n",
        "\n",
        "# compute the confusion matrix\n",
        "confusion_mtx = confusion_matrix(y_label, y_predict)\n",
        "# plot the confusion matrix\n",
        "plot_labels = ['akiec', 'bcc', 'bkl', 'df', 'nv', 'vasc','mel']\n",
        "plot_confusion_matrix(confusion_mtx, plot_labels)"
      ]
    },
    {
      "cell_type": "code",
      "execution_count": null,
      "metadata": {
        "colab": {
          "base_uri": "https://localhost:8080/",
          "height": 265
        },
        "id": "coOVG5hgy3rf",
        "outputId": "f651aa67-2f56-48b3-e9bd-2ec43066dd5f"
      },
      "outputs": [
        {
          "data": {
            "image/png": "[encoded data removed]",
            "text/plain": [
              "<Figure size 432x288 with 2 Axes>"
            ]
          },
          "metadata": {},
          "output_type": "display_data"
        }
      ],
      "source": [
        "fig = plt.figure(num = 2)\n",
        "fig1 = fig.add_subplot(2,1,1)\n",
        "fig2 = fig.add_subplot(2,1,2)\n",
        "fig1.plot(total_loss_train, label = 'training loss')\n",
        "fig1.plot(total_acc_train, label = 'training accuracy')\n",
        "fig1.legend(loc='upper center', ncol=2)\n",
        "fig2.plot(total_loss_val, label = 'validation loss')\n",
        "fig2.plot(total_acc_val, label = 'validation accuracy')\n",
        "fig2.legend()\n",
        "plt.show()"
      ]
    },
    {
      "cell_type": "code",
      "execution_count": null,
      "metadata": {
        "colab": {
          "base_uri": "https://localhost:8080/"
        },
        "id": "O9BzL3tQy3ol",
        "outputId": "d92f1100-0739-4352-bcaf-4b9c4fe0cf21"
      },
      "outputs": [
        {
          "name": "stdout",
          "output_type": "stream",
          "text": [
            "              precision    recall  f1-score   support\n",
            "\n",
            "       akiec       0.71      0.33      0.45        30\n",
            "         bcc       0.81      0.60      0.69        35\n",
            "         bkl       0.43      0.81      0.56        88\n",
            "          df       0.67      0.75      0.71         8\n",
            "          nv       0.99      0.83      0.90       883\n",
            "        vasc       0.29      0.76      0.42        46\n",
            "         mel       0.40      0.92      0.56        13\n",
            "\n",
            "    accuracy                           0.80      1103\n",
            "   macro avg       0.61      0.71      0.61      1103\n",
            "weighted avg       0.89      0.80      0.83      1103\n",
            "\n"
          ]
        }
      ],
      "source": [
        "report = classification_report(y_label, y_predict, target_names=plot_labels)\n",
        "print(report)"
      ]
    },
    {
      "cell_type": "markdown",
      "metadata": {
        "id": "njX0Mvl3_mjp"
      },
      "source": [
        "### Inception"
      ]
    },
    {
      "cell_type": "code",
      "execution_count": null,
      "metadata": {
        "colab": {
          "base_uri": "https://localhost:8080/"
        },
        "id": "jCNyCCMvy3l5",
        "outputId": "61b77b0b-33fa-4221-c4cc-b973f121892a"
      },
      "outputs": [
        {
          "name": "stdout",
          "output_type": "stream",
          "text": [
            "[epoch 1], [iter 100 / 138], [train loss 1.18465], [train acc 0.59344]\n",
            "------------------------------------------------------------\n",
            "[epoch 1], [val loss 0.66781], [val acc 0.73167]\n",
            "------------------------------------------------------------\n",
            "*****************************************************\n",
            "best record: [epoch 1], [val loss 0.66781], [val acc 0.73167]\n",
            "*****************************************************\n",
            "[epoch 2], [iter 100 / 138], [train loss 0.84212], [train acc 0.69812]\n",
            "------------------------------------------------------------\n",
            "[epoch 2], [val loss 1.14048], [val acc 0.70095]\n",
            "------------------------------------------------------------\n",
            "[epoch 3], [iter 100 / 138], [train loss 0.67464], [train acc 0.76687]\n",
            "------------------------------------------------------------\n",
            "[epoch 3], [val loss 1.30759], [val acc 0.55464]\n",
            "------------------------------------------------------------\n",
            "[epoch 4], [iter 100 / 138], [train loss 0.61411], [train acc 0.78531]\n",
            "------------------------------------------------------------\n",
            "[epoch 4], [val loss 0.48253], [val acc 0.83381]\n",
            "------------------------------------------------------------\n",
            "*****************************************************\n",
            "best record: [epoch 4], [val loss 0.48253], [val acc 0.83381]\n",
            "*****************************************************\n",
            "[epoch 5], [iter 100 / 138], [train loss 0.55449], [train acc 0.80563]\n",
            "------------------------------------------------------------\n",
            "[epoch 5], [val loss 0.57953], [val acc 0.80512]\n",
            "------------------------------------------------------------\n",
            "[epoch 6], [iter 100 / 138], [train loss 0.46565], [train acc 0.83719]\n",
            "------------------------------------------------------------\n",
            "[epoch 6], [val loss 0.61809], [val acc 0.80411]\n",
            "------------------------------------------------------------\n",
            "[epoch 7], [iter 100 / 138], [train loss 0.39803], [train acc 0.86094]\n",
            "------------------------------------------------------------\n",
            "[epoch 7], [val loss 0.46888], [val acc 0.82119]\n",
            "------------------------------------------------------------\n",
            "[epoch 8], [iter 100 / 138], [train loss 0.39939], [train acc 0.86313]\n",
            "------------------------------------------------------------\n",
            "[epoch 8], [val loss 0.69448], [val acc 0.76649]\n",
            "------------------------------------------------------------\n",
            "[epoch 9], [iter 100 / 138], [train loss 0.40817], [train acc 0.86094]\n",
            "------------------------------------------------------------\n",
            "[epoch 9], [val loss 0.44876], [val acc 0.83369]\n",
            "------------------------------------------------------------\n",
            "[epoch 10], [iter 100 / 138], [train loss 0.36147], [train acc 0.87687]\n",
            "------------------------------------------------------------\n",
            "[epoch 10], [val loss 0.64708], [val acc 0.79952]\n",
            "------------------------------------------------------------\n"
          ]
        }
      ],
      "source": [
        "\n",
        "model_nameI = 'inception'\n",
        "# Initialize the model for this run\n",
        "num_classes = 7\n",
        "feature_extract = False\n",
        "model_ft, input_size = initialize_model(model_nameI,num_classes, feature_extract, use_pretrained=True)\n",
        "# Define the device:\n",
        "device = torch.device('cuda:0')\n",
        "# Put the model on the device:\n",
        "modelI = model_ft.to(device)\n",
        "\n",
        "\n",
        "###### training densnet \n",
        "\n",
        "optimizer = optim.Adam(modelI.parameters(), lr=1e-3)\n",
        "criterion = nn.CrossEntropyLoss().to(device)\n",
        "\n",
        "total_loss_train, total_acc_train = [],[]\n",
        "\n",
        "epoch_num = 10\n",
        "best_val_acc = 0\n",
        "total_loss_val, total_acc_val = [],[]\n",
        "for epoch in range(1, epoch_num+1):\n",
        "    loss_train, acc_train = train(train_loaderBalanced, modelI, criterion, optimizer, epoch)\n",
        "    loss_val, acc_val = validate(val_loaderI, modelI, criterion, optimizer, epoch)\n",
        "    total_loss_val.append(loss_val)\n",
        "    total_acc_val.append(acc_val)\n",
        "    if acc_val > best_val_acc:\n",
        "        best_val_acc = acc_val\n",
        "        print('*****************************************************')\n",
        "        print('best record: [epoch %d], [val loss %.5f], [val acc %.5f]' % (epoch, loss_val, acc_val))\n",
        "        print('*****************************************************')"
      ]
    },
    {
      "cell_type": "code",
      "execution_count": null,
      "metadata": {
        "colab": {
          "base_uri": "https://localhost:8080/",
          "height": 311
        },
        "id": "iQVg0ZOny3iv",
        "outputId": "8fa86e29-63e4-4b85-b729-48ca7eac1730"
      },
      "outputs": [
        {
          "data": {
            "image/png": "[encoded data removed]",
            "text/plain": [
              "<Figure size 432x288 with 2 Axes>"
            ]
          },
          "metadata": {},
          "output_type": "display_data"
        }
      ],
      "source": [
        "modelI.eval()\n",
        "y_label = []\n",
        "y_predict = []\n",
        "with torch.no_grad():\n",
        "    for i, data in enumerate(val_loaderI):\n",
        "        images, labels = data\n",
        "        N = images.size(0)\n",
        "        images = Variable(images).to(device)\n",
        "        outputs = modelI(images)\n",
        "        prediction = outputs.max(1, keepdim=True)[1]\n",
        "        y_label.extend(labels.cpu().numpy())\n",
        "        y_predict.extend(np.squeeze(prediction.cpu().numpy().T))\n",
        "\n",
        "# compute the confusion matrix\n",
        "confusion_mtx = confusion_matrix(y_label, y_predict)\n",
        "# plot the confusion matrix\n",
        "plot_labels = ['akiec', 'bcc', 'bkl', 'df', 'nv', 'vasc','mel']\n",
        "plot_confusion_matrix(confusion_mtx, plot_labels)"
      ]
    },
    {
      "cell_type": "code",
      "execution_count": null,
      "metadata": {
        "colab": {
          "base_uri": "https://localhost:8080/",
          "height": 265
        },
        "id": "VOCDMVHyAUPI",
        "outputId": "7bdeadd4-c192-41dd-8cf2-a8e807ccb703"
      },
      "outputs": [
        {
          "data": {
            "image/png": "[encoded data removed]",
            "text/plain": [
              "<Figure size 432x288 with 2 Axes>"
            ]
          },
          "metadata": {},
          "output_type": "display_data"
        }
      ],
      "source": [
        "fig = plt.figure(num = 2)\n",
        "fig1 = fig.add_subplot(2,1,1)\n",
        "fig2 = fig.add_subplot(2,1,2)\n",
        "fig1.plot(total_loss_train, label = 'training loss')\n",
        "fig1.plot(total_acc_train, label = 'training accuracy')\n",
        "fig1.legend(loc='upper center', ncol=2)\n",
        "fig2.plot(total_loss_val, label = 'validation loss')\n",
        "fig2.plot(total_acc_val, label = 'validation accuracy')\n",
        "fig2.legend()\n",
        "plt.show()"
      ]
    },
    {
      "cell_type": "code",
      "execution_count": null,
      "metadata": {
        "colab": {
          "base_uri": "https://localhost:8080/"
        },
        "id": "UCCjegajAUMR",
        "outputId": "ac3a8711-a366-4263-cd78-d7e76cb6d249"
      },
      "outputs": [
        {
          "name": "stdout",
          "output_type": "stream",
          "text": [
            "              precision    recall  f1-score   support\n",
            "\n",
            "       akiec       0.70      0.47      0.56        30\n",
            "         bcc       0.30      0.91      0.45        35\n",
            "         bkl       0.59      0.40      0.48        88\n",
            "          df       0.36      0.50      0.42         8\n",
            "          nv       0.98      0.86      0.92       883\n",
            "        vasc       0.24      0.63      0.35        46\n",
            "         mel       1.00      0.62      0.76        13\n",
            "\n",
            "    accuracy                           0.80      1103\n",
            "   macro avg       0.60      0.63      0.56      1103\n",
            "weighted avg       0.89      0.80      0.83      1103\n",
            "\n"
          ]
        }
      ],
      "source": [
        "report = classification_report(y_label, y_predict, target_names=plot_labels)\n",
        "print(report)"
      ]
    },
    {
      "cell_type": "markdown",
      "metadata": {
        "id": "05OTjcdDJVyQ"
      },
      "source": [
        "### Mobilenet"
      ]
    },
    {
      "cell_type": "code",
      "execution_count": null,
      "metadata": {
        "colab": {
          "base_uri": "https://localhost:8080/"
        },
        "id": "n7MqPeusJUow",
        "outputId": "5ee17d1a-06d2-4845-e032-41ba56977941"
      },
      "outputs": [
        {
          "name": "stdout",
          "output_type": "stream",
          "text": [
            "[epoch 1], [iter 100 / 138], [train loss 1.29546], [train acc 0.59156]\n",
            "------------------------------------------------------------\n",
            "[epoch 1], [val loss 0.95831], [val acc 0.72452]\n",
            "------------------------------------------------------------\n",
            "*****************************************************\n",
            "best record: [epoch 1], [val loss 0.95831], [val acc 0.72452]\n",
            "*****************************************************\n",
            "[epoch 2], [iter 100 / 138], [train loss 0.62834], [train acc 0.77094]\n",
            "------------------------------------------------------------\n",
            "[epoch 2], [val loss 1.32813], [val acc 0.58988]\n",
            "------------------------------------------------------------\n",
            "[epoch 3], [iter 100 / 138], [train loss 0.46243], [train acc 0.83531]\n",
            "------------------------------------------------------------\n",
            "[epoch 3], [val loss 1.28121], [val acc 0.54190]\n",
            "------------------------------------------------------------\n",
            "[epoch 4], [iter 100 / 138], [train loss 0.35621], [train acc 0.87187]\n",
            "------------------------------------------------------------\n",
            "[epoch 4], [val loss 1.35244], [val acc 0.63488]\n",
            "------------------------------------------------------------\n",
            "[epoch 5], [iter 100 / 138], [train loss 0.35955], [train acc 0.86875]\n",
            "------------------------------------------------------------\n",
            "[epoch 5], [val loss 0.39614], [val acc 0.88024]\n",
            "------------------------------------------------------------\n",
            "*****************************************************\n",
            "best record: [epoch 5], [val loss 0.39614], [val acc 0.88024]\n",
            "*****************************************************\n",
            "[epoch 6], [iter 100 / 138], [train loss 0.24976], [train acc 0.91781]\n",
            "------------------------------------------------------------\n",
            "[epoch 6], [val loss 0.62591], [val acc 0.80030]\n",
            "------------------------------------------------------------\n",
            "[epoch 7], [iter 100 / 138], [train loss 0.23064], [train acc 0.91656]\n",
            "------------------------------------------------------------\n",
            "[epoch 7], [val loss 0.83070], [val acc 0.75143]\n",
            "------------------------------------------------------------\n",
            "[epoch 8], [iter 100 / 138], [train loss 0.22441], [train acc 0.92156]\n",
            "------------------------------------------------------------\n",
            "[epoch 8], [val loss 0.67880], [val acc 0.79083]\n",
            "------------------------------------------------------------\n",
            "[epoch 9], [iter 100 / 138], [train loss 0.21050], [train acc 0.93125]\n",
            "------------------------------------------------------------\n",
            "[epoch 9], [val loss 0.53160], [val acc 0.83179]\n",
            "------------------------------------------------------------\n",
            "[epoch 10], [iter 100 / 138], [train loss 0.17065], [train acc 0.94094]\n",
            "------------------------------------------------------------\n",
            "[epoch 10], [val loss 0.51579], [val acc 0.83548]\n",
            "------------------------------------------------------------\n"
          ]
        }
      ],
      "source": [
        "# model mobilenet\n",
        "model_nameM = 'mobilenet'\n",
        "# Initialize the model for this run\n",
        "model_ft5, input_size5 = initialize_model(model_nameM, num_classes, feature_extract, use_pretrained=True)\n",
        "# Define the device:\n",
        "device = torch.device('cuda:0')\n",
        "# Put the model on the device:\n",
        "modelM = model_ft5.to(device)\n",
        "\n",
        "\n",
        "###### training mobilenet\n",
        "\n",
        "optimizer = optim.Adam(modelM.parameters(), lr=1e-3)\n",
        "criterion = nn.CrossEntropyLoss().to(device)\n",
        "\n",
        "total_loss_train, total_acc_train = [],[]\n",
        "\n",
        "epoch_num = 10\n",
        "best_val_acc = 0\n",
        "total_loss_val, total_acc_val = [],[]\n",
        "for epoch in range(1, epoch_num+1):\n",
        "    loss_train, acc_train = train(train_loaderBalanced, modelM, criterion, optimizer, epoch)\n",
        "    loss_val, acc_val = validate(val_loader, modelM, criterion, optimizer, epoch)\n",
        "    total_loss_val.append(loss_val)\n",
        "    total_acc_val.append(acc_val)\n",
        "    if acc_val > best_val_acc:\n",
        "        best_val_acc = acc_val\n",
        "        print('*****************************************************')\n",
        "        print('best record: [epoch %d], [val loss %.5f], [val acc %.5f]' % (epoch, loss_val, acc_val))\n",
        "        print('*****************************************************')\n"
      ]
    },
    {
      "cell_type": "code",
      "execution_count": null,
      "metadata": {
        "colab": {
          "base_uri": "https://localhost:8080/",
          "height": 311
        },
        "id": "jdoRDrcuJUmC",
        "outputId": "7e5b7cb6-a030-4f05-f088-7bedceb5d2db"
      },
      "outputs": [
        {
          "data": {
            "image/png": "[encoded data removed]",
            "text/plain": [
              "<Figure size 432x288 with 2 Axes>"
            ]
          },
          "metadata": {},
          "output_type": "display_data"
        }
      ],
      "source": [
        "modelM.eval()\n",
        "y_label = []\n",
        "y_predict = []\n",
        "with torch.no_grad():\n",
        "    for i, data in enumerate(val_loader):\n",
        "        images, labels = data\n",
        "        N = images.size(0)\n",
        "        images = Variable(images).to(device)\n",
        "        outputs = modelM(images)\n",
        "        prediction = outputs.max(1, keepdim=True)[1]\n",
        "        y_label.extend(labels.cpu().numpy())\n",
        "        y_predict.extend(np.squeeze(prediction.cpu().numpy().T))\n",
        "\n",
        "# compute the confusion matrix\n",
        "confusion_mtx = confusion_matrix(y_label, y_predict)\n",
        "# plot the confusion matrix\n",
        "plot_labels = ['akiec', 'bcc', 'bkl', 'df', 'nv', 'vasc','mel']\n",
        "plot_confusion_matrix(confusion_mtx, plot_labels)"
      ]
    },
    {
      "cell_type": "code",
      "execution_count": null,
      "metadata": {
        "colab": {
          "base_uri": "https://localhost:8080/",
          "height": 265
        },
        "id": "E3jbtSIYJUjm",
        "outputId": "9f7bc099-c88c-491c-aadc-ce366a1f2ab1"
      },
      "outputs": [
        {
          "data": {
            "image/png": "[encoded data removed]",
            "text/plain": [
              "<Figure size 432x288 with 2 Axes>"
            ]
          },
          "metadata": {},
          "output_type": "display_data"
        }
      ],
      "source": [
        "fig = plt.figure(num = 2)\n",
        "fig1 = fig.add_subplot(2,1,1)\n",
        "fig2 = fig.add_subplot(2,1,2)\n",
        "fig1.plot(total_loss_train, label = 'training loss')\n",
        "fig1.plot(total_acc_train, label = 'training accuracy')\n",
        "fig1.legend(loc='upper center', ncol=2)\n",
        "fig2.plot(total_loss_val, label = 'validation loss')\n",
        "fig2.plot(total_acc_val, label = 'validation accuracy')\n",
        "fig2.legend()\n",
        "plt.show()"
      ]
    },
    {
      "cell_type": "code",
      "execution_count": null,
      "metadata": {
        "colab": {
          "base_uri": "https://localhost:8080/"
        },
        "id": "F6c9RFS3JUgg",
        "outputId": "85cffd6a-678f-4fff-c439-0b02cf7778f4"
      },
      "outputs": [
        {
          "name": "stdout",
          "output_type": "stream",
          "text": [
            "              precision    recall  f1-score   support\n",
            "\n",
            "       akiec       0.49      0.63      0.55        30\n",
            "         bcc       0.70      0.74      0.72        35\n",
            "         bkl       0.63      0.65      0.64        88\n",
            "          df       0.86      0.75      0.80         8\n",
            "          nv       0.98      0.88      0.93       883\n",
            "        vasc       0.23      0.59      0.33        46\n",
            "         mel       0.52      0.85      0.65        13\n",
            "\n",
            "    accuracy                           0.83      1103\n",
            "   macro avg       0.63      0.73      0.66      1103\n",
            "weighted avg       0.89      0.83      0.86      1103\n",
            "\n"
          ]
        }
      ],
      "source": [
        "report = classification_report(y_label, y_predict, target_names=plot_labels)\n",
        "print(report)"
      ]
    },
    {
      "cell_type": "markdown",
      "metadata": {
        "id": "kf0QLHudzokx"
      },
      "source": [
        "### balancing via loss function "
      ]
    },
    {
      "cell_type": "code",
      "execution_count": null,
      "metadata": {
        "id": "sTGWFs8YtXBl"
      },
      "outputs": [],
      "source": [
        "import torch.nn.functional as F\n",
        "import torch\n",
        "import torch.nn as nn\n",
        "\n",
        "class WeighedLoss(nn.modules.loss._WeightedLoss):\n",
        "    def __init__(self, weight, reduction='none'):\n",
        "        super(WeighedLoss, self).__init__(weight,reduction=reduction)\n",
        "        self.weight = weight #weight parameter will act as the alpha parameter to balance class weights\n",
        "   \n",
        "    def forward(self, input, target): \n",
        "        ce_loss = F.cross_entropy(input, target,weight=self.weight, size_average=True)\n",
        "\n",
        "        return ce_loss\n"
      ]
    },
    {
      "cell_type": "code",
      "execution_count": null,
      "metadata": {
        "colab": {
          "base_uri": "https://localhost:8080/"
        },
        "id": "cZy6QwuQSQzR",
        "outputId": "f6cc7f3c-eb4a-493d-919b-136cd304119c"
      },
      "outputs": [
        {
          "data": {
            "text/plain": [
              "nv       3532\n",
              "bkl       352\n",
              "mel       184\n",
              "bcc       140\n",
              "akiec     121\n",
              "vasc       51\n",
              "df         31\n",
              "Name: dx, dtype: int64"
            ]
          },
          "execution_count": 27,
          "metadata": {},
          "output_type": "execute_result"
        }
      ],
      "source": [
        "df_train.dx.value_counts()"
      ]
    },
    {
      "cell_type": "code",
      "execution_count": null,
      "metadata": {
        "id": "v-hzdMo_SV5q"
      },
      "outputs": [],
      "source": [
        ""
      ]
    },
    {
      "cell_type": "code",
      "execution_count": null,
      "metadata": {
        "colab": {
          "base_uri": "https://localhost:8080/"
        },
        "id": "Ze3czM1R1V5r",
        "outputId": "b118d069-115c-412b-c9c3-ac31f56476de"
      },
      "outputs": [
        {
          "data": {
            "text/plain": [
              "[29.1900826446281,\n",
              " 25.228571428571428,\n",
              " 10.034090909090908,\n",
              " 113.93548387096774,\n",
              " 1.0,\n",
              " 19.195652173913043,\n",
              " 69.25490196078431]"
            ]
          },
          "execution_count": 28,
          "metadata": {},
          "output_type": "execute_result"
        }
      ],
      "source": [
        "import math \n",
        "num_classes =7\n",
        "\n",
        "labels = sorted(df_train.cell_type_idx.unique())\n",
        "classWeight = []\n",
        "max =0 \n",
        "for i in labels:\n",
        "  classLen = len(df_train.loc[df_train.cell_type_idx==i])\n",
        "  classWeight.append(classLen)\n",
        "  if classLen >max:\n",
        "    max =classLen \n",
        "  \n",
        "classW =[(classWeight[4]/x) for x in classWeight]\n",
        "classW"
      ]
    },
    {
      "cell_type": "code",
      "execution_count": null,
      "metadata": {
        "colab": {
          "base_uri": "https://localhost:8080/"
        },
        "id": "dKpRI6Dd7rS2",
        "outputId": "37213a06-42c9-4d61-db5a-130b1bdda6e4"
      },
      "outputs": [
        {
          "name": "stdout",
          "output_type": "stream",
          "text": [
            "tensor([ 29.1901,  25.2286,  10.0341, 113.9355,   1.0000,  19.1957,  69.2549],\n",
            "       device='cuda:0')\n"
          ]
        }
      ],
      "source": [
        "df_train  = df_train.reset_index()#df_original[(df_original['train_or_val'] == 'train')].reset_index()\n",
        "df_val =df_val.reset_index(drop=True)\n",
        "labels = sorted(df_train.cell_type_idx.unique())\n",
        "classWeight = []\n",
        "max =0\n",
        "for i in labels:\n",
        "  classLen = len(df_train.loc[df_train.cell_type_idx==i])\n",
        "  classWeight.append(classLen)\n",
        "  if classLen >max:\n",
        "    max =classLen \n",
        "\n",
        "classW =[(max/x) for x in classWeight]\n",
        "classW= torch.tensor(classW, dtype=torch.float).to(device)\n",
        "print(classW)"
      ]
    },
    {
      "cell_type": "code",
      "execution_count": null,
      "metadata": {
        "colab": {
          "base_uri": "https://localhost:8080/"
        },
        "id": "z-BOS-wpCoja",
        "outputId": "102e908c-1e34-4ea3-8b52-b09804d82b06"
      },
      "outputs": [
        {
          "data": {
            "text/plain": [
              "tensor([0.9726, 0.9683, 0.9202, 0.9929, 0.1993, 0.9583, 0.9884],\n",
              "       device='cuda:0')"
            ]
          },
          "execution_count": 444,
          "metadata": {},
          "output_type": "execute_result"
        }
      ],
      "source": [
        "\n",
        "normedWeights = [1 - (x / sum(classWeight)) for x in classWeight]\n",
        "normedWeights = torch.FloatTensor(normedWeights).to(device)\n",
        "normedWeights"
      ]
    },
    {
      "cell_type": "code",
      "execution_count": null,
      "metadata": {
        "id": "muKWS85NvzQQ"
      },
      "outputs": [],
      "source": [
        "# Define the training set using the table train_df and using our defined transitions (train_transform)\n",
        "training_set = HAM10000(df_train, transform=train_transform)\n",
        "train_loader = DataLoader(training_set,batch_size=32,   num_workers=1)\n",
        "validation_set = HAM10000(df_val, transform=val_transform)\n",
        "val_loader = DataLoader(validation_set, batch_size=32, shuffle=False, num_workers=1)"
      ]
    },
    {
      "cell_type": "markdown",
      "metadata": {
        "id": "zJNKdbfsKGdz"
      },
      "source": [
        "### Resnet "
      ]
    },
    {
      "cell_type": "code",
      "execution_count": null,
      "metadata": {
        "colab": {
          "base_uri": "https://localhost:8080/",
          "height": 86,
          "referenced_widgets": [
            "e80b92a42b7644ecbdb0709e0f61b09b",
            "abc06ec568e84a8ba8c2beb412020eca",
            "35a5e730673a4f57bdd4d0025d4c1c4e",
            "e9f91a8b996d44c28bfcc28f58678819",
            "c4d14c5f33814d8790c87823f2046dda",
            "d1872a5c83b746ceb2bb21ecf276fd32",
            "0c7acd6b827a451091b9927598bfe483",
            "357682e111564d9ca82ca4403ffe7a4e",
            "dbfc33ec613b44aeb58d4407c8d9b1bb",
            "86a0ddf6aa01408c9bfa120799d7e538",
            "3c4670cf2c5342c4a353e8fa728ff870"
          ]
        },
        "id": "Iztz9KDhKF6Q",
        "outputId": "6760c9fb-5c8e-413e-d90e-671272fd9f25"
      },
      "outputs": [
        {
          "name": "stderr",
          "output_type": "stream",
          "text": [
            "Downloading: \"https://download.pytorch.org/models/resnet50-0676ba61.pth\" to /root/.cache/torch/hub/checkpoints/resnet50-0676ba61.pth\n"
          ]
        },
        {
          "data": {
            "application/vnd.jupyter.widget-view+json": {
              "model_id": "e80b92a42b7644ecbdb0709e0f61b09b",
              "version_major": 2,
              "version_minor": 0
            },
            "text/plain": [
              "  0%|          | 0.00/97.8M [00:00<?, ?B/s]"
            ]
          },
          "metadata": {},
          "output_type": "display_data"
        }
      ],
      "source": [
        "# resnet,vgg,densenet,inception,mobilenet\n",
        "model_name = 'resnet'\n",
        "num_classes = 7\n",
        "feature_extract = False\n",
        "# Initialize the model for this run\n",
        "model_ft, input_size = initialize_model(model_name, num_classes, feature_extract, use_pretrained=True)\n",
        "# Define the device:\n",
        "device = torch.device('cuda:0')\n",
        "# Put the model on the device:\n",
        "model = model_ft.to(device)"
      ]
    },
    {
      "cell_type": "code",
      "execution_count": null,
      "metadata": {
        "id": "hDon6qPXwJyf"
      },
      "outputs": [],
      "source": [
        "torch.cuda.empty_cache()"
      ]
    },
    {
      "cell_type": "code",
      "execution_count": null,
      "metadata": {
        "colab": {
          "base_uri": "https://localhost:8080/"
        },
        "id": "DaZHCwqV1WIh",
        "outputId": "97ccae21-ea75-4517-b8a2-3a8fbbe3d152"
      },
      "outputs": [
        {
          "name": "stdout",
          "output_type": "stream",
          "text": [
            "[epoch 1], [iter 100 / 138], [train loss 2.01808], [train acc 0.37281]\n",
            "------------------------------------------------------------\n",
            "[epoch 1], [val loss 1.72667], [val acc 0.58232]\n",
            "------------------------------------------------------------\n",
            "*****************************************************\n",
            "best record: [epoch 1], [val loss 1.72667], [val acc 0.58232]\n",
            "*****************************************************\n",
            "[epoch 2], [iter 100 / 138], [train loss 1.74562], [train acc 0.49406]\n",
            "------------------------------------------------------------\n",
            "[epoch 2], [val loss 1.66074], [val acc 0.46054]\n",
            "------------------------------------------------------------\n",
            "[epoch 3], [iter 100 / 138], [train loss 1.60423], [train acc 0.50562]\n",
            "------------------------------------------------------------\n",
            "[epoch 3], [val loss 1.64469], [val acc 0.72643]\n",
            "------------------------------------------------------------\n",
            "*****************************************************\n",
            "best record: [epoch 3], [val loss 1.64469], [val acc 0.72643]\n",
            "*****************************************************\n",
            "[epoch 4], [iter 100 / 138], [train loss 1.61346], [train acc 0.51250]\n",
            "------------------------------------------------------------\n",
            "[epoch 4], [val loss 1.42411], [val acc 0.71548]\n",
            "------------------------------------------------------------\n",
            "[epoch 5], [iter 100 / 138], [train loss 1.50176], [train acc 0.56625]\n",
            "------------------------------------------------------------\n",
            "[epoch 5], [val loss 1.60408], [val acc 0.65119]\n",
            "------------------------------------------------------------\n",
            "[epoch 6], [iter 100 / 138], [train loss 1.52795], [train acc 0.59406]\n",
            "------------------------------------------------------------\n",
            "[epoch 6], [val loss 1.58573], [val acc 0.44548]\n",
            "------------------------------------------------------------\n",
            "[epoch 7], [iter 100 / 138], [train loss 1.50497], [train acc 0.62469]\n",
            "------------------------------------------------------------\n",
            "[epoch 7], [val loss 1.42301], [val acc 0.66190]\n",
            "------------------------------------------------------------\n",
            "[epoch 8], [iter 100 / 138], [train loss 1.48660], [train acc 0.53687]\n",
            "------------------------------------------------------------\n",
            "[epoch 8], [val loss 1.39221], [val acc 0.65387]\n",
            "------------------------------------------------------------\n",
            "[epoch 9], [iter 100 / 138], [train loss 1.44011], [train acc 0.52750]\n",
            "------------------------------------------------------------\n",
            "[epoch 9], [val loss 1.43292], [val acc 0.63958]\n",
            "------------------------------------------------------------\n",
            "[epoch 10], [iter 100 / 138], [train loss 1.45790], [train acc 0.58219]\n",
            "------------------------------------------------------------\n",
            "[epoch 10], [val loss 1.37864], [val acc 0.61738]\n",
            "------------------------------------------------------------\n"
          ]
        }
      ],
      "source": [
        "optimizer = optim.Adam(model.parameters(), lr=1e-3)\n",
        "\n",
        "criterion = WeighedLoss(weight=classW).to(device)\n",
        "epoch_num = 10\n",
        "best_val_acc = 0\n",
        "total_loss_val, total_acc_val = [],[]\n",
        "for epoch in range(1, epoch_num+1):\n",
        "    loss_train, acc_train = train(train_loader, model, criterion, optimizer, epoch)\n",
        "    loss_val, acc_val = validate(val_loader, model, criterion, optimizer, epoch)\n",
        "    total_loss_val.append(loss_val)\n",
        "    total_acc_val.append(acc_val)\n",
        "    if acc_val > best_val_acc:\n",
        "        best_val_acc = acc_val\n",
        "        print('*****************************************************')\n",
        "        print('best record: [epoch %d], [val loss %.5f], [val acc %.5f]' % (epoch, loss_val, acc_val))\n",
        "        print('*****************************************************')"
      ]
    },
    {
      "cell_type": "code",
      "execution_count": null,
      "metadata": {
        "colab": {
          "base_uri": "https://localhost:8080/",
          "height": 311
        },
        "id": "wGllpKFI1WCi",
        "outputId": "9566e7ee-695e-4f3f-f006-3fcf98745d70"
      },
      "outputs": [
        {
          "data": {
            "image/png": "[encoded data removed]",
            "text/plain": [
              "<Figure size 432x288 with 2 Axes>"
            ]
          },
          "metadata": {},
          "output_type": "display_data"
        }
      ],
      "source": [
        "model.eval()\n",
        "y_label = []\n",
        "y_predict = []\n",
        "with torch.no_grad():\n",
        "    for i, data in enumerate(val_loader):\n",
        "        images, labels = data\n",
        "        N = images.size(0)\n",
        "        images = Variable(images).to(device)\n",
        "        outputs = model(images)\n",
        "        prediction = outputs.max(1, keepdim=True)[1]\n",
        "        y_label.extend(labels.cpu().numpy())\n",
        "        y_predict.extend(np.squeeze(prediction.cpu().numpy().T))\n",
        "\n",
        "# compute the confusion matrix\n",
        "confusion_mtx = confusion_matrix(y_label, y_predict)\n",
        "# plot the confusion matrix\n",
        "plot_labels = ['akiec', 'bcc', 'bkl', 'df', 'nv', 'vasc','mel']\n",
        "plot_confusion_matrix(confusion_mtx, plot_labels)"
      ]
    },
    {
      "cell_type": "code",
      "execution_count": null,
      "metadata": {
        "colab": {
          "base_uri": "https://localhost:8080/",
          "height": 265
        },
        "id": "8hZOU58eM4I_",
        "outputId": "5c294afd-5226-422a-aa02-fda830c5e820"
      },
      "outputs": [
        {
          "data": {
            "image/png": "[encoded data removed]",
            "text/plain": [
              "<Figure size 432x288 with 2 Axes>"
            ]
          },
          "metadata": {},
          "output_type": "display_data"
        }
      ],
      "source": [
        "fig = plt.figure(num = 2)\n",
        "fig1 = fig.add_subplot(2,1,1)\n",
        "fig2 = fig.add_subplot(2,1,2)\n",
        "fig1.plot(total_loss_train, label = 'training loss')\n",
        "fig1.plot(total_acc_train, label = 'training accuracy')\n",
        "fig1.legend(loc='upper center', ncol=2)\n",
        "fig2.plot(total_loss_val, label = 'validation loss')\n",
        "fig2.plot(total_acc_val, label = 'validation accuracy')\n",
        "fig2.legend()\n",
        "plt.show()"
      ]
    },
    {
      "cell_type": "code",
      "execution_count": null,
      "metadata": {
        "colab": {
          "base_uri": "https://localhost:8080/"
        },
        "id": "XLUAGpdj1V_r",
        "outputId": "e50dbe5a-5ace-4620-d3fa-5afe3a4b4cd8"
      },
      "outputs": [
        {
          "name": "stdout",
          "output_type": "stream",
          "text": [
            "              precision    recall  f1-score   support\n",
            "\n",
            "       akiec       0.28      0.33      0.30        30\n",
            "         bcc       0.51      0.60      0.55        35\n",
            "         bkl       0.43      0.26      0.33        88\n",
            "          df       0.12      0.62      0.20         8\n",
            "          nv       0.98      0.66      0.79       883\n",
            "        vasc       0.21      0.63      0.32        46\n",
            "         mel       0.05      0.85      0.10        13\n",
            "\n",
            "    accuracy                           0.62      1103\n",
            "   macro avg       0.37      0.56      0.37      1103\n",
            "weighted avg       0.86      0.62      0.70      1103\n",
            "\n"
          ]
        }
      ],
      "source": [
        "# Generate a classification report\n",
        "report = classification_report(y_label, y_predict, target_names=plot_labels)\n",
        "print(report)"
      ]
    },
    {
      "cell_type": "markdown",
      "metadata": {
        "id": "YtyxcFr1Kym8"
      },
      "source": [
        "### VGG"
      ]
    },
    {
      "cell_type": "code",
      "execution_count": null,
      "metadata": {
        "colab": {
          "base_uri": "https://localhost:8080/",
          "height": 86
        },
        "id": "PirHqnWI1V86",
        "outputId": "63e8b4b7-f198-49be-c824-a129c91ca167"
      },
      "outputs": [
        {
          "name": "stderr",
          "output_type": "stream",
          "text": [
            "Downloading: \"https://download.pytorch.org/models/vgg11_bn-6002323d.pth\" to /root/.cache/torch/hub/checkpoints/vgg11_bn-6002323d.pth\n"
          ]
        },
        {
          "data": {
            "application/vnd.jupyter.widget-view+json": {
              "model_id": "68c368666bb24994808cf2c6eef5e226",
              "version_major": 2,
              "version_minor": 0
            },
            "text/plain": [
              "  0%|          | 0.00/507M [00:00<?, ?B/s]"
            ]
          },
          "metadata": {},
          "output_type": "display_data"
        }
      ],
      "source": [
        "# resnet,vgg,densenet,inception,mobilenet\n",
        "num_classes =7\n",
        "feature_extract = False\n",
        "model_nameVgg = 'vgg'\n",
        "# Initialize the model for this run\n",
        "model_ft2, input_size2 = initialize_model(model_nameVgg, num_classes, feature_extract, use_pretrained=True)\n",
        "# Define the device:\n",
        "device = torch.device('cuda:0')\n",
        "# Put the model on the device:\n",
        "modelVgg = model_ft2.to(device)"
      ]
    },
    {
      "cell_type": "code",
      "execution_count": null,
      "metadata": {
        "id": "_8kW5AXcqWYR"
      },
      "outputs": [],
      "source": [
        "  "
      ]
    },
    {
      "cell_type": "code",
      "execution_count": null,
      "metadata": {
        "colab": {
          "base_uri": "https://localhost:8080/"
        },
        "id": "Pgesxg7LL-fb",
        "outputId": "c2ea35dd-6c57-4c43-e73b-82a97c7c2878"
      },
      "outputs": [
        {
          "name": "stdout",
          "output_type": "stream",
          "text": [
            "[epoch 1], [iter 100 / 138], [train loss 2.05028], [train acc 0.32219]\n",
            "------------------------------------------------------------\n",
            "[epoch 1], [val loss 1.74364], [val acc 0.71024]\n",
            "------------------------------------------------------------\n",
            "*****************************************************\n",
            "best record: [epoch 1], [val loss 1.74364], [val acc 0.71024]\n",
            "*****************************************************\n",
            "[epoch 2], [iter 100 / 138], [train loss 1.93192], [train acc 0.51438]\n",
            "------------------------------------------------------------\n",
            "[epoch 2], [val loss 2.01703], [val acc 0.72643]\n",
            "------------------------------------------------------------\n",
            "*****************************************************\n",
            "best record: [epoch 2], [val loss 2.01703], [val acc 0.72643]\n",
            "*****************************************************\n",
            "[epoch 3], [iter 100 / 138], [train loss 1.98782], [train acc 0.43375]\n",
            "------------------------------------------------------------\n",
            "[epoch 3], [val loss 1.71234], [val acc 0.72363]\n",
            "------------------------------------------------------------\n",
            "[epoch 4], [iter 100 / 138], [train loss 1.79662], [train acc 0.49719]\n",
            "------------------------------------------------------------\n",
            "[epoch 4], [val loss 1.69763], [val acc 0.69774]\n",
            "------------------------------------------------------------\n",
            "[epoch 5], [iter 100 / 138], [train loss 1.82861], [train acc 0.45500]\n",
            "------------------------------------------------------------\n",
            "[epoch 5], [val loss 1.63920], [val acc 0.72810]\n",
            "------------------------------------------------------------\n",
            "*****************************************************\n",
            "best record: [epoch 5], [val loss 1.63920], [val acc 0.72810]\n",
            "*****************************************************\n",
            "[epoch 6], [iter 100 / 138], [train loss 1.78893], [train acc 0.47563]\n",
            "------------------------------------------------------------\n",
            "[epoch 6], [val loss 1.87711], [val acc 0.30315]\n",
            "------------------------------------------------------------\n",
            "[epoch 7], [iter 100 / 138], [train loss 1.75724], [train acc 0.44688]\n",
            "------------------------------------------------------------\n",
            "[epoch 7], [val loss 1.71725], [val acc 0.71917]\n",
            "------------------------------------------------------------\n",
            "[epoch 8], [iter 100 / 138], [train loss 1.73419], [train acc 0.44375]\n",
            "------------------------------------------------------------\n",
            "[epoch 8], [val loss 1.64713], [val acc 0.71024]\n",
            "------------------------------------------------------------\n",
            "[epoch 9], [iter 100 / 138], [train loss 1.70211], [train acc 0.54750]\n",
            "------------------------------------------------------------\n",
            "[epoch 9], [val loss 1.60469], [val acc 0.69583]\n",
            "------------------------------------------------------------\n",
            "[epoch 10], [iter 100 / 138], [train loss 1.70212], [train acc 0.48906]\n",
            "------------------------------------------------------------\n",
            "[epoch 10], [val loss 1.67478], [val acc 0.67095]\n",
            "------------------------------------------------------------\n"
          ]
        }
      ],
      "source": [
        "optimizer = optim.Adam(modelVgg.parameters(), lr=1e-3)\n",
        "\n",
        "criterion = WeighedLoss(weight=classW).to(device)\n",
        "epoch = 10\n",
        "epoch_num = 10\n",
        "best_val_acc = 0\n",
        "total_loss_val, total_acc_val = [],[]\n",
        "for epoch in range(1, epoch_num+1):\n",
        "    loss_train, acc_train = train(train_loader, modelVgg,criterion,  optimizer, epoch)\n",
        "    loss_val, acc_val = validate(val_loader, modelVgg, criterion, optimizer, epoch)\n",
        "    total_loss_val.append(loss_val)\n",
        "    total_acc_val.append(acc_val)\n",
        "    if acc_val > best_val_acc:\n",
        "        best_val_acc = acc_val\n",
        "        print('*****************************************************')\n",
        "        print('best record: [epoch %d], [val loss %.5f], [val acc %.5f]' % (epoch, loss_val, acc_val))\n",
        "        print('*****************************************************')"
      ]
    },
    {
      "cell_type": "code",
      "execution_count": null,
      "metadata": {
        "colab": {
          "base_uri": "https://localhost:8080/",
          "height": 311
        },
        "id": "eIMipbAvL-c7",
        "outputId": "d26979c5-3f62-43e9-95ca-91a93c9b71ee"
      },
      "outputs": [
        {
          "data": {
            "image/png": "[encoded data removed]",
            "text/plain": [
              "<Figure size 432x288 with 2 Axes>"
            ]
          },
          "metadata": {},
          "output_type": "display_data"
        }
      ],
      "source": [
        "modelVgg.eval()\n",
        "y_label = []\n",
        "y_predict = []\n",
        "with torch.no_grad():\n",
        "    for i, data in enumerate(val_loader):\n",
        "        images, labels = data\n",
        "        N = images.size(0)\n",
        "        images = Variable(images).to(device)\n",
        "        outputs = modelVgg(images)\n",
        "        prediction = outputs.max(1, keepdim=True)[1]\n",
        "        y_label.extend(labels.cpu().numpy())\n",
        "        y_predict.extend(np.squeeze(prediction.cpu().numpy().T))\n",
        "\n",
        "# compute the confusion matrix\n",
        "confusion_mtx = confusion_matrix(y_label, y_predict)\n",
        "# plot the confusion matrix\n",
        "plot_labels = ['akiec', 'bcc', 'bkl', 'df', 'nv', 'vasc','mel']\n",
        "plot_confusion_matrix(confusion_mtx, plot_labels)"
      ]
    },
    {
      "cell_type": "code",
      "execution_count": null,
      "metadata": {
        "colab": {
          "base_uri": "https://localhost:8080/",
          "height": 265
        },
        "id": "k53e4g5CM-Eh",
        "outputId": "a699a65e-c00c-431a-98b6-5fde3506e3ce"
      },
      "outputs": [
        {
          "data": {
            "image/png": "[encoded data removed]",
            "text/plain": [
              "<Figure size 432x288 with 2 Axes>"
            ]
          },
          "metadata": {},
          "output_type": "display_data"
        }
      ],
      "source": [
        "fig = plt.figure(num = 2)\n",
        "fig1 = fig.add_subplot(2,1,1)\n",
        "fig2 = fig.add_subplot(2,1,2)\n",
        "fig1.plot(total_loss_train, label = 'training loss')\n",
        "fig1.plot(total_acc_train, label = 'training accuracy')\n",
        "fig1.legend(loc='upper center', ncol=2)\n",
        "fig2.plot(total_loss_val, label = 'validation loss')\n",
        "fig2.plot(total_acc_val, label = 'validation accuracy')\n",
        "fig2.legend()\n",
        "plt.show()"
      ]
    },
    {
      "cell_type": "code",
      "execution_count": null,
      "metadata": {
        "colab": {
          "base_uri": "https://localhost:8080/"
        },
        "id": "5FuKJ3BXL-aS",
        "outputId": "3f5da14c-9c6f-4b5a-fc7b-dc83cd7cc7e2"
      },
      "outputs": [
        {
          "name": "stdout",
          "output_type": "stream",
          "text": [
            "              precision    recall  f1-score   support\n",
            "\n",
            "       akiec       0.00      0.00      0.00        30\n",
            "         bcc       0.00      0.00      0.00        35\n",
            "         bkl       0.17      0.01      0.02        88\n",
            "          df       0.00      0.00      0.00         8\n",
            "          nv       0.97      0.78      0.87       883\n",
            "        vasc       0.14      0.98      0.24        46\n",
            "         mel       0.00      0.00      0.00        13\n",
            "\n",
            "    accuracy                           0.67      1103\n",
            "   macro avg       0.18      0.25      0.16      1103\n",
            "weighted avg       0.80      0.67      0.71      1103\n",
            "\n"
          ]
        }
      ],
      "source": [
        "# Generate a classification report\n",
        "report = classification_report(y_label, y_predict, target_names=plot_labels)\n",
        "print(report)"
      ]
    },
    {
      "cell_type": "markdown",
      "metadata": {
        "id": "Ozv8y8LbMITY"
      },
      "source": [
        "### DEnsenet"
      ]
    },
    {
      "cell_type": "code",
      "execution_count": null,
      "metadata": {
        "colab": {
          "base_uri": "https://localhost:8080/"
        },
        "id": "FO-IktdTL-Xx",
        "outputId": "49de5453-f18a-4164-f18b-2954a561c9e7"
      },
      "outputs": [
        {
          "name": "stdout",
          "output_type": "stream",
          "text": [
            "[epoch 1], [iter 100 / 138], [train loss 1.71705], [train acc 0.50156]\n",
            "------------------------------------------------------------\n",
            "[epoch 1], [val loss 8.63972], [val acc 0.09655]\n",
            "------------------------------------------------------------\n",
            "*****************************************************\n",
            "best record: [epoch 1], [val loss 8.63972], [val acc 0.09655]\n",
            "*****************************************************\n",
            "[epoch 2], [iter 100 / 138], [train loss 1.64698], [train acc 0.56531]\n",
            "------------------------------------------------------------\n",
            "[epoch 2], [val loss 1.63732], [val acc 0.53625]\n",
            "------------------------------------------------------------\n",
            "*****************************************************\n",
            "best record: [epoch 2], [val loss 1.63732], [val acc 0.53625]\n",
            "*****************************************************\n",
            "[epoch 3], [iter 100 / 138], [train loss 1.56042], [train acc 0.54688]\n",
            "------------------------------------------------------------\n",
            "[epoch 3], [val loss 2.91947], [val acc 0.69964]\n",
            "------------------------------------------------------------\n",
            "*****************************************************\n",
            "best record: [epoch 3], [val loss 2.91947], [val acc 0.69964]\n",
            "*****************************************************\n",
            "[epoch 4], [iter 100 / 138], [train loss 1.54859], [train acc 0.52094]\n",
            "------------------------------------------------------------\n",
            "[epoch 4], [val loss 1.48773], [val acc 0.73982]\n",
            "------------------------------------------------------------\n",
            "*****************************************************\n",
            "best record: [epoch 4], [val loss 1.48773], [val acc 0.73982]\n",
            "*****************************************************\n",
            "[epoch 5], [iter 100 / 138], [train loss 1.62399], [train acc 0.53031]\n",
            "------------------------------------------------------------\n",
            "[epoch 5], [val loss 1.45768], [val acc 0.63845]\n",
            "------------------------------------------------------------\n",
            "[epoch 6], [iter 100 / 138], [train loss 1.48089], [train acc 0.55812]\n",
            "------------------------------------------------------------\n",
            "[epoch 6], [val loss 1.37475], [val acc 0.65399]\n",
            "------------------------------------------------------------\n",
            "[epoch 7], [iter 100 / 138], [train loss 1.44036], [train acc 0.56031]\n",
            "------------------------------------------------------------\n",
            "[epoch 7], [val loss 1.29320], [val acc 0.62274]\n",
            "------------------------------------------------------------\n",
            "[epoch 8], [iter 100 / 138], [train loss 1.31349], [train acc 0.56219]\n",
            "------------------------------------------------------------\n",
            "[epoch 8], [val loss 1.27868], [val acc 0.69952]\n",
            "------------------------------------------------------------\n",
            "[epoch 9], [iter 100 / 138], [train loss 1.35671], [train acc 0.55500]\n",
            "------------------------------------------------------------\n",
            "[epoch 9], [val loss 1.22874], [val acc 0.71560]\n",
            "------------------------------------------------------------\n",
            "[epoch 10], [iter 100 / 138], [train loss 1.34758], [train acc 0.60781]\n",
            "------------------------------------------------------------\n",
            "[epoch 10], [val loss 1.26852], [val acc 0.65464]\n",
            "------------------------------------------------------------\n"
          ]
        }
      ],
      "source": [
        "model_nameDen = 'densenet'\n",
        "# Initialize the model for this run\n",
        "model_ft3, input_size3 = initialize_model(model_nameDen, num_classes, feature_extract, use_pretrained=True)\n",
        "# Define the device:\n",
        "device = torch.device('cuda:0')\n",
        "# Put the model on the device:\n",
        "modelDen = model_ft3.to(device)\n",
        "\n",
        "\n",
        "###### training densnet \n",
        "criterion = WeighedLoss(weight=classW).to(device)\n",
        "optimizer = optim.Adam(modelDen.parameters(), lr=1e-3)\n",
        "total_loss_train, total_acc_train = [],[]\n",
        "\n",
        "epoch_num = 10\n",
        "best_val_acc = 0\n",
        "total_loss_val, total_acc_val = [],[]\n",
        "for epoch in range(1, epoch_num+1):\n",
        "    loss_train, acc_train = train(train_loader, modelDen, criterion, optimizer, epoch)\n",
        "    loss_val, acc_val = validate(val_loader, modelDen, criterion, optimizer, epoch)\n",
        "    total_loss_val.append(loss_val)\n",
        "    total_acc_val.append(acc_val)\n",
        "    if acc_val > best_val_acc:\n",
        "        best_val_acc = acc_val\n",
        "        print('*****************************************************')\n",
        "        print('best record: [epoch %d], [val loss %.5f], [val acc %.5f]' % (epoch, loss_val, acc_val))\n",
        "        print('*****************************************************')"
      ]
    },
    {
      "cell_type": "code",
      "execution_count": null,
      "metadata": {
        "colab": {
          "base_uri": "https://localhost:8080/",
          "height": 311
        },
        "id": "Lm3znftoMkbu",
        "outputId": "d8a52653-f3cf-41bd-a08b-1852cc24f4ed"
      },
      "outputs": [
        {
          "data": {
            "image/png": "[encoded data removed]",
            "text/plain": [
              "<Figure size 432x288 with 2 Axes>"
            ]
          },
          "metadata": {},
          "output_type": "display_data"
        }
      ],
      "source": [
        "modelDen.eval()\n",
        "y_label = []\n",
        "y_predict = []\n",
        "with torch.no_grad():\n",
        "    for i, data in enumerate(val_loader):\n",
        "        images, labels = data\n",
        "        N = images.size(0)\n",
        "        images = Variable(images).to(device)\n",
        "        outputs = modelDen(images)\n",
        "        prediction = outputs.max(1, keepdim=True)[1]\n",
        "        y_label.extend(labels.cpu().numpy())\n",
        "        y_predict.extend(np.squeeze(prediction.cpu().numpy().T))\n",
        "\n",
        "# compute the confusion matrix\n",
        "confusion_mtx = confusion_matrix(y_label, y_predict)\n",
        "# plot the confusion matrix\n",
        "plot_labels = ['akiec', 'bcc', 'bkl', 'df', 'nv', 'vasc','mel']\n",
        "plot_confusion_matrix(confusion_mtx, plot_labels)"
      ]
    },
    {
      "cell_type": "code",
      "execution_count": null,
      "metadata": {
        "colab": {
          "base_uri": "https://localhost:8080/",
          "height": 265
        },
        "id": "1RJQ1fFGL-UW",
        "outputId": "a19b295f-a31d-4c0b-f288-409bed6c36e1"
      },
      "outputs": [
        {
          "data": {
            "image/png": "[encoded data removed]",
            "text/plain": [
              "<Figure size 432x288 with 2 Axes>"
            ]
          },
          "metadata": {},
          "output_type": "display_data"
        }
      ],
      "source": [
        "fig = plt.figure(num = 2)\n",
        "fig1 = fig.add_subplot(2,1,1)\n",
        "fig2 = fig.add_subplot(2,1,2)\n",
        "fig1.plot(total_loss_train, label = 'training loss')\n",
        "fig1.plot(total_acc_train, label = 'training accuracy')\n",
        "fig1.legend(loc='upper center', ncol=2)\n",
        "fig2.plot(total_loss_val, label = 'validation loss')\n",
        "fig2.plot(total_acc_val, label = 'validation accuracy')\n",
        "fig2.legend()\n",
        "plt.show()"
      ]
    },
    {
      "cell_type": "code",
      "execution_count": null,
      "metadata": {
        "colab": {
          "base_uri": "https://localhost:8080/"
        },
        "id": "mGJjyzpUMc6y",
        "outputId": "2b62f02a-595c-4c39-bdeb-3b5ae2c915eb"
      },
      "outputs": [
        {
          "name": "stdout",
          "output_type": "stream",
          "text": [
            "              precision    recall  f1-score   support\n",
            "\n",
            "       akiec       0.27      0.50      0.35        30\n",
            "         bcc       0.32      0.43      0.37        35\n",
            "         bkl       0.33      0.35      0.34        88\n",
            "          df       0.11      0.62      0.18         8\n",
            "          nv       0.99      0.70      0.82       883\n",
            "        vasc       0.21      0.67      0.32        46\n",
            "         mel       0.11      0.77      0.19        13\n",
            "\n",
            "    accuracy                           0.66      1103\n",
            "   macro avg       0.33      0.58      0.37      1103\n",
            "weighted avg       0.85      0.66      0.72      1103\n",
            "\n"
          ]
        }
      ],
      "source": [
        "# Generate a classification report\n",
        "report = classification_report(y_label, y_predict, target_names=plot_labels)\n",
        "print(report)"
      ]
    },
    {
      "cell_type": "markdown",
      "metadata": {
        "id": "f9hs4pq5NW0F"
      },
      "source": [
        "### Intercept"
      ]
    },
    {
      "cell_type": "code",
      "execution_count": null,
      "metadata": {
        "colab": {
          "base_uri": "https://localhost:8080/"
        },
        "id": "04JvA16xMb-x",
        "outputId": "98e24bbc-02fc-465c-c6af-8c6839d1ee4d"
      },
      "outputs": [
        {
          "name": "stdout",
          "output_type": "stream",
          "text": [
            "[epoch 1], [iter 100 / 138], [train loss 1.92690], [train acc 0.36219]\n",
            "------------------------------------------------------------\n",
            "[epoch 1], [val loss 1.70163], [val acc 0.79083]\n",
            "------------------------------------------------------------\n",
            "*****************************************************\n",
            "best record: [epoch 1], [val loss 1.70163], [val acc 0.79083]\n",
            "*****************************************************\n",
            "[epoch 2], [iter 100 / 138], [train loss 2.03810], [train acc 0.57563]\n",
            "------------------------------------------------------------\n",
            "[epoch 2], [val loss 4.56217], [val acc 0.71304]\n",
            "------------------------------------------------------------\n",
            "[epoch 3], [iter 100 / 138], [train loss 2.02492], [train acc 0.75531]\n",
            "------------------------------------------------------------\n",
            "[epoch 3], [val loss 1.93497], [val acc 0.80167]\n",
            "------------------------------------------------------------\n",
            "*****************************************************\n",
            "best record: [epoch 3], [val loss 1.93497], [val acc 0.80167]\n",
            "*****************************************************\n",
            "[epoch 4], [iter 100 / 138], [train loss 2.00724], [train acc 0.48594]\n",
            "------------------------------------------------------------\n",
            "[epoch 4], [val loss 1.92089], [val acc 0.80256]\n",
            "------------------------------------------------------------\n",
            "*****************************************************\n",
            "best record: [epoch 4], [val loss 1.92089], [val acc 0.80256]\n",
            "*****************************************************\n",
            "[epoch 5], [iter 100 / 138], [train loss 2.10699], [train acc 0.28781]\n",
            "------------------------------------------------------------\n",
            "[epoch 5], [val loss 1.89222], [val acc 0.76506]\n",
            "------------------------------------------------------------\n",
            "[epoch 6], [iter 100 / 138], [train loss 1.94557], [train acc 0.29344]\n",
            "------------------------------------------------------------\n",
            "[epoch 6], [val loss 2.11187], [val acc 0.71137]\n",
            "------------------------------------------------------------\n",
            "[epoch 7], [iter 100 / 138], [train loss 1.96749], [train acc 0.44688]\n",
            "------------------------------------------------------------\n",
            "[epoch 7], [val loss 1.89114], [val acc 0.08137]\n",
            "------------------------------------------------------------\n",
            "[epoch 8], [iter 100 / 138], [train loss 1.86879], [train acc 0.18344]\n",
            "------------------------------------------------------------\n",
            "[epoch 8], [val loss 1.83800], [val acc 0.08673]\n",
            "------------------------------------------------------------\n",
            "[epoch 9], [iter 100 / 138], [train loss 1.91148], [train acc 0.18875]\n",
            "------------------------------------------------------------\n",
            "[epoch 9], [val loss 1.94128], [val acc 0.15113]\n",
            "------------------------------------------------------------\n",
            "[epoch 10], [iter 100 / 138], [train loss 1.96949], [train acc 0.28625]\n",
            "------------------------------------------------------------\n",
            "[epoch 10], [val loss 1.92535], [val acc 0.08774]\n",
            "------------------------------------------------------------\n"
          ]
        }
      ],
      "source": [
        "model_nameI = 'inception'\n",
        "# Initialize the model for this run\n",
        "num_classes = 7\n",
        "feature_extract = False\n",
        "model_ft3, input_size = initialize_model(model_nameI,num_classes, feature_extract, use_pretrained=True)\n",
        "# Define the device:\n",
        "device = torch.device('cuda:0')\n",
        "# Put the model on the device:\n",
        "modelI = model_ft3.to(device)\n",
        "\n",
        "\n",
        "###### training densnet \n",
        "\n",
        "optimizer = optim.Adam(modelI.parameters(), lr=1e-3)\n",
        "criterion = WeighedLoss(weight=classW).to(device)\n",
        "\n",
        "total_loss_train, total_acc_train = [],[]\n",
        "\n",
        "epoch_num = 10\n",
        "best_val_acc = 0\n",
        "total_loss_val, total_acc_val = [],[]\n",
        "for epoch in range(1, epoch_num+1):\n",
        "    loss_train, acc_train = train(train_loader, modelI, criterion, optimizer, epoch)\n",
        "    loss_val, acc_val = validate(val_loader, modelI, criterion, optimizer, epoch)\n",
        "    total_loss_val.append(loss_val)\n",
        "    total_acc_val.append(acc_val)\n",
        "    if acc_val > best_val_acc:\n",
        "        best_val_acc = acc_val\n",
        "        print('*****************************************************')\n",
        "        print('best record: [epoch %d], [val loss %.5f], [val acc %.5f]' % (epoch, loss_val, acc_val))\n",
        "        print('*****************************************************')"
      ]
    },
    {
      "cell_type": "code",
      "execution_count": null,
      "metadata": {
        "colab": {
          "base_uri": "https://localhost:8080/",
          "height": 311
        },
        "id": "XnOaYkgIMc4W",
        "outputId": "ffd170d5-eb2c-49e9-b5af-92e5d7b0f357"
      },
      "outputs": [
        {
          "data": {
            "image/png": "[encoded data removed]",
            "text/plain": [
              "<Figure size 432x288 with 2 Axes>"
            ]
          },
          "metadata": {},
          "output_type": "display_data"
        }
      ],
      "source": [
        "modelI.eval()\n",
        "y_label = []\n",
        "y_predict = []\n",
        "with torch.no_grad():\n",
        "    for i, data in enumerate(val_loader):\n",
        "        images, labels = data\n",
        "        N = images.size(0)\n",
        "        images = Variable(images).to(device)\n",
        "        outputs = modelI(images)\n",
        "        prediction = outputs.max(1, keepdim=True)[1]\n",
        "        y_label.extend(labels.cpu().numpy())\n",
        "        y_predict.extend(np.squeeze(prediction.cpu().numpy().T))\n",
        "\n",
        "# compute the confusion matrix\n",
        "confusion_mtx = confusion_matrix(y_label, y_predict)\n",
        "# plot the confusion matrix\n",
        "plot_labels = ['akiec', 'bcc', 'bkl', 'df', 'nv', 'vasc','mel']\n",
        "plot_confusion_matrix(confusion_mtx, plot_labels)"
      ]
    },
    {
      "cell_type": "code",
      "execution_count": null,
      "metadata": {
        "colab": {
          "base_uri": "https://localhost:8080/",
          "height": 265
        },
        "id": "nZ0jceV_Mc2K",
        "outputId": "bdb4f3dd-a624-4123-8568-632b91aaa685"
      },
      "outputs": [
        {
          "data": {
            "image/png": "[encoded data removed]",
            "text/plain": [
              "<Figure size 432x288 with 2 Axes>"
            ]
          },
          "metadata": {},
          "output_type": "display_data"
        }
      ],
      "source": [
        "fig = plt.figure(num = 2)\n",
        "fig1 = fig.add_subplot(2,1,1)\n",
        "fig2 = fig.add_subplot(2,1,2)\n",
        "fig1.plot(total_loss_train, label = 'training loss')\n",
        "fig1.plot(total_acc_train, label = 'training accuracy')\n",
        "fig1.legend(loc='upper center', ncol=2)\n",
        "fig2.plot(total_loss_val, label = 'validation loss')\n",
        "fig2.plot(total_acc_val, label = 'validation accuracy')\n",
        "fig2.legend()\n",
        "plt.show()"
      ]
    },
    {
      "cell_type": "code",
      "execution_count": null,
      "metadata": {
        "colab": {
          "base_uri": "https://localhost:8080/"
        },
        "id": "AntvPbVvMcz4",
        "outputId": "1a2b0e02-e2d8-4f69-e2f1-9e97c5e4964b"
      },
      "outputs": [
        {
          "name": "stdout",
          "output_type": "stream",
          "text": [
            "              precision    recall  f1-score   support\n",
            "\n",
            "       akiec       0.00      0.00      0.00        30\n",
            "         bcc       0.00      0.00      0.00        35\n",
            "         bkl       0.08      1.00      0.15        88\n",
            "          df       0.00      0.00      0.00         8\n",
            "          nv       0.73      0.01      0.02       883\n",
            "        vasc       0.00      0.00      0.00        46\n",
            "         mel       0.00      0.00      0.00        13\n",
            "\n",
            "    accuracy                           0.09      1103\n",
            "   macro avg       0.12      0.14      0.02      1103\n",
            "weighted avg       0.59      0.09      0.03      1103\n",
            "\n"
          ]
        }
      ],
      "source": [
        "report = classification_report(y_label, y_predict, target_names=plot_labels)\n",
        "print(report)"
      ]
    },
    {
      "cell_type": "markdown",
      "metadata": {
        "id": "vmWkAzCxNsj2"
      },
      "source": [
        "### Mobilenet"
      ]
    },
    {
      "cell_type": "code",
      "execution_count": null,
      "metadata": {
        "colab": {
          "base_uri": "https://localhost:8080/",
          "height": 485,
          "referenced_widgets": [
            "e83ba06b81ec4d6b8798f615cdd1072c",
            "27d8cb66d5394833a383f7ddfec8e5f8",
            "d0b035fd36cb442aa3253fc51147f8aa",
            "5b1466ce5e7a44a18948b3c354e14489",
            "844d46015609425d9ab90295fb39e8eb",
            "3b6577c7117e488092ddae5be575fade",
            "4cb26005194d46029061a62ef32e8163",
            "8adf7d8c50124ad8a938346006a46a1e",
            "4da48f01884a4708a95365ccf8da4dcc",
            "3c7453bde2fc4e42b0350b29aa8771a7",
            "ae2acf0d920d46f0acfc8b462725da18"
          ]
        },
        "id": "kEcKc_J6McwW",
        "outputId": "76eabd23-0140-4a2e-8bc8-b77413a89b96"
      },
      "outputs": [
        {
          "name": "stderr",
          "output_type": "stream",
          "text": [
            "Downloading: \"https://download.pytorch.org/models/mobilenet_v3_small-047dcff4.pth\" to /root/.cache/torch/hub/checkpoints/mobilenet_v3_small-047dcff4.pth\n"
          ]
        },
        {
          "data": {
            "application/vnd.jupyter.widget-view+json": {
              "model_id": "e83ba06b81ec4d6b8798f615cdd1072c",
              "version_major": 2,
              "version_minor": 0
            },
            "text/plain": [
              "  0%|          | 0.00/9.83M [00:00<?, ?B/s]"
            ]
          },
          "metadata": {},
          "output_type": "display_data"
        },
        {
          "ename": "RuntimeError",
          "evalue": "ignored",
          "output_type": "error",
          "traceback": [
            "\u001b[0;31m---------------------------------------------------------------------------\u001b[0m",
            "\u001b[0;31mRuntimeError\u001b[0m                              Traceback (most recent call last)",
            "\u001b[0;32m<ipython-input-58-ceb89b453a68>\u001b[0m in \u001b[0;36m<module>\u001b[0;34m()\u001b[0m\n\u001b[1;32m     20\u001b[0m \u001b[0mtotal_loss_val\u001b[0m\u001b[0;34m,\u001b[0m \u001b[0mtotal_acc_val\u001b[0m \u001b[0;34m=\u001b[0m \u001b[0;34m[\u001b[0m\u001b[0;34m]\u001b[0m\u001b[0;34m,\u001b[0m\u001b[0;34m[\u001b[0m\u001b[0;34m]\u001b[0m\u001b[0;34m\u001b[0m\u001b[0;34m\u001b[0m\u001b[0m\n\u001b[1;32m     21\u001b[0m \u001b[0;32mfor\u001b[0m \u001b[0mepoch\u001b[0m \u001b[0;32min\u001b[0m \u001b[0mrange\u001b[0m\u001b[0;34m(\u001b[0m\u001b[0;36m1\u001b[0m\u001b[0;34m,\u001b[0m \u001b[0mepoch_num\u001b[0m\u001b[0;34m+\u001b[0m\u001b[0;36m1\u001b[0m\u001b[0;34m)\u001b[0m\u001b[0;34m:\u001b[0m\u001b[0;34m\u001b[0m\u001b[0;34m\u001b[0m\u001b[0m\n\u001b[0;32m---> 22\u001b[0;31m     \u001b[0mloss_train\u001b[0m\u001b[0;34m,\u001b[0m \u001b[0macc_train\u001b[0m \u001b[0;34m=\u001b[0m \u001b[0mtrain\u001b[0m\u001b[0;34m(\u001b[0m\u001b[0mtrain_loader\u001b[0m\u001b[0;34m,\u001b[0m \u001b[0mmodelM\u001b[0m\u001b[0;34m,\u001b[0m \u001b[0mcriterion\u001b[0m\u001b[0;34m,\u001b[0m \u001b[0moptimizer\u001b[0m\u001b[0;34m,\u001b[0m \u001b[0mepoch\u001b[0m\u001b[0;34m)\u001b[0m\u001b[0;34m\u001b[0m\u001b[0;34m\u001b[0m\u001b[0m\n\u001b[0m\u001b[1;32m     23\u001b[0m     \u001b[0mloss_val\u001b[0m\u001b[0;34m,\u001b[0m \u001b[0macc_val\u001b[0m \u001b[0;34m=\u001b[0m \u001b[0mvalidate\u001b[0m\u001b[0;34m(\u001b[0m\u001b[0mval_loader\u001b[0m\u001b[0;34m,\u001b[0m \u001b[0mmodelM\u001b[0m\u001b[0;34m,\u001b[0m \u001b[0mcriterion\u001b[0m\u001b[0;34m,\u001b[0m \u001b[0moptimizer\u001b[0m\u001b[0;34m,\u001b[0m \u001b[0mepoch\u001b[0m\u001b[0;34m)\u001b[0m\u001b[0;34m\u001b[0m\u001b[0;34m\u001b[0m\u001b[0m\n\u001b[1;32m     24\u001b[0m     \u001b[0mtotal_loss_val\u001b[0m\u001b[0;34m.\u001b[0m\u001b[0mappend\u001b[0m\u001b[0;34m(\u001b[0m\u001b[0mloss_val\u001b[0m\u001b[0;34m)\u001b[0m\u001b[0;34m\u001b[0m\u001b[0;34m\u001b[0m\u001b[0m\n",
            "\u001b[0;32m<ipython-input-32-d6eba51dcd3d>\u001b[0m in \u001b[0;36mtrain\u001b[0;34m(train_loader, model, criterion, optimizer, epoch)\u001b[0m\n\u001b[1;32m     14\u001b[0m         \u001b[0moptimizer\u001b[0m\u001b[0;34m.\u001b[0m\u001b[0mzero_grad\u001b[0m\u001b[0;34m(\u001b[0m\u001b[0;34m)\u001b[0m\u001b[0;34m\u001b[0m\u001b[0;34m\u001b[0m\u001b[0m\n\u001b[1;32m     15\u001b[0m         \u001b[0moutputs\u001b[0m \u001b[0;34m=\u001b[0m \u001b[0mmodel\u001b[0m\u001b[0;34m(\u001b[0m\u001b[0mimages\u001b[0m\u001b[0;34m)\u001b[0m\u001b[0;34m\u001b[0m\u001b[0;34m\u001b[0m\u001b[0m\n\u001b[0;32m---> 16\u001b[0;31m         \u001b[0mloss\u001b[0m \u001b[0;34m=\u001b[0m \u001b[0mcriterion\u001b[0m\u001b[0;34m(\u001b[0m\u001b[0moutputs\u001b[0m\u001b[0;34m,\u001b[0m \u001b[0mlabels\u001b[0m\u001b[0;34m)\u001b[0m\u001b[0;34m\u001b[0m\u001b[0;34m\u001b[0m\u001b[0m\n\u001b[0m\u001b[1;32m     17\u001b[0m         \u001b[0mloss\u001b[0m\u001b[0;34m.\u001b[0m\u001b[0mbackward\u001b[0m\u001b[0;34m(\u001b[0m\u001b[0;34m)\u001b[0m\u001b[0;34m\u001b[0m\u001b[0;34m\u001b[0m\u001b[0m\n\u001b[1;32m     18\u001b[0m         \u001b[0moptimizer\u001b[0m\u001b[0;34m.\u001b[0m\u001b[0mstep\u001b[0m\u001b[0;34m(\u001b[0m\u001b[0;34m)\u001b[0m\u001b[0;34m\u001b[0m\u001b[0;34m\u001b[0m\u001b[0m\n",
            "\u001b[0;32m/usr/local/lib/python3.7/dist-packages/torch/nn/modules/module.py\u001b[0m in \u001b[0;36m_call_impl\u001b[0;34m(self, *input, **kwargs)\u001b[0m\n\u001b[1;32m   1100\u001b[0m         if not (self._backward_hooks or self._forward_hooks or self._forward_pre_hooks or _global_backward_hooks\n\u001b[1;32m   1101\u001b[0m                 or _global_forward_hooks or _global_forward_pre_hooks):\n\u001b[0;32m-> 1102\u001b[0;31m             \u001b[0;32mreturn\u001b[0m \u001b[0mforward_call\u001b[0m\u001b[0;34m(\u001b[0m\u001b[0;34m*\u001b[0m\u001b[0minput\u001b[0m\u001b[0;34m,\u001b[0m \u001b[0;34m**\u001b[0m\u001b[0mkwargs\u001b[0m\u001b[0;34m)\u001b[0m\u001b[0;34m\u001b[0m\u001b[0;34m\u001b[0m\u001b[0m\n\u001b[0m\u001b[1;32m   1103\u001b[0m         \u001b[0;31m# Do not call functions when jit is used\u001b[0m\u001b[0;34m\u001b[0m\u001b[0;34m\u001b[0m\u001b[0;34m\u001b[0m\u001b[0m\n\u001b[1;32m   1104\u001b[0m         \u001b[0mfull_backward_hooks\u001b[0m\u001b[0;34m,\u001b[0m \u001b[0mnon_full_backward_hooks\u001b[0m \u001b[0;34m=\u001b[0m \u001b[0;34m[\u001b[0m\u001b[0;34m]\u001b[0m\u001b[0;34m,\u001b[0m \u001b[0;34m[\u001b[0m\u001b[0;34m]\u001b[0m\u001b[0;34m\u001b[0m\u001b[0;34m\u001b[0m\u001b[0m\n",
            "\u001b[0;32m<ipython-input-35-c19bed54b0e3>\u001b[0m in \u001b[0;36mforward\u001b[0;34m(self, input, target)\u001b[0m\n\u001b[1;32m      9\u001b[0m \u001b[0;34m\u001b[0m\u001b[0m\n\u001b[1;32m     10\u001b[0m     \u001b[0;32mdef\u001b[0m \u001b[0mforward\u001b[0m\u001b[0;34m(\u001b[0m\u001b[0mself\u001b[0m\u001b[0;34m,\u001b[0m \u001b[0minput\u001b[0m\u001b[0;34m,\u001b[0m \u001b[0mtarget\u001b[0m\u001b[0;34m)\u001b[0m\u001b[0;34m:\u001b[0m\u001b[0;34m\u001b[0m\u001b[0;34m\u001b[0m\u001b[0m\n\u001b[0;32m---> 11\u001b[0;31m         \u001b[0mce_loss\u001b[0m \u001b[0;34m=\u001b[0m \u001b[0mF\u001b[0m\u001b[0;34m.\u001b[0m\u001b[0mcross_entropy\u001b[0m\u001b[0;34m(\u001b[0m\u001b[0minput\u001b[0m\u001b[0;34m,\u001b[0m \u001b[0mtarget\u001b[0m\u001b[0;34m,\u001b[0m\u001b[0mweight\u001b[0m\u001b[0;34m=\u001b[0m\u001b[0mself\u001b[0m\u001b[0;34m.\u001b[0m\u001b[0mweight\u001b[0m\u001b[0;34m,\u001b[0m \u001b[0msize_average\u001b[0m\u001b[0;34m=\u001b[0m\u001b[0;32mTrue\u001b[0m\u001b[0;34m)\u001b[0m\u001b[0;34m\u001b[0m\u001b[0;34m\u001b[0m\u001b[0m\n\u001b[0m\u001b[1;32m     12\u001b[0m \u001b[0;34m\u001b[0m\u001b[0m\n\u001b[1;32m     13\u001b[0m         \u001b[0;32mreturn\u001b[0m \u001b[0mce_loss\u001b[0m\u001b[0;34m\u001b[0m\u001b[0;34m\u001b[0m\u001b[0m\n",
            "\u001b[0;32m/usr/local/lib/python3.7/dist-packages/torch/nn/functional.py\u001b[0m in \u001b[0;36mcross_entropy\u001b[0;34m(input, target, weight, size_average, ignore_index, reduce, reduction, label_smoothing)\u001b[0m\n\u001b[1;32m   2844\u001b[0m     \u001b[0;32mif\u001b[0m \u001b[0msize_average\u001b[0m \u001b[0;32mis\u001b[0m \u001b[0;32mnot\u001b[0m \u001b[0;32mNone\u001b[0m \u001b[0;32mor\u001b[0m \u001b[0mreduce\u001b[0m \u001b[0;32mis\u001b[0m \u001b[0;32mnot\u001b[0m \u001b[0;32mNone\u001b[0m\u001b[0;34m:\u001b[0m\u001b[0;34m\u001b[0m\u001b[0;34m\u001b[0m\u001b[0m\n\u001b[1;32m   2845\u001b[0m         \u001b[0mreduction\u001b[0m \u001b[0;34m=\u001b[0m \u001b[0m_Reduction\u001b[0m\u001b[0;34m.\u001b[0m\u001b[0mlegacy_get_string\u001b[0m\u001b[0;34m(\u001b[0m\u001b[0msize_average\u001b[0m\u001b[0;34m,\u001b[0m \u001b[0mreduce\u001b[0m\u001b[0;34m)\u001b[0m\u001b[0;34m\u001b[0m\u001b[0;34m\u001b[0m\u001b[0m\n\u001b[0;32m-> 2846\u001b[0;31m     \u001b[0;32mreturn\u001b[0m \u001b[0mtorch\u001b[0m\u001b[0;34m.\u001b[0m\u001b[0m_C\u001b[0m\u001b[0;34m.\u001b[0m\u001b[0m_nn\u001b[0m\u001b[0;34m.\u001b[0m\u001b[0mcross_entropy_loss\u001b[0m\u001b[0;34m(\u001b[0m\u001b[0minput\u001b[0m\u001b[0;34m,\u001b[0m \u001b[0mtarget\u001b[0m\u001b[0;34m,\u001b[0m \u001b[0mweight\u001b[0m\u001b[0;34m,\u001b[0m \u001b[0m_Reduction\u001b[0m\u001b[0;34m.\u001b[0m\u001b[0mget_enum\u001b[0m\u001b[0;34m(\u001b[0m\u001b[0mreduction\u001b[0m\u001b[0;34m)\u001b[0m\u001b[0;34m,\u001b[0m \u001b[0mignore_index\u001b[0m\u001b[0;34m,\u001b[0m \u001b[0mlabel_smoothing\u001b[0m\u001b[0;34m)\u001b[0m\u001b[0;34m\u001b[0m\u001b[0;34m\u001b[0m\u001b[0m\n\u001b[0m\u001b[1;32m   2847\u001b[0m \u001b[0;34m\u001b[0m\u001b[0m\n\u001b[1;32m   2848\u001b[0m \u001b[0;34m\u001b[0m\u001b[0m\n",
            "\u001b[0;31mRuntimeError\u001b[0m: weight tensor should be defined either for all 1000 classes or no classes but got weight tensor of shape: [7]"
          ]
        }
      ],
      "source": [
        "# model mobilenet\n",
        "model_nameM = 'mobilenet'\n",
        "# Initialize the model for this run\n",
        "model_ft5, input_size5 = initialize_model(model_nameM, num_classes, feature_extract, use_pretrained=True)\n",
        "# Define the device:\n",
        "device = torch.device('cuda:0')\n",
        "# Put the model on the device:\n",
        "modelM = model_ft5.to(device)\n",
        "\n",
        "\n",
        "###### training mobilenet\n",
        "\n",
        "optimizer = optim.Adam(modelM.parameters(), lr=1e-3)\n",
        "criterion = WeighedLoss(weight=classW).to(device)\n",
        "\n",
        "total_loss_train, total_acc_train = [],[]\n",
        "\n",
        "epoch_num = 10\n",
        "best_val_acc = 0\n",
        "total_loss_val, total_acc_val = [],[]\n",
        "for epoch in range(1, epoch_num+1):\n",
        "    loss_train, acc_train = train(train_loader, modelM, criterion, optimizer, epoch)\n",
        "    loss_val, acc_val = validate(val_loader, modelM, criterion, optimizer, epoch)\n",
        "    total_loss_val.append(loss_val)\n",
        "    total_acc_val.append(acc_val)\n",
        "    if acc_val > best_val_acc:\n",
        "        best_val_acc = acc_val\n",
        "        print('*****************************************************')\n",
        "        print('best record: [epoch %d], [val loss %.5f], [val acc %.5f]' % (epoch, loss_val, acc_val))\n",
        "        print('*****************************************************')"
      ]
    },
    {
      "cell_type": "code",
      "execution_count": null,
      "metadata": {
        "id": "3V9F_hopP4tw"
      },
      "outputs": [],
      "source": [
        "modelM.eval()\n",
        "y_label = []\n",
        "y_predict = []\n",
        "with torch.no_grad():\n",
        "    for i, data in enumerate(val_loader):\n",
        "        images, labels = data\n",
        "        N = images.size(0)\n",
        "        images = Variable(images).to(device)\n",
        "        outputs = modelM(images)\n",
        "        prediction = outputs.max(1, keepdim=True)[1]\n",
        "        y_label.extend(labels.cpu().numpy())\n",
        "        y_predict.extend(np.squeeze(prediction.cpu().numpy().T))\n",
        "\n",
        "# compute the confusion matrix\n",
        "confusion_mtx = confusion_matrix(y_label, y_predict)\n",
        "# plot the confusion matrix\n",
        "plot_labels = ['akiec', 'bcc', 'bkl', 'df', 'nv', 'vasc','mel']\n",
        "plot_confusion_matrix(confusion_mtx, plot_labels)"
      ]
    },
    {
      "cell_type": "code",
      "execution_count": null,
      "metadata": {
        "id": "Ju7AVa-HP4rS"
      },
      "outputs": [],
      "source": [
        "fig = plt.figure(num = 2)\n",
        "fig1 = fig.add_subplot(2,1,1)\n",
        "fig2 = fig.add_subplot(2,1,2)\n",
        "fig1.plot(total_loss_train, label = 'training loss')\n",
        "fig1.plot(total_acc_train, label = 'training accuracy')\n",
        "fig1.legend(loc='upper center', ncol=2)\n",
        "fig2.plot(total_loss_val, label = 'validation loss')\n",
        "fig2.plot(total_acc_val, label = 'validation accuracy')\n",
        "fig2.legend()\n",
        "plt.show()"
      ]
    },
    {
      "cell_type": "code",
      "execution_count": null,
      "metadata": {
        "id": "VgDsID9OP4oe"
      },
      "outputs": [],
      "source": [
        "report = classification_report(y_label, y_predict, target_names=plot_labels)\n",
        "print(report)"
      ]
    },
    {
      "cell_type": "code",
      "execution_count": null,
      "metadata": {
        "id": "lycP6KBSP4l5"
      },
      "outputs": [],
      "source": [
        ""
      ]
    },
    {
      "cell_type": "code",
      "execution_count": null,
      "metadata": {
        "id": "n4kTTF2OP4ja"
      },
      "outputs": [],
      "source": [
        ""
      ]
    },
    {
      "cell_type": "code",
      "execution_count": null,
      "metadata": {
        "id": "sLHcXSK3P4f8"
      },
      "outputs": [],
      "source": [
        ""
      ]
    },
    {
      "cell_type": "code",
      "execution_count": null,
      "metadata": {
        "id": "PSSAvZNgP4a9"
      },
      "outputs": [],
      "source": [
        ""
      ]
    }
  ],
  "metadata": {
    "accelerator": "GPU",
    "colab": {
      "collapsed_sections": [
        "exSQgbmMO6cE",
        "YtyxcFr1Kym8"
      ],
      "machine_shape": "hm",
      "name": "part 2 Oversampling, Balanced sampling and weighted loss ProjectModelsEvaluation.ipynb",
      "provenance": []
    },
    "kernelspec": {
      "display_name": "Python 3",
      "name": "python3"
    },
    "language_info": {
      "name": "python"
    },
    "widgets": {
      "application/vnd.jupyter.widget-state+json": {
        "0c7acd6b827a451091b9927598bfe483": {
          "model_module": "@jupyter-widgets/controls",
          "model_module_version": "1.5.0",
          "model_name": "DescriptionStyleModel",
          "state": {
            "_model_module": "@jupyter-widgets/controls",
            "_model_module_version": "1.5.0",
            "_model_name": "DescriptionStyleModel",
            "_view_count": null,
            "_view_module": "@jupyter-widgets/base",
            "_view_module_version": "1.2.0",
            "_view_name": "StyleView",
            "description_width": ""
          }
        },
        "27d8cb66d5394833a383f7ddfec8e5f8": {
          "model_module": "@jupyter-widgets/controls",
          "model_module_version": "1.5.0",
          "model_name": "HTMLModel",
          "state": {
            "_dom_classes": [],
            "_model_module": "@jupyter-widgets/controls",
            "_model_module_version": "1.5.0",
            "_model_name": "HTMLModel",
            "_view_count": null,
            "_view_module": "@jupyter-widgets/controls",
            "_view_module_version": "1.5.0",
            "_view_name": "HTMLView",
            "description": "",
            "description_tooltip": null,
            "layout": "IPY_MODEL_3b6577c7117e488092ddae5be575fade",
            "placeholder": "​",
            "style": "IPY_MODEL_4cb26005194d46029061a62ef32e8163",
            "value": "100%"
          }
        },
        "357682e111564d9ca82ca4403ffe7a4e": {
          "model_module": "@jupyter-widgets/base",
          "model_module_version": "1.2.0",
          "model_name": "LayoutModel",
          "state": {
            "_model_module": "@jupyter-widgets/base",
            "_model_module_version": "1.2.0",
            "_model_name": "LayoutModel",
            "_view_count": null,
            "_view_module": "@jupyter-widgets/base",
            "_view_module_version": "1.2.0",
            "_view_name": "LayoutView",
            "align_content": null,
            "align_items": null,
            "align_self": null,
            "border": null,
            "bottom": null,
            "display": null,
            "flex": null,
            "flex_flow": null,
            "grid_area": null,
            "grid_auto_columns": null,
            "grid_auto_flow": null,
            "grid_auto_rows": null,
            "grid_column": null,
            "grid_gap": null,
            "grid_row": null,
            "grid_template_areas": null,
            "grid_template_columns": null,
            "grid_template_rows": null,
            "height": null,
            "justify_content": null,
            "justify_items": null,
            "left": null,
            "margin": null,
            "max_height": null,
            "max_width": null,
            "min_height": null,
            "min_width": null,
            "object_fit": null,
            "object_position": null,
            "order": null,
            "overflow": null,
            "overflow_x": null,
            "overflow_y": null,
            "padding": null,
            "right": null,
            "top": null,
            "visibility": null,
            "width": null
          }
        },
        "35a5e730673a4f57bdd4d0025d4c1c4e": {
          "model_module": "@jupyter-widgets/controls",
          "model_module_version": "1.5.0",
          "model_name": "FloatProgressModel",
          "state": {
            "_dom_classes": [],
            "_model_module": "@jupyter-widgets/controls",
            "_model_module_version": "1.5.0",
            "_model_name": "FloatProgressModel",
            "_view_count": null,
            "_view_module": "@jupyter-widgets/controls",
            "_view_module_version": "1.5.0",
            "_view_name": "ProgressView",
            "bar_style": "success",
            "description": "",
            "description_tooltip": null,
            "layout": "IPY_MODEL_357682e111564d9ca82ca4403ffe7a4e",
            "max": 102530333,
            "min": 0,
            "orientation": "horizontal",
            "style": "IPY_MODEL_dbfc33ec613b44aeb58d4407c8d9b1bb",
            "value": 102530333
          }
        },
        "3b6577c7117e488092ddae5be575fade": {
          "model_module": "@jupyter-widgets/base",
          "model_module_version": "1.2.0",
          "model_name": "LayoutModel",
          "state": {
            "_model_module": "@jupyter-widgets/base",
            "_model_module_version": "1.2.0",
            "_model_name": "LayoutModel",
            "_view_count": null,
            "_view_module": "@jupyter-widgets/base",
            "_view_module_version": "1.2.0",
            "_view_name": "LayoutView",
            "align_content": null,
            "align_items": null,
            "align_self": null,
            "border": null,
            "bottom": null,
            "display": null,
            "flex": null,
            "flex_flow": null,
            "grid_area": null,
            "grid_auto_columns": null,
            "grid_auto_flow": null,
            "grid_auto_rows": null,
            "grid_column": null,
            "grid_gap": null,
            "grid_row": null,
            "grid_template_areas": null,
            "grid_template_columns": null,
            "grid_template_rows": null,
            "height": null,
            "justify_content": null,
            "justify_items": null,
            "left": null,
            "margin": null,
            "max_height": null,
            "max_width": null,
            "min_height": null,
            "min_width": null,
            "object_fit": null,
            "object_position": null,
            "order": null,
            "overflow": null,
            "overflow_x": null,
            "overflow_y": null,
            "padding": null,
            "right": null,
            "top": null,
            "visibility": null,
            "width": null
          }
        },
        "3c4670cf2c5342c4a353e8fa728ff870": {
          "model_module": "@jupyter-widgets/controls",
          "model_module_version": "1.5.0",
          "model_name": "DescriptionStyleModel",
          "state": {
            "_model_module": "@jupyter-widgets/controls",
            "_model_module_version": "1.5.0",
            "_model_name": "DescriptionStyleModel",
            "_view_count": null,
            "_view_module": "@jupyter-widgets/base",
            "_view_module_version": "1.2.0",
            "_view_name": "StyleView",
            "description_width": ""
          }
        },
        "3c7453bde2fc4e42b0350b29aa8771a7": {
          "model_module": "@jupyter-widgets/base",
          "model_module_version": "1.2.0",
          "model_name": "LayoutModel",
          "state": {
            "_model_module": "@jupyter-widgets/base",
            "_model_module_version": "1.2.0",
            "_model_name": "LayoutModel",
            "_view_count": null,
            "_view_module": "@jupyter-widgets/base",
            "_view_module_version": "1.2.0",
            "_view_name": "LayoutView",
            "align_content": null,
            "align_items": null,
            "align_self": null,
            "border": null,
            "bottom": null,
            "display": null,
            "flex": null,
            "flex_flow": null,
            "grid_area": null,
            "grid_auto_columns": null,
            "grid_auto_flow": null,
            "grid_auto_rows": null,
            "grid_column": null,
            "grid_gap": null,
            "grid_row": null,
            "grid_template_areas": null,
            "grid_template_columns": null,
            "grid_template_rows": null,
            "height": null,
            "justify_content": null,
            "justify_items": null,
            "left": null,
            "margin": null,
            "max_height": null,
            "max_width": null,
            "min_height": null,
            "min_width": null,
            "object_fit": null,
            "object_position": null,
            "order": null,
            "overflow": null,
            "overflow_x": null,
            "overflow_y": null,
            "padding": null,
            "right": null,
            "top": null,
            "visibility": null,
            "width": null
          }
        },
        "4cb26005194d46029061a62ef32e8163": {
          "model_module": "@jupyter-widgets/controls",
          "model_module_version": "1.5.0",
          "model_name": "DescriptionStyleModel",
          "state": {
            "_model_module": "@jupyter-widgets/controls",
            "_model_module_version": "1.5.0",
            "_model_name": "DescriptionStyleModel",
            "_view_count": null,
            "_view_module": "@jupyter-widgets/base",
            "_view_module_version": "1.2.0",
            "_view_name": "StyleView",
            "description_width": ""
          }
        },
        "4da48f01884a4708a95365ccf8da4dcc": {
          "model_module": "@jupyter-widgets/controls",
          "model_module_version": "1.5.0",
          "model_name": "ProgressStyleModel",
          "state": {
            "_model_module": "@jupyter-widgets/controls",
            "_model_module_version": "1.5.0",
            "_model_name": "ProgressStyleModel",
            "_view_count": null,
            "_view_module": "@jupyter-widgets/base",
            "_view_module_version": "1.2.0",
            "_view_name": "StyleView",
            "bar_color": null,
            "description_width": ""
          }
        },
        "5b1466ce5e7a44a18948b3c354e14489": {
          "model_module": "@jupyter-widgets/controls",
          "model_module_version": "1.5.0",
          "model_name": "HTMLModel",
          "state": {
            "_dom_classes": [],
            "_model_module": "@jupyter-widgets/controls",
            "_model_module_version": "1.5.0",
            "_model_name": "HTMLModel",
            "_view_count": null,
            "_view_module": "@jupyter-widgets/controls",
            "_view_module_version": "1.5.0",
            "_view_name": "HTMLView",
            "description": "",
            "description_tooltip": null,
            "layout": "IPY_MODEL_3c7453bde2fc4e42b0350b29aa8771a7",
            "placeholder": "​",
            "style": "IPY_MODEL_ae2acf0d920d46f0acfc8b462725da18",
            "value": " 9.83M/9.83M [00:00&lt;00:00, 44.1MB/s]"
          }
        },
        "844d46015609425d9ab90295fb39e8eb": {
          "model_module": "@jupyter-widgets/base",
          "model_module_version": "1.2.0",
          "model_name": "LayoutModel",
          "state": {
            "_model_module": "@jupyter-widgets/base",
            "_model_module_version": "1.2.0",
            "_model_name": "LayoutModel",
            "_view_count": null,
            "_view_module": "@jupyter-widgets/base",
            "_view_module_version": "1.2.0",
            "_view_name": "LayoutView",
            "align_content": null,
            "align_items": null,
            "align_self": null,
            "border": null,
            "bottom": null,
            "display": null,
            "flex": null,
            "flex_flow": null,
            "grid_area": null,
            "grid_auto_columns": null,
            "grid_auto_flow": null,
            "grid_auto_rows": null,
            "grid_column": null,
            "grid_gap": null,
            "grid_row": null,
            "grid_template_areas": null,
            "grid_template_columns": null,
            "grid_template_rows": null,
            "height": null,
            "justify_content": null,
            "justify_items": null,
            "left": null,
            "margin": null,
            "max_height": null,
            "max_width": null,
            "min_height": null,
            "min_width": null,
            "object_fit": null,
            "object_position": null,
            "order": null,
            "overflow": null,
            "overflow_x": null,
            "overflow_y": null,
            "padding": null,
            "right": null,
            "top": null,
            "visibility": null,
            "width": null
          }
        },
        "86a0ddf6aa01408c9bfa120799d7e538": {
          "model_module": "@jupyter-widgets/base",
          "model_module_version": "1.2.0",
          "model_name": "LayoutModel",
          "state": {
            "_model_module": "@jupyter-widgets/base",
            "_model_module_version": "1.2.0",
            "_model_name": "LayoutModel",
            "_view_count": null,
            "_view_module": "@jupyter-widgets/base",
            "_view_module_version": "1.2.0",
            "_view_name": "LayoutView",
            "align_content": null,
            "align_items": null,
            "align_self": null,
            "border": null,
            "bottom": null,
            "display": null,
            "flex": null,
            "flex_flow": null,
            "grid_area": null,
            "grid_auto_columns": null,
            "grid_auto_flow": null,
            "grid_auto_rows": null,
            "grid_column": null,
            "grid_gap": null,
            "grid_row": null,
            "grid_template_areas": null,
            "grid_template_columns": null,
            "grid_template_rows": null,
            "height": null,
            "justify_content": null,
            "justify_items": null,
            "left": null,
            "margin": null,
            "max_height": null,
            "max_width": null,
            "min_height": null,
            "min_width": null,
            "object_fit": null,
            "object_position": null,
            "order": null,
            "overflow": null,
            "overflow_x": null,
            "overflow_y": null,
            "padding": null,
            "right": null,
            "top": null,
            "visibility": null,
            "width": null
          }
        },
        "8adf7d8c50124ad8a938346006a46a1e": {
          "model_module": "@jupyter-widgets/base",
          "model_module_version": "1.2.0",
          "model_name": "LayoutModel",
          "state": {
            "_model_module": "@jupyter-widgets/base",
            "_model_module_version": "1.2.0",
            "_model_name": "LayoutModel",
            "_view_count": null,
            "_view_module": "@jupyter-widgets/base",
            "_view_module_version": "1.2.0",
            "_view_name": "LayoutView",
            "align_content": null,
            "align_items": null,
            "align_self": null,
            "border": null,
            "bottom": null,
            "display": null,
            "flex": null,
            "flex_flow": null,
            "grid_area": null,
            "grid_auto_columns": null,
            "grid_auto_flow": null,
            "grid_auto_rows": null,
            "grid_column": null,
            "grid_gap": null,
            "grid_row": null,
            "grid_template_areas": null,
            "grid_template_columns": null,
            "grid_template_rows": null,
            "height": null,
            "justify_content": null,
            "justify_items": null,
            "left": null,
            "margin": null,
            "max_height": null,
            "max_width": null,
            "min_height": null,
            "min_width": null,
            "object_fit": null,
            "object_position": null,
            "order": null,
            "overflow": null,
            "overflow_x": null,
            "overflow_y": null,
            "padding": null,
            "right": null,
            "top": null,
            "visibility": null,
            "width": null
          }
        },
        "abc06ec568e84a8ba8c2beb412020eca": {
          "model_module": "@jupyter-widgets/controls",
          "model_module_version": "1.5.0",
          "model_name": "HTMLModel",
          "state": {
            "_dom_classes": [],
            "_model_module": "@jupyter-widgets/controls",
            "_model_module_version": "1.5.0",
            "_model_name": "HTMLModel",
            "_view_count": null,
            "_view_module": "@jupyter-widgets/controls",
            "_view_module_version": "1.5.0",
            "_view_name": "HTMLView",
            "description": "",
            "description_tooltip": null,
            "layout": "IPY_MODEL_d1872a5c83b746ceb2bb21ecf276fd32",
            "placeholder": "​",
            "style": "IPY_MODEL_0c7acd6b827a451091b9927598bfe483",
            "value": "100%"
          }
        },
        "ae2acf0d920d46f0acfc8b462725da18": {
          "model_module": "@jupyter-widgets/controls",
          "model_module_version": "1.5.0",
          "model_name": "DescriptionStyleModel",
          "state": {
            "_model_module": "@jupyter-widgets/controls",
            "_model_module_version": "1.5.0",
            "_model_name": "DescriptionStyleModel",
            "_view_count": null,
            "_view_module": "@jupyter-widgets/base",
            "_view_module_version": "1.2.0",
            "_view_name": "StyleView",
            "description_width": ""
          }
        },
        "c4d14c5f33814d8790c87823f2046dda": {
          "model_module": "@jupyter-widgets/base",
          "model_module_version": "1.2.0",
          "model_name": "LayoutModel",
          "state": {
            "_model_module": "@jupyter-widgets/base",
            "_model_module_version": "1.2.0",
            "_model_name": "LayoutModel",
            "_view_count": null,
            "_view_module": "@jupyter-widgets/base",
            "_view_module_version": "1.2.0",
            "_view_name": "LayoutView",
            "align_content": null,
            "align_items": null,
            "align_self": null,
            "border": null,
            "bottom": null,
            "display": null,
            "flex": null,
            "flex_flow": null,
            "grid_area": null,
            "grid_auto_columns": null,
            "grid_auto_flow": null,
            "grid_auto_rows": null,
            "grid_column": null,
            "grid_gap": null,
            "grid_row": null,
            "grid_template_areas": null,
            "grid_template_columns": null,
            "grid_template_rows": null,
            "height": null,
            "justify_content": null,
            "justify_items": null,
            "left": null,
            "margin": null,
            "max_height": null,
            "max_width": null,
            "min_height": null,
            "min_width": null,
            "object_fit": null,
            "object_position": null,
            "order": null,
            "overflow": null,
            "overflow_x": null,
            "overflow_y": null,
            "padding": null,
            "right": null,
            "top": null,
            "visibility": null,
            "width": null
          }
        },
        "d0b035fd36cb442aa3253fc51147f8aa": {
          "model_module": "@jupyter-widgets/controls",
          "model_module_version": "1.5.0",
          "model_name": "FloatProgressModel",
          "state": {
            "_dom_classes": [],
            "_model_module": "@jupyter-widgets/controls",
            "_model_module_version": "1.5.0",
            "_model_name": "FloatProgressModel",
            "_view_count": null,
            "_view_module": "@jupyter-widgets/controls",
            "_view_module_version": "1.5.0",
            "_view_name": "ProgressView",
            "bar_style": "success",
            "description": "",
            "description_tooltip": null,
            "layout": "IPY_MODEL_8adf7d8c50124ad8a938346006a46a1e",
            "max": 10306551,
            "min": 0,
            "orientation": "horizontal",
            "style": "IPY_MODEL_4da48f01884a4708a95365ccf8da4dcc",
            "value": 10306551
          }
        },
        "d1872a5c83b746ceb2bb21ecf276fd32": {
          "model_module": "@jupyter-widgets/base",
          "model_module_version": "1.2.0",
          "model_name": "LayoutModel",
          "state": {
            "_model_module": "@jupyter-widgets/base",
            "_model_module_version": "1.2.0",
            "_model_name": "LayoutModel",
            "_view_count": null,
            "_view_module": "@jupyter-widgets/base",
            "_view_module_version": "1.2.0",
            "_view_name": "LayoutView",
            "align_content": null,
            "align_items": null,
            "align_self": null,
            "border": null,
            "bottom": null,
            "display": null,
            "flex": null,
            "flex_flow": null,
            "grid_area": null,
            "grid_auto_columns": null,
            "grid_auto_flow": null,
            "grid_auto_rows": null,
            "grid_column": null,
            "grid_gap": null,
            "grid_row": null,
            "grid_template_areas": null,
            "grid_template_columns": null,
            "grid_template_rows": null,
            "height": null,
            "justify_content": null,
            "justify_items": null,
            "left": null,
            "margin": null,
            "max_height": null,
            "max_width": null,
            "min_height": null,
            "min_width": null,
            "object_fit": null,
            "object_position": null,
            "order": null,
            "overflow": null,
            "overflow_x": null,
            "overflow_y": null,
            "padding": null,
            "right": null,
            "top": null,
            "visibility": null,
            "width": null
          }
        },
        "dbfc33ec613b44aeb58d4407c8d9b1bb": {
          "model_module": "@jupyter-widgets/controls",
          "model_module_version": "1.5.0",
          "model_name": "ProgressStyleModel",
          "state": {
            "_model_module": "@jupyter-widgets/controls",
            "_model_module_version": "1.5.0",
            "_model_name": "ProgressStyleModel",
            "_view_count": null,
            "_view_module": "@jupyter-widgets/base",
            "_view_module_version": "1.2.0",
            "_view_name": "StyleView",
            "bar_color": null,
            "description_width": ""
          }
        },
        "e80b92a42b7644ecbdb0709e0f61b09b": {
          "model_module": "@jupyter-widgets/controls",
          "model_module_version": "1.5.0",
          "model_name": "HBoxModel",
          "state": {
            "_dom_classes": [],
            "_model_module": "@jupyter-widgets/controls",
            "_model_module_version": "1.5.0",
            "_model_name": "HBoxModel",
            "_view_count": null,
            "_view_module": "@jupyter-widgets/controls",
            "_view_module_version": "1.5.0",
            "_view_name": "HBoxView",
            "box_style": "",
            "children": [
              "IPY_MODEL_abc06ec568e84a8ba8c2beb412020eca",
              "IPY_MODEL_35a5e730673a4f57bdd4d0025d4c1c4e",
              "IPY_MODEL_e9f91a8b996d44c28bfcc28f58678819"
            ],
            "layout": "IPY_MODEL_c4d14c5f33814d8790c87823f2046dda"
          }
        },
        "e83ba06b81ec4d6b8798f615cdd1072c": {
          "model_module": "@jupyter-widgets/controls",
          "model_module_version": "1.5.0",
          "model_name": "HBoxModel",
          "state": {
            "_dom_classes": [],
            "_model_module": "@jupyter-widgets/controls",
            "_model_module_version": "1.5.0",
            "_model_name": "HBoxModel",
            "_view_count": null,
            "_view_module": "@jupyter-widgets/controls",
            "_view_module_version": "1.5.0",
            "_view_name": "HBoxView",
            "box_style": "",
            "children": [
              "IPY_MODEL_27d8cb66d5394833a383f7ddfec8e5f8",
              "IPY_MODEL_d0b035fd36cb442aa3253fc51147f8aa",
              "IPY_MODEL_5b1466ce5e7a44a18948b3c354e14489"
            ],
            "layout": "IPY_MODEL_844d46015609425d9ab90295fb39e8eb"
          }
        },
        "e9f91a8b996d44c28bfcc28f58678819": {
          "model_module": "@jupyter-widgets/controls",
          "model_module_version": "1.5.0",
          "model_name": "HTMLModel",
          "state": {
            "_dom_classes": [],
            "_model_module": "@jupyter-widgets/controls",
            "_model_module_version": "1.5.0",
            "_model_name": "HTMLModel",
            "_view_count": null,
            "_view_module": "@jupyter-widgets/controls",
            "_view_module_version": "1.5.0",
            "_view_name": "HTMLView",
            "description": "",
            "description_tooltip": null,
            "layout": "IPY_MODEL_86a0ddf6aa01408c9bfa120799d7e538",
            "placeholder": "​",
            "style": "IPY_MODEL_3c4670cf2c5342c4a353e8fa728ff870",
            "value": " 97.8M/97.8M [00:00&lt;00:00, 196MB/s]"
          }
        }
      }
    }
  },
  "nbformat": 4,
  "nbformat_minor": 0
}